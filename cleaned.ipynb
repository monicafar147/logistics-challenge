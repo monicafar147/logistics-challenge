{
  "nbformat": 4,
  "nbformat_minor": 0,
  "metadata": {
    "colab": {
      "name": "cleaned.ipynb",
      "provenance": [],
      "include_colab_link": true
    },
    "kernelspec": {
      "name": "python3",
      "display_name": "Python 3"
    }
  },
  "cells": [
    {
      "cell_type": "markdown",
      "metadata": {
        "id": "view-in-github",
        "colab_type": "text"
      },
      "source": [
        "<a href=\"https://colab.research.google.com/github/monicafar147/regression-predict-api-template/blob/Monica/cleaned.ipynb\" target=\"_parent\"><img src=\"https://colab.research.google.com/assets/colab-badge.svg\" alt=\"Open In Colab\"/></a>"
      ]
    },
    {
      "cell_type": "markdown",
      "metadata": {
        "id": "nWrgVJcnevjM",
        "colab_type": "text"
      },
      "source": [
        "#Introduction"
      ]
    },
    {
      "cell_type": "markdown",
      "metadata": {
        "id": "pKkIjAmkjB7U",
        "colab_type": "text"
      },
      "source": [
        "\n",
        "The aim of this notebook is to predict the estimated time of delivery of orders, from the point of driver pickup to the point of arrival at final destination from a logistics company, Sendy, based in Nairobi.\n",
        "\n",
        "Sendy can improve their reliability and enhance their customer communication by providing an estimated time of delivery of orders through regression techniques used to model the delivery process.\n",
        "\n",
        "Sendy is headquartered in Kenya and the data provided is based in Nairobi. The training dataset provided is a subset of over 21201 orders and only includes direct orders (i.e. Sendy “express” orders) with bikes in Nairobi."
      ]
    },
    {
      "cell_type": "markdown",
      "metadata": {
        "id": "HRjsG44ceykQ",
        "colab_type": "text"
      },
      "source": [
        "#Body"
      ]
    },
    {
      "cell_type": "markdown",
      "metadata": {
        "id": "-vjcALQEftgG",
        "colab_type": "text"
      },
      "source": [
        "## Imports"
      ]
    },
    {
      "cell_type": "markdown",
      "metadata": {
        "id": "Fi_QJmmef9o-",
        "colab_type": "text"
      },
      "source": [
        "###Importing the libraries"
      ]
    },
    {
      "cell_type": "code",
      "metadata": {
        "id": "chd7SprufyXe",
        "colab_type": "code",
        "outputId": "c2300ae8-87bd-49e3-9a02-b096895ef864",
        "colab": {
          "base_uri": "https://localhost:8080/",
          "height": 50
        }
      },
      "source": [
        "import numpy as np\n",
        "import matplotlib.pyplot as plt\n",
        "import pandas as pd\n",
        "import seaborn as sns\n",
        "%matplotlib inline\n",
        "import math\n",
        "from sklearn import metrics\n",
        "from sklearn.model_selection import train_test_split\n",
        "\n",
        "# Scaling\n",
        "from sklearn.preprocessing import StandardScaler\n",
        "\n",
        "# Machine learning models\n",
        "from sklearn.linear_model import LinearRegression\n",
        "from sklearn.tree import DecisionTreeRegressor\n",
        "from sklearn.ensemble import RandomForestRegressor\n",
        "from sklearn.linear_model import Lasso\n",
        "\n",
        "# Saving model with pickle\n",
        "import pickle\n",
        "\n",
        "sns.set(palette='pastel')"
      ],
      "execution_count": 1,
      "outputs": [
        {
          "output_type": "stream",
          "text": [
            "/usr/local/lib/python3.6/dist-packages/statsmodels/tools/_testing.py:19: FutureWarning: pandas.util.testing is deprecated. Use the functions in the public API at pandas.testing instead.\n",
            "  import pandas.util.testing as tm\n"
          ],
          "name": "stderr"
        }
      ]
    },
    {
      "cell_type": "markdown",
      "metadata": {
        "id": "q3WIrvPggBSu",
        "colab_type": "text"
      },
      "source": [
        "### Importing the data"
      ]
    },
    {
      "cell_type": "code",
      "metadata": {
        "id": "YzNzJRnShi9n",
        "colab_type": "code",
        "colab": {}
      },
      "source": [
        "train = pd.read_csv('https://raw.githubusercontent.com/monicafar147/regression-predict-api-template/master/Train.csv', index_col=0)\n",
        "test = pd.read_csv('https://raw.githubusercontent.com/monicafar147/regression-predict-api-template/master/Test.csv', index_col=0)\n",
        "riders = pd.read_csv('https://raw.githubusercontent.com/monicafar147/regression-predict-api-template/master/Riders.csv', index_col=0)"
      ],
      "execution_count": 0,
      "outputs": []
    },
    {
      "cell_type": "markdown",
      "metadata": {
        "id": "VIYWesxse7lo",
        "colab_type": "text"
      },
      "source": [
        "##EDA"
      ]
    },
    {
      "cell_type": "code",
      "metadata": {
        "id": "rJRNASLtgIat",
        "colab_type": "code",
        "outputId": "3e318ab4-f253-4f5a-f651-866a4c994382",
        "colab": {
          "base_uri": "https://localhost:8080/",
          "height": 586
        }
      },
      "source": [
        "train.info()"
      ],
      "execution_count": 8,
      "outputs": [
        {
          "output_type": "stream",
          "text": [
            "<class 'pandas.core.frame.DataFrame'>\n",
            "Index: 21201 entries, Order_No_4211 to Order_No_9836\n",
            "Data columns (total 28 columns):\n",
            " #   Column                                     Non-Null Count  Dtype  \n",
            "---  ------                                     --------------  -----  \n",
            " 0   User Id                                    21201 non-null  object \n",
            " 1   Vehicle Type                               21201 non-null  object \n",
            " 2   Platform Type                              21201 non-null  int64  \n",
            " 3   Personal or Business                       21201 non-null  object \n",
            " 4   Placement - Day of Month                   21201 non-null  int64  \n",
            " 5   Placement - Weekday (Mo = 1)               21201 non-null  int64  \n",
            " 6   Placement - Time                           21201 non-null  object \n",
            " 7   Confirmation - Day of Month                21201 non-null  int64  \n",
            " 8   Confirmation - Weekday (Mo = 1)            21201 non-null  int64  \n",
            " 9   Confirmation - Time                        21201 non-null  object \n",
            " 10  Arrival at Pickup - Day of Month           21201 non-null  int64  \n",
            " 11  Arrival at Pickup - Weekday (Mo = 1)       21201 non-null  int64  \n",
            " 12  Arrival at Pickup - Time                   21201 non-null  object \n",
            " 13  Pickup - Day of Month                      21201 non-null  int64  \n",
            " 14  Pickup - Weekday (Mo = 1)                  21201 non-null  int64  \n",
            " 15  Pickup - Time                              21201 non-null  object \n",
            " 16  Arrival at Destination - Day of Month      21201 non-null  int64  \n",
            " 17  Arrival at Destination - Weekday (Mo = 1)  21201 non-null  int64  \n",
            " 18  Arrival at Destination - Time              21201 non-null  object \n",
            " 19  Distance (KM)                              21201 non-null  int64  \n",
            " 20  Temperature                                16835 non-null  float64\n",
            " 21  Precipitation in millimeters               552 non-null    float64\n",
            " 22  Pickup Lat                                 21201 non-null  float64\n",
            " 23  Pickup Long                                21201 non-null  float64\n",
            " 24  Destination Lat                            21201 non-null  float64\n",
            " 25  Destination Long                           21201 non-null  float64\n",
            " 26  Rider Id                                   21201 non-null  object \n",
            " 27  Time from Pickup to Arrival                21201 non-null  int64  \n",
            "dtypes: float64(6), int64(13), object(9)\n",
            "memory usage: 4.7+ MB\n"
          ],
          "name": "stdout"
        }
      ]
    },
    {
      "cell_type": "markdown",
      "metadata": {
        "id": "aZAYWjlsozr-",
        "colab_type": "text"
      },
      "source": [
        "## Converting time columns into datetime"
      ]
    },
    {
      "cell_type": "code",
      "metadata": {
        "id": "6NpWQ-fAo3F0",
        "colab_type": "code",
        "colab": {}
      },
      "source": [
        "train['Pickup - Time'] = pd.to_datetime(train['Pickup - Time']).dt.time\n",
        "train['Placement - Time'] = pd.to_datetime(train['Placement - Time']).dt.time\n",
        "train['Confirmation - Time'] = pd.to_datetime(train['Confirmation - Time']).dt.time\n",
        "train['Arrival at Pickup - Time'] = pd.to_datetime(train['Arrival at Pickup - Time']).dt.time\n",
        "train['Arrival at Destination - Time'] = pd.to_datetime(train['Arrival at Destination - Time']).dt.time"
      ],
      "execution_count": 0,
      "outputs": []
    },
    {
      "cell_type": "markdown",
      "metadata": {
        "id": "eTIMtAG3hN2t",
        "colab_type": "text"
      },
      "source": [
        "At this stage, we notice that there are missing values from `Temperature` and `Precipitation in millimeters`."
      ]
    },
    {
      "cell_type": "code",
      "metadata": {
        "id": "ZyuV5_2ohydD",
        "colab_type": "code",
        "outputId": "37795e1e-3ba8-4879-d547-5baf8b1931e6",
        "colab": {
          "base_uri": "https://localhost:8080/",
          "height": 310
        }
      },
      "source": [
        "train.describe()"
      ],
      "execution_count": 10,
      "outputs": [
        {
          "output_type": "execute_result",
          "data": {
            "text/html": [
              "<div>\n",
              "<style scoped>\n",
              "    .dataframe tbody tr th:only-of-type {\n",
              "        vertical-align: middle;\n",
              "    }\n",
              "\n",
              "    .dataframe tbody tr th {\n",
              "        vertical-align: top;\n",
              "    }\n",
              "\n",
              "    .dataframe thead th {\n",
              "        text-align: right;\n",
              "    }\n",
              "</style>\n",
              "<table border=\"1\" class=\"dataframe\">\n",
              "  <thead>\n",
              "    <tr style=\"text-align: right;\">\n",
              "      <th></th>\n",
              "      <th>Platform Type</th>\n",
              "      <th>Placement - Day of Month</th>\n",
              "      <th>Placement - Weekday (Mo = 1)</th>\n",
              "      <th>Confirmation - Day of Month</th>\n",
              "      <th>Confirmation - Weekday (Mo = 1)</th>\n",
              "      <th>Arrival at Pickup - Day of Month</th>\n",
              "      <th>Arrival at Pickup - Weekday (Mo = 1)</th>\n",
              "      <th>Pickup - Day of Month</th>\n",
              "      <th>Pickup - Weekday (Mo = 1)</th>\n",
              "      <th>Arrival at Destination - Day of Month</th>\n",
              "      <th>Arrival at Destination - Weekday (Mo = 1)</th>\n",
              "      <th>Distance (KM)</th>\n",
              "      <th>Temperature</th>\n",
              "      <th>Precipitation in millimeters</th>\n",
              "      <th>Pickup Lat</th>\n",
              "      <th>Pickup Long</th>\n",
              "      <th>Destination Lat</th>\n",
              "      <th>Destination Long</th>\n",
              "      <th>Time from Pickup to Arrival</th>\n",
              "    </tr>\n",
              "  </thead>\n",
              "  <tbody>\n",
              "    <tr>\n",
              "      <th>count</th>\n",
              "      <td>21201.000000</td>\n",
              "      <td>21201.000000</td>\n",
              "      <td>21201.000000</td>\n",
              "      <td>21201.000000</td>\n",
              "      <td>21201.000000</td>\n",
              "      <td>21201.000000</td>\n",
              "      <td>21201.000000</td>\n",
              "      <td>21201.000000</td>\n",
              "      <td>21201.000000</td>\n",
              "      <td>21201.000000</td>\n",
              "      <td>21201.000000</td>\n",
              "      <td>21201.000000</td>\n",
              "      <td>16835.000000</td>\n",
              "      <td>552.000000</td>\n",
              "      <td>21201.000000</td>\n",
              "      <td>21201.000000</td>\n",
              "      <td>21201.000000</td>\n",
              "      <td>21201.000000</td>\n",
              "      <td>21201.000000</td>\n",
              "    </tr>\n",
              "    <tr>\n",
              "      <th>mean</th>\n",
              "      <td>2.752182</td>\n",
              "      <td>15.653696</td>\n",
              "      <td>3.240083</td>\n",
              "      <td>15.653837</td>\n",
              "      <td>3.240225</td>\n",
              "      <td>15.653837</td>\n",
              "      <td>3.240225</td>\n",
              "      <td>15.653837</td>\n",
              "      <td>3.240225</td>\n",
              "      <td>15.653837</td>\n",
              "      <td>3.240225</td>\n",
              "      <td>9.506533</td>\n",
              "      <td>23.258889</td>\n",
              "      <td>7.905797</td>\n",
              "      <td>-1.281470</td>\n",
              "      <td>36.811264</td>\n",
              "      <td>-1.282581</td>\n",
              "      <td>36.811220</td>\n",
              "      <td>1556.920947</td>\n",
              "    </tr>\n",
              "    <tr>\n",
              "      <th>std</th>\n",
              "      <td>0.625178</td>\n",
              "      <td>8.798916</td>\n",
              "      <td>1.567295</td>\n",
              "      <td>8.798886</td>\n",
              "      <td>1.567228</td>\n",
              "      <td>8.798886</td>\n",
              "      <td>1.567228</td>\n",
              "      <td>8.798886</td>\n",
              "      <td>1.567228</td>\n",
              "      <td>8.798886</td>\n",
              "      <td>1.567228</td>\n",
              "      <td>5.668963</td>\n",
              "      <td>3.615768</td>\n",
              "      <td>17.089971</td>\n",
              "      <td>0.030507</td>\n",
              "      <td>0.037473</td>\n",
              "      <td>0.034824</td>\n",
              "      <td>0.044721</td>\n",
              "      <td>987.270788</td>\n",
              "    </tr>\n",
              "    <tr>\n",
              "      <th>min</th>\n",
              "      <td>1.000000</td>\n",
              "      <td>1.000000</td>\n",
              "      <td>1.000000</td>\n",
              "      <td>1.000000</td>\n",
              "      <td>1.000000</td>\n",
              "      <td>1.000000</td>\n",
              "      <td>1.000000</td>\n",
              "      <td>1.000000</td>\n",
              "      <td>1.000000</td>\n",
              "      <td>1.000000</td>\n",
              "      <td>1.000000</td>\n",
              "      <td>1.000000</td>\n",
              "      <td>11.200000</td>\n",
              "      <td>0.100000</td>\n",
              "      <td>-1.438302</td>\n",
              "      <td>36.653621</td>\n",
              "      <td>-1.430298</td>\n",
              "      <td>36.606594</td>\n",
              "      <td>1.000000</td>\n",
              "    </tr>\n",
              "    <tr>\n",
              "      <th>25%</th>\n",
              "      <td>3.000000</td>\n",
              "      <td>8.000000</td>\n",
              "      <td>2.000000</td>\n",
              "      <td>8.000000</td>\n",
              "      <td>2.000000</td>\n",
              "      <td>8.000000</td>\n",
              "      <td>2.000000</td>\n",
              "      <td>8.000000</td>\n",
              "      <td>2.000000</td>\n",
              "      <td>8.000000</td>\n",
              "      <td>2.000000</td>\n",
              "      <td>5.000000</td>\n",
              "      <td>20.600000</td>\n",
              "      <td>1.075000</td>\n",
              "      <td>-1.300921</td>\n",
              "      <td>36.784605</td>\n",
              "      <td>-1.301201</td>\n",
              "      <td>36.785661</td>\n",
              "      <td>882.000000</td>\n",
              "    </tr>\n",
              "    <tr>\n",
              "      <th>50%</th>\n",
              "      <td>3.000000</td>\n",
              "      <td>15.000000</td>\n",
              "      <td>3.000000</td>\n",
              "      <td>15.000000</td>\n",
              "      <td>3.000000</td>\n",
              "      <td>15.000000</td>\n",
              "      <td>3.000000</td>\n",
              "      <td>15.000000</td>\n",
              "      <td>3.000000</td>\n",
              "      <td>15.000000</td>\n",
              "      <td>3.000000</td>\n",
              "      <td>8.000000</td>\n",
              "      <td>23.500000</td>\n",
              "      <td>2.900000</td>\n",
              "      <td>-1.279395</td>\n",
              "      <td>36.807040</td>\n",
              "      <td>-1.284382</td>\n",
              "      <td>36.808002</td>\n",
              "      <td>1369.000000</td>\n",
              "    </tr>\n",
              "    <tr>\n",
              "      <th>75%</th>\n",
              "      <td>3.000000</td>\n",
              "      <td>23.000000</td>\n",
              "      <td>5.000000</td>\n",
              "      <td>23.000000</td>\n",
              "      <td>5.000000</td>\n",
              "      <td>23.000000</td>\n",
              "      <td>5.000000</td>\n",
              "      <td>23.000000</td>\n",
              "      <td>5.000000</td>\n",
              "      <td>23.000000</td>\n",
              "      <td>5.000000</td>\n",
              "      <td>13.000000</td>\n",
              "      <td>26.000000</td>\n",
              "      <td>4.900000</td>\n",
              "      <td>-1.257147</td>\n",
              "      <td>36.829741</td>\n",
              "      <td>-1.261177</td>\n",
              "      <td>36.829477</td>\n",
              "      <td>2040.000000</td>\n",
              "    </tr>\n",
              "    <tr>\n",
              "      <th>max</th>\n",
              "      <td>4.000000</td>\n",
              "      <td>31.000000</td>\n",
              "      <td>7.000000</td>\n",
              "      <td>31.000000</td>\n",
              "      <td>7.000000</td>\n",
              "      <td>31.000000</td>\n",
              "      <td>7.000000</td>\n",
              "      <td>31.000000</td>\n",
              "      <td>7.000000</td>\n",
              "      <td>31.000000</td>\n",
              "      <td>7.000000</td>\n",
              "      <td>49.000000</td>\n",
              "      <td>32.100000</td>\n",
              "      <td>99.100000</td>\n",
              "      <td>-1.147170</td>\n",
              "      <td>36.991046</td>\n",
              "      <td>-1.030225</td>\n",
              "      <td>37.016779</td>\n",
              "      <td>7883.000000</td>\n",
              "    </tr>\n",
              "  </tbody>\n",
              "</table>\n",
              "</div>"
            ],
            "text/plain": [
              "       Platform Type  ...  Time from Pickup to Arrival\n",
              "count   21201.000000  ...                 21201.000000\n",
              "mean        2.752182  ...                  1556.920947\n",
              "std         0.625178  ...                   987.270788\n",
              "min         1.000000  ...                     1.000000\n",
              "25%         3.000000  ...                   882.000000\n",
              "50%         3.000000  ...                  1369.000000\n",
              "75%         3.000000  ...                  2040.000000\n",
              "max         4.000000  ...                  7883.000000\n",
              "\n",
              "[8 rows x 19 columns]"
            ]
          },
          "metadata": {
            "tags": []
          },
          "execution_count": 10
        }
      ]
    },
    {
      "cell_type": "markdown",
      "metadata": {
        "id": "mFWiJBmEtPRA",
        "colab_type": "text"
      },
      "source": [
        "Change the column names to remove unnecesarry white space."
      ]
    },
    {
      "cell_type": "code",
      "metadata": {
        "id": "mc5c8YN_tX9-",
        "colab_type": "code",
        "colab": {
          "base_uri": "https://localhost:8080/",
          "height": 240
        },
        "outputId": "91342a21-af6f-4f5e-a631-111a8b54f8c1"
      },
      "source": [
        "train.columns = [col.replace(\"-\",\" \") for col in train.columns]\n",
        "train.columns = [col.replace(\"(Mo = 1)\",\" \") for col in train.columns]\n",
        "train.columns = [col.replace(\" \",\"\") for col in train.columns]\n",
        "\n",
        "train.head()"
      ],
      "execution_count": 6,
      "outputs": [
        {
          "output_type": "execute_result",
          "data": {
            "text/html": [
              "<div>\n",
              "<style scoped>\n",
              "    .dataframe tbody tr th:only-of-type {\n",
              "        vertical-align: middle;\n",
              "    }\n",
              "\n",
              "    .dataframe tbody tr th {\n",
              "        vertical-align: top;\n",
              "    }\n",
              "\n",
              "    .dataframe thead th {\n",
              "        text-align: right;\n",
              "    }\n",
              "</style>\n",
              "<table border=\"1\" class=\"dataframe\">\n",
              "  <thead>\n",
              "    <tr style=\"text-align: right;\">\n",
              "      <th></th>\n",
              "      <th>UserId</th>\n",
              "      <th>VehicleType</th>\n",
              "      <th>PlatformType</th>\n",
              "      <th>PersonalorBusiness</th>\n",
              "      <th>PlacementDayofMonth</th>\n",
              "      <th>PlacementWeekday</th>\n",
              "      <th>PlacementTime</th>\n",
              "      <th>ConfirmationDayofMonth</th>\n",
              "      <th>ConfirmationWeekday</th>\n",
              "      <th>ConfirmationTime</th>\n",
              "      <th>ArrivalatPickupDayofMonth</th>\n",
              "      <th>ArrivalatPickupWeekday</th>\n",
              "      <th>ArrivalatPickupTime</th>\n",
              "      <th>PickupDayofMonth</th>\n",
              "      <th>PickupWeekday</th>\n",
              "      <th>PickupTime</th>\n",
              "      <th>ArrivalatDestinationDayofMonth</th>\n",
              "      <th>ArrivalatDestinationWeekday</th>\n",
              "      <th>ArrivalatDestinationTime</th>\n",
              "      <th>Distance(KM)</th>\n",
              "      <th>Temperature</th>\n",
              "      <th>Precipitationinmillimeters</th>\n",
              "      <th>PickupLat</th>\n",
              "      <th>PickupLong</th>\n",
              "      <th>DestinationLat</th>\n",
              "      <th>DestinationLong</th>\n",
              "      <th>RiderId</th>\n",
              "      <th>TimefromPickuptoArrival</th>\n",
              "    </tr>\n",
              "    <tr>\n",
              "      <th>Order No</th>\n",
              "      <th></th>\n",
              "      <th></th>\n",
              "      <th></th>\n",
              "      <th></th>\n",
              "      <th></th>\n",
              "      <th></th>\n",
              "      <th></th>\n",
              "      <th></th>\n",
              "      <th></th>\n",
              "      <th></th>\n",
              "      <th></th>\n",
              "      <th></th>\n",
              "      <th></th>\n",
              "      <th></th>\n",
              "      <th></th>\n",
              "      <th></th>\n",
              "      <th></th>\n",
              "      <th></th>\n",
              "      <th></th>\n",
              "      <th></th>\n",
              "      <th></th>\n",
              "      <th></th>\n",
              "      <th></th>\n",
              "      <th></th>\n",
              "      <th></th>\n",
              "      <th></th>\n",
              "      <th></th>\n",
              "      <th></th>\n",
              "    </tr>\n",
              "  </thead>\n",
              "  <tbody>\n",
              "    <tr>\n",
              "      <th>Order_No_4211</th>\n",
              "      <td>User_Id_633</td>\n",
              "      <td>Bike</td>\n",
              "      <td>3</td>\n",
              "      <td>Business</td>\n",
              "      <td>9</td>\n",
              "      <td>5</td>\n",
              "      <td>09:35:46</td>\n",
              "      <td>9</td>\n",
              "      <td>5</td>\n",
              "      <td>09:40:10</td>\n",
              "      <td>9</td>\n",
              "      <td>5</td>\n",
              "      <td>10:04:47</td>\n",
              "      <td>9</td>\n",
              "      <td>5</td>\n",
              "      <td>10:27:30</td>\n",
              "      <td>9</td>\n",
              "      <td>5</td>\n",
              "      <td>10:39:55</td>\n",
              "      <td>4</td>\n",
              "      <td>20.4</td>\n",
              "      <td>NaN</td>\n",
              "      <td>-1.317755</td>\n",
              "      <td>36.830370</td>\n",
              "      <td>-1.300406</td>\n",
              "      <td>36.829741</td>\n",
              "      <td>Rider_Id_432</td>\n",
              "      <td>745</td>\n",
              "    </tr>\n",
              "    <tr>\n",
              "      <th>Order_No_25375</th>\n",
              "      <td>User_Id_2285</td>\n",
              "      <td>Bike</td>\n",
              "      <td>3</td>\n",
              "      <td>Personal</td>\n",
              "      <td>12</td>\n",
              "      <td>5</td>\n",
              "      <td>11:16:16</td>\n",
              "      <td>12</td>\n",
              "      <td>5</td>\n",
              "      <td>11:23:21</td>\n",
              "      <td>12</td>\n",
              "      <td>5</td>\n",
              "      <td>11:40:22</td>\n",
              "      <td>12</td>\n",
              "      <td>5</td>\n",
              "      <td>11:44:09</td>\n",
              "      <td>12</td>\n",
              "      <td>5</td>\n",
              "      <td>12:17:22</td>\n",
              "      <td>16</td>\n",
              "      <td>26.4</td>\n",
              "      <td>NaN</td>\n",
              "      <td>-1.351453</td>\n",
              "      <td>36.899315</td>\n",
              "      <td>-1.295004</td>\n",
              "      <td>36.814358</td>\n",
              "      <td>Rider_Id_856</td>\n",
              "      <td>1993</td>\n",
              "    </tr>\n",
              "    <tr>\n",
              "      <th>Order_No_1899</th>\n",
              "      <td>User_Id_265</td>\n",
              "      <td>Bike</td>\n",
              "      <td>3</td>\n",
              "      <td>Business</td>\n",
              "      <td>30</td>\n",
              "      <td>2</td>\n",
              "      <td>12:39:25</td>\n",
              "      <td>30</td>\n",
              "      <td>2</td>\n",
              "      <td>12:42:44</td>\n",
              "      <td>30</td>\n",
              "      <td>2</td>\n",
              "      <td>12:49:34</td>\n",
              "      <td>30</td>\n",
              "      <td>2</td>\n",
              "      <td>12:53:03</td>\n",
              "      <td>30</td>\n",
              "      <td>2</td>\n",
              "      <td>13:00:38</td>\n",
              "      <td>3</td>\n",
              "      <td>NaN</td>\n",
              "      <td>NaN</td>\n",
              "      <td>-1.308284</td>\n",
              "      <td>36.843419</td>\n",
              "      <td>-1.300921</td>\n",
              "      <td>36.828195</td>\n",
              "      <td>Rider_Id_155</td>\n",
              "      <td>455</td>\n",
              "    </tr>\n",
              "    <tr>\n",
              "      <th>Order_No_9336</th>\n",
              "      <td>User_Id_1402</td>\n",
              "      <td>Bike</td>\n",
              "      <td>3</td>\n",
              "      <td>Business</td>\n",
              "      <td>15</td>\n",
              "      <td>5</td>\n",
              "      <td>09:25:34</td>\n",
              "      <td>15</td>\n",
              "      <td>5</td>\n",
              "      <td>09:26:05</td>\n",
              "      <td>15</td>\n",
              "      <td>5</td>\n",
              "      <td>09:37:56</td>\n",
              "      <td>15</td>\n",
              "      <td>5</td>\n",
              "      <td>09:43:06</td>\n",
              "      <td>15</td>\n",
              "      <td>5</td>\n",
              "      <td>10:05:27</td>\n",
              "      <td>9</td>\n",
              "      <td>19.2</td>\n",
              "      <td>NaN</td>\n",
              "      <td>-1.281301</td>\n",
              "      <td>36.832396</td>\n",
              "      <td>-1.257147</td>\n",
              "      <td>36.795063</td>\n",
              "      <td>Rider_Id_855</td>\n",
              "      <td>1341</td>\n",
              "    </tr>\n",
              "    <tr>\n",
              "      <th>Order_No_27883</th>\n",
              "      <td>User_Id_1737</td>\n",
              "      <td>Bike</td>\n",
              "      <td>1</td>\n",
              "      <td>Personal</td>\n",
              "      <td>13</td>\n",
              "      <td>1</td>\n",
              "      <td>09:55:18</td>\n",
              "      <td>13</td>\n",
              "      <td>1</td>\n",
              "      <td>09:56:18</td>\n",
              "      <td>13</td>\n",
              "      <td>1</td>\n",
              "      <td>10:03:53</td>\n",
              "      <td>13</td>\n",
              "      <td>1</td>\n",
              "      <td>10:05:23</td>\n",
              "      <td>13</td>\n",
              "      <td>1</td>\n",
              "      <td>10:25:37</td>\n",
              "      <td>9</td>\n",
              "      <td>15.4</td>\n",
              "      <td>NaN</td>\n",
              "      <td>-1.266597</td>\n",
              "      <td>36.792118</td>\n",
              "      <td>-1.295041</td>\n",
              "      <td>36.809817</td>\n",
              "      <td>Rider_Id_770</td>\n",
              "      <td>1214</td>\n",
              "    </tr>\n",
              "  </tbody>\n",
              "</table>\n",
              "</div>"
            ],
            "text/plain": [
              "                      UserId VehicleType  ...       RiderId TimefromPickuptoArrival\n",
              "Order No                                  ...                                      \n",
              "Order_No_4211    User_Id_633        Bike  ...  Rider_Id_432                     745\n",
              "Order_No_25375  User_Id_2285        Bike  ...  Rider_Id_856                    1993\n",
              "Order_No_1899    User_Id_265        Bike  ...  Rider_Id_155                     455\n",
              "Order_No_9336   User_Id_1402        Bike  ...  Rider_Id_855                    1341\n",
              "Order_No_27883  User_Id_1737        Bike  ...  Rider_Id_770                    1214\n",
              "\n",
              "[5 rows x 28 columns]"
            ]
          },
          "metadata": {
            "tags": []
          },
          "execution_count": 6
        }
      ]
    },
    {
      "cell_type": "markdown",
      "metadata": {
        "id": "b1ghBMMDh8hv",
        "colab_type": "text"
      },
      "source": [
        "### Distribution of Target Variable"
      ]
    },
    {
      "cell_type": "code",
      "metadata": {
        "id": "wOBefM0hiGl7",
        "colab_type": "code",
        "outputId": "cb09d6f7-75d3-4e03-f78f-538611eab5f3",
        "colab": {
          "base_uri": "https://localhost:8080/",
          "height": 317
        }
      },
      "source": [
        "plt.hist(train['TimefromPickuptoArrival'], bins = 100, edgecolor = 'k')\n",
        "plt.xlabel('Time from pickup to arrival') \n",
        "plt.title('Delivery Time Distribution')"
      ],
      "execution_count": 7,
      "outputs": [
        {
          "output_type": "execute_result",
          "data": {
            "text/plain": [
              "Text(0.5, 1.0, 'Delivery Time Distribution')"
            ]
          },
          "metadata": {
            "tags": []
          },
          "execution_count": 7
        },
        {
          "output_type": "display_data",
          "data": {
            "image/png": "[encoded data removed]",
            "text/plain": [
              "<Figure size 432x288 with 1 Axes>"
            ]
          },
          "metadata": {
            "tags": [],
            "needs_background": "light"
          }
        }
      ]
    },
    {
      "cell_type": "markdown",
      "metadata": {
        "id": "yqgKhGCRiV9U",
        "colab_type": "text"
      },
      "source": [
        "The high distribution of very low values seems suspicious."
      ]
    },
    {
      "cell_type": "code",
      "metadata": {
        "id": "R6K1qkS0ia_A",
        "colab_type": "code",
        "outputId": "519d599d-89f9-406a-8e4f-41c235316b92",
        "colab": {
          "base_uri": "https://localhost:8080/",
          "height": 50
        }
      },
      "source": [
        "print('Time from pickup to arrival less than 60s:', len(train[train['TimefromPickuptoArrival'] < 60]))\n",
        "print('Time from pickup to arrival of 1s: ', len(train[train['TimefromPickuptoArrival'] ==1]))"
      ],
      "execution_count": 8,
      "outputs": [
        {
          "output_type": "stream",
          "text": [
            "Time from pickup to arrival less than 60s: 740\n",
            "Time from pickup to arrival of 1s:  37\n"
          ],
          "name": "stdout"
        }
      ]
    },
    {
      "cell_type": "markdown",
      "metadata": {
        "id": "opKXvpsvihXp",
        "colab_type": "text"
      },
      "source": [
        "`Time from pickup to arrival` of less than 60 seconds seems suspicious, especially 1 second. It is possible that riders may have forgotten to confirm the pickup on the app until they dropped off the parcel, resulting in this unrealistic time frame. These rows should be dropped because they will skew the data."
      ]
    },
    {
      "cell_type": "code",
      "metadata": {
        "id": "VJ9NMIG5ioKD",
        "colab_type": "code",
        "outputId": "463f7d4c-6a52-4e8d-d1f7-1aa4cfa7b7b7",
        "colab": {
          "base_uri": "https://localhost:8080/",
          "height": 317
        }
      },
      "source": [
        "# Dropping rows where delivery time is less than 60s\n",
        "orders = train[train['TimefromPickuptoArrival'] > 60]\n",
        "\n",
        "# Plotting the new target variable distribution\n",
        "plt.hist(orders['TimefromPickuptoArrival'], bins = 100, edgecolor = 'k')\n",
        "plt.xlabel('Time from pickup to arrival') \n",
        "plt.title('Delivery Time Distribution')"
      ],
      "execution_count": 10,
      "outputs": [
        {
          "output_type": "execute_result",
          "data": {
            "text/plain": [
              "Text(0.5, 1.0, 'Delivery Time Distribution')"
            ]
          },
          "metadata": {
            "tags": []
          },
          "execution_count": 10
        },
        {
          "output_type": "display_data",
          "data": {
            "image/png": "[encoded data removed]",
            "text/plain": [
              "<Figure size 432x288 with 1 Axes>"
            ]
          },
          "metadata": {
            "tags": [],
            "needs_background": "light"
          }
        }
      ]
    },
    {
      "cell_type": "markdown",
      "metadata": {
        "id": "vCSU2OXfi7jr",
        "colab_type": "text"
      },
      "source": [
        "###Cumulative Distribution Function for Distances and Delivery Times"
      ]
    },
    {
      "cell_type": "code",
      "metadata": {
        "id": "F5dZDU5CjLeb",
        "colab_type": "code",
        "outputId": "d416f631-824b-4d7b-f6db-1865dda24178",
        "colab": {
          "base_uri": "https://localhost:8080/",
          "height": 371
        }
      },
      "source": [
        "distances = np.sort(train['Distance(KM)'])\n",
        "distances_ecdf = np.arange(1, len(distances) + 1) / len(distances)\n",
        "delivery_times = np.sort(train['TimefromPickuptoArrival'])\n",
        "delivery_times_ecdf = np.arange(1, len(delivery_times) + 1) / len(delivery_times)\n",
        "\n",
        "fig, (ax1, ax2) = plt.subplots(1,2,figsize=(15,5))\n",
        "ax1.plot(distances, distances_ecdf, marker='.', linestyle='none')\n",
        "ax1.set_xlabel('Distances (KM)')\n",
        "ax1.set_ylabel('Distances ECDF')\n",
        "ax1.set_title('ECDF Plot for Distances')\n",
        "\n",
        "ax2.plot(delivery_times, delivery_times_ecdf, marker='.', linestyle='none')\n",
        "ax2.set_xlabel('Delivery Time (s)')\n",
        "ax2.set_ylabel('Delivery Times ECDF')\n",
        "ax2.set_title('ECDF Plot for Delivery Time')"
      ],
      "execution_count": 11,
      "outputs": [
        {
          "output_type": "execute_result",
          "data": {
            "text/plain": [
              "Text(0.5, 1.0, 'ECDF Plot for Delivery Time')"
            ]
          },
          "metadata": {
            "tags": []
          },
          "execution_count": 11
        },
        {
          "output_type": "display_data",
          "data": {
            "image/png": "[encoded data removed]",
            "text/plain": [
              "<Figure size 1080x360 with 2 Axes>"
            ]
          },
          "metadata": {
            "tags": [],
            "needs_background": "light"
          }
        }
      ]
    },
    {
      "cell_type": "markdown",
      "metadata": {
        "id": "WeufdOffjT7z",
        "colab_type": "text"
      },
      "source": [
        "We can see that 60 and 95 percent of deliveries are within 10KM and 20KM respectively.\n",
        "\n",
        "\n",
        "With the time distributions we see that 60 and 95 percent of the delivery times are within approximately 1500(s) and 3000(s)"
      ]
    },
    {
      "cell_type": "markdown",
      "metadata": {
        "id": "0qnIxpt8jYvb",
        "colab_type": "text"
      },
      "source": [
        "### Exploring Day of Month Columns"
      ]
    },
    {
      "cell_type": "markdown",
      "metadata": {
        "id": "IWnjbCBkjcSj",
        "colab_type": "text"
      },
      "source": [
        "By just eyeing the first few rows of the data, it seems that the order might tend to be picked up on the same day that the order was placed, which makes sense considering this is an express delivery service."
      ]
    },
    {
      "cell_type": "code",
      "metadata": {
        "id": "GnkGoq3-jnmL",
        "colab_type": "code",
        "outputId": "12e94b90-a4f8-4202-9f7b-e81076ef91ce",
        "colab": {
          "base_uri": "https://localhost:8080/",
          "height": 115
        }
      },
      "source": [
        "# Creating a column that calculates the difference between when the\n",
        "# order was made and when the order was picked up\n",
        "train['placement_pickup'] = train['PickupDayofMonth'] - train['PlacementDayofMonth']\n",
        "print(train[train['placement_pickup'] > 0])\n",
        "\n",
        "# Dropping the calculated column\n",
        "train.drop(['placement_pickup'], axis=1, inplace=True)"
      ],
      "execution_count": 12,
      "outputs": [
        {
          "output_type": "stream",
          "text": [
            "                     UserId  ... placement_pickup\n",
            "Order No                     ...                 \n",
            "Order_No_2800  User_Id_1402  ...                1\n",
            "Order_No_3530  User_Id_2457  ...                2\n",
            "\n",
            "[2 rows x 29 columns]\n"
          ],
          "name": "stdout"
        }
      ]
    },
    {
      "cell_type": "markdown",
      "metadata": {
        "id": "u_Jp59YSjwKK",
        "colab_type": "text"
      },
      "source": [
        "It seems that there have only been two cases when the order was made and picked up on different days (and the difference was only one or two days). Out of 21201 rows of data, this data seems that it will have minor predictive capabilities.\n",
        "\n",
        "It can therefore be suggested that when training the model, we only include one Day of Week and Day of Month column because including they will have high multicollinearity with each other."
      ]
    },
    {
      "cell_type": "markdown",
      "metadata": {
        "id": "1A-YtFyekB5g",
        "colab_type": "text"
      },
      "source": [
        "### Exploring Distributions on Different Days"
      ]
    },
    {
      "cell_type": "code",
      "metadata": {
        "id": "d-HKuNFekdrb",
        "colab_type": "code",
        "colab": {}
      },
      "source": [
        "# Converting relevant columns into categorical data types\n",
        "train['VehicleType'] = train['VehicleType'].astype('category')\n",
        "train['PlatformType'] = train['PlatformType'].astype('category')\n",
        "train['PersonalorBusiness'] = train['PersonalorBusiness'].astype('category')\n",
        "\n",
        "train['PlacementDayofMonth'] = train['PlacementDayofMonth'].astype('category')\n",
        "train['PlacementWeekday'] = train['PlacementWeekday'].astype('category')\n",
        "train['ConfirmationDayofMonth'] = train['ConfirmationDayofMonth'].astype('category')\n",
        "train['ConfirmationWeekday'] = train['ConfirmationWeekday'].astype('category')\n",
        "\n",
        "train['ArrivalatPickupDayofMonth'] = train['ArrivalatPickupDayofMonth'].astype('category')\n",
        "train['ArrivalatPickupWeekday'] = train['ArrivalatPickupWeekday'].astype('category')\n",
        "train['ArrivalatDestinationDayofMonth'] = train['ArrivalatDestinationDayofMonth'].astype('category')\n",
        "train['ArrivalatDestinationWeekday'] = train['ArrivalatDestinationWeekday'].astype('category')"
      ],
      "execution_count": 0,
      "outputs": []
    },
    {
      "cell_type": "code",
      "metadata": {
        "id": "62WC8m-xl3Hl",
        "colab_type": "code",
        "outputId": "cbfbbe3e-fefb-40d6-9349-fd06d620479d",
        "colab": {
          "base_uri": "https://localhost:8080/",
          "height": 301
        }
      },
      "source": [
        "sns.boxplot(x='ArrivalatPickupWeekday', y='TimefromPickuptoArrival', data=train)"
      ],
      "execution_count": 15,
      "outputs": [
        {
          "output_type": "execute_result",
          "data": {
            "text/plain": [
              "<matplotlib.axes._subplots.AxesSubplot at 0x7fe10868c8d0>"
            ]
          },
          "metadata": {
            "tags": []
          },
          "execution_count": 15
        },
        {
          "output_type": "display_data",
          "data": {
            "image/png": "[encoded data removed]",
            "text/plain": [
              "<Figure size 432x288 with 1 Axes>"
            ]
          },
          "metadata": {
            "tags": [],
            "needs_background": "light"
          }
        }
      ]
    },
    {
      "cell_type": "code",
      "metadata": {
        "id": "DfH0nhegl6cL",
        "colab_type": "code",
        "outputId": "f1735c14-98c0-4fb9-8c61-25a536d85af9",
        "colab": {
          "base_uri": "https://localhost:8080/",
          "height": 301
        }
      },
      "source": [
        "sns.boxplot(x='ArrivalatPickupDayofMonth', y='TimefromPickuptoArrival', data=train)"
      ],
      "execution_count": 16,
      "outputs": [
        {
          "output_type": "execute_result",
          "data": {
            "text/plain": [
              "<matplotlib.axes._subplots.AxesSubplot at 0x7fe1072b5cc0>"
            ]
          },
          "metadata": {
            "tags": []
          },
          "execution_count": 16
        },
        {
          "output_type": "display_data",
          "data": {
            "image/png": "[encoded data removed]",
            "text/plain": [
              "<Figure size 432x288 with 1 Axes>"
            ]
          },
          "metadata": {
            "tags": [],
            "needs_background": "light"
          }
        }
      ]
    },
    {
      "cell_type": "markdown",
      "metadata": {
        "id": "_7kV-OeWmAEJ",
        "colab_type": "text"
      },
      "source": [
        "These boxplots indicate that there doesn't seem to be a huge difference in travel time between the different days. There are quite a number of outliers in each day's category."
      ]
    },
    {
      "cell_type": "markdown",
      "metadata": {
        "id": "YorbMsq-mOBd",
        "colab_type": "text"
      },
      "source": [
        "### Correlations"
      ]
    },
    {
      "cell_type": "code",
      "metadata": {
        "id": "hCXcG5LPmPNU",
        "colab_type": "code",
        "outputId": "d1285f0c-ea50-43e6-dd9c-f1df349ea0d3",
        "colab": {
          "base_uri": "https://localhost:8080/",
          "height": 428
        }
      },
      "source": [
        "train_corr = train.corr()\n",
        "sns.heatmap(train_corr, cmap='coolwarm')"
      ],
      "execution_count": 0,
      "outputs": [
        {
          "output_type": "execute_result",
          "data": {
            "text/plain": [
              "<matplotlib.axes._subplots.AxesSubplot at 0x7fbd393bdf98>"
            ]
          },
          "metadata": {
            "tags": []
          },
          "execution_count": 15
        },
        {
          "output_type": "display_data",
          "data": {
            "image/png": "[encoded data removed]",
            "text/plain": [
              "<Figure size 432x288 with 2 Axes>"
            ]
          },
          "metadata": {
            "tags": [],
            "needs_background": "light"
          }
        }
      ]
    },
    {
      "cell_type": "markdown",
      "metadata": {
        "id": "gcuQdT5Ue9Kn",
        "colab_type": "text"
      },
      "source": [
        "##Data preprocessing\n"
      ]
    },
    {
      "cell_type": "code",
      "metadata": {
        "id": "zNIB9Cn5-Are",
        "colab_type": "code",
        "colab": {}
      },
      "source": [
        "def preprocessing(data):\n",
        "  \"\"\" Takes dataframe as input, drops unnecesarry columns and returns train-test split data\n",
        "  \n",
        "      Args: pandas dataframe\n",
        "\n",
        "      Returns: X_train, y_train, X_test, y_test\n",
        "\n",
        "      Examples:\n",
        "  \n",
        "  \"\"\"\n",
        "\n",
        "  # standardize features\n",
        "\n",
        "  # split the dataset into the response, y, and features, X\n",
        "\n",
        "  # return X_train, y_train, X_test, y_test"
      ],
      "execution_count": 0,
      "outputs": []
    },
    {
      "cell_type": "code",
      "metadata": {
        "id": "nud0fk2xjkn9",
        "colab_type": "code",
        "colab": {}
      },
      "source": [
        "# get X_train, y_train, X_test, y_test \n",
        "preprocessing(train)\n",
        "\n",
        "# plot the training and testing data as scatter plot"
      ],
      "execution_count": 0,
      "outputs": []
    },
    {
      "cell_type": "markdown",
      "metadata": {
        "id": "njC90Jh_qBWe",
        "colab_type": "text"
      },
      "source": [
        "### Splitting into training features and outputs"
      ]
    },
    {
      "cell_type": "code",
      "metadata": {
        "id": "6vZAqf1RqDYA",
        "colab_type": "code",
        "colab": {}
      },
      "source": [
        "training_features = orders.iloc[:, :-1]\n",
        "training_outputs = orders.iloc[:, -1]"
      ],
      "execution_count": 0,
      "outputs": []
    },
    {
      "cell_type": "markdown",
      "metadata": {
        "id": "VjQFXq4zqHXC",
        "colab_type": "text"
      },
      "source": [
        "### Converting features into categories"
      ]
    },
    {
      "cell_type": "markdown",
      "metadata": {
        "id": "yqKExbR1qUnk",
        "colab_type": "text"
      },
      "source": [
        "1. Pickup - Day of Month\n",
        "2. Pickup - Weekday (Mo = 1)\n",
        "3. Platform Type\n",
        "4. Personal or Business"
      ]
    },
    {
      "cell_type": "code",
      "metadata": {
        "id": "0lDPNPpdqXsK",
        "colab_type": "code",
        "colab": {}
      },
      "source": [
        "training_features[['PickupDayofMonth', 'PickupWeekday']] = training_features[['PickupDayofMonth', 'PickupWeekday']].astype('category')\n",
        "training_features[['PlatformType', 'PersonalorBusiness']] = training_features[['PlatformType', 'PersonalorBusiness']].astype('category')"
      ],
      "execution_count": 0,
      "outputs": []
    },
    {
      "cell_type": "markdown",
      "metadata": {
        "id": "NA32smd5qdp6",
        "colab_type": "text"
      },
      "source": [
        "### Selecting features to be part of training data"
      ]
    },
    {
      "cell_type": "markdown",
      "metadata": {
        "id": "vq0ysgrdqh3K",
        "colab_type": "text"
      },
      "source": [
        "1. Platform Type\n",
        "2. Personal or Business\n",
        "3. Pickup - Day of Month\n",
        "4. Pickup - Weekday (Mo = 1)\n",
        "5. Pickup - Time\n",
        "6. Pickup Lat\n",
        "7. Pickup Long\n",
        "8. Destination Lat\n",
        "9. Destination Long\n",
        "10. Distance (KM)\n",
        "11. Temperature\n",
        "12. Precipitation in millimeters"
      ]
    },
    {
      "cell_type": "code",
      "metadata": {
        "id": "5t5Rn9hdqgdS",
        "colab_type": "code",
        "colab": {}
      },
      "source": [
        "training_features = training_features[['PlatformType', 'PersonalorBusiness',\n",
        "                                       'PickupDayofMonth', 'PickupWeekday',\n",
        "                                       'PickupTime', 'PickupLat',\t'PickupLong',\n",
        "                                       'DestinationLat',\t'DestinationLong',\n",
        "                                       'Distance(KM)', 'Temperature',\n",
        "                                       'Precipitationinmillimeters']]"
      ],
      "execution_count": 0,
      "outputs": []
    },
    {
      "cell_type": "markdown",
      "metadata": {
        "id": "7oPtOs_2qwdh",
        "colab_type": "text"
      },
      "source": [
        "### Create time buckets"
      ]
    },
    {
      "cell_type": "markdown",
      "metadata": {
        "id": "QGrVfpnvq8e1",
        "colab_type": "text"
      },
      "source": [
        "1. Early Morning\n",
        "2. Morning\n",
        "3. Late Morning\n",
        "4. Afternoon\n",
        "5. Late Afternoon\n",
        "6. Evening"
      ]
    },
    {
      "cell_type": "code",
      "metadata": {
        "id": "B7nlQMImrASL",
        "colab_type": "code",
        "colab": {}
      },
      "source": [
        "def assign_time_category(dts, delivery_time):\n",
        "    dts = pd.DataFrame(['00:00:00', '6:00:00', '9:00:00', '12:00:00', '15:00:00', '18:00:00'])\n",
        "    dts[0] = pd.to_datetime(dts[0]).dt.time\n",
        "    if delivery_time >= dts[0][0] and delivery_time < dts[0][1]:\n",
        "        return 'Early Morning'\n",
        "    elif delivery_time >= dts[0][1] and delivery_time < dts[0][2]:\n",
        "        return 'Morning'\n",
        "    elif delivery_time >= dts[0][2]  and delivery_time < dts[0][3]:\n",
        "        return 'Late Morning'\n",
        "    elif delivery_time >= dts[0][3] and delivery_time < dts[0][4]:\n",
        "        return 'Afternoon'\n",
        "    elif delivery_time >= dts[0][4] and delivery_time < dts[0][5]:\n",
        "        return 'Late Afternoon'\n",
        "    else:\n",
        "        return 'Evening'"
      ],
      "execution_count": 0,
      "outputs": []
    },
    {
      "cell_type": "code",
      "metadata": {
        "id": "TuZLH27hrGTZ",
        "colab_type": "code",
        "colab": {
          "base_uri": "https://localhost:8080/",
          "height": 370
        },
        "outputId": "ac111619-199d-46e6-d086-638b48d0ff01"
      },
      "source": [
        "# Create new time bucket feature based on assign_time_category function\n",
        "training_features['DeliveryTimes'] = training_features['PickupTime'].apply(assign_time_category)\n",
        "training_features['DeliveryTimes'] = training_features['DeliveryTimes'].astype('category')\n",
        "\n",
        "# Dropping 'Pickup - Time' because we have created 'Delivery Times' in its place\n",
        "training_features.drop('PickupTime', axis=1, inplace=True)"
      ],
      "execution_count": 26,
      "outputs": [
        {
          "output_type": "error",
          "ename": "TypeError",
          "evalue": "ignored",
          "traceback": [
            "\u001b[0;31m---------------------------------------------------------------------------\u001b[0m",
            "\u001b[0;31mTypeError\u001b[0m                                 Traceback (most recent call last)",
            "\u001b[0;32m<ipython-input-26-3b66b0619cb4>\u001b[0m in \u001b[0;36m<module>\u001b[0;34m()\u001b[0m\n\u001b[1;32m      1\u001b[0m \u001b[0;31m# Create new time bucket feature based on assign_time_category function\u001b[0m\u001b[0;34m\u001b[0m\u001b[0;34m\u001b[0m\u001b[0;34m\u001b[0m\u001b[0m\n\u001b[0;32m----> 2\u001b[0;31m \u001b[0mtraining_features\u001b[0m\u001b[0;34m[\u001b[0m\u001b[0;34m'DeliveryTimes'\u001b[0m\u001b[0;34m]\u001b[0m \u001b[0;34m=\u001b[0m \u001b[0mtraining_features\u001b[0m\u001b[0;34m[\u001b[0m\u001b[0;34m'PickupTime'\u001b[0m\u001b[0;34m]\u001b[0m\u001b[0;34m.\u001b[0m\u001b[0mapply\u001b[0m\u001b[0;34m(\u001b[0m\u001b[0massign_time_category\u001b[0m\u001b[0;34m)\u001b[0m\u001b[0;34m\u001b[0m\u001b[0;34m\u001b[0m\u001b[0m\n\u001b[0m\u001b[1;32m      3\u001b[0m \u001b[0mtraining_features\u001b[0m\u001b[0;34m[\u001b[0m\u001b[0;34m'DeliveryTimes'\u001b[0m\u001b[0;34m]\u001b[0m \u001b[0;34m=\u001b[0m \u001b[0mtraining_features\u001b[0m\u001b[0;34m[\u001b[0m\u001b[0;34m'DeliveryTimes'\u001b[0m\u001b[0;34m]\u001b[0m\u001b[0;34m.\u001b[0m\u001b[0mastype\u001b[0m\u001b[0;34m(\u001b[0m\u001b[0;34m'category'\u001b[0m\u001b[0;34m)\u001b[0m\u001b[0;34m\u001b[0m\u001b[0;34m\u001b[0m\u001b[0m\n\u001b[1;32m      4\u001b[0m \u001b[0;34m\u001b[0m\u001b[0m\n\u001b[1;32m      5\u001b[0m \u001b[0;31m# Dropping 'Pickup - Time' because we have created 'Delivery Times' in its place\u001b[0m\u001b[0;34m\u001b[0m\u001b[0;34m\u001b[0m\u001b[0;34m\u001b[0m\u001b[0m\n",
            "\u001b[0;32m/usr/local/lib/python3.6/dist-packages/pandas/core/series.py\u001b[0m in \u001b[0;36mapply\u001b[0;34m(self, func, convert_dtype, args, **kwds)\u001b[0m\n\u001b[1;32m   3846\u001b[0m             \u001b[0;32melse\u001b[0m\u001b[0;34m:\u001b[0m\u001b[0;34m\u001b[0m\u001b[0;34m\u001b[0m\u001b[0m\n\u001b[1;32m   3847\u001b[0m                 \u001b[0mvalues\u001b[0m \u001b[0;34m=\u001b[0m \u001b[0mself\u001b[0m\u001b[0;34m.\u001b[0m\u001b[0mastype\u001b[0m\u001b[0;34m(\u001b[0m\u001b[0mobject\u001b[0m\u001b[0;34m)\u001b[0m\u001b[0;34m.\u001b[0m\u001b[0mvalues\u001b[0m\u001b[0;34m\u001b[0m\u001b[0;34m\u001b[0m\u001b[0m\n\u001b[0;32m-> 3848\u001b[0;31m                 \u001b[0mmapped\u001b[0m \u001b[0;34m=\u001b[0m \u001b[0mlib\u001b[0m\u001b[0;34m.\u001b[0m\u001b[0mmap_infer\u001b[0m\u001b[0;34m(\u001b[0m\u001b[0mvalues\u001b[0m\u001b[0;34m,\u001b[0m \u001b[0mf\u001b[0m\u001b[0;34m,\u001b[0m \u001b[0mconvert\u001b[0m\u001b[0;34m=\u001b[0m\u001b[0mconvert_dtype\u001b[0m\u001b[0;34m)\u001b[0m\u001b[0;34m\u001b[0m\u001b[0;34m\u001b[0m\u001b[0m\n\u001b[0m\u001b[1;32m   3849\u001b[0m \u001b[0;34m\u001b[0m\u001b[0m\n\u001b[1;32m   3850\u001b[0m         \u001b[0;32mif\u001b[0m \u001b[0mlen\u001b[0m\u001b[0;34m(\u001b[0m\u001b[0mmapped\u001b[0m\u001b[0;34m)\u001b[0m \u001b[0;32mand\u001b[0m \u001b[0misinstance\u001b[0m\u001b[0;34m(\u001b[0m\u001b[0mmapped\u001b[0m\u001b[0;34m[\u001b[0m\u001b[0;36m0\u001b[0m\u001b[0;34m]\u001b[0m\u001b[0;34m,\u001b[0m \u001b[0mSeries\u001b[0m\u001b[0;34m)\u001b[0m\u001b[0;34m:\u001b[0m\u001b[0;34m\u001b[0m\u001b[0;34m\u001b[0m\u001b[0m\n",
            "\u001b[0;32mpandas/_libs/lib.pyx\u001b[0m in \u001b[0;36mpandas._libs.lib.map_infer\u001b[0;34m()\u001b[0m\n",
            "\u001b[0;31mTypeError\u001b[0m: assign_time_category() missing 1 required positional argument: 'delivery_time'"
          ]
        }
      ]
    },
    {
      "cell_type": "markdown",
      "metadata": {
        "id": "VV--XrM-rUHx",
        "colab_type": "text"
      },
      "source": [
        "### Dealing with missing precipitation values"
      ]
    },
    {
      "cell_type": "markdown",
      "metadata": {
        "id": "jgswJ_QcrmKZ",
        "colab_type": "text"
      },
      "source": [
        "As described above, there are null-values present in the Temperature and Precipitation in millimeters columns.\n",
        "\n",
        "We are assuming that if `Precipitation in millimeters` is missing, that it was not raining on that day. We can therefore fill null values with 0."
      ]
    },
    {
      "cell_type": "code",
      "metadata": {
        "id": "0JlLmL1Crk7G",
        "colab_type": "code",
        "colab": {
          "base_uri": "https://localhost:8080/",
          "height": 115
        },
        "outputId": "cf667138-bbec-4f6f-a14f-6fc0668f138f"
      },
      "source": [
        "# Fill missing precipitation values with 0\n",
        "training_features['Precipitationinmillimeters'] = training_features['Precipitationinmillimeters'].fillna(value=0)"
      ],
      "execution_count": 27,
      "outputs": [
        {
          "output_type": "stream",
          "text": [
            "/usr/local/lib/python3.6/dist-packages/ipykernel_launcher.py:2: SettingWithCopyWarning: \n",
            "A value is trying to be set on a copy of a slice from a DataFrame.\n",
            "Try using .loc[row_indexer,col_indexer] = value instead\n",
            "\n",
            "See the caveats in the documentation: https://pandas.pydata.org/pandas-docs/stable/user_guide/indexing.html#returning-a-view-versus-a-copy\n",
            "  \n"
          ],
          "name": "stderr"
        }
      ]
    },
    {
      "cell_type": "markdown",
      "metadata": {
        "id": "oxX4ceYhrqIR",
        "colab_type": "text"
      },
      "source": [
        "### Dealing with missing temperature values"
      ]
    },
    {
      "cell_type": "markdown",
      "metadata": {
        "id": "RGugvJmTrtMJ",
        "colab_type": "text"
      },
      "source": [
        "Going by intuition only, observing a relationship between temperature and time of day may be useful in filling in the missing temperature values. Missing temperature data will be imputed by grouping the mean temperature by the time buckets that were created above."
      ]
    },
    {
      "cell_type": "code",
      "metadata": {
        "id": "-_5ZVBQWryMS",
        "colab_type": "code",
        "colab": {}
      },
      "source": [
        "del_temp_plt = sns.boxenplot(y=training_features['Temperature'], \n",
        "                x=training_features['DeliveryTimes'], \n",
        "                order=[\"Early Morning\", \"Morning\", \"Late Morning\",\n",
        "                     \"Afternoon\", \"Late Afternoon\", \"Evening\"])\n",
        "del_temp_plt = del_temp_plt.set_xticklabels(del_temp_plt.get_xticklabels(), rotation=-50)"
      ],
      "execution_count": 0,
      "outputs": []
    },
    {
      "cell_type": "markdown",
      "metadata": {
        "id": "WciPyy4LrzL1",
        "colab_type": "text"
      },
      "source": [
        "\n",
        "This box plot shows us that temperatures tend to be cool in the morning and increase until the late afternoon, after which, it decreases."
      ]
    },
    {
      "cell_type": "code",
      "metadata": {
        "id": "LFlnZNhQr5q6",
        "colab_type": "code",
        "colab": {}
      },
      "source": [
        "# Function to fill nulls with a column's mean value\n",
        "def mean(col):\n",
        "      return col.fillna(col.mean())"
      ],
      "execution_count": 0,
      "outputs": []
    },
    {
      "cell_type": "code",
      "metadata": {
        "id": "1ARbPT7_r0UC",
        "colab_type": "code",
        "colab": {}
      },
      "source": [
        "# Impute missing temperature based on delivery time\n",
        "training_features['Temperature'] = training_features.groupby(['DeliveryTimes'])['Temperature'].transform(mean)"
      ],
      "execution_count": 0,
      "outputs": []
    },
    {
      "cell_type": "markdown",
      "metadata": {
        "id": "i-7Gf1EUr-HU",
        "colab_type": "text"
      },
      "source": [
        "### Calculating distance from CBD"
      ]
    },
    {
      "cell_type": "markdown",
      "metadata": {
        "id": "bIK1k7cfsAAP",
        "colab_type": "text"
      },
      "source": [
        "Considering that Nairobi is one of the most congested cities in the world, considering the pickup and delivery locations' distance from Nairobi's CBD may play a role in determining how much traffic one can expect on a trip.\n",
        "\n",
        "A coordinate of -1.283526, 36.823269 was picked to represent the middle of Nairobi's CBD."
      ]
    },
    {
      "cell_type": "code",
      "metadata": {
        "id": "Q_YjSUimsBr3",
        "colab_type": "code",
        "colab": {}
      },
      "source": [
        "# Function to calculate a coordinate's distance from the CBD coordinate\n",
        "def distance_CBD(lat, long):\n",
        "  return math.sqrt(((lat - -1.283526) ** 2) + ((long - 36.823269) ** 2))"
      ],
      "execution_count": 0,
      "outputs": []
    },
    {
      "cell_type": "code",
      "metadata": {
        "id": "Ko7Do3uVsDgt",
        "colab_type": "code",
        "colab": {
          "base_uri": "https://localhost:8080/",
          "height": 212
        },
        "outputId": "023abdd4-218d-4c0b-f263-9aa6bd9bc444"
      },
      "source": [
        "training_features['DistanceCBDpickup'] = np.vectorize(distance_CBD)(training_features['PickupLat'],\n",
        "                                    training_features['PickupLong'])\n",
        "training_features['DistanceCBDdest'] = np.vectorize(distance_CBD)(training_features['DestinationLat'],\n",
        "                                    training_features['DestinationLong'])"
      ],
      "execution_count": 31,
      "outputs": [
        {
          "output_type": "stream",
          "text": [
            "/usr/local/lib/python3.6/dist-packages/ipykernel_launcher.py:2: SettingWithCopyWarning: \n",
            "A value is trying to be set on a copy of a slice from a DataFrame.\n",
            "Try using .loc[row_indexer,col_indexer] = value instead\n",
            "\n",
            "See the caveats in the documentation: https://pandas.pydata.org/pandas-docs/stable/user_guide/indexing.html#returning-a-view-versus-a-copy\n",
            "  \n",
            "/usr/local/lib/python3.6/dist-packages/ipykernel_launcher.py:4: SettingWithCopyWarning: \n",
            "A value is trying to be set on a copy of a slice from a DataFrame.\n",
            "Try using .loc[row_indexer,col_indexer] = value instead\n",
            "\n",
            "See the caveats in the documentation: https://pandas.pydata.org/pandas-docs/stable/user_guide/indexing.html#returning-a-view-versus-a-copy\n",
            "  after removing the cwd from sys.path.\n"
          ],
          "name": "stderr"
        }
      ]
    },
    {
      "cell_type": "markdown",
      "metadata": {
        "id": "WPwfXAJqsGpS",
        "colab_type": "text"
      },
      "source": [
        "### Encoding data"
      ]
    },
    {
      "cell_type": "code",
      "metadata": {
        "id": "uoCvkZB2sITa",
        "colab_type": "code",
        "colab": {}
      },
      "source": [
        "# One-hot encoding for categorical data\n",
        "\n",
        "training_features = pd.get_dummies(training_features,\n",
        "                                   columns=['PlatformType', 'PersonalorBusiness', 'PickupDayofMonth', 'PickupWeekday', 'DeliveryTimes'],\n",
        "                                   prefix=['platformtype', 'personalbusiness', 'dayofmonth', 'weekday', 'pickuptimes'])"
      ],
      "execution_count": 0,
      "outputs": []
    },
    {
      "cell_type": "markdown",
      "metadata": {
        "id": "y5EbWS7osPRH",
        "colab_type": "text"
      },
      "source": [
        "### Train-test split"
      ]
    },
    {
      "cell_type": "code",
      "metadata": {
        "id": "5sCQKtU0sS6t",
        "colab_type": "code",
        "colab": {}
      },
      "source": [
        "X_train, X_test, y_train, y_test = train_test_split(training_features, training_outputs, test_size=0.1)"
      ],
      "execution_count": 0,
      "outputs": []
    },
    {
      "cell_type": "markdown",
      "metadata": {
        "id": "mg9qS3ySfDkn",
        "colab_type": "text"
      },
      "source": [
        "##Modelling"
      ]
    },
    {
      "cell_type": "markdown",
      "metadata": {
        "id": "oGyaSkmv4aVM",
        "colab_type": "text"
      },
      "source": [
        "### Model type 1"
      ]
    },
    {
      "cell_type": "code",
      "metadata": {
        "id": "G57G1N3Qj8D6",
        "colab_type": "code",
        "colab": {}
      },
      "source": [
        "# declare the model object\n",
        "\n",
        "# fit the model to the training data\n",
        "\n",
        "# get predictions on the test set \n",
        "\n",
        "# calculate performance metrics\n"
      ],
      "execution_count": 0,
      "outputs": []
    },
    {
      "cell_type": "markdown",
      "metadata": {
        "id": "ncQ01u2t5JET",
        "colab_type": "text"
      },
      "source": [
        "### Model type 2"
      ]
    },
    {
      "cell_type": "code",
      "metadata": {
        "id": "mCb6dTp35MgZ",
        "colab_type": "code",
        "colab": {}
      },
      "source": [
        "# declare the model object\n",
        "\n",
        "# fit the model to the training data\n",
        "\n",
        "# get predictions on the test set \n",
        "\n",
        "# calculate performance metrics"
      ],
      "execution_count": 0,
      "outputs": []
    },
    {
      "cell_type": "markdown",
      "metadata": {
        "id": "mseQfLd2fKYP",
        "colab_type": "text"
      },
      "source": [
        "##Performance evaluation"
      ]
    },
    {
      "cell_type": "code",
      "metadata": {
        "id": "200j7ZOdkjNr",
        "colab_type": "code",
        "colab": {}
      },
      "source": [
        "# plot scatter graph of y_test and y_predict for models\n",
        "\n",
        "# choose the best model\n",
        "\n",
        "# saving the model with Pickle\n",
        "\n",
        "# Restoring the model with Pickle"
      ],
      "execution_count": 0,
      "outputs": []
    },
    {
      "cell_type": "markdown",
      "metadata": {
        "id": "i61ZKa1ofNTW",
        "colab_type": "text"
      },
      "source": [
        "## Model analysis"
      ]
    },
    {
      "cell_type": "code",
      "metadata": {
        "id": "m0yQcDec5aM5",
        "colab_type": "code",
        "colab": {}
      },
      "source": [
        "# How can model help Sendy?\n",
        "\n",
        "# How did modelling the traffic help with an accurate model?"
      ],
      "execution_count": 0,
      "outputs": []
    },
    {
      "cell_type": "markdown",
      "metadata": {
        "id": "HN_GsmG1ezzP",
        "colab_type": "text"
      },
      "source": [
        "#Conclusion\n"
      ]
    },
    {
      "cell_type": "markdown",
      "metadata": {
        "id": "hbzV4qNY5q1J",
        "colab_type": "text"
      },
      "source": [
        " Did we answer the problem statement?"
      ]
    },
    {
      "cell_type": "markdown",
      "metadata": {
        "id": "PD7vyqva54pS",
        "colab_type": "text"
      },
      "source": [
        " Did we create a viable equation of value?"
      ]
    },
    {
      "cell_type": "code",
      "metadata": {
        "id": "1Vosn9zG5uY3",
        "colab_type": "code",
        "colab": {}
      },
      "source": [
        ""
      ],
      "execution_count": 0,
      "outputs": []
    }
  ]
}