{
  "nbformat": 4,
  "nbformat_minor": 0,
  "metadata": {
    "colab": {
      "name": "cleaned.ipynb",
      "provenance": [],
      "toc_visible": true,
      "include_colab_link": true
    },
    "kernelspec": {
      "display_name": "Python 3",
      "language": "python",
      "name": "python3"
    },
    "language_info": {
      "codemirror_mode": {
        "name": "ipython",
        "version": 3
      },
      "file_extension": ".py",
      "mimetype": "text/x-python",
      "name": "python",
      "nbconvert_exporter": "python",
      "pygments_lexer": "ipython3",
      "version": "3.7.6"
    }
  },
  "cells": [
    {
      "cell_type": "markdown",
      "metadata": {
        "id": "view-in-github",
        "colab_type": "text"
      },
      "source": [
        "<a href=\"https://colab.research.google.com/github/monicafar147/regression-predict-api-template/blob/Wright/cleaned.ipynb\" target=\"_parent\"><img src=\"https://colab.research.google.com/assets/colab-badge.svg\" alt=\"Open In Colab\"/></a>"
      ]
    },
    {
      "cell_type": "markdown",
      "metadata": {
        "colab_type": "text",
        "id": "nWrgVJcnevjM"
      },
      "source": [
        "# Introduction"
      ]
    },
    {
      "cell_type": "markdown",
      "metadata": {
        "colab_type": "text",
        "id": "pKkIjAmkjB7U"
      },
      "source": [
        "\n",
        "The aim of this notebook is to predict the estimated time of delivery of orders, from the point of driver pickup to the point of arrival at final destination from a logistics company, Sendy, based in Nairobi.\n",
        "\n",
        "Sendy can improve their reliability and enhance their customer communication by providing an estimated time of delivery of orders through regression techniques used to model the delivery process.\n",
        "\n",
        "Sendy is headquartered in Kenya and the data provided is based in Nairobi. The training dataset provided is a subset of over 21201 orders and only includes direct orders (i.e. Sendy “express” orders) with bikes in Nairobi."
      ]
    },
    {
      "cell_type": "markdown",
      "metadata": {
        "colab_type": "text",
        "id": "HRjsG44ceykQ"
      },
      "source": [
        "# Body"
      ]
    },
    {
      "cell_type": "markdown",
      "metadata": {
        "colab_type": "text",
        "id": "-vjcALQEftgG"
      },
      "source": [
        "## Imports"
      ]
    },
    {
      "cell_type": "markdown",
      "metadata": {
        "colab_type": "text",
        "id": "Fi_QJmmef9o-"
      },
      "source": [
        "### Importing the libraries"
      ]
    },
    {
      "cell_type": "code",
      "metadata": {
        "colab_type": "code",
        "id": "chd7SprufyXe",
        "colab": {}
      },
      "source": [
        "import numpy as np\n",
        "import matplotlib.pyplot as plt\n",
        "import pandas as pd\n",
        "import seaborn as sns\n",
        "%matplotlib inline\n",
        "import math\n",
        "from sklearn import metrics\n",
        "from sklearn.model_selection import train_test_split\n",
        "\n",
        "# Scaling\n",
        "from sklearn.preprocessing import StandardScaler\n",
        "\n",
        "# Machine learning models\n",
        "from sklearn.linear_model import LinearRegression\n",
        "from sklearn.tree import DecisionTreeRegressor\n",
        "from sklearn.ensemble import RandomForestRegressor\n",
        "from sklearn.linear_model import Lasso\n",
        "\n",
        "# Saving model with pickle\n",
        "import pickle\n",
        "\n",
        "sns.set(palette='pastel')"
      ],
      "execution_count": 0,
      "outputs": []
    },
    {
      "cell_type": "markdown",
      "metadata": {
        "colab_type": "text",
        "id": "q3WIrvPggBSu"
      },
      "source": [
        "### Importing the data"
      ]
    },
    {
      "cell_type": "code",
      "metadata": {
        "colab_type": "code",
        "id": "YzNzJRnShi9n",
        "colab": {}
      },
      "source": [
        "train = pd.read_csv('https://raw.githubusercontent.com/monicafar147/regression-predict-api-template/master/Train.csv', \n",
        "                    parse_dates=['Pickup - Time', 'Placement - Time', 'Confirmation - Time', 'Arrival at Pickup - Time', 'Arrival at Destination - Time'],\n",
        "                    index_col=0)\n",
        "test = pd.read_csv('https://raw.githubusercontent.com/monicafar147/regression-predict-api-template/master/Test.csv',\n",
        "                    parse_dates=['Pickup - Time', 'Placement - Time', 'Confirmation - Time'],\n",
        "                    index_col=0)\n",
        "riders = pd.read_csv('https://raw.githubusercontent.com/monicafar147/regression-predict-api-template/master/Riders.csv', index_col=0)"
      ],
      "execution_count": 0,
      "outputs": []
    },
    {
      "cell_type": "markdown",
      "metadata": {
        "colab_type": "text",
        "id": "VIYWesxse7lo"
      },
      "source": [
        "## EDA"
      ]
    },
    {
      "cell_type": "code",
      "metadata": {
        "colab_type": "code",
        "id": "rJRNASLtgIat",
        "outputId": "35a9ab12-d342-49de-a8c9-18173ea90c4d",
        "colab": {
          "base_uri": "https://localhost:8080/",
          "height": 605
        }
      },
      "source": [
        "train.info()"
      ],
      "execution_count": 0,
      "outputs": [
        {
          "output_type": "stream",
          "text": [
            "<class 'pandas.core.frame.DataFrame'>\n",
            "Index: 21201 entries, Order_No_4211 to Order_No_9836\n",
            "Data columns (total 28 columns):\n",
            " #   Column                                     Non-Null Count  Dtype         \n",
            "---  ------                                     --------------  -----         \n",
            " 0   User Id                                    21201 non-null  object        \n",
            " 1   Vehicle Type                               21201 non-null  object        \n",
            " 2   Platform Type                              21201 non-null  int64         \n",
            " 3   Personal or Business                       21201 non-null  object        \n",
            " 4   Placement - Day of Month                   21201 non-null  int64         \n",
            " 5   Placement - Weekday (Mo = 1)               21201 non-null  int64         \n",
            " 6   Placement - Time                           21201 non-null  datetime64[ns]\n",
            " 7   Confirmation - Day of Month                21201 non-null  int64         \n",
            " 8   Confirmation - Weekday (Mo = 1)            21201 non-null  int64         \n",
            " 9   Confirmation - Time                        21201 non-null  datetime64[ns]\n",
            " 10  Arrival at Pickup - Day of Month           21201 non-null  int64         \n",
            " 11  Arrival at Pickup - Weekday (Mo = 1)       21201 non-null  int64         \n",
            " 12  Arrival at Pickup - Time                   21201 non-null  datetime64[ns]\n",
            " 13  Pickup - Day of Month                      21201 non-null  int64         \n",
            " 14  Pickup - Weekday (Mo = 1)                  21201 non-null  int64         \n",
            " 15  Pickup - Time                              21201 non-null  datetime64[ns]\n",
            " 16  Arrival at Destination - Day of Month      21201 non-null  int64         \n",
            " 17  Arrival at Destination - Weekday (Mo = 1)  21201 non-null  int64         \n",
            " 18  Arrival at Destination - Time              21201 non-null  datetime64[ns]\n",
            " 19  Distance (KM)                              21201 non-null  int64         \n",
            " 20  Temperature                                16835 non-null  float64       \n",
            " 21  Precipitation in millimeters               552 non-null    float64       \n",
            " 22  Pickup Lat                                 21201 non-null  float64       \n",
            " 23  Pickup Long                                21201 non-null  float64       \n",
            " 24  Destination Lat                            21201 non-null  float64       \n",
            " 25  Destination Long                           21201 non-null  float64       \n",
            " 26  Rider Id                                   21201 non-null  object        \n",
            " 27  Time from Pickup to Arrival                21201 non-null  int64         \n",
            "dtypes: datetime64[ns](5), float64(6), int64(13), object(4)\n",
            "memory usage: 4.7+ MB\n"
          ],
          "name": "stdout"
        }
      ]
    },
    {
      "cell_type": "markdown",
      "metadata": {
        "colab_type": "text",
        "id": "eTIMtAG3hN2t"
      },
      "source": [
        "At this stage, we notice that there are missing values from `Temperature` and `Precipitation in millimeters`."
      ]
    },
    {
      "cell_type": "code",
      "metadata": {
        "colab_type": "code",
        "id": "ZyuV5_2ohydD",
        "outputId": "ace14871-51ec-4e0e-97ba-9044328b913a",
        "colab": {
          "base_uri": "https://localhost:8080/",
          "height": 354
        }
      },
      "source": [
        "train.describe()"
      ],
      "execution_count": 0,
      "outputs": [
        {
          "output_type": "execute_result",
          "data": {
            "text/html": [
              "<div>\n",
              "<style scoped>\n",
              "    .dataframe tbody tr th:only-of-type {\n",
              "        vertical-align: middle;\n",
              "    }\n",
              "\n",
              "    .dataframe tbody tr th {\n",
              "        vertical-align: top;\n",
              "    }\n",
              "\n",
              "    .dataframe thead th {\n",
              "        text-align: right;\n",
              "    }\n",
              "</style>\n",
              "<table border=\"1\" class=\"dataframe\">\n",
              "  <thead>\n",
              "    <tr style=\"text-align: right;\">\n",
              "      <th></th>\n",
              "      <th>Platform Type</th>\n",
              "      <th>Placement - Day of Month</th>\n",
              "      <th>Placement - Weekday (Mo = 1)</th>\n",
              "      <th>Confirmation - Day of Month</th>\n",
              "      <th>Confirmation - Weekday (Mo = 1)</th>\n",
              "      <th>Arrival at Pickup - Day of Month</th>\n",
              "      <th>Arrival at Pickup - Weekday (Mo = 1)</th>\n",
              "      <th>Pickup - Day of Month</th>\n",
              "      <th>Pickup - Weekday (Mo = 1)</th>\n",
              "      <th>Arrival at Destination - Day of Month</th>\n",
              "      <th>Arrival at Destination - Weekday (Mo = 1)</th>\n",
              "      <th>Distance (KM)</th>\n",
              "      <th>Temperature</th>\n",
              "      <th>Precipitation in millimeters</th>\n",
              "      <th>Pickup Lat</th>\n",
              "      <th>Pickup Long</th>\n",
              "      <th>Destination Lat</th>\n",
              "      <th>Destination Long</th>\n",
              "      <th>Time from Pickup to Arrival</th>\n",
              "    </tr>\n",
              "  </thead>\n",
              "  <tbody>\n",
              "    <tr>\n",
              "      <th>count</th>\n",
              "      <td>21201.000000</td>\n",
              "      <td>21201.000000</td>\n",
              "      <td>21201.000000</td>\n",
              "      <td>21201.000000</td>\n",
              "      <td>21201.000000</td>\n",
              "      <td>21201.000000</td>\n",
              "      <td>21201.000000</td>\n",
              "      <td>21201.000000</td>\n",
              "      <td>21201.000000</td>\n",
              "      <td>21201.000000</td>\n",
              "      <td>21201.000000</td>\n",
              "      <td>21201.000000</td>\n",
              "      <td>16835.000000</td>\n",
              "      <td>552.000000</td>\n",
              "      <td>21201.000000</td>\n",
              "      <td>21201.000000</td>\n",
              "      <td>21201.000000</td>\n",
              "      <td>21201.000000</td>\n",
              "      <td>21201.000000</td>\n",
              "    </tr>\n",
              "    <tr>\n",
              "      <th>mean</th>\n",
              "      <td>2.752182</td>\n",
              "      <td>15.653696</td>\n",
              "      <td>3.240083</td>\n",
              "      <td>15.653837</td>\n",
              "      <td>3.240225</td>\n",
              "      <td>15.653837</td>\n",
              "      <td>3.240225</td>\n",
              "      <td>15.653837</td>\n",
              "      <td>3.240225</td>\n",
              "      <td>15.653837</td>\n",
              "      <td>3.240225</td>\n",
              "      <td>9.506533</td>\n",
              "      <td>23.258889</td>\n",
              "      <td>7.905797</td>\n",
              "      <td>-1.281470</td>\n",
              "      <td>36.811264</td>\n",
              "      <td>-1.282581</td>\n",
              "      <td>36.811220</td>\n",
              "      <td>1556.920947</td>\n",
              "    </tr>\n",
              "    <tr>\n",
              "      <th>std</th>\n",
              "      <td>0.625178</td>\n",
              "      <td>8.798916</td>\n",
              "      <td>1.567295</td>\n",
              "      <td>8.798886</td>\n",
              "      <td>1.567228</td>\n",
              "      <td>8.798886</td>\n",
              "      <td>1.567228</td>\n",
              "      <td>8.798886</td>\n",
              "      <td>1.567228</td>\n",
              "      <td>8.798886</td>\n",
              "      <td>1.567228</td>\n",
              "      <td>5.668963</td>\n",
              "      <td>3.615768</td>\n",
              "      <td>17.089971</td>\n",
              "      <td>0.030507</td>\n",
              "      <td>0.037473</td>\n",
              "      <td>0.034824</td>\n",
              "      <td>0.044721</td>\n",
              "      <td>987.270788</td>\n",
              "    </tr>\n",
              "    <tr>\n",
              "      <th>min</th>\n",
              "      <td>1.000000</td>\n",
              "      <td>1.000000</td>\n",
              "      <td>1.000000</td>\n",
              "      <td>1.000000</td>\n",
              "      <td>1.000000</td>\n",
              "      <td>1.000000</td>\n",
              "      <td>1.000000</td>\n",
              "      <td>1.000000</td>\n",
              "      <td>1.000000</td>\n",
              "      <td>1.000000</td>\n",
              "      <td>1.000000</td>\n",
              "      <td>1.000000</td>\n",
              "      <td>11.200000</td>\n",
              "      <td>0.100000</td>\n",
              "      <td>-1.438302</td>\n",
              "      <td>36.653621</td>\n",
              "      <td>-1.430298</td>\n",
              "      <td>36.606594</td>\n",
              "      <td>1.000000</td>\n",
              "    </tr>\n",
              "    <tr>\n",
              "      <th>25%</th>\n",
              "      <td>3.000000</td>\n",
              "      <td>8.000000</td>\n",
              "      <td>2.000000</td>\n",
              "      <td>8.000000</td>\n",
              "      <td>2.000000</td>\n",
              "      <td>8.000000</td>\n",
              "      <td>2.000000</td>\n",
              "      <td>8.000000</td>\n",
              "      <td>2.000000</td>\n",
              "      <td>8.000000</td>\n",
              "      <td>2.000000</td>\n",
              "      <td>5.000000</td>\n",
              "      <td>20.600000</td>\n",
              "      <td>1.075000</td>\n",
              "      <td>-1.300921</td>\n",
              "      <td>36.784605</td>\n",
              "      <td>-1.301201</td>\n",
              "      <td>36.785661</td>\n",
              "      <td>882.000000</td>\n",
              "    </tr>\n",
              "    <tr>\n",
              "      <th>50%</th>\n",
              "      <td>3.000000</td>\n",
              "      <td>15.000000</td>\n",
              "      <td>3.000000</td>\n",
              "      <td>15.000000</td>\n",
              "      <td>3.000000</td>\n",
              "      <td>15.000000</td>\n",
              "      <td>3.000000</td>\n",
              "      <td>15.000000</td>\n",
              "      <td>3.000000</td>\n",
              "      <td>15.000000</td>\n",
              "      <td>3.000000</td>\n",
              "      <td>8.000000</td>\n",
              "      <td>23.500000</td>\n",
              "      <td>2.900000</td>\n",
              "      <td>-1.279395</td>\n",
              "      <td>36.807040</td>\n",
              "      <td>-1.284382</td>\n",
              "      <td>36.808002</td>\n",
              "      <td>1369.000000</td>\n",
              "    </tr>\n",
              "    <tr>\n",
              "      <th>75%</th>\n",
              "      <td>3.000000</td>\n",
              "      <td>23.000000</td>\n",
              "      <td>5.000000</td>\n",
              "      <td>23.000000</td>\n",
              "      <td>5.000000</td>\n",
              "      <td>23.000000</td>\n",
              "      <td>5.000000</td>\n",
              "      <td>23.000000</td>\n",
              "      <td>5.000000</td>\n",
              "      <td>23.000000</td>\n",
              "      <td>5.000000</td>\n",
              "      <td>13.000000</td>\n",
              "      <td>26.000000</td>\n",
              "      <td>4.900000</td>\n",
              "      <td>-1.257147</td>\n",
              "      <td>36.829741</td>\n",
              "      <td>-1.261177</td>\n",
              "      <td>36.829477</td>\n",
              "      <td>2040.000000</td>\n",
              "    </tr>\n",
              "    <tr>\n",
              "      <th>max</th>\n",
              "      <td>4.000000</td>\n",
              "      <td>31.000000</td>\n",
              "      <td>7.000000</td>\n",
              "      <td>31.000000</td>\n",
              "      <td>7.000000</td>\n",
              "      <td>31.000000</td>\n",
              "      <td>7.000000</td>\n",
              "      <td>31.000000</td>\n",
              "      <td>7.000000</td>\n",
              "      <td>31.000000</td>\n",
              "      <td>7.000000</td>\n",
              "      <td>49.000000</td>\n",
              "      <td>32.100000</td>\n",
              "      <td>99.100000</td>\n",
              "      <td>-1.147170</td>\n",
              "      <td>36.991046</td>\n",
              "      <td>-1.030225</td>\n",
              "      <td>37.016779</td>\n",
              "      <td>7883.000000</td>\n",
              "    </tr>\n",
              "  </tbody>\n",
              "</table>\n",
              "</div>"
            ],
            "text/plain": [
              "       Platform Type  Placement - Day of Month  Placement - Weekday (Mo = 1)  \\\n",
              "count   21201.000000              21201.000000                  21201.000000   \n",
              "mean        2.752182                 15.653696                      3.240083   \n",
              "std         0.625178                  8.798916                      1.567295   \n",
              "min         1.000000                  1.000000                      1.000000   \n",
              "25%         3.000000                  8.000000                      2.000000   \n",
              "50%         3.000000                 15.000000                      3.000000   \n",
              "75%         3.000000                 23.000000                      5.000000   \n",
              "max         4.000000                 31.000000                      7.000000   \n",
              "\n",
              "       Confirmation - Day of Month  Confirmation - Weekday (Mo = 1)  \\\n",
              "count                 21201.000000                     21201.000000   \n",
              "mean                     15.653837                         3.240225   \n",
              "std                       8.798886                         1.567228   \n",
              "min                       1.000000                         1.000000   \n",
              "25%                       8.000000                         2.000000   \n",
              "50%                      15.000000                         3.000000   \n",
              "75%                      23.000000                         5.000000   \n",
              "max                      31.000000                         7.000000   \n",
              "\n",
              "       Arrival at Pickup - Day of Month  Arrival at Pickup - Weekday (Mo = 1)  \\\n",
              "count                      21201.000000                          21201.000000   \n",
              "mean                          15.653837                              3.240225   \n",
              "std                            8.798886                              1.567228   \n",
              "min                            1.000000                              1.000000   \n",
              "25%                            8.000000                              2.000000   \n",
              "50%                           15.000000                              3.000000   \n",
              "75%                           23.000000                              5.000000   \n",
              "max                           31.000000                              7.000000   \n",
              "\n",
              "       Pickup - Day of Month  Pickup - Weekday (Mo = 1)  \\\n",
              "count           21201.000000               21201.000000   \n",
              "mean               15.653837                   3.240225   \n",
              "std                 8.798886                   1.567228   \n",
              "min                 1.000000                   1.000000   \n",
              "25%                 8.000000                   2.000000   \n",
              "50%                15.000000                   3.000000   \n",
              "75%                23.000000                   5.000000   \n",
              "max                31.000000                   7.000000   \n",
              "\n",
              "       Arrival at Destination - Day of Month  \\\n",
              "count                           21201.000000   \n",
              "mean                               15.653837   \n",
              "std                                 8.798886   \n",
              "min                                 1.000000   \n",
              "25%                                 8.000000   \n",
              "50%                                15.000000   \n",
              "75%                                23.000000   \n",
              "max                                31.000000   \n",
              "\n",
              "       Arrival at Destination - Weekday (Mo = 1)  Distance (KM)   Temperature  \\\n",
              "count                               21201.000000   21201.000000  16835.000000   \n",
              "mean                                    3.240225       9.506533     23.258889   \n",
              "std                                     1.567228       5.668963      3.615768   \n",
              "min                                     1.000000       1.000000     11.200000   \n",
              "25%                                     2.000000       5.000000     20.600000   \n",
              "50%                                     3.000000       8.000000     23.500000   \n",
              "75%                                     5.000000      13.000000     26.000000   \n",
              "max                                     7.000000      49.000000     32.100000   \n",
              "\n",
              "       Precipitation in millimeters    Pickup Lat   Pickup Long  \\\n",
              "count                    552.000000  21201.000000  21201.000000   \n",
              "mean                       7.905797     -1.281470     36.811264   \n",
              "std                       17.089971      0.030507      0.037473   \n",
              "min                        0.100000     -1.438302     36.653621   \n",
              "25%                        1.075000     -1.300921     36.784605   \n",
              "50%                        2.900000     -1.279395     36.807040   \n",
              "75%                        4.900000     -1.257147     36.829741   \n",
              "max                       99.100000     -1.147170     36.991046   \n",
              "\n",
              "       Destination Lat  Destination Long  Time from Pickup to Arrival  \n",
              "count     21201.000000      21201.000000                 21201.000000  \n",
              "mean         -1.282581         36.811220                  1556.920947  \n",
              "std           0.034824          0.044721                   987.270788  \n",
              "min          -1.430298         36.606594                     1.000000  \n",
              "25%          -1.301201         36.785661                   882.000000  \n",
              "50%          -1.284382         36.808002                  1369.000000  \n",
              "75%          -1.261177         36.829477                  2040.000000  \n",
              "max          -1.030225         37.016779                  7883.000000  "
            ]
          },
          "metadata": {
            "tags": []
          },
          "execution_count": 4
        }
      ]
    },
    {
      "cell_type": "markdown",
      "metadata": {
        "colab_type": "text",
        "id": "b1ghBMMDh8hv"
      },
      "source": [
        "### Distribution of Target Variable"
      ]
    },
    {
      "cell_type": "code",
      "metadata": {
        "colab_type": "code",
        "id": "wOBefM0hiGl7",
        "outputId": "21be785e-cc7c-43d2-d5c2-4b673c9d4315",
        "colab": {
          "base_uri": "https://localhost:8080/",
          "height": 318
        }
      },
      "source": [
        "plt.hist(train['Time from Pickup to Arrival'], bins = 100, edgecolor = 'k')\n",
        "plt.xlabel('Time from pickup to arrival') \n",
        "plt.title('Delivery Time Distribution')"
      ],
      "execution_count": 0,
      "outputs": [
        {
          "output_type": "execute_result",
          "data": {
            "text/plain": [
              "Text(0.5, 1.0, 'Delivery Time Distribution')"
            ]
          },
          "metadata": {
            "tags": []
          },
          "execution_count": 5
        },
        {
          "output_type": "display_data",
          "data": {
            "image/png": "[encoded data removed]",
            "text/plain": [
              "<Figure size 432x288 with 1 Axes>"
            ]
          },
          "metadata": {
            "tags": []
          }
        }
      ]
    },
    {
      "cell_type": "markdown",
      "metadata": {
        "colab_type": "text",
        "id": "yqgKhGCRiV9U"
      },
      "source": [
        "The high distribution of very low values seems suspicious."
      ]
    },
    {
      "cell_type": "code",
      "metadata": {
        "colab_type": "code",
        "id": "R6K1qkS0ia_A",
        "outputId": "063b74e0-daa4-4696-d978-189dba39963b",
        "colab": {
          "base_uri": "https://localhost:8080/",
          "height": 50
        }
      },
      "source": [
        "print('Time from pickup to arrival less than 60s:', len(train[train['Time from Pickup to Arrival'] < 60]))\n",
        "print('Time from pickup to arrival of 1s: ', len(train[train['Time from Pickup to Arrival'] ==1]))"
      ],
      "execution_count": 0,
      "outputs": [
        {
          "output_type": "stream",
          "text": [
            "Time from pickup to arrival less than 60s: 740\n",
            "Time from pickup to arrival of 1s:  37\n"
          ],
          "name": "stdout"
        }
      ]
    },
    {
      "cell_type": "markdown",
      "metadata": {
        "colab_type": "text",
        "id": "opKXvpsvihXp"
      },
      "source": [
        "`Time from pickup to arrival` of less than 60 seconds seems suspicious, especially 1 second. It is possible that riders may have forgotten to confirm the pickup on the app until they dropped off the parcel, resulting in this unrealistic time frame. These rows should be dropped because they will skew the data."
      ]
    },
    {
      "cell_type": "code",
      "metadata": {
        "colab_type": "code",
        "id": "VJ9NMIG5ioKD",
        "outputId": "a14fb52f-2010-4df8-ba29-a8332cb90bd3",
        "colab": {
          "base_uri": "https://localhost:8080/",
          "height": 318
        }
      },
      "source": [
        "# Dropping rows where delivery time is less than 60s\n",
        "orders = train[train['Time from Pickup to Arrival'] > 60]\n",
        "\n",
        "# Plotting the new target variable distribution\n",
        "plt.hist(orders['Time from Pickup to Arrival'], bins = 100, edgecolor = 'k')\n",
        "plt.xlabel('Time from pickup to arrival') \n",
        "plt.title('Delivery Time Distribution')"
      ],
      "execution_count": 0,
      "outputs": [
        {
          "output_type": "execute_result",
          "data": {
            "text/plain": [
              "Text(0.5, 1.0, 'Delivery Time Distribution')"
            ]
          },
          "metadata": {
            "tags": []
          },
          "execution_count": 7
        },
        {
          "output_type": "display_data",
          "data": {
            "image/png": "[encoded data removed]",
            "text/plain": [
              "<Figure size 432x288 with 1 Axes>"
            ]
          },
          "metadata": {
            "tags": []
          }
        }
      ]
    },
    {
      "cell_type": "markdown",
      "metadata": {
        "colab_type": "text",
        "id": "vCSU2OXfi7jr"
      },
      "source": [
        "###Cumulative Distribution Function for Distances and Delivery Times"
      ]
    },
    {
      "cell_type": "code",
      "metadata": {
        "colab_type": "code",
        "id": "F5dZDU5CjLeb",
        "outputId": "fa86df24-88f5-4f25-b20c-a2acca3b1ce7",
        "colab": {
          "base_uri": "https://localhost:8080/",
          "height": 372
        }
      },
      "source": [
        "distances = np.sort(train['Distance (KM)'])\n",
        "distances_ecdf = np.arange(1, len(distances) + 1) / len(distances)\n",
        "delivery_times = np.sort(train['Time from Pickup to Arrival'])\n",
        "delivery_times_ecdf = np.arange(1, len(delivery_times) + 1) / len(delivery_times)\n",
        "\n",
        "fig, (ax1, ax2) = plt.subplots(1,2,figsize=(15,5))\n",
        "ax1.plot(distances, distances_ecdf, marker='.', linestyle='none')\n",
        "ax1.set_xlabel('Distances (KM)')\n",
        "ax1.set_ylabel('Distances ECDF')\n",
        "ax1.set_title('ECDF Plot for Distances')\n",
        "\n",
        "ax2.plot(delivery_times, delivery_times_ecdf, marker='.', linestyle='none')\n",
        "ax2.set_xlabel('Delivery Time (s)')\n",
        "ax2.set_ylabel('Delivery Times ECDF')\n",
        "ax2.set_title('ECDF Plot for Delivery Time')"
      ],
      "execution_count": 0,
      "outputs": [
        {
          "output_type": "execute_result",
          "data": {
            "text/plain": [
              "Text(0.5, 1.0, 'ECDF Plot for Delivery Time')"
            ]
          },
          "metadata": {
            "tags": []
          },
          "execution_count": 8
        },
        {
          "output_type": "display_data",
          "data": {
            "image/png": "[encoded data removed]",
            "text/plain": [
              "<Figure size 1080x360 with 2 Axes>"
            ]
          },
          "metadata": {
            "tags": []
          }
        }
      ]
    },
    {
      "cell_type": "markdown",
      "metadata": {
        "colab_type": "text",
        "id": "WeufdOffjT7z"
      },
      "source": [
        "We can see that 60 and 95 percent of deliveries are within 10KM and 20KM respectively.\n",
        "\n",
        "\n",
        "With the time distributions we see that 60 and 95 percent of the delivery times are within approximately 1500(s) and 3000(s)"
      ]
    },
    {
      "cell_type": "markdown",
      "metadata": {
        "colab_type": "text",
        "id": "0qnIxpt8jYvb"
      },
      "source": [
        "### Exploring Day of Month Columns"
      ]
    },
    {
      "cell_type": "markdown",
      "metadata": {
        "colab_type": "text",
        "id": "IWnjbCBkjcSj"
      },
      "source": [
        "By just eyeing the first few rows of the data, it seems that the order might tend to be picked up on the same day that the order was placed, which makes sense considering this is an express delivery service."
      ]
    },
    {
      "cell_type": "code",
      "metadata": {
        "colab_type": "code",
        "id": "GnkGoq3-jnmL",
        "outputId": "17185e4a-145c-4983-d6de-bed1a7387980",
        "colab": {
          "base_uri": "https://localhost:8080/",
          "height": 118
        }
      },
      "source": [
        "# Creating a column that calculates the difference between when the\n",
        "# order was made and when the order was picked up\n",
        "train['placement_pickup'] = train['Pickup - Day of Month'] - train['Placement - Day of Month']\n",
        "print(train[train['placement_pickup'] > 0])\n",
        "\n",
        "# Dropping the calculated column\n",
        "train.drop(['placement_pickup'], axis=1, inplace=True)"
      ],
      "execution_count": 0,
      "outputs": [
        {
          "output_type": "stream",
          "text": [
            "                    User Id Vehicle Type  Platform Type Personal or Business  \\\n",
            "Order No                                                                       \n",
            "Order_No_2800  User_Id_1402         Bike              3             Business   \n",
            "Order_No_3530  User_Id_2457         Bike              3             Business   \n",
            "\n",
            "               Placement - Day of Month  Placement - Weekday (Mo = 1)  \\\n",
            "Order No                                                                \n",
            "Order_No_2800                        17                             1   \n",
            "Order_No_3530                        11                             2   \n",
            "\n",
            "                 Placement - Time  Confirmation - Day of Month  \\\n",
            "Order No                                                         \n",
            "Order_No_2800 2020-05-28 14:34:37                           18   \n",
            "Order_No_3530 2020-05-28 12:22:05                           13   \n",
            "\n",
            "               Confirmation - Weekday (Mo = 1) Confirmation - Time  ...  \\\n",
            "Order No                                                            ...   \n",
            "Order_No_2800                                2 2020-05-28 13:16:53  ...   \n",
            "Order_No_3530                                4 2020-05-28 13:27:30  ...   \n",
            "\n",
            "               Distance (KM)  Temperature Precipitation in millimeters  \\\n",
            "Order No                                                                 \n",
            "Order_No_2800             11         25.6                          NaN   \n",
            "Order_No_3530              8         22.5                          NaN   \n",
            "\n",
            "               Pickup Lat  Pickup Long Destination Lat  Destination Long  \\\n",
            "Order No                                                                   \n",
            "Order_No_2800   -1.225322    36.808550       -1.281754         36.832423   \n",
            "Order_No_3530   -1.291548    36.829752       -1.255189         36.782203   \n",
            "\n",
            "                   Rider Id Time from Pickup to Arrival  placement_pickup  \n",
            "Order No                                                                   \n",
            "Order_No_2800  Rider_Id_928                        2640                 1  \n",
            "Order_No_3530  Rider_Id_247                        1854                 2  \n",
            "\n",
            "[2 rows x 29 columns]\n"
          ],
          "name": "stdout"
        }
      ]
    },
    {
      "cell_type": "markdown",
      "metadata": {
        "colab_type": "text",
        "id": "u_Jp59YSjwKK"
      },
      "source": [
        "It seems that there have only been two cases when the order was made and picked up on different days (and the difference was only one or two days). Out of 21201 rows of data, this data seems that it will have minor predictive capabilities.\n",
        "\n",
        "It can therefore be suggested that when training the model, we only include one Day of Week and Day of Month column because including they will have high multicollinearity with each other."
      ]
    },
    {
      "cell_type": "markdown",
      "metadata": {
        "colab_type": "text",
        "id": "1A-YtFyekB5g"
      },
      "source": [
        "### Exploring Distributions on Different Days"
      ]
    },
    {
      "cell_type": "code",
      "metadata": {
        "colab_type": "code",
        "id": "d-HKuNFekdrb",
        "colab": {}
      },
      "source": [
        "# Converting relevant columns into categorical data types\n",
        "train[['Vehicle Type', 'Platform Type', 'Personal or Business']] = train[['Vehicle Type', 'Platform Type', 'Personal or Business']].astype('category')\n",
        "train[['Placement - Day of Month', 'Placement - Weekday (Mo = 1)', 'Confirmation - Day of Month', 'Confirmation - Weekday (Mo = 1)']] = train[['Placement - Day of Month', 'Placement - Weekday (Mo = 1)', 'Confirmation - Day of Month', 'Confirmation - Weekday (Mo = 1)']].astype('category')\n",
        "train[['Arrival at Pickup - Day of Month', 'Arrival at Pickup - Weekday (Mo = 1)', 'Arrival at Destination - Day of Month', 'Arrival at Destination - Weekday (Mo = 1)']] = train[['Arrival at Pickup - Day of Month', 'Arrival at Pickup - Weekday (Mo = 1)', 'Arrival at Destination - Day of Month', 'Arrival at Destination - Weekday (Mo = 1)']].astype('category')"
      ],
      "execution_count": 0,
      "outputs": []
    },
    {
      "cell_type": "code",
      "metadata": {
        "colab_type": "code",
        "id": "62WC8m-xl3Hl",
        "outputId": "130b29a0-1a2f-4afc-bc8c-444daa268fad",
        "colab": {
          "base_uri": "https://localhost:8080/",
          "height": 302
        }
      },
      "source": [
        "sns.boxplot(x='Arrival at Pickup - Weekday (Mo = 1)', y='Time from Pickup to Arrival', data=train)"
      ],
      "execution_count": 0,
      "outputs": [
        {
          "output_type": "execute_result",
          "data": {
            "text/plain": [
              "<matplotlib.axes._subplots.AxesSubplot at 0x245dd8b26c8>"
            ]
          },
          "metadata": {
            "tags": []
          },
          "execution_count": 11
        },
        {
          "output_type": "display_data",
          "data": {
            "image/png": "[encoded data removed]",
            "text/plain": [
              "<Figure size 432x288 with 1 Axes>"
            ]
          },
          "metadata": {
            "tags": []
          }
        }
      ]
    },
    {
      "cell_type": "code",
      "metadata": {
        "colab_type": "code",
        "id": "DfH0nhegl6cL",
        "outputId": "b22a0ac9-a686-48b8-cefd-c8515ea17982",
        "colab": {
          "base_uri": "https://localhost:8080/",
          "height": 302
        }
      },
      "source": [
        "sns.boxplot(x='Arrival at Pickup - Day of Month', y='Time from Pickup to Arrival', data=train)"
      ],
      "execution_count": 0,
      "outputs": [
        {
          "output_type": "execute_result",
          "data": {
            "text/plain": [
              "<matplotlib.axes._subplots.AxesSubplot at 0x245dce87148>"
            ]
          },
          "metadata": {
            "tags": []
          },
          "execution_count": 12
        },
        {
          "output_type": "display_data",
          "data": {
            "image/png": "[encoded data removed]",
            "text/plain": [
              "<Figure size 432x288 with 1 Axes>"
            ]
          },
          "metadata": {
            "tags": []
          }
        }
      ]
    },
    {
      "cell_type": "markdown",
      "metadata": {
        "colab_type": "text",
        "id": "_7kV-OeWmAEJ"
      },
      "source": [
        "These boxplots indicate that there doesn't seem to be a huge difference in travel time between the different days. There are quite a number of outliers in each day's category."
      ]
    },
    {
      "cell_type": "markdown",
      "metadata": {
        "colab_type": "text",
        "id": "YorbMsq-mOBd"
      },
      "source": [
        "### Correlations"
      ]
    },
    {
      "cell_type": "code",
      "metadata": {
        "colab_type": "code",
        "id": "hCXcG5LPmPNU",
        "outputId": "ee847470-46fa-4ff6-f3f8-e7e6a4f0ee1d",
        "colab": {
          "base_uri": "https://localhost:8080/",
          "height": 428
        }
      },
      "source": [
        "train_corr = train.corr()\n",
        "sns.heatmap(train_corr, cmap='coolwarm')"
      ],
      "execution_count": 0,
      "outputs": [
        {
          "output_type": "execute_result",
          "data": {
            "text/plain": [
              "<matplotlib.axes._subplots.AxesSubplot at 0x245dd9fd988>"
            ]
          },
          "metadata": {
            "tags": []
          },
          "execution_count": 13
        },
        {
          "output_type": "display_data",
          "data": {
            "image/png": "[encoded data removed]",
            "text/plain": [
              "<Figure size 432x288 with 2 Axes>"
            ]
          },
          "metadata": {
            "tags": []
          }
        }
      ]
    },
    {
      "cell_type": "markdown",
      "metadata": {
        "colab_type": "text",
        "id": "gcuQdT5Ue9Kn"
      },
      "source": [
        "## Data preprocessing\n"
      ]
    },
    {
      "cell_type": "code",
      "metadata": {
        "colab_type": "code",
        "id": "zNIB9Cn5-Are",
        "colab": {}
      },
      "source": [
        "def preprocessing(data):\n",
        "  \"\"\" Takes dataframe as input, drops unnecesarry columns and returns train-test split data\n",
        "  \n",
        "      Args: pandas dataframe\n",
        "\n",
        "      Returns: X_train, y_train, X_test, y_test\n",
        "\n",
        "      Examples:\n",
        "  \n",
        "  \"\"\"\n",
        "\n",
        "  # standardize features\n",
        "\n",
        "  # split the dataset into the response, y, and features, X\n",
        "\n",
        "  # return X_train, y_train, X_test, y_test"
      ],
      "execution_count": 0,
      "outputs": []
    },
    {
      "cell_type": "markdown",
      "metadata": {
        "id": "-6Lg-WB0Y9kw",
        "colab_type": "text"
      },
      "source": [
        "### Data Preprocessing utility functions"
      ]
    },
    {
      "cell_type": "code",
      "metadata": {
        "id": "DnoAu8UzY9kw",
        "colab_type": "code",
        "colab": {}
      },
      "source": [
        "def change_type_to_category(features_df, columns):\n",
        "    \n",
        "    features_df[columns] = features.astype('category')\n",
        "    return None\n",
        "    \n",
        "def select_features(features_df):\n",
        "    \n",
        "    features_df = features_df[['Platform Type', 'Personal or Business', 'Pickup - Day of Month', 'Pickup - Weekday (Mo = 1)', 'Pickup - Time', 'Pickup Lat',\t'Pickup Long', 'Destination Lat',\t'Destination Long', 'Distance (KM)', 'Temperature', 'Precipitation in millimeters']]\n",
        "    return None\n",
        "    \n",
        "def assign_time_category(delivery_time):\n",
        "    \n",
        "    dts = pd.DataFrame(['12:00:00 AM', '6:00:00 AM', '9:00:00 AM', '12:00:00 PM', '3:00:00 PM', '6:00:00 PM'])[0].astype('datetime64[ns]')\n",
        "    \n",
        "    if delivery_time >= dts[0] and delivery_time < dts[1]:\n",
        "        return 'Early Morning'\n",
        "    elif delivery_time >= dts[1] and delivery_time < dts[2]:\n",
        "        return 'Morning'\n",
        "    elif delivery_time >= dts[2]  and delivery_time < dts[3]:\n",
        "        return 'Late Morning'\n",
        "    elif delivery_time >= dts[3] and delivery_time < dts[4]:\n",
        "        return 'Afternoon'\n",
        "    elif delivery_time >= dts[4] and delivery_time < dts[5]:\n",
        "        return 'Late Afternoon'\n",
        "    else:\n",
        "        return 'Evening'\n",
        "    \n",
        "def transform_time_feature(feature_df):\n",
        "    \n",
        "    feature_df['Delivery Times'] = feature_df['Pickup - Time'].apply(assign_time_category)\n",
        "    change_type_to_category(features_df, ['Delivery Times'])\n",
        "    features_df.drop('Pickup - Time', axis=1, inplace=True)\n",
        "    return None\n",
        "\n",
        "def encode_features(feature_df):\n",
        "    \n",
        "    feature_df = pd.get_dummies(feature_df,\n",
        "                                columns=['Platform Type', 'Personal or Business', 'Pickup - Day of Month', 'Pickup - Weekday (Mo = 1)', 'Delivery Times'],\n",
        "                                prefix=['platformtype', 'personalbusiness', 'dayofmonth', 'weekday', 'pickuptimes']\n",
        "                               )"
      ],
      "execution_count": 0,
      "outputs": []
    },
    {
      "cell_type": "markdown",
      "metadata": {
        "id": "jHgNyz6tY9k0",
        "colab_type": "text"
      },
      "source": [
        "### Splitting into training features and outputs"
      ]
    },
    {
      "cell_type": "code",
      "metadata": {
        "id": "ac2qhQrPY9k1",
        "colab_type": "code",
        "colab": {}
      },
      "source": [
        "training_features = orders.iloc[:, :-1]\n",
        "training_outputs = orders.iloc[:, -1]"
      ],
      "execution_count": 0,
      "outputs": []
    },
    {
      "cell_type": "markdown",
      "metadata": {
        "id": "9WnsnQ-JY9k3",
        "colab_type": "text"
      },
      "source": [
        "### Deleting an outlier"
      ]
    },
    {
      "cell_type": "code",
      "metadata": {
        "id": "sKsBD1a4Y9k4",
        "colab_type": "code",
        "colab": {}
      },
      "source": [
        "training_features.drop(11859, inplace=True)\n",
        "training_outputs.drop(index=11859, inplace=True)"
      ],
      "execution_count": 0,
      "outputs": []
    },
    {
      "cell_type": "code",
      "metadata": {
        "colab_type": "code",
        "id": "nud0fk2xjkn9",
        "colab": {}
      },
      "source": [
        "# get X_train, y_train, X_test, y_test \n",
        "preprocessing(train)\n",
        "\n",
        "# plot the training and testing data as scatter plot"
      ],
      "execution_count": 0,
      "outputs": []
    },
    {
      "cell_type": "markdown",
      "metadata": {
        "colab_type": "text",
        "id": "mg9qS3ySfDkn"
      },
      "source": [
        "## Modelling"
      ]
    },
    {
      "cell_type": "markdown",
      "metadata": {
        "id": "A6tX_XKOY9k-",
        "colab_type": "text"
      },
      "source": [
        "### Modelling utility functions"
      ]
    },
    {
      "cell_type": "code",
      "metadata": {
        "id": "-YZA3bvsY9k_",
        "colab_type": "code",
        "colab": {}
      },
      "source": [
        "SEED = 3\n",
        "\n",
        "def train_model(model, features, observations):\n",
        "    \n",
        "    return model.fit(features, observations)\n",
        "\n",
        "def get_model_predictions(model, features):\n",
        "    \n",
        "    return model.predict(features)\n",
        "\n",
        "def get_model_scores(predictions, observations):\n",
        "    \n",
        "    model_scores = {\n",
        "        \n",
        "        'R2': metrics.r2_score(predictions, observations),\n",
        "        'MSE': metrics.mean_squared_error(predictions, observations),\n",
        "        'RMSE': np.sqrt(metrics.mean_squared_error(predictions, observations))\n",
        "    }\n",
        "    \n",
        "    return model_scores\n",
        "\n",
        "def plot_model_residuals():\n",
        "    \n",
        "    pass"
      ],
      "execution_count": 0,
      "outputs": []
    },
    {
      "cell_type": "markdown",
      "metadata": {
        "id": "wzdiwHWYY9lC",
        "colab_type": "text"
      },
      "source": [
        "### Train-test split"
      ]
    },
    {
      "cell_type": "code",
      "metadata": {
        "id": "e66R4DiiY9lC",
        "colab_type": "code",
        "colab": {}
      },
      "source": [
        "training_features, test_features, training_outputs, test_outputs = train_test_split(training_features, training_outputs, test_size=0.2)"
      ],
      "execution_count": 0,
      "outputs": []
    },
    {
      "cell_type": "markdown",
      "metadata": {
        "colab_type": "text",
        "id": "oGyaSkmv4aVM"
      },
      "source": [
        "### Simple Linear Regression"
      ]
    },
    {
      "cell_type": "code",
      "metadata": {
        "colab_type": "code",
        "id": "G57G1N3Qj8D6",
        "colab": {}
      },
      "source": [
        "# declare the model object\n",
        "linear_model = LinearRegression()\n",
        "\n",
        "# fit the model to the training data\n",
        "linear_model = train_model(training_features['Distance (KM)'], training_outputs)\n",
        "\n",
        "# get predictions on the test set\n",
        "train_lm_predictions = get_model_predictions(linear_model, training_features)\n",
        "test_lm_predictions = get_model_predictions(linear_model, test_features)\n",
        "zindi_lm_predictions = get_model_predictions(linear_model, test_features)\n",
        "\n",
        "# calculate performance metrics\n",
        "train_lm_metrics = get_model_metrics(predictions, training_outputs)\n",
        "test_lm_metrics = get_model_metrics(predictions, test_outputs)\n",
        "zindi_lm_metrics = get_model_metrics(predictions, test_outputs)"
      ],
      "execution_count": 0,
      "outputs": []
    },
    {
      "cell_type": "markdown",
      "metadata": {
        "colab_type": "text",
        "id": "ncQ01u2t5JET"
      },
      "source": [
        "### Multiple Linear Regression Model"
      ]
    },
    {
      "cell_type": "code",
      "metadata": {
        "colab_type": "code",
        "id": "mCb6dTp35MgZ",
        "colab": {}
      },
      "source": [
        "# declare the model object\n",
        "multiple_linear_model = LinearRegression()\n",
        "\n",
        "# fit the model to the training data\n",
        "multiple_linear_model = train_model(training_features, training_outputs)\n",
        "\n",
        "# get predictions on the test set\n",
        "train_ml_predictions = get_model_predictions(multiple_linear_model, training_features)\n",
        "test_ml_predictions = get_model_predictions(multiple_linear_model, test_features)\n",
        "zindi_ml_predictions = get_model_predictions(multiple_linear_model, test_features)\n",
        "\n",
        "# calculate performance metrics\n",
        "train_ml_metrics = get_model_metrics(predictions, training_outputs)\n",
        "tets_ml_metrics = get_model_metrics(predictions, test_outputs)\n",
        "zindi_ml_metrics = get_model_metrics(predictions, test_outputs)"
      ],
      "execution_count": 0,
      "outputs": []
    },
    {
      "cell_type": "markdown",
      "metadata": {
        "id": "FnozdgPTY9lP",
        "colab_type": "text"
      },
      "source": [
        "### Decision Tree Model"
      ]
    },
    {
      "cell_type": "code",
      "metadata": {
        "id": "uEMOFe-5Y9lP",
        "colab_type": "code",
        "colab": {}
      },
      "source": [
        "# declare the model object\n",
        "regression_tree = DecisionTreeRegressor(random_state = SEED)\n",
        "\n",
        "# fit the model to the training data\n",
        "regression_tree = train_model(training_features, training_outputs)\n",
        "\n",
        "# get predictions on the test set\n",
        "train_dt_predictions = get_model_predictions(regression_tree, training_features)\n",
        "test_dt_predictions = get_model_predictions(regression_tree, test_features)\n",
        "zindi_dt_predictions = get_model_predictions(regression_tree, test_features)\n",
        "\n",
        "# calculate performance metrics\n",
        "train_dt_metrics = get_model_metrics(predictions, training_outputs)\n",
        "tets_dt_metrics = get_model_metrics(predictions, test_outputs)\n",
        "zindi_dt_metrics = get_model_metrics(predictions, test_outputs)"
      ],
      "execution_count": 0,
      "outputs": []
    },
    {
      "cell_type": "markdown",
      "metadata": {
        "id": "b_VmMzI2Y9lS",
        "colab_type": "text"
      },
      "source": [
        "### Random Forest Model"
      ]
    },
    {
      "cell_type": "code",
      "metadata": {
        "id": "vRGE2zMKY9lT",
        "colab_type": "code",
        "colab": {}
      },
      "source": [
        "# declare the model object\n",
        "random_forest = RandomForestRegressor(n_estimators = 200, random_state = SEED)\n",
        "\n",
        "# fit the model to the training data\n",
        "random_forest = train_model(training_features, training_outputs)\n",
        "\n",
        "# get predictions on the test set\n",
        "train_rf_predictions = get_model_predictions(random_forest, traing_features)\n",
        "test_rf_predictions = get_model_predictions(random_forest, test_features)\n",
        "zindi_rf_predictions = get_model_predictions(random_forest, test_features)\n",
        "\n",
        "# calculate performance metrics\n",
        "train_rf_metrics = get_model_metrics(predictions, training_outputs)\n",
        "tets_rf_metrics = get_model_metrics(predictions, test_outputs)\n",
        "zindi_rf_metrics = get_model_metrics(predictions, test_outputs)"
      ],
      "execution_count": 0,
      "outputs": []
    },
    {
      "cell_type": "markdown",
      "metadata": {
        "id": "Ugc3_8nLY9lW",
        "colab_type": "text"
      },
      "source": [
        "### Lasso Regression Model"
      ]
    },
    {
      "cell_type": "code",
      "metadata": {
        "id": "cnAw80Z6Y9lX",
        "colab_type": "code",
        "colab": {}
      },
      "source": [
        "# declare the model object\n",
        "\n",
        "# fit the model to the training data\n",
        "\n",
        "# get predictions on the test set \n",
        "\n",
        "# calculate performance metrics"
      ],
      "execution_count": 0,
      "outputs": []
    },
    {
      "cell_type": "markdown",
      "metadata": {
        "colab_type": "text",
        "id": "mseQfLd2fKYP"
      },
      "source": [
        "## Performance evaluation"
      ]
    },
    {
      "cell_type": "code",
      "metadata": {
        "colab_type": "code",
        "id": "200j7ZOdkjNr",
        "colab": {}
      },
      "source": [
        "# plot scatter graph of y_test and y_predict for models\n",
        "\n",
        "# choose the best model\n",
        "\n",
        "# saving the model with Pickle\n",
        "\n",
        "# Restoring the model with Pickle"
      ],
      "execution_count": 0,
      "outputs": []
    },
    {
      "cell_type": "markdown",
      "metadata": {
        "colab_type": "text",
        "id": "i61ZKa1ofNTW"
      },
      "source": [
        "## Model analysis"
      ]
    },
    {
      "cell_type": "code",
      "metadata": {
        "colab_type": "code",
        "id": "m0yQcDec5aM5",
        "colab": {}
      },
      "source": [
        "# How can model help Sendy?\n",
        "\n",
        "# How did modelling the traffic help with an accurate model?"
      ],
      "execution_count": 0,
      "outputs": []
    },
    {
      "cell_type": "markdown",
      "metadata": {
        "colab_type": "text",
        "id": "HN_GsmG1ezzP"
      },
      "source": [
        "#Conclusion\n"
      ]
    },
    {
      "cell_type": "markdown",
      "metadata": {
        "colab_type": "text",
        "id": "hbzV4qNY5q1J"
      },
      "source": [
        " Did we answer the problem statement?"
      ]
    },
    {
      "cell_type": "markdown",
      "metadata": {
        "colab_type": "text",
        "id": "PD7vyqva54pS"
      },
      "source": [
        " Did we create a viable equation of value?"
      ]
    },
    {
      "cell_type": "code",
      "metadata": {
        "colab_type": "code",
        "id": "1Vosn9zG5uY3",
        "colab": {}
      },
      "source": [
        ""
      ],
      "execution_count": 0,
      "outputs": []
    }
  ]
}