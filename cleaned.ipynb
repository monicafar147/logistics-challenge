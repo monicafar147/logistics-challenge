{
  "nbformat": 4,
  "nbformat_minor": 0,
  "metadata": {
    "colab": {
      "name": "cleaned.ipynb",
      "provenance": [],
      "include_colab_link": true
    },
    "kernelspec": {
      "name": "python3",
      "display_name": "Python 3"
    }
  },
  "cells": [
    {
      "cell_type": "markdown",
      "metadata": {
        "id": "view-in-github",
        "colab_type": "text"
      },
      "source": [
        "<a href=\"https://colab.research.google.com/github/monicafar147/regression-predict-api-template/blob/Monica/cleaned.ipynb\" target=\"_parent\"><img src=\"https://colab.research.google.com/assets/colab-badge.svg\" alt=\"Open In Colab\"/></a>"
      ]
    },
    {
      "cell_type": "markdown",
      "metadata": {
        "id": "nWrgVJcnevjM",
        "colab_type": "text"
      },
      "source": [
        "#Introduction"
      ]
    },
    {
      "cell_type": "markdown",
      "metadata": {
        "id": "pKkIjAmkjB7U",
        "colab_type": "text"
      },
      "source": [
        "\n",
        "The aim of this notebook is to predict the estimated time of delivery of orders, from the point of driver pickup to the point of arrival at final destination from a logistics company, Sendy, based in Nairobi.\n",
        "\n",
        "Sendy can improve their reliability and enhance their customer communication by providing an estimated time of delivery of orders through regression techniques used to model the delivery process.\n",
        "\n",
        "Sendy is headquartered in Kenya and the data provided is based in Nairobi. The training dataset provided is a subset of over 21201 orders and only includes direct orders (i.e. Sendy “express” orders) with bikes in Nairobi."
      ]
    },
    {
      "cell_type": "markdown",
      "metadata": {
        "id": "HRjsG44ceykQ",
        "colab_type": "text"
      },
      "source": [
        "#Body"
      ]
    },
    {
      "cell_type": "markdown",
      "metadata": {
        "id": "-vjcALQEftgG",
        "colab_type": "text"
      },
      "source": [
        "## Imports"
      ]
    },
    {
      "cell_type": "markdown",
      "metadata": {
        "id": "Fi_QJmmef9o-",
        "colab_type": "text"
      },
      "source": [
        "###Importing the libraries"
      ]
    },
    {
      "cell_type": "code",
      "metadata": {
        "id": "chd7SprufyXe",
        "colab_type": "code",
        "colab": {}
      },
      "source": [
        "import numpy as np\n",
        "import matplotlib.pyplot as plt\n",
        "import pandas as pd\n",
        "import seaborn as sns\n",
        "%matplotlib inline\n",
        "import math\n",
        "from sklearn import metrics\n",
        "from sklearn.model_selection import train_test_split\n",
        "\n",
        "# Scaling\n",
        "from sklearn.preprocessing import StandardScaler\n",
        "\n",
        "# Machine learning models\n",
        "from sklearn.linear_model import LinearRegression\n",
        "from sklearn.tree import DecisionTreeRegressor\n",
        "from sklearn.ensemble import RandomForestRegressor\n",
        "from sklearn.linear_model import Lasso\n",
        "\n",
        "# Saving model with pickle\n",
        "import pickle\n",
        "\n",
        "sns.set(palette='pastel')"
      ],
      "execution_count": 0,
      "outputs": []
    },
    {
      "cell_type": "markdown",
      "metadata": {
        "id": "q3WIrvPggBSu",
        "colab_type": "text"
      },
      "source": [
        "### Importing the data"
      ]
    },
    {
      "cell_type": "code",
      "metadata": {
        "id": "YzNzJRnShi9n",
        "colab_type": "code",
        "colab": {}
      },
      "source": [
        "train = pd.read_csv('https://raw.githubusercontent.com/monicafar147/regression-predict-api-template/master/Train.csv', \n",
        "                    parse_dates=['Pickup - Time', 'Placement - Time', 'Confirmation - Time', 'Arrival at Pickup - Time', 'Arrival at Destination - Time'],\n",
        "                    index_col=0)\n",
        "test = pd.read_csv('https://raw.githubusercontent.com/monicafar147/regression-predict-api-template/master/Test.csv',\n",
        "                    parse_dates=['Pickup - Time', 'Placement - Time', 'Confirmation - Time'],\n",
        "                    index_col=0)\n",
        "riders = pd.read_csv('https://raw.githubusercontent.com/monicafar147/regression-predict-api-template/master/Riders.csv', index_col=0)"
      ],
      "execution_count": 0,
      "outputs": []
    },
    {
      "cell_type": "markdown",
      "metadata": {
        "id": "VIYWesxse7lo",
        "colab_type": "text"
      },
      "source": [
        "##EDA"
      ]
    },
    {
      "cell_type": "code",
      "metadata": {
        "id": "rJRNASLtgIat",
        "colab_type": "code",
        "outputId": "35a9ab12-d342-49de-a8c9-18173ea90c4d",
        "colab": {
          "base_uri": "https://localhost:8080/",
          "height": 605
        }
      },
      "source": [
        "train.info()"
      ],
      "execution_count": 30,
      "outputs": [
        {
          "output_type": "stream",
          "text": [
            "<class 'pandas.core.frame.DataFrame'>\n",
            "Index: 21201 entries, Order_No_4211 to Order_No_9836\n",
            "Data columns (total 28 columns):\n",
            " #   Column                                     Non-Null Count  Dtype         \n",
            "---  ------                                     --------------  -----         \n",
            " 0   User Id                                    21201 non-null  object        \n",
            " 1   Vehicle Type                               21201 non-null  object        \n",
            " 2   Platform Type                              21201 non-null  int64         \n",
            " 3   Personal or Business                       21201 non-null  object        \n",
            " 4   Placement - Day of Month                   21201 non-null  int64         \n",
            " 5   Placement - Weekday (Mo = 1)               21201 non-null  int64         \n",
            " 6   Placement - Time                           21201 non-null  datetime64[ns]\n",
            " 7   Confirmation - Day of Month                21201 non-null  int64         \n",
            " 8   Confirmation - Weekday (Mo = 1)            21201 non-null  int64         \n",
            " 9   Confirmation - Time                        21201 non-null  datetime64[ns]\n",
            " 10  Arrival at Pickup - Day of Month           21201 non-null  int64         \n",
            " 11  Arrival at Pickup - Weekday (Mo = 1)       21201 non-null  int64         \n",
            " 12  Arrival at Pickup - Time                   21201 non-null  datetime64[ns]\n",
            " 13  Pickup - Day of Month                      21201 non-null  int64         \n",
            " 14  Pickup - Weekday (Mo = 1)                  21201 non-null  int64         \n",
            " 15  Pickup - Time                              21201 non-null  datetime64[ns]\n",
            " 16  Arrival at Destination - Day of Month      21201 non-null  int64         \n",
            " 17  Arrival at Destination - Weekday (Mo = 1)  21201 non-null  int64         \n",
            " 18  Arrival at Destination - Time              21201 non-null  datetime64[ns]\n",
            " 19  Distance (KM)                              21201 non-null  int64         \n",
            " 20  Temperature                                16835 non-null  float64       \n",
            " 21  Precipitation in millimeters               552 non-null    float64       \n",
            " 22  Pickup Lat                                 21201 non-null  float64       \n",
            " 23  Pickup Long                                21201 non-null  float64       \n",
            " 24  Destination Lat                            21201 non-null  float64       \n",
            " 25  Destination Long                           21201 non-null  float64       \n",
            " 26  Rider Id                                   21201 non-null  object        \n",
            " 27  Time from Pickup to Arrival                21201 non-null  int64         \n",
            "dtypes: datetime64[ns](5), float64(6), int64(13), object(4)\n",
            "memory usage: 4.7+ MB\n"
          ],
          "name": "stdout"
        }
      ]
    },
    {
      "cell_type": "markdown",
      "metadata": {
        "id": "eTIMtAG3hN2t",
        "colab_type": "text"
      },
      "source": [
        "At this stage, we notice that there are missing values from `Temperature` and `Precipitation in millimeters`."
      ]
    },
    {
      "cell_type": "code",
      "metadata": {
        "id": "ZyuV5_2ohydD",
        "colab_type": "code",
        "outputId": "ace14871-51ec-4e0e-97ba-9044328b913a",
        "colab": {
          "base_uri": "https://localhost:8080/",
          "height": 354
        }
      },
      "source": [
        "train.describe()"
      ],
      "execution_count": 31,
      "outputs": [
        {
          "output_type": "execute_result",
          "data": {
            "text/html": [
              "<div>\n",
              "<style scoped>\n",
              "    .dataframe tbody tr th:only-of-type {\n",
              "        vertical-align: middle;\n",
              "    }\n",
              "\n",
              "    .dataframe tbody tr th {\n",
              "        vertical-align: top;\n",
              "    }\n",
              "\n",
              "    .dataframe thead th {\n",
              "        text-align: right;\n",
              "    }\n",
              "</style>\n",
              "<table border=\"1\" class=\"dataframe\">\n",
              "  <thead>\n",
              "    <tr style=\"text-align: right;\">\n",
              "      <th></th>\n",
              "      <th>Platform Type</th>\n",
              "      <th>Placement - Day of Month</th>\n",
              "      <th>Placement - Weekday (Mo = 1)</th>\n",
              "      <th>Confirmation - Day of Month</th>\n",
              "      <th>Confirmation - Weekday (Mo = 1)</th>\n",
              "      <th>Arrival at Pickup - Day of Month</th>\n",
              "      <th>Arrival at Pickup - Weekday (Mo = 1)</th>\n",
              "      <th>Pickup - Day of Month</th>\n",
              "      <th>Pickup - Weekday (Mo = 1)</th>\n",
              "      <th>Arrival at Destination - Day of Month</th>\n",
              "      <th>Arrival at Destination - Weekday (Mo = 1)</th>\n",
              "      <th>Distance (KM)</th>\n",
              "      <th>Temperature</th>\n",
              "      <th>Precipitation in millimeters</th>\n",
              "      <th>Pickup Lat</th>\n",
              "      <th>Pickup Long</th>\n",
              "      <th>Destination Lat</th>\n",
              "      <th>Destination Long</th>\n",
              "      <th>Time from Pickup to Arrival</th>\n",
              "    </tr>\n",
              "  </thead>\n",
              "  <tbody>\n",
              "    <tr>\n",
              "      <th>count</th>\n",
              "      <td>21201.000000</td>\n",
              "      <td>21201.000000</td>\n",
              "      <td>21201.000000</td>\n",
              "      <td>21201.000000</td>\n",
              "      <td>21201.000000</td>\n",
              "      <td>21201.000000</td>\n",
              "      <td>21201.000000</td>\n",
              "      <td>21201.000000</td>\n",
              "      <td>21201.000000</td>\n",
              "      <td>21201.000000</td>\n",
              "      <td>21201.000000</td>\n",
              "      <td>21201.000000</td>\n",
              "      <td>16835.000000</td>\n",
              "      <td>552.000000</td>\n",
              "      <td>21201.000000</td>\n",
              "      <td>21201.000000</td>\n",
              "      <td>21201.000000</td>\n",
              "      <td>21201.000000</td>\n",
              "      <td>21201.000000</td>\n",
              "    </tr>\n",
              "    <tr>\n",
              "      <th>mean</th>\n",
              "      <td>2.752182</td>\n",
              "      <td>15.653696</td>\n",
              "      <td>3.240083</td>\n",
              "      <td>15.653837</td>\n",
              "      <td>3.240225</td>\n",
              "      <td>15.653837</td>\n",
              "      <td>3.240225</td>\n",
              "      <td>15.653837</td>\n",
              "      <td>3.240225</td>\n",
              "      <td>15.653837</td>\n",
              "      <td>3.240225</td>\n",
              "      <td>9.506533</td>\n",
              "      <td>23.258889</td>\n",
              "      <td>7.905797</td>\n",
              "      <td>-1.281470</td>\n",
              "      <td>36.811264</td>\n",
              "      <td>-1.282581</td>\n",
              "      <td>36.811220</td>\n",
              "      <td>1556.920947</td>\n",
              "    </tr>\n",
              "    <tr>\n",
              "      <th>std</th>\n",
              "      <td>0.625178</td>\n",
              "      <td>8.798916</td>\n",
              "      <td>1.567295</td>\n",
              "      <td>8.798886</td>\n",
              "      <td>1.567228</td>\n",
              "      <td>8.798886</td>\n",
              "      <td>1.567228</td>\n",
              "      <td>8.798886</td>\n",
              "      <td>1.567228</td>\n",
              "      <td>8.798886</td>\n",
              "      <td>1.567228</td>\n",
              "      <td>5.668963</td>\n",
              "      <td>3.615768</td>\n",
              "      <td>17.089971</td>\n",
              "      <td>0.030507</td>\n",
              "      <td>0.037473</td>\n",
              "      <td>0.034824</td>\n",
              "      <td>0.044721</td>\n",
              "      <td>987.270788</td>\n",
              "    </tr>\n",
              "    <tr>\n",
              "      <th>min</th>\n",
              "      <td>1.000000</td>\n",
              "      <td>1.000000</td>\n",
              "      <td>1.000000</td>\n",
              "      <td>1.000000</td>\n",
              "      <td>1.000000</td>\n",
              "      <td>1.000000</td>\n",
              "      <td>1.000000</td>\n",
              "      <td>1.000000</td>\n",
              "      <td>1.000000</td>\n",
              "      <td>1.000000</td>\n",
              "      <td>1.000000</td>\n",
              "      <td>1.000000</td>\n",
              "      <td>11.200000</td>\n",
              "      <td>0.100000</td>\n",
              "      <td>-1.438302</td>\n",
              "      <td>36.653621</td>\n",
              "      <td>-1.430298</td>\n",
              "      <td>36.606594</td>\n",
              "      <td>1.000000</td>\n",
              "    </tr>\n",
              "    <tr>\n",
              "      <th>25%</th>\n",
              "      <td>3.000000</td>\n",
              "      <td>8.000000</td>\n",
              "      <td>2.000000</td>\n",
              "      <td>8.000000</td>\n",
              "      <td>2.000000</td>\n",
              "      <td>8.000000</td>\n",
              "      <td>2.000000</td>\n",
              "      <td>8.000000</td>\n",
              "      <td>2.000000</td>\n",
              "      <td>8.000000</td>\n",
              "      <td>2.000000</td>\n",
              "      <td>5.000000</td>\n",
              "      <td>20.600000</td>\n",
              "      <td>1.075000</td>\n",
              "      <td>-1.300921</td>\n",
              "      <td>36.784605</td>\n",
              "      <td>-1.301201</td>\n",
              "      <td>36.785661</td>\n",
              "      <td>882.000000</td>\n",
              "    </tr>\n",
              "    <tr>\n",
              "      <th>50%</th>\n",
              "      <td>3.000000</td>\n",
              "      <td>15.000000</td>\n",
              "      <td>3.000000</td>\n",
              "      <td>15.000000</td>\n",
              "      <td>3.000000</td>\n",
              "      <td>15.000000</td>\n",
              "      <td>3.000000</td>\n",
              "      <td>15.000000</td>\n",
              "      <td>3.000000</td>\n",
              "      <td>15.000000</td>\n",
              "      <td>3.000000</td>\n",
              "      <td>8.000000</td>\n",
              "      <td>23.500000</td>\n",
              "      <td>2.900000</td>\n",
              "      <td>-1.279395</td>\n",
              "      <td>36.807040</td>\n",
              "      <td>-1.284382</td>\n",
              "      <td>36.808002</td>\n",
              "      <td>1369.000000</td>\n",
              "    </tr>\n",
              "    <tr>\n",
              "      <th>75%</th>\n",
              "      <td>3.000000</td>\n",
              "      <td>23.000000</td>\n",
              "      <td>5.000000</td>\n",
              "      <td>23.000000</td>\n",
              "      <td>5.000000</td>\n",
              "      <td>23.000000</td>\n",
              "      <td>5.000000</td>\n",
              "      <td>23.000000</td>\n",
              "      <td>5.000000</td>\n",
              "      <td>23.000000</td>\n",
              "      <td>5.000000</td>\n",
              "      <td>13.000000</td>\n",
              "      <td>26.000000</td>\n",
              "      <td>4.900000</td>\n",
              "      <td>-1.257147</td>\n",
              "      <td>36.829741</td>\n",
              "      <td>-1.261177</td>\n",
              "      <td>36.829477</td>\n",
              "      <td>2040.000000</td>\n",
              "    </tr>\n",
              "    <tr>\n",
              "      <th>max</th>\n",
              "      <td>4.000000</td>\n",
              "      <td>31.000000</td>\n",
              "      <td>7.000000</td>\n",
              "      <td>31.000000</td>\n",
              "      <td>7.000000</td>\n",
              "      <td>31.000000</td>\n",
              "      <td>7.000000</td>\n",
              "      <td>31.000000</td>\n",
              "      <td>7.000000</td>\n",
              "      <td>31.000000</td>\n",
              "      <td>7.000000</td>\n",
              "      <td>49.000000</td>\n",
              "      <td>32.100000</td>\n",
              "      <td>99.100000</td>\n",
              "      <td>-1.147170</td>\n",
              "      <td>36.991046</td>\n",
              "      <td>-1.030225</td>\n",
              "      <td>37.016779</td>\n",
              "      <td>7883.000000</td>\n",
              "    </tr>\n",
              "  </tbody>\n",
              "</table>\n",
              "</div>"
            ],
            "text/plain": [
              "       Platform Type  ...  Time from Pickup to Arrival\n",
              "count   21201.000000  ...                 21201.000000\n",
              "mean        2.752182  ...                  1556.920947\n",
              "std         0.625178  ...                   987.270788\n",
              "min         1.000000  ...                     1.000000\n",
              "25%         3.000000  ...                   882.000000\n",
              "50%         3.000000  ...                  1369.000000\n",
              "75%         3.000000  ...                  2040.000000\n",
              "max         4.000000  ...                  7883.000000\n",
              "\n",
              "[8 rows x 19 columns]"
            ]
          },
          "metadata": {
            "tags": []
          },
          "execution_count": 31
        }
      ]
    },
    {
      "cell_type": "markdown",
      "metadata": {
        "id": "b1ghBMMDh8hv",
        "colab_type": "text"
      },
      "source": [
        "### Distribution of Target Variable"
      ]
    },
    {
      "cell_type": "code",
      "metadata": {
        "id": "wOBefM0hiGl7",
        "colab_type": "code",
        "outputId": "21be785e-cc7c-43d2-d5c2-4b673c9d4315",
        "colab": {
          "base_uri": "https://localhost:8080/",
          "height": 318
        }
      },
      "source": [
        "plt.hist(train['Time from Pickup to Arrival'], bins = 100, edgecolor = 'k')\n",
        "plt.xlabel('Time from pickup to arrival') \n",
        "plt.title('Delivery Time Distribution')"
      ],
      "execution_count": 32,
      "outputs": [
        {
          "output_type": "execute_result",
          "data": {
            "text/plain": [
              "Text(0.5, 1.0, 'Delivery Time Distribution')"
            ]
          },
          "metadata": {
            "tags": []
          },
          "execution_count": 32
        },
        {
          "output_type": "display_data",
          "data": {
            "image/png": "[encoded data removed]",
            "text/plain": [
              "<Figure size 432x288 with 1 Axes>"
            ]
          },
          "metadata": {
            "tags": []
          }
        }
      ]
    },
    {
      "cell_type": "markdown",
      "metadata": {
        "id": "yqgKhGCRiV9U",
        "colab_type": "text"
      },
      "source": [
        "The high distribution of very low values seems suspicious."
      ]
    },
    {
      "cell_type": "code",
      "metadata": {
        "id": "R6K1qkS0ia_A",
        "colab_type": "code",
        "outputId": "063b74e0-daa4-4696-d978-189dba39963b",
        "colab": {
          "base_uri": "https://localhost:8080/",
          "height": 50
        }
      },
      "source": [
        "print('Time from pickup to arrival less than 60s:', len(train[train['Time from Pickup to Arrival'] < 60]))\n",
        "print('Time from pickup to arrival of 1s: ', len(train[train['Time from Pickup to Arrival'] ==1]))"
      ],
      "execution_count": 33,
      "outputs": [
        {
          "output_type": "stream",
          "text": [
            "Time from pickup to arrival less than 60s: 740\n",
            "Time from pickup to arrival of 1s:  37\n"
          ],
          "name": "stdout"
        }
      ]
    },
    {
      "cell_type": "markdown",
      "metadata": {
        "id": "opKXvpsvihXp",
        "colab_type": "text"
      },
      "source": [
        "`Time from pickup to arrival` of less than 60 seconds seems suspicious, especially 1 second. It is possible that riders may have forgotten to confirm the pickup on the app until they dropped off the parcel, resulting in this unrealistic time frame. These rows should be dropped because they will skew the data."
      ]
    },
    {
      "cell_type": "code",
      "metadata": {
        "id": "VJ9NMIG5ioKD",
        "colab_type": "code",
        "outputId": "a14fb52f-2010-4df8-ba29-a8332cb90bd3",
        "colab": {
          "base_uri": "https://localhost:8080/",
          "height": 318
        }
      },
      "source": [
        "# Dropping rows where delivery time is less than 60s\n",
        "orders = train[train['Time from Pickup to Arrival'] > 60]\n",
        "\n",
        "# Plotting the new target variable distribution\n",
        "plt.hist(orders['Time from Pickup to Arrival'], bins = 100, edgecolor = 'k')\n",
        "plt.xlabel('Time from pickup to arrival') \n",
        "plt.title('Delivery Time Distribution')"
      ],
      "execution_count": 34,
      "outputs": [
        {
          "output_type": "execute_result",
          "data": {
            "text/plain": [
              "Text(0.5, 1.0, 'Delivery Time Distribution')"
            ]
          },
          "metadata": {
            "tags": []
          },
          "execution_count": 34
        },
        {
          "output_type": "display_data",
          "data": {
            "image/png": "[encoded data removed]",
            "text/plain": [
              "<Figure size 432x288 with 1 Axes>"
            ]
          },
          "metadata": {
            "tags": []
          }
        }
      ]
    },
    {
      "cell_type": "markdown",
      "metadata": {
        "id": "vCSU2OXfi7jr",
        "colab_type": "text"
      },
      "source": [
        "###Cumulative Distribution Function for Distances and Delivery Times"
      ]
    },
    {
      "cell_type": "code",
      "metadata": {
        "id": "F5dZDU5CjLeb",
        "colab_type": "code",
        "outputId": "fa86df24-88f5-4f25-b20c-a2acca3b1ce7",
        "colab": {
          "base_uri": "https://localhost:8080/",
          "height": 372
        }
      },
      "source": [
        "distances = np.sort(train['Distance (KM)'])\n",
        "distances_ecdf = np.arange(1, len(distances) + 1) / len(distances)\n",
        "delivery_times = np.sort(train['Time from Pickup to Arrival'])\n",
        "delivery_times_ecdf = np.arange(1, len(delivery_times) + 1) / len(delivery_times)\n",
        "\n",
        "fig, (ax1, ax2) = plt.subplots(1,2,figsize=(15,5))\n",
        "ax1.plot(distances, distances_ecdf, marker='.', linestyle='none')\n",
        "ax1.set_xlabel('Distances (KM)')\n",
        "ax1.set_ylabel('Distances ECDF')\n",
        "ax1.set_title('ECDF Plot for Distances')\n",
        "\n",
        "ax2.plot(delivery_times, delivery_times_ecdf, marker='.', linestyle='none')\n",
        "ax2.set_xlabel('Delivery Time (s)')\n",
        "ax2.set_ylabel('Delivery Times ECDF')\n",
        "ax2.set_title('ECDF Plot for Delivery Time')"
      ],
      "execution_count": 35,
      "outputs": [
        {
          "output_type": "execute_result",
          "data": {
            "text/plain": [
              "Text(0.5, 1.0, 'ECDF Plot for Delivery Time')"
            ]
          },
          "metadata": {
            "tags": []
          },
          "execution_count": 35
        },
        {
          "output_type": "display_data",
          "data": {
            "image/png": "[encoded data removed]",
            "text/plain": [
              "<Figure size 1080x360 with 2 Axes>"
            ]
          },
          "metadata": {
            "tags": []
          }
        }
      ]
    },
    {
      "cell_type": "markdown",
      "metadata": {
        "id": "WeufdOffjT7z",
        "colab_type": "text"
      },
      "source": [
        "We can see that 60 and 95 percent of deliveries are within 10KM and 20KM respectively.\n",
        "\n",
        "\n",
        "With the time distributions we see that 60 and 95 percent of the delivery times are within approximately 1500(s) and 3000(s)"
      ]
    },
    {
      "cell_type": "markdown",
      "metadata": {
        "id": "0qnIxpt8jYvb",
        "colab_type": "text"
      },
      "source": [
        "### Exploring Day of Month Columns"
      ]
    },
    {
      "cell_type": "markdown",
      "metadata": {
        "id": "IWnjbCBkjcSj",
        "colab_type": "text"
      },
      "source": [
        "By just eyeing the first few rows of the data, it seems that the order might tend to be picked up on the same day that the order was placed, which makes sense considering this is an express delivery service."
      ]
    },
    {
      "cell_type": "code",
      "metadata": {
        "id": "GnkGoq3-jnmL",
        "colab_type": "code",
        "outputId": "17185e4a-145c-4983-d6de-bed1a7387980",
        "colab": {
          "base_uri": "https://localhost:8080/",
          "height": 118
        }
      },
      "source": [
        "# Creating a column that calculates the difference between when the\n",
        "# order was made and when the order was picked up\n",
        "train['placement_pickup'] = train['Pickup - Day of Month'] - train['Placement - Day of Month']\n",
        "print(train[train['placement_pickup'] > 0])\n",
        "\n",
        "# Dropping the calculated column\n",
        "train.drop(['placement_pickup'], axis=1, inplace=True)"
      ],
      "execution_count": 36,
      "outputs": [
        {
          "output_type": "stream",
          "text": [
            "                    User Id  ... placement_pickup\n",
            "Order No                     ...                 \n",
            "Order_No_2800  User_Id_1402  ...                1\n",
            "Order_No_3530  User_Id_2457  ...                2\n",
            "\n",
            "[2 rows x 29 columns]\n"
          ],
          "name": "stdout"
        }
      ]
    },
    {
      "cell_type": "markdown",
      "metadata": {
        "id": "u_Jp59YSjwKK",
        "colab_type": "text"
      },
      "source": [
        "It seems that there have only been two cases when the order was made and picked up on different days (and the difference was only one or two days). Out of 21201 rows of data, this data seems that it will have minor predictive capabilities.\n",
        "\n",
        "It can therefore be suggested that when training the model, we only include one Day of Week and Day of Month column because including they will have high multicollinearity with each other."
      ]
    },
    {
      "cell_type": "markdown",
      "metadata": {
        "id": "1A-YtFyekB5g",
        "colab_type": "text"
      },
      "source": [
        "### Exploring Distributions on Different Days"
      ]
    },
    {
      "cell_type": "code",
      "metadata": {
        "id": "d-HKuNFekdrb",
        "colab_type": "code",
        "colab": {}
      },
      "source": [
        "# Converting relevant columns into categorical data types\n",
        "train[['Vehicle Type', 'Platform Type', 'Personal or Business']] = train[['Vehicle Type', 'Platform Type', 'Personal or Business']].astype('category')\n",
        "train[['Placement - Day of Month', 'Placement - Weekday (Mo = 1)', 'Confirmation - Day of Month', 'Confirmation - Weekday (Mo = 1)']] = train[['Placement - Day of Month', 'Placement - Weekday (Mo = 1)', 'Confirmation - Day of Month', 'Confirmation - Weekday (Mo = 1)']].astype('category')\n",
        "train[['Arrival at Pickup - Day of Month', 'Arrival at Pickup - Weekday (Mo = 1)', 'Arrival at Destination - Day of Month', 'Arrival at Destination - Weekday (Mo = 1)']] = train[['Arrival at Pickup - Day of Month', 'Arrival at Pickup - Weekday (Mo = 1)', 'Arrival at Destination - Day of Month', 'Arrival at Destination - Weekday (Mo = 1)']].astype('category')"
      ],
      "execution_count": 0,
      "outputs": []
    },
    {
      "cell_type": "code",
      "metadata": {
        "id": "62WC8m-xl3Hl",
        "colab_type": "code",
        "outputId": "130b29a0-1a2f-4afc-bc8c-444daa268fad",
        "colab": {
          "base_uri": "https://localhost:8080/",
          "height": 302
        }
      },
      "source": [
        "sns.boxplot(x='Arrival at Pickup - Weekday (Mo = 1)', y='Time from Pickup to Arrival', data=train)"
      ],
      "execution_count": 38,
      "outputs": [
        {
          "output_type": "execute_result",
          "data": {
            "text/plain": [
              "<matplotlib.axes._subplots.AxesSubplot at 0x7fd9d9e43da0>"
            ]
          },
          "metadata": {
            "tags": []
          },
          "execution_count": 38
        },
        {
          "output_type": "display_data",
          "data": {
            "image/png": "[encoded data removed]",
            "text/plain": [
              "<Figure size 432x288 with 1 Axes>"
            ]
          },
          "metadata": {
            "tags": []
          }
        }
      ]
    },
    {
      "cell_type": "code",
      "metadata": {
        "id": "DfH0nhegl6cL",
        "colab_type": "code",
        "outputId": "b22a0ac9-a686-48b8-cefd-c8515ea17982",
        "colab": {
          "base_uri": "https://localhost:8080/",
          "height": 302
        }
      },
      "source": [
        "sns.boxplot(x='Arrival at Pickup - Day of Month', y='Time from Pickup to Arrival', data=train)"
      ],
      "execution_count": 39,
      "outputs": [
        {
          "output_type": "execute_result",
          "data": {
            "text/plain": [
              "<matplotlib.axes._subplots.AxesSubplot at 0x7fd9da0e1470>"
            ]
          },
          "metadata": {
            "tags": []
          },
          "execution_count": 39
        },
        {
          "output_type": "display_data",
          "data": {
            "image/png": "[encoded data removed]",
            "text/plain": [
              "<Figure size 432x288 with 1 Axes>"
            ]
          },
          "metadata": {
            "tags": []
          }
        }
      ]
    },
    {
      "cell_type": "markdown",
      "metadata": {
        "id": "_7kV-OeWmAEJ",
        "colab_type": "text"
      },
      "source": [
        "These boxplots indicate that there doesn't seem to be a huge difference in travel time between the different days. There are quite a number of outliers in each day's category."
      ]
    },
    {
      "cell_type": "markdown",
      "metadata": {
        "id": "YorbMsq-mOBd",
        "colab_type": "text"
      },
      "source": [
        "### Correlations"
      ]
    },
    {
      "cell_type": "code",
      "metadata": {
        "id": "hCXcG5LPmPNU",
        "colab_type": "code",
        "outputId": "ee847470-46fa-4ff6-f3f8-e7e6a4f0ee1d",
        "colab": {
          "base_uri": "https://localhost:8080/",
          "height": 428
        }
      },
      "source": [
        "train_corr = train.corr()\n",
        "sns.heatmap(train_corr, cmap='coolwarm')"
      ],
      "execution_count": 40,
      "outputs": [
        {
          "output_type": "execute_result",
          "data": {
            "text/plain": [
              "<matplotlib.axes._subplots.AxesSubplot at 0x7fd9da59eb00>"
            ]
          },
          "metadata": {
            "tags": []
          },
          "execution_count": 40
        },
        {
          "output_type": "display_data",
          "data": {
            "image/png": "[encoded data removed]",
            "text/plain": [
              "<Figure size 432x288 with 2 Axes>"
            ]
          },
          "metadata": {
            "tags": []
          }
        }
      ]
    },
    {
      "cell_type": "markdown",
      "metadata": {
        "id": "gcuQdT5Ue9Kn",
        "colab_type": "text"
      },
      "source": [
        "##Data preprocessing\n"
      ]
    },
    {
      "cell_type": "code",
      "metadata": {
        "id": "zNIB9Cn5-Are",
        "colab_type": "code",
        "colab": {}
      },
      "source": [
        "def preprocessing(data):\n",
        "  \"\"\" Takes dataframe as input, drops unnecesarry columns and returns train-test split data\n",
        "  \n",
        "      Args: pandas dataframe\n",
        "\n",
        "      Returns: X_train, y_train, X_test, y_test\n",
        "\n",
        "      Examples:\n",
        "  \n",
        "  \"\"\"\n",
        "\n",
        "  # standardize features\n",
        "\n",
        "  # split the dataset into the response, y, and features, X\n",
        "\n",
        "  # return X_train, y_train, X_test, y_test"
      ],
      "execution_count": 0,
      "outputs": []
    },
    {
      "cell_type": "code",
      "metadata": {
        "id": "nud0fk2xjkn9",
        "colab_type": "code",
        "colab": {}
      },
      "source": [
        "# get X_train, y_train, X_test, y_test \n",
        "preprocessing(train)\n",
        "\n",
        "# plot the training and testing data as scatter plot"
      ],
      "execution_count": 0,
      "outputs": []
    },
    {
      "cell_type": "markdown",
      "metadata": {
        "id": "mg9qS3ySfDkn",
        "colab_type": "text"
      },
      "source": [
        "##Modelling"
      ]
    },
    {
      "cell_type": "markdown",
      "metadata": {
        "id": "oGyaSkmv4aVM",
        "colab_type": "text"
      },
      "source": [
        "### Model type 1"
      ]
    },
    {
      "cell_type": "code",
      "metadata": {
        "id": "G57G1N3Qj8D6",
        "colab_type": "code",
        "colab": {}
      },
      "source": [
        "# declare the model object\n",
        "\n",
        "# fit the model to the training data\n",
        "\n",
        "# get predictions on the test set \n",
        "\n",
        "# calculate performance metrics\n"
      ],
      "execution_count": 0,
      "outputs": []
    },
    {
      "cell_type": "markdown",
      "metadata": {
        "id": "ncQ01u2t5JET",
        "colab_type": "text"
      },
      "source": [
        "### Model type 2"
      ]
    },
    {
      "cell_type": "code",
      "metadata": {
        "id": "mCb6dTp35MgZ",
        "colab_type": "code",
        "colab": {}
      },
      "source": [
        "# declare the model object\n",
        "\n",
        "# fit the model to the training data\n",
        "\n",
        "# get predictions on the test set \n",
        "\n",
        "# calculate performance metrics"
      ],
      "execution_count": 0,
      "outputs": []
    },
    {
      "cell_type": "markdown",
      "metadata": {
        "id": "mseQfLd2fKYP",
        "colab_type": "text"
      },
      "source": [
        "##Performance evaluation"
      ]
    },
    {
      "cell_type": "code",
      "metadata": {
        "id": "200j7ZOdkjNr",
        "colab_type": "code",
        "colab": {}
      },
      "source": [
        "# plot scatter graph of y_test and y_predict for models\n",
        "\n",
        "# choose the best model\n",
        "\n",
        "# saving the model with Pickle\n",
        "\n",
        "# Restoring the model with Pickle"
      ],
      "execution_count": 0,
      "outputs": []
    },
    {
      "cell_type": "markdown",
      "metadata": {
        "id": "i61ZKa1ofNTW",
        "colab_type": "text"
      },
      "source": [
        "## Model analysis"
      ]
    },
    {
      "cell_type": "code",
      "metadata": {
        "id": "m0yQcDec5aM5",
        "colab_type": "code",
        "colab": {}
      },
      "source": [
        "# How can model help Sendy?\n",
        "\n",
        "# How did modelling the traffic help with an accurate model?"
      ],
      "execution_count": 0,
      "outputs": []
    },
    {
      "cell_type": "markdown",
      "metadata": {
        "id": "HN_GsmG1ezzP",
        "colab_type": "text"
      },
      "source": [
        "#Conclusion\n"
      ]
    },
    {
      "cell_type": "markdown",
      "metadata": {
        "id": "hbzV4qNY5q1J",
        "colab_type": "text"
      },
      "source": [
        " Did we answer the problem statement?"
      ]
    },
    {
      "cell_type": "markdown",
      "metadata": {
        "id": "PD7vyqva54pS",
        "colab_type": "text"
      },
      "source": [
        " Did we create a viable equation of value?"
      ]
    },
    {
      "cell_type": "code",
      "metadata": {
        "id": "1Vosn9zG5uY3",
        "colab_type": "code",
        "colab": {}
      },
      "source": [
        ""
      ],
      "execution_count": 0,
      "outputs": []
    }
  ]
}