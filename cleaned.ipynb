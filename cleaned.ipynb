{
  "nbformat": 4,
  "nbformat_minor": 0,
  "metadata": {
    "colab": {
      "name": "cleaned.ipynb",
      "provenance": [],
      "toc_visible": true,
      "authorship_tag": "ABX9TyPjeTKh/Or/W0nM+iSoSkJM",
      "include_colab_link": true
    },
    "kernelspec": {
      "name": "python3",
      "display_name": "Python 3"
    }
  },
  "cells": [
    {
      "cell_type": "markdown",
      "metadata": {
        "id": "view-in-github",
        "colab_type": "text"
      },
      "source": [
        "<a href=\"https://colab.research.google.com/github/monicafar147/regression-predict-api-template/blob/Monica/cleaned.ipynb\" target=\"_parent\"><img src=\"https://colab.research.google.com/assets/colab-badge.svg\" alt=\"Open In Colab\"/></a>"
      ]
    },
    {
      "cell_type": "markdown",
      "metadata": {
        "id": "nWrgVJcnevjM",
        "colab_type": "text"
      },
      "source": [
        "#Introduction"
      ]
    },
    {
      "cell_type": "markdown",
      "metadata": {
        "id": "pKkIjAmkjB7U",
        "colab_type": "text"
      },
      "source": [
        "\n",
        "The aim of this notebook is to predict the estimated time of delivery of orders, from the point of driver pickup to the point of arrival at final destination from a logistics company, Sendy, based in Nairobi.\n",
        "\n",
        "Sendy can improve their reliability and enhance their customer communication by providing an estimated time of delivery of orders through regression techniques used to model the delivery process.\n",
        "\n",
        "Sendy is headquartered in Kenya and the data provided is based in Nairobi. The training dataset provided is a subset of over 21201 orders and only includes direct orders (i.e. Sendy “express” orders) with bikes in Nairobi."
      ]
    },
    {
      "cell_type": "markdown",
      "metadata": {
        "id": "HRjsG44ceykQ",
        "colab_type": "text"
      },
      "source": [
        "#Body"
      ]
    },
    {
      "cell_type": "markdown",
      "metadata": {
        "id": "-vjcALQEftgG",
        "colab_type": "text"
      },
      "source": [
        "## Imports"
      ]
    },
    {
      "cell_type": "markdown",
      "metadata": {
        "id": "Fi_QJmmef9o-",
        "colab_type": "text"
      },
      "source": [
        "###Importing the libraries"
      ]
    },
    {
      "cell_type": "code",
      "metadata": {
        "id": "chd7SprufyXe",
        "colab_type": "code",
        "colab": {}
      },
      "source": [
        "import numpy as np\n",
        "import matplotlib.pyplot as plt\n",
        "import pandas as pd\n",
        "import seaborn as sns\n",
        "%matplotlib inline\n",
        "import math\n",
        "from sklearn import metrics\n",
        "from sklearn.model_selection import train_test_split\n",
        "\n",
        "# Scaling\n",
        "from sklearn.preprocessing import StandardScaler\n",
        "\n",
        "# Machine learning models\n",
        "from sklearn.linear_model import LinearRegression\n",
        "from sklearn.tree import DecisionTreeRegressor\n",
        "from sklearn.ensemble import RandomForestRegressor\n",
        "from sklearn.linear_model import Lasso\n",
        "\n",
        "# Saving model with pickle\n",
        "import pickle\n",
        "\n",
        "sns.set(palette='pastel')"
      ],
      "execution_count": 0,
      "outputs": []
    },
    {
      "cell_type": "markdown",
      "metadata": {
        "id": "q3WIrvPggBSu",
        "colab_type": "text"
      },
      "source": [
        "### Importing the data"
      ]
    },
    {
      "cell_type": "code",
      "metadata": {
        "id": "YzNzJRnShi9n",
        "colab_type": "code",
        "colab": {}
      },
      "source": [
        "train = pd.read_csv('https://raw.githubusercontent.com/monicafar147/regression-predict-api-template/master/utils/data/train_data.csv', index_col=0)\n",
        "test = pd.read_csv('https://raw.githubusercontent.com/monicafar147/regression-predict-api-template/master/utils/data/test_data.csv', index_col=0)\n",
        "riders = pd.read_csv('https://raw.githubusercontent.com/monicafar147/regression-predict-api-template/master/utils/data/riders.csv', index_col=0)"
      ],
      "execution_count": 0,
      "outputs": []
    },
    {
      "cell_type": "markdown",
      "metadata": {
        "id": "VIYWesxse7lo",
        "colab_type": "text"
      },
      "source": [
        "##EDA"
      ]
    },
    {
      "cell_type": "markdown",
      "metadata": {
        "id": "gcuQdT5Ue9Kn",
        "colab_type": "text"
      },
      "source": [
        "##Data preprocessing\n"
      ]
    },
    {
      "cell_type": "code",
      "metadata": {
        "id": "zNIB9Cn5-Are",
        "colab_type": "code",
        "colab": {}
      },
      "source": [
        "def preprocessing(data):\n",
        "  \"\"\" Takes dataframe as input, drops unnecesarry columns and returns train-test split data\n",
        "  \n",
        "      Args: pandas dataframe\n",
        "\n",
        "      Returns: X_train, y_train, X_test, y_test\n",
        "\n",
        "      Examples:\n",
        "  \n",
        "  \"\"\"\n",
        "\n",
        "  # standardize features\n",
        "\n",
        "  # split the dataset into the response, y, and features, X\n",
        "\n",
        "  # return X_train, y_train, X_test, y_test"
      ],
      "execution_count": 0,
      "outputs": []
    },
    {
      "cell_type": "code",
      "metadata": {
        "id": "nud0fk2xjkn9",
        "colab_type": "code",
        "colab": {}
      },
      "source": [
        "# get X_train, y_train, X_test, y_test \n",
        "preprocessing(train)\n",
        "\n",
        "# plot the training and testing data as scatter plot"
      ],
      "execution_count": 0,
      "outputs": []
    },
    {
      "cell_type": "markdown",
      "metadata": {
        "id": "mg9qS3ySfDkn",
        "colab_type": "text"
      },
      "source": [
        "##Modelling"
      ]
    },
    {
      "cell_type": "markdown",
      "metadata": {
        "id": "oGyaSkmv4aVM",
        "colab_type": "text"
      },
      "source": [
        "### Model type 1"
      ]
    },
    {
      "cell_type": "code",
      "metadata": {
        "id": "G57G1N3Qj8D6",
        "colab_type": "code",
        "colab": {}
      },
      "source": [
        "# declare the model object\n",
        "\n",
        "# fit the model to the training data\n",
        "\n",
        "# get predictions on the test set \n",
        "\n",
        "# calculate performance metrics\n"
      ],
      "execution_count": 0,
      "outputs": []
    },
    {
      "cell_type": "markdown",
      "metadata": {
        "id": "ncQ01u2t5JET",
        "colab_type": "text"
      },
      "source": [
        "### Model type 2"
      ]
    },
    {
      "cell_type": "code",
      "metadata": {
        "id": "mCb6dTp35MgZ",
        "colab_type": "code",
        "colab": {}
      },
      "source": [
        "# declare the model object\n",
        "\n",
        "# fit the model to the training data\n",
        "\n",
        "# get predictions on the test set \n",
        "\n",
        "# calculate performance metrics"
      ],
      "execution_count": 0,
      "outputs": []
    },
    {
      "cell_type": "markdown",
      "metadata": {
        "id": "mseQfLd2fKYP",
        "colab_type": "text"
      },
      "source": [
        "##Performance evaluation"
      ]
    },
    {
      "cell_type": "code",
      "metadata": {
        "id": "200j7ZOdkjNr",
        "colab_type": "code",
        "colab": {}
      },
      "source": [
        "# plot scatter graph of y_test and y_predict for models\n",
        "\n",
        "# choose the best model\n",
        "\n",
        "# saving the model with Pickle\n",
        "\n",
        "# Restoring the model with Pickle"
      ],
      "execution_count": 0,
      "outputs": []
    },
    {
      "cell_type": "markdown",
      "metadata": {
        "id": "i61ZKa1ofNTW",
        "colab_type": "text"
      },
      "source": [
        "## Model analysis"
      ]
    },
    {
      "cell_type": "code",
      "metadata": {
        "id": "m0yQcDec5aM5",
        "colab_type": "code",
        "colab": {}
      },
      "source": [
        "# How can model help Sendy?\n",
        "\n",
        "# How did modelling the traffic help with an accurate model?"
      ],
      "execution_count": 0,
      "outputs": []
    },
    {
      "cell_type": "markdown",
      "metadata": {
        "id": "HN_GsmG1ezzP",
        "colab_type": "text"
      },
      "source": [
        "#Conclusion\n"
      ]
    },
    {
      "cell_type": "markdown",
      "metadata": {
        "id": "hbzV4qNY5q1J",
        "colab_type": "text"
      },
      "source": [
        " Did we answer the problem statement?"
      ]
    },
    {
      "cell_type": "markdown",
      "metadata": {
        "id": "PD7vyqva54pS",
        "colab_type": "text"
      },
      "source": [
        " Did we create a viable equation of value?"
      ]
    },
    {
      "cell_type": "code",
      "metadata": {
        "id": "1Vosn9zG5uY3",
        "colab_type": "code",
        "colab": {}
      },
      "source": [
        ""
      ],
      "execution_count": 0,
      "outputs": []
    }
  ]
}