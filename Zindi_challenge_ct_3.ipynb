{
  "nbformat": 4,
  "nbformat_minor": 0,
  "metadata": {
    "colab": {
      "name": "Zindi_challenge_ct_3.ipynb",
      "provenance": [],
      "toc_visible": true,
      "include_colab_link": true
    },
    "kernelspec": {
      "name": "python3",
      "display_name": "Python 3"
    }
  },
  "cells": [
    {
      "cell_type": "markdown",
      "metadata": {
        "id": "view-in-github",
        "colab_type": "text"
      },
      "source": [
        "<a href=\"https://colab.research.google.com/github/monicafar147/regression-predict-api-template/blob/Monica/Zindi_challenge_ct_3.ipynb\" target=\"_parent\"><img src=\"https://colab.research.google.com/assets/colab-badge.svg\" alt=\"Open In Colab\"/></a>"
      ]
    },
    {
      "cell_type": "markdown",
      "metadata": {
        "id": "hAX8gu_4wbFC",
        "colab_type": "text"
      },
      "source": [
        "*   make sure you are working in your own branch that you cloned from git\n",
        "*   to commit your notebook changes to git:\n",
        "1.   file\n",
        "2.   save a copy in github\n",
        "3.   choose your branch from branches dropdown\n",
        "4.   change commit message to what you did e.g. \"fixed dataframe indexes\"\n",
<<<<<<< HEAD
        "5.   click ok\n",
        "\n",
        "\n",
        "\n"
=======
        "5.   click ok\n"
>>>>>>> 8d414cf868b300358964f7cf0f882e3450b68f67
      ]
    },
    {
      "cell_type": "markdown",
      "metadata": {
        "id": "Vze6gxh233Cv",
        "colab_type": "text"
      },
      "source": [
<<<<<<< HEAD
        "#Data Preprocessing"
=======
        "#Data Preprocessing Tools"
>>>>>>> 8d414cf868b300358964f7cf0f882e3450b68f67
      ]
    },
    {
      "cell_type": "markdown",
      "metadata": {
        "id": "dxxnvNRI38PD",
        "colab_type": "text"
      },
      "source": [
        "##Importing the libraries"
      ]
    },
    {
      "cell_type": "code",
      "metadata": {
        "id": "NtX8B5SK33nU",
        "colab_type": "code",
<<<<<<< HEAD
        "colab": {
          "base_uri": "https://localhost:8080/",
          "height": 50
        },
        "outputId": "a8574676-5cd5-4415-f6b5-a3a15b0765d7"
=======
        "colab": {}
>>>>>>> 8d414cf868b300358964f7cf0f882e3450b68f67
      },
      "source": [
        "import numpy as np\n",
        "import matplotlib.pyplot as plt\n",
<<<<<<< HEAD
        "import pandas as pd\n",
        "import seaborn as sns"
      ],
      "execution_count": 1,
      "outputs": [
        {
          "output_type": "stream",
          "text": [
            "/usr/local/lib/python3.6/dist-packages/statsmodels/tools/_testing.py:19: FutureWarning: pandas.util.testing is deprecated. Use the functions in the public API at pandas.testing instead.\n",
            "  import pandas.util.testing as tm\n"
          ],
          "name": "stderr"
        }
      ]
=======
        "import pandas as pd"
      ],
      "execution_count": 0,
      "outputs": []
>>>>>>> 8d414cf868b300358964f7cf0f882e3450b68f67
    },
    {
      "cell_type": "markdown",
      "metadata": {
        "id": "i6eGTd244Ggo",
        "colab_type": "text"
      },
      "source": [
        "##Importing the dataset"
      ]
    },
    {
      "cell_type": "code",
      "metadata": {
        "id": "M5RO7FhQ39gi",
        "colab_type": "code",
        "colab": {}
      },
      "source": [
<<<<<<< HEAD
        "df_train = pd.read_csv('Train.csv')\n",
        "df_riders = pd.read_csv('Riders.csv')"
=======
        "dataset = pd.read_csv('Train.csv')\n",
        "riders = pd.read_csv('Riders.csv')"
>>>>>>> 8d414cf868b300358964f7cf0f882e3450b68f67
      ],
      "execution_count": 0,
      "outputs": []
    },
    {
      "cell_type": "code",
      "metadata": {
<<<<<<< HEAD
        "id": "qRpvCE-D2G6S",
        "colab_type": "code",
        "outputId": "793adf42-d79b-402d-860c-141d8d983098",
        "colab": {
          "base_uri": "https://localhost:8080/",
          "height": 390
        }
      },
      "source": [
        "df_train.head()"
      ],
      "execution_count": 3,
      "outputs": [
        {
          "output_type": "execute_result",
          "data": {
            "text/html": [
              "<div>\n",
              "<style scoped>\n",
              "    .dataframe tbody tr th:only-of-type {\n",
              "        vertical-align: middle;\n",
              "    }\n",
              "\n",
              "    .dataframe tbody tr th {\n",
              "        vertical-align: top;\n",
              "    }\n",
              "\n",
              "    .dataframe thead th {\n",
              "        text-align: right;\n",
              "    }\n",
              "</style>\n",
              "<table border=\"1\" class=\"dataframe\">\n",
              "  <thead>\n",
              "    <tr style=\"text-align: right;\">\n",
              "      <th></th>\n",
              "      <th>Order No</th>\n",
              "      <th>User Id</th>\n",
              "      <th>Vehicle Type</th>\n",
              "      <th>Platform Type</th>\n",
              "      <th>Personal or Business</th>\n",
              "      <th>Placement - Day of Month</th>\n",
              "      <th>Placement - Weekday (Mo = 1)</th>\n",
              "      <th>Placement - Time</th>\n",
              "      <th>Confirmation - Day of Month</th>\n",
              "      <th>Confirmation - Weekday (Mo = 1)</th>\n",
              "      <th>Confirmation - Time</th>\n",
              "      <th>Arrival at Pickup - Day of Month</th>\n",
              "      <th>Arrival at Pickup - Weekday (Mo = 1)</th>\n",
              "      <th>Arrival at Pickup - Time</th>\n",
              "      <th>Pickup - Day of Month</th>\n",
              "      <th>Pickup - Weekday (Mo = 1)</th>\n",
              "      <th>Pickup - Time</th>\n",
              "      <th>Arrival at Destination - Day of Month</th>\n",
              "      <th>Arrival at Destination - Weekday (Mo = 1)</th>\n",
              "      <th>Arrival at Destination - Time</th>\n",
              "      <th>Distance (KM)</th>\n",
              "      <th>Temperature</th>\n",
              "      <th>Precipitation in millimeters</th>\n",
              "      <th>Pickup Lat</th>\n",
              "      <th>Pickup Long</th>\n",
              "      <th>Destination Lat</th>\n",
              "      <th>Destination Long</th>\n",
              "      <th>Rider Id</th>\n",
              "      <th>Time from Pickup to Arrival</th>\n",
              "    </tr>\n",
              "  </thead>\n",
              "  <tbody>\n",
              "    <tr>\n",
              "      <th>0</th>\n",
              "      <td>Order_No_4211</td>\n",
              "      <td>User_Id_633</td>\n",
              "      <td>Bike</td>\n",
              "      <td>3</td>\n",
              "      <td>Business</td>\n",
              "      <td>9</td>\n",
              "      <td>5</td>\n",
              "      <td>9:35:46 AM</td>\n",
              "      <td>9</td>\n",
              "      <td>5</td>\n",
              "      <td>9:40:10 AM</td>\n",
              "      <td>9</td>\n",
              "      <td>5</td>\n",
              "      <td>10:04:47 AM</td>\n",
              "      <td>9</td>\n",
              "      <td>5</td>\n",
              "      <td>10:27:30 AM</td>\n",
              "      <td>9</td>\n",
              "      <td>5</td>\n",
              "      <td>10:39:55 AM</td>\n",
              "      <td>4</td>\n",
              "      <td>20.4</td>\n",
              "      <td>NaN</td>\n",
              "      <td>-1.317755</td>\n",
              "      <td>36.830370</td>\n",
              "      <td>-1.300406</td>\n",
              "      <td>36.829741</td>\n",
              "      <td>Rider_Id_432</td>\n",
              "      <td>745</td>\n",
              "    </tr>\n",
              "    <tr>\n",
              "      <th>1</th>\n",
              "      <td>Order_No_25375</td>\n",
              "      <td>User_Id_2285</td>\n",
              "      <td>Bike</td>\n",
              "      <td>3</td>\n",
              "      <td>Personal</td>\n",
              "      <td>12</td>\n",
              "      <td>5</td>\n",
              "      <td>11:16:16 AM</td>\n",
              "      <td>12</td>\n",
              "      <td>5</td>\n",
              "      <td>11:23:21 AM</td>\n",
              "      <td>12</td>\n",
              "      <td>5</td>\n",
              "      <td>11:40:22 AM</td>\n",
              "      <td>12</td>\n",
              "      <td>5</td>\n",
              "      <td>11:44:09 AM</td>\n",
              "      <td>12</td>\n",
              "      <td>5</td>\n",
              "      <td>12:17:22 PM</td>\n",
              "      <td>16</td>\n",
              "      <td>26.4</td>\n",
              "      <td>NaN</td>\n",
              "      <td>-1.351453</td>\n",
              "      <td>36.899315</td>\n",
              "      <td>-1.295004</td>\n",
              "      <td>36.814358</td>\n",
              "      <td>Rider_Id_856</td>\n",
              "      <td>1993</td>\n",
              "    </tr>\n",
              "    <tr>\n",
              "      <th>2</th>\n",
              "      <td>Order_No_1899</td>\n",
              "      <td>User_Id_265</td>\n",
              "      <td>Bike</td>\n",
              "      <td>3</td>\n",
              "      <td>Business</td>\n",
              "      <td>30</td>\n",
              "      <td>2</td>\n",
              "      <td>12:39:25 PM</td>\n",
              "      <td>30</td>\n",
              "      <td>2</td>\n",
              "      <td>12:42:44 PM</td>\n",
              "      <td>30</td>\n",
              "      <td>2</td>\n",
              "      <td>12:49:34 PM</td>\n",
              "      <td>30</td>\n",
              "      <td>2</td>\n",
              "      <td>12:53:03 PM</td>\n",
              "      <td>30</td>\n",
              "      <td>2</td>\n",
              "      <td>1:00:38 PM</td>\n",
              "      <td>3</td>\n",
              "      <td>NaN</td>\n",
              "      <td>NaN</td>\n",
              "      <td>-1.308284</td>\n",
              "      <td>36.843419</td>\n",
              "      <td>-1.300921</td>\n",
              "      <td>36.828195</td>\n",
              "      <td>Rider_Id_155</td>\n",
              "      <td>455</td>\n",
              "    </tr>\n",
              "    <tr>\n",
              "      <th>3</th>\n",
              "      <td>Order_No_9336</td>\n",
              "      <td>User_Id_1402</td>\n",
              "      <td>Bike</td>\n",
              "      <td>3</td>\n",
              "      <td>Business</td>\n",
              "      <td>15</td>\n",
              "      <td>5</td>\n",
              "      <td>9:25:34 AM</td>\n",
              "      <td>15</td>\n",
              "      <td>5</td>\n",
              "      <td>9:26:05 AM</td>\n",
              "      <td>15</td>\n",
              "      <td>5</td>\n",
              "      <td>9:37:56 AM</td>\n",
              "      <td>15</td>\n",
              "      <td>5</td>\n",
              "      <td>9:43:06 AM</td>\n",
              "      <td>15</td>\n",
              "      <td>5</td>\n",
              "      <td>10:05:27 AM</td>\n",
              "      <td>9</td>\n",
              "      <td>19.2</td>\n",
              "      <td>NaN</td>\n",
              "      <td>-1.281301</td>\n",
              "      <td>36.832396</td>\n",
              "      <td>-1.257147</td>\n",
              "      <td>36.795063</td>\n",
              "      <td>Rider_Id_855</td>\n",
              "      <td>1341</td>\n",
              "    </tr>\n",
              "    <tr>\n",
              "      <th>4</th>\n",
              "      <td>Order_No_27883</td>\n",
              "      <td>User_Id_1737</td>\n",
              "      <td>Bike</td>\n",
              "      <td>1</td>\n",
              "      <td>Personal</td>\n",
              "      <td>13</td>\n",
              "      <td>1</td>\n",
              "      <td>9:55:18 AM</td>\n",
              "      <td>13</td>\n",
              "      <td>1</td>\n",
              "      <td>9:56:18 AM</td>\n",
              "      <td>13</td>\n",
              "      <td>1</td>\n",
              "      <td>10:03:53 AM</td>\n",
              "      <td>13</td>\n",
              "      <td>1</td>\n",
              "      <td>10:05:23 AM</td>\n",
              "      <td>13</td>\n",
              "      <td>1</td>\n",
              "      <td>10:25:37 AM</td>\n",
              "      <td>9</td>\n",
              "      <td>15.4</td>\n",
              "      <td>NaN</td>\n",
              "      <td>-1.266597</td>\n",
              "      <td>36.792118</td>\n",
              "      <td>-1.295041</td>\n",
              "      <td>36.809817</td>\n",
              "      <td>Rider_Id_770</td>\n",
              "      <td>1214</td>\n",
              "    </tr>\n",
              "  </tbody>\n",
              "</table>\n",
              "</div>"
            ],
            "text/plain": [
              "         Order No       User Id  ...      Rider Id  Time from Pickup to Arrival\n",
              "0   Order_No_4211   User_Id_633  ...  Rider_Id_432                          745\n",
              "1  Order_No_25375  User_Id_2285  ...  Rider_Id_856                         1993\n",
              "2   Order_No_1899   User_Id_265  ...  Rider_Id_155                          455\n",
              "3   Order_No_9336  User_Id_1402  ...  Rider_Id_855                         1341\n",
              "4  Order_No_27883  User_Id_1737  ...  Rider_Id_770                         1214\n",
              "\n",
              "[5 rows x 29 columns]"
            ]
          },
          "metadata": {
            "tags": []
          },
          "execution_count": 3
        }
      ]
=======
        "id": "CYJJ4MDO4S-E",
        "colab_type": "code",
        "colab": {}
      },
      "source": [
        "dataset = dataset.iloc[0:100,]"
      ],
      "execution_count": 0,
      "outputs": []
>>>>>>> 8d414cf868b300358964f7cf0f882e3450b68f67
    },
    {
      "cell_type": "code",
      "metadata": {
<<<<<<< HEAD
        "id": "S3wbr7pV2JXZ",
        "colab_type": "code",
        "outputId": "bf047753-2836-4c86-a4bc-aa2a1bc0ab09",
=======
        "id": "2zQjV2sG4z_U",
        "colab_type": "code",
        "outputId": "852211fb-37be-47db-e0bc-6c36b475a176",
>>>>>>> 8d414cf868b300358964f7cf0f882e3450b68f67
        "colab": {
          "base_uri": "https://localhost:8080/",
          "height": 191
        }
      },
      "source": [
<<<<<<< HEAD
        "df_riders.head()"
      ],
      "execution_count": 4,
=======
        "riders.head()"
      ],
      "execution_count": 17,
>>>>>>> 8d414cf868b300358964f7cf0f882e3450b68f67
      "outputs": [
        {
          "output_type": "execute_result",
          "data": {
            "text/html": [
              "<div>\n",
              "<style scoped>\n",
              "    .dataframe tbody tr th:only-of-type {\n",
              "        vertical-align: middle;\n",
              "    }\n",
              "\n",
              "    .dataframe tbody tr th {\n",
              "        vertical-align: top;\n",
              "    }\n",
              "\n",
              "    .dataframe thead th {\n",
              "        text-align: right;\n",
              "    }\n",
              "</style>\n",
              "<table border=\"1\" class=\"dataframe\">\n",
              "  <thead>\n",
              "    <tr style=\"text-align: right;\">\n",
              "      <th></th>\n",
              "      <th>Rider Id</th>\n",
              "      <th>No_Of_Orders</th>\n",
              "      <th>Age</th>\n",
              "      <th>Average_Rating</th>\n",
              "      <th>No_of_Ratings</th>\n",
              "    </tr>\n",
              "  </thead>\n",
              "  <tbody>\n",
              "    <tr>\n",
              "      <th>0</th>\n",
              "      <td>Rider_Id_396</td>\n",
              "      <td>2946</td>\n",
              "      <td>2298</td>\n",
              "      <td>14.0</td>\n",
              "      <td>1159</td>\n",
              "    </tr>\n",
              "    <tr>\n",
              "      <th>1</th>\n",
              "      <td>Rider_Id_479</td>\n",
              "      <td>360</td>\n",
              "      <td>951</td>\n",
              "      <td>13.5</td>\n",
              "      <td>176</td>\n",
              "    </tr>\n",
              "    <tr>\n",
              "      <th>2</th>\n",
              "      <td>Rider_Id_648</td>\n",
              "      <td>1746</td>\n",
              "      <td>821</td>\n",
              "      <td>14.3</td>\n",
              "      <td>466</td>\n",
              "    </tr>\n",
              "    <tr>\n",
              "      <th>3</th>\n",
              "      <td>Rider_Id_753</td>\n",
              "      <td>314</td>\n",
              "      <td>980</td>\n",
              "      <td>12.5</td>\n",
              "      <td>75</td>\n",
              "    </tr>\n",
              "    <tr>\n",
              "      <th>4</th>\n",
              "      <td>Rider_Id_335</td>\n",
              "      <td>536</td>\n",
              "      <td>1113</td>\n",
              "      <td>13.7</td>\n",
              "      <td>156</td>\n",
              "    </tr>\n",
              "  </tbody>\n",
              "</table>\n",
              "</div>"
            ],
            "text/plain": [
              "       Rider Id  No_Of_Orders   Age  Average_Rating  No_of_Ratings\n",
              "0  Rider_Id_396          2946  2298            14.0           1159\n",
              "1  Rider_Id_479           360   951            13.5            176\n",
              "2  Rider_Id_648          1746   821            14.3            466\n",
              "3  Rider_Id_753           314   980            12.5             75\n",
              "4  Rider_Id_335           536  1113            13.7            156"
            ]
          },
          "metadata": {
            "tags": []
          },
<<<<<<< HEAD
          "execution_count": 4
=======
          "execution_count": 17
>>>>>>> 8d414cf868b300358964f7cf0f882e3450b68f67
        }
      ]
    },
    {
      "cell_type": "markdown",
      "metadata": {
<<<<<<< HEAD
        "id": "1HZBOnEw2cxj",
        "colab_type": "text"
      },
      "source": [
        "## Summary statistics"
      ]
    },
    {
      "cell_type": "code",
      "metadata": {
        "id": "CHkrlWLs2eir",
        "colab_type": "code",
        "outputId": "65fe3396-ca14-4846-f290-6e6f3bd53540",
        "colab": {
          "base_uri": "https://localhost:8080/",
          "height": 602
        }
      },
      "source": [
        "df_train.info()"
      ],
      "execution_count": 5,
      "outputs": [
        {
          "output_type": "stream",
          "text": [
            "<class 'pandas.core.frame.DataFrame'>\n",
            "RangeIndex: 21201 entries, 0 to 21200\n",
            "Data columns (total 29 columns):\n",
            " #   Column                                     Non-Null Count  Dtype  \n",
            "---  ------                                     --------------  -----  \n",
            " 0   Order No                                   21201 non-null  object \n",
            " 1   User Id                                    21201 non-null  object \n",
            " 2   Vehicle Type                               21201 non-null  object \n",
            " 3   Platform Type                              21201 non-null  int64  \n",
            " 4   Personal or Business                       21201 non-null  object \n",
            " 5   Placement - Day of Month                   21201 non-null  int64  \n",
            " 6   Placement - Weekday (Mo = 1)               21201 non-null  int64  \n",
            " 7   Placement - Time                           21201 non-null  object \n",
            " 8   Confirmation - Day of Month                21201 non-null  int64  \n",
            " 9   Confirmation - Weekday (Mo = 1)            21201 non-null  int64  \n",
            " 10  Confirmation - Time                        21201 non-null  object \n",
            " 11  Arrival at Pickup - Day of Month           21201 non-null  int64  \n",
            " 12  Arrival at Pickup - Weekday (Mo = 1)       21201 non-null  int64  \n",
            " 13  Arrival at Pickup - Time                   21201 non-null  object \n",
            " 14  Pickup - Day of Month                      21201 non-null  int64  \n",
            " 15  Pickup - Weekday (Mo = 1)                  21201 non-null  int64  \n",
            " 16  Pickup - Time                              21201 non-null  object \n",
            " 17  Arrival at Destination - Day of Month      21201 non-null  int64  \n",
            " 18  Arrival at Destination - Weekday (Mo = 1)  21201 non-null  int64  \n",
            " 19  Arrival at Destination - Time              21201 non-null  object \n",
            " 20  Distance (KM)                              21201 non-null  int64  \n",
            " 21  Temperature                                16835 non-null  float64\n",
            " 22  Precipitation in millimeters               552 non-null    float64\n",
            " 23  Pickup Lat                                 21201 non-null  float64\n",
            " 24  Pickup Long                                21201 non-null  float64\n",
            " 25  Destination Lat                            21201 non-null  float64\n",
            " 26  Destination Long                           21201 non-null  float64\n",
            " 27  Rider Id                                   21201 non-null  object \n",
            " 28  Time from Pickup to Arrival                21201 non-null  int64  \n",
            "dtypes: float64(6), int64(13), object(10)\n",
            "memory usage: 4.7+ MB\n"
          ],
          "name": "stdout"
        }
      ]
    },
    {
      "cell_type": "markdown",
      "metadata": {
        "id": "gCQLLstg2hQ3",
        "colab_type": "text"
      },
      "source": [
        "At this stage, we notice that there are missing values from `Temperature` and `Precipitation in millimeters`. We also need to convert all the columns that contain time information from objects to a datetime format."
=======
        "id": "n72VrYwi473c",
        "colab_type": "text"
      },
      "source": [
        "## Taking care of missing data"
>>>>>>> 8d414cf868b300358964f7cf0f882e3450b68f67
      ]
    },
    {
      "cell_type": "code",
      "metadata": {
<<<<<<< HEAD
        "id": "bGgxYTdC8egv",
        "colab_type": "code",
        "colab": {
          "base_uri": "https://localhost:8080/",
          "height": 212
        },
        "outputId": "6ef4e299-eb32-4f4f-9815-d1360b03a4f3"
      },
      "source": [
        "df_riders.info()"
      ],
      "execution_count": 6,
      "outputs": [
        {
          "output_type": "stream",
          "text": [
            "<class 'pandas.core.frame.DataFrame'>\n",
            "RangeIndex: 960 entries, 0 to 959\n",
            "Data columns (total 5 columns):\n",
            " #   Column          Non-Null Count  Dtype  \n",
            "---  ------          --------------  -----  \n",
            " 0   Rider Id        960 non-null    object \n",
            " 1   No_Of_Orders    960 non-null    int64  \n",
            " 2   Age             960 non-null    int64  \n",
            " 3   Average_Rating  960 non-null    float64\n",
            " 4   No_of_Ratings   960 non-null    int64  \n",
            "dtypes: float64(1), int64(3), object(1)\n",
            "memory usage: 37.6+ KB\n"
          ],
          "name": "stdout"
        }
      ]
=======
        "id": "0UbsDWc95zbS",
        "colab_type": "code",
        "colab": {}
      },
      "source": [
        ""
      ],
      "execution_count": 0,
      "outputs": []
>>>>>>> 8d414cf868b300358964f7cf0f882e3450b68f67
    },
    {
      "cell_type": "markdown",
      "metadata": {
<<<<<<< HEAD
        "id": "C2q8PEpX8zYV",
        "colab_type": "text"
      },
      "source": [
        "It can be seen that there are no missing data in the riders data."
=======
        "id": "hlwyQau55HEc",
        "colab_type": "text"
      },
      "source": [
        "## Encoding categorical data"
>>>>>>> 8d414cf868b300358964f7cf0f882e3450b68f67
      ]
    },
    {
      "cell_type": "markdown",
      "metadata": {
<<<<<<< HEAD
        "id": "n72VrYwi473c",
        "colab_type": "text"
      },
      "source": [
        "## Taking care of missing data\n",
        "\n",
        "As described above, there are null-values present in the `Temperature` and `Precipitation in millimeters` columns.\n",
        "\n",
        "We would be able to fill the missing `Temperature` values with values from the same dates where measurements were taken, but we don't know the actual date of each measurement. The easiest option would be to fill the missing values with the average of the column, but we should find a better way of doing this.\n",
        "\n",
        "We are assuming that if `Precipitation in millimeters` is missing, that it was not raining on that day. We can therefore fill null values with 0."
=======
        "id": "8OHbdcBe5L-C",
        "colab_type": "text"
      },
      "source": [
        "### Encoding the Independent Variable"
>>>>>>> 8d414cf868b300358964f7cf0f882e3450b68f67
      ]
    },
    {
      "cell_type": "code",
      "metadata": {
<<<<<<< HEAD
        "id": "0UbsDWc95zbS",
=======
        "id": "MAnOMJHk50La",
>>>>>>> 8d414cf868b300358964f7cf0f882e3450b68f67
        "colab_type": "code",
        "colab": {}
      },
      "source": [
<<<<<<< HEAD
        "# Fill missing precipitation values with 0\n",
        "df_train['Precipitation in millimeters'] = df_train['Precipitation in millimeters'].fillna(value=0)\n",
        "\n",
        "# Fill missing temperature values with averages\n",
        "df_train['Temperature'] = df_train['Temperature'].fillna(df_train['Temperature'].mean())"
=======
        ""
>>>>>>> 8d414cf868b300358964f7cf0f882e3450b68f67
      ],
      "execution_count": 0,
      "outputs": []
    },
    {
      "cell_type": "markdown",
      "metadata": {
<<<<<<< HEAD
        "id": "s7TPQK3z2xym",
        "colab_type": "text"
      },
      "source": [
        "## Fixing data types\n",
        "\n",
        "The various columns that represent a time of day need to be converted to a datetime format."
=======
        "id": "IC-69z4v5QvB",
        "colab_type": "text"
      },
      "source": [
        "### Encoding the Dependent Variable"
>>>>>>> 8d414cf868b300358964f7cf0f882e3450b68f67
      ]
    },
    {
      "cell_type": "code",
      "metadata": {
<<<<<<< HEAD
        "id": "vuAYZ_PB2zv6",
=======
        "id": "qbc0l4Qe5RHi",
>>>>>>> 8d414cf868b300358964f7cf0f882e3450b68f67
        "colab_type": "code",
        "colab": {}
      },
      "source": [
<<<<<<< HEAD
        "df_train['Placement - Time'] = pd.to_datetime(df_train['Placement - Time']).dt.time\n",
        "df_train['Confirmation - Time'] = pd.to_datetime(df_train['Confirmation - Time']).dt.time\n",
        "df_train['Arrival at Pickup - Time'] = pd.to_datetime(df_train['Arrival at Pickup - Time']).dt.time\n",
        "df_train['Pickup - Time'] = pd.to_datetime(df_train['Pickup - Time']).dt.time\n",
        "df_train['Arrival at Destination - Time'] = pd.to_datetime(df_train['Arrival at Destination - Time']).dt.time"
=======
        ""
>>>>>>> 8d414cf868b300358964f7cf0f882e3450b68f67
      ],
      "execution_count": 0,
      "outputs": []
    },
    {
      "cell_type": "markdown",
      "metadata": {
<<<<<<< HEAD
        "id": "e-bWAn5E217B",
        "colab_type": "text"
      },
      "source": [
        "## Dropping columns"
=======
        "id": "DHPwgpxi501C",
        "colab_type": "text"
      },
      "source": [
        "## Feature Scaling"
>>>>>>> 8d414cf868b300358964f7cf0f882e3450b68f67
      ]
    },
    {
      "cell_type": "code",
      "metadata": {
<<<<<<< HEAD
        "id": "d9SYEU3L23Ov",
        "colab_type": "code",
        "outputId": "819e431d-d76c-4349-a33e-80b87f728a20",
        "colab": {
          "base_uri": "https://localhost:8080/",
          "height": 33
        }
      },
      "source": [
        "df_train['Vehicle Type'].unique()"
      ],
      "execution_count": 9,
      "outputs": [
        {
          "output_type": "execute_result",
          "data": {
            "text/plain": [
              "array(['Bike'], dtype=object)"
            ]
          },
          "metadata": {
            "tags": []
          },
          "execution_count": 9
        }
      ]
=======
        "id": "lDBUez3l5-ww",
        "colab_type": "code",
        "colab": {}
      },
      "source": [
        ""
      ],
      "execution_count": 0,
      "outputs": []
>>>>>>> 8d414cf868b300358964f7cf0f882e3450b68f67
    },
    {
      "cell_type": "markdown",
      "metadata": {
<<<<<<< HEAD
        "id": "6fq3xt9S24uR",
        "colab_type": "text"
      },
      "source": [
        "The `Vehicle Type` column only contains one value - Bike. This is redundant info, therefore we can drop this column."
=======
        "id": "1Mn-OeUT6AsJ",
        "colab_type": "text"
      },
      "source": [
        "#Dunyiswa"
>>>>>>> 8d414cf868b300358964f7cf0f882e3450b68f67
      ]
    },
    {
      "cell_type": "code",
      "metadata": {
<<<<<<< HEAD
        "id": "mgdeRC7R26LZ",
=======
        "id": "hm0C3pvN6DXE",
>>>>>>> 8d414cf868b300358964f7cf0f882e3450b68f67
        "colab_type": "code",
        "colab": {}
      },
      "source": [
<<<<<<< HEAD
        "df_train.drop(['Vehicle Type'], axis=1, inplace = True)"
=======
        ""
>>>>>>> 8d414cf868b300358964f7cf0f882e3450b68f67
      ],
      "execution_count": 0,
      "outputs": []
    },
    {
      "cell_type": "markdown",
      "metadata": {
<<<<<<< HEAD
        "id": "0Cb1Ffvz3BsJ",
        "colab_type": "text"
      },
      "source": [
        "## Merge Train.csv with Riders.csv"
      ]
    },
    {
      "cell_type": "code",
      "metadata": {
        "id": "1aZA7Sp73E36",
        "colab_type": "code",
        "outputId": "2cf46e6b-3e95-4d0e-ad20-debb8e9621bc",
        "colab": {
          "base_uri": "https://localhost:8080/",
          "height": 308
        }
      },
      "source": [
        "merged_df = df_train.merge(df_riders, on='Rider Id')\n",
        "merged_df.head()"
      ],
      "execution_count": 11,
      "outputs": [
        {
          "output_type": "execute_result",
          "data": {
            "text/html": [
              "<div>\n",
              "<style scoped>\n",
              "    .dataframe tbody tr th:only-of-type {\n",
              "        vertical-align: middle;\n",
              "    }\n",
              "\n",
              "    .dataframe tbody tr th {\n",
              "        vertical-align: top;\n",
              "    }\n",
              "\n",
              "    .dataframe thead th {\n",
              "        text-align: right;\n",
              "    }\n",
              "</style>\n",
              "<table border=\"1\" class=\"dataframe\">\n",
              "  <thead>\n",
              "    <tr style=\"text-align: right;\">\n",
              "      <th></th>\n",
              "      <th>Order No</th>\n",
              "      <th>User Id</th>\n",
              "      <th>Platform Type</th>\n",
              "      <th>Personal or Business</th>\n",
              "      <th>Placement - Day of Month</th>\n",
              "      <th>Placement - Weekday (Mo = 1)</th>\n",
              "      <th>Placement - Time</th>\n",
              "      <th>Confirmation - Day of Month</th>\n",
              "      <th>Confirmation - Weekday (Mo = 1)</th>\n",
              "      <th>Confirmation - Time</th>\n",
              "      <th>Arrival at Pickup - Day of Month</th>\n",
              "      <th>Arrival at Pickup - Weekday (Mo = 1)</th>\n",
              "      <th>Arrival at Pickup - Time</th>\n",
              "      <th>Pickup - Day of Month</th>\n",
              "      <th>Pickup - Weekday (Mo = 1)</th>\n",
              "      <th>Pickup - Time</th>\n",
              "      <th>Arrival at Destination - Day of Month</th>\n",
              "      <th>Arrival at Destination - Weekday (Mo = 1)</th>\n",
              "      <th>Arrival at Destination - Time</th>\n",
              "      <th>Distance (KM)</th>\n",
              "      <th>Temperature</th>\n",
              "      <th>Precipitation in millimeters</th>\n",
              "      <th>Pickup Lat</th>\n",
              "      <th>Pickup Long</th>\n",
              "      <th>Destination Lat</th>\n",
              "      <th>Destination Long</th>\n",
              "      <th>Rider Id</th>\n",
              "      <th>Time from Pickup to Arrival</th>\n",
              "      <th>No_Of_Orders</th>\n",
              "      <th>Age</th>\n",
              "      <th>Average_Rating</th>\n",
              "      <th>No_of_Ratings</th>\n",
              "    </tr>\n",
              "  </thead>\n",
              "  <tbody>\n",
              "    <tr>\n",
              "      <th>0</th>\n",
              "      <td>Order_No_4211</td>\n",
              "      <td>User_Id_633</td>\n",
              "      <td>3</td>\n",
              "      <td>Business</td>\n",
              "      <td>9</td>\n",
              "      <td>5</td>\n",
              "      <td>09:35:46</td>\n",
              "      <td>9</td>\n",
              "      <td>5</td>\n",
              "      <td>09:40:10</td>\n",
              "      <td>9</td>\n",
              "      <td>5</td>\n",
              "      <td>10:04:47</td>\n",
              "      <td>9</td>\n",
              "      <td>5</td>\n",
              "      <td>10:27:30</td>\n",
              "      <td>9</td>\n",
              "      <td>5</td>\n",
              "      <td>10:39:55</td>\n",
              "      <td>4</td>\n",
              "      <td>20.4</td>\n",
              "      <td>0.0</td>\n",
              "      <td>-1.317755</td>\n",
              "      <td>36.830370</td>\n",
              "      <td>-1.300406</td>\n",
              "      <td>36.829741</td>\n",
              "      <td>Rider_Id_432</td>\n",
              "      <td>745</td>\n",
              "      <td>1637</td>\n",
              "      <td>1309</td>\n",
              "      <td>13.8</td>\n",
              "      <td>549</td>\n",
              "    </tr>\n",
              "    <tr>\n",
              "      <th>1</th>\n",
              "      <td>Order_No_27440</td>\n",
              "      <td>User_Id_2642</td>\n",
              "      <td>3</td>\n",
              "      <td>Personal</td>\n",
              "      <td>18</td>\n",
              "      <td>5</td>\n",
              "      <td>15:41:17</td>\n",
              "      <td>18</td>\n",
              "      <td>5</td>\n",
              "      <td>15:41:30</td>\n",
              "      <td>18</td>\n",
              "      <td>5</td>\n",
              "      <td>16:07:16</td>\n",
              "      <td>18</td>\n",
              "      <td>5</td>\n",
              "      <td>16:13:37</td>\n",
              "      <td>18</td>\n",
              "      <td>5</td>\n",
              "      <td>17:01:43</td>\n",
              "      <td>20</td>\n",
              "      <td>24.5</td>\n",
              "      <td>0.0</td>\n",
              "      <td>-1.326774</td>\n",
              "      <td>36.787807</td>\n",
              "      <td>-1.356237</td>\n",
              "      <td>36.904295</td>\n",
              "      <td>Rider_Id_432</td>\n",
              "      <td>2886</td>\n",
              "      <td>1637</td>\n",
              "      <td>1309</td>\n",
              "      <td>13.8</td>\n",
              "      <td>549</td>\n",
              "    </tr>\n",
              "    <tr>\n",
              "      <th>2</th>\n",
              "      <td>Order_No_14170</td>\n",
              "      <td>User_Id_3339</td>\n",
              "      <td>3</td>\n",
              "      <td>Business</td>\n",
              "      <td>31</td>\n",
              "      <td>5</td>\n",
              "      <td>12:51:41</td>\n",
              "      <td>31</td>\n",
              "      <td>5</td>\n",
              "      <td>13:12:49</td>\n",
              "      <td>31</td>\n",
              "      <td>5</td>\n",
              "      <td>13:20:02</td>\n",
              "      <td>31</td>\n",
              "      <td>5</td>\n",
              "      <td>13:33:08</td>\n",
              "      <td>31</td>\n",
              "      <td>5</td>\n",
              "      <td>14:16:43</td>\n",
              "      <td>6</td>\n",
              "      <td>24.7</td>\n",
              "      <td>0.0</td>\n",
              "      <td>-1.255189</td>\n",
              "      <td>36.782203</td>\n",
              "      <td>-1.273412</td>\n",
              "      <td>36.818206</td>\n",
              "      <td>Rider_Id_432</td>\n",
              "      <td>2615</td>\n",
              "      <td>1637</td>\n",
              "      <td>1309</td>\n",
              "      <td>13.8</td>\n",
              "      <td>549</td>\n",
              "    </tr>\n",
              "    <tr>\n",
              "      <th>3</th>\n",
              "      <td>Order_No_21727</td>\n",
              "      <td>User_Id_3523</td>\n",
              "      <td>3</td>\n",
              "      <td>Personal</td>\n",
              "      <td>2</td>\n",
              "      <td>2</td>\n",
              "      <td>07:12:10</td>\n",
              "      <td>2</td>\n",
              "      <td>2</td>\n",
              "      <td>07:12:29</td>\n",
              "      <td>2</td>\n",
              "      <td>2</td>\n",
              "      <td>07:35:24</td>\n",
              "      <td>2</td>\n",
              "      <td>2</td>\n",
              "      <td>07:38:46</td>\n",
              "      <td>2</td>\n",
              "      <td>2</td>\n",
              "      <td>08:28:32</td>\n",
              "      <td>18</td>\n",
              "      <td>15.2</td>\n",
              "      <td>0.0</td>\n",
              "      <td>-1.290315</td>\n",
              "      <td>36.757377</td>\n",
              "      <td>-1.223520</td>\n",
              "      <td>36.802061</td>\n",
              "      <td>Rider_Id_432</td>\n",
              "      <td>2986</td>\n",
              "      <td>1637</td>\n",
              "      <td>1309</td>\n",
              "      <td>13.8</td>\n",
              "      <td>549</td>\n",
              "    </tr>\n",
              "    <tr>\n",
              "      <th>4</th>\n",
              "      <td>Order_No_8301</td>\n",
              "      <td>User_Id_87</td>\n",
              "      <td>2</td>\n",
              "      <td>Personal</td>\n",
              "      <td>22</td>\n",
              "      <td>2</td>\n",
              "      <td>10:40:58</td>\n",
              "      <td>22</td>\n",
              "      <td>2</td>\n",
              "      <td>10:42:24</td>\n",
              "      <td>22</td>\n",
              "      <td>2</td>\n",
              "      <td>10:56:00</td>\n",
              "      <td>22</td>\n",
              "      <td>2</td>\n",
              "      <td>10:59:40</td>\n",
              "      <td>22</td>\n",
              "      <td>2</td>\n",
              "      <td>11:26:22</td>\n",
              "      <td>7</td>\n",
              "      <td>19.2</td>\n",
              "      <td>0.0</td>\n",
              "      <td>-1.273524</td>\n",
              "      <td>36.799220</td>\n",
              "      <td>-1.300431</td>\n",
              "      <td>36.752427</td>\n",
              "      <td>Rider_Id_432</td>\n",
              "      <td>1602</td>\n",
              "      <td>1637</td>\n",
              "      <td>1309</td>\n",
              "      <td>13.8</td>\n",
              "      <td>549</td>\n",
              "    </tr>\n",
              "  </tbody>\n",
              "</table>\n",
              "</div>"
            ],
            "text/plain": [
              "         Order No       User Id  ...  Average_Rating No_of_Ratings\n",
              "0   Order_No_4211   User_Id_633  ...            13.8           549\n",
              "1  Order_No_27440  User_Id_2642  ...            13.8           549\n",
              "2  Order_No_14170  User_Id_3339  ...            13.8           549\n",
              "3  Order_No_21727  User_Id_3523  ...            13.8           549\n",
              "4   Order_No_8301    User_Id_87  ...            13.8           549\n",
              "\n",
              "[5 rows x 32 columns]"
            ]
          },
          "metadata": {
            "tags": []
          },
          "execution_count": 11
        }
=======
        "id": "WVlU2Csr6Hsy",
        "colab_type": "text"
      },
      "source": [
        "#Monica"
      ]
    },
    {
      "cell_type": "markdown",
      "metadata": {
        "id": "0Qf0xOC8zzLa",
        "colab_type": "text"
      },
      "source": [
        "### Create a subset of data with only the time taken and rider id and distance"
>>>>>>> 8d414cf868b300358964f7cf0f882e3450b68f67
      ]
    },
    {
      "cell_type": "code",
      "metadata": {
        "id": "S4A6FkA36Io_",
        "colab_type": "code",
        "colab": {
          "base_uri": "https://localhost:8080/",
<<<<<<< HEAD
          "height": 227
        },
        "outputId": "9a7bf3b4-e666-45c6-e98a-be3f61f22376"
      },
      "source": [
        "#replace strings with underscore notation for PEP8 standards\n",
        "merged_df.columns = [col.replace(\" \",\"_\") for col in merged_df.columns]\n",
        "merged_df.head()"
      ],
      "execution_count": 12,
=======
          "height": 191
        },
        "outputId": "b2936ba7-9d1d-4ccb-8ac4-e572582a99f8"
      },
      "source": [
        "subset = dataset[['Order No', 'Distance (KM)', 'Rider Id', 'Time from Pickup to Arrival']]\n",
        "dataset['Rider Id'] = dataset['Rider Id'].str.slice(start=9)\n",
        "subset.head()"
      ],
      "execution_count": 34,
>>>>>>> 8d414cf868b300358964f7cf0f882e3450b68f67
      "outputs": [
        {
          "output_type": "execute_result",
          "data": {
            "text/html": [
              "<div>\n",
              "<style scoped>\n",
              "    .dataframe tbody tr th:only-of-type {\n",
              "        vertical-align: middle;\n",
              "    }\n",
              "\n",
              "    .dataframe tbody tr th {\n",
              "        vertical-align: top;\n",
              "    }\n",
              "\n",
              "    .dataframe thead th {\n",
              "        text-align: right;\n",
              "    }\n",
              "</style>\n",
              "<table border=\"1\" class=\"dataframe\">\n",
              "  <thead>\n",
              "    <tr style=\"text-align: right;\">\n",
              "      <th></th>\n",
<<<<<<< HEAD
              "      <th>Order_No</th>\n",
              "      <th>User_Id</th>\n",
              "      <th>Platform_Type</th>\n",
              "      <th>Personal_or_Business</th>\n",
              "      <th>Placement_-_Day_of_Month</th>\n",
              "      <th>Placement_-_Weekday_(Mo_=_1)</th>\n",
              "      <th>Placement_-_Time</th>\n",
              "      <th>Confirmation_-_Day_of_Month</th>\n",
              "      <th>Confirmation_-_Weekday_(Mo_=_1)</th>\n",
              "      <th>Confirmation_-_Time</th>\n",
              "      <th>Arrival_at_Pickup_-_Day_of_Month</th>\n",
              "      <th>Arrival_at_Pickup_-_Weekday_(Mo_=_1)</th>\n",
              "      <th>Arrival_at_Pickup_-_Time</th>\n",
              "      <th>Pickup_-_Day_of_Month</th>\n",
              "      <th>Pickup_-_Weekday_(Mo_=_1)</th>\n",
              "      <th>Pickup_-_Time</th>\n",
              "      <th>Arrival_at_Destination_-_Day_of_Month</th>\n",
              "      <th>Arrival_at_Destination_-_Weekday_(Mo_=_1)</th>\n",
              "      <th>Arrival_at_Destination_-_Time</th>\n",
              "      <th>Distance_(KM)</th>\n",
              "      <th>Temperature</th>\n",
              "      <th>Precipitation_in_millimeters</th>\n",
              "      <th>Pickup_Lat</th>\n",
              "      <th>Pickup_Long</th>\n",
              "      <th>Destination_Lat</th>\n",
              "      <th>Destination_Long</th>\n",
              "      <th>Rider_Id</th>\n",
              "      <th>Time_from_Pickup_to_Arrival</th>\n",
              "      <th>No_Of_Orders</th>\n",
              "      <th>Age</th>\n",
              "      <th>Average_Rating</th>\n",
              "      <th>No_of_Ratings</th>\n",
=======
              "      <th>Order No</th>\n",
              "      <th>Distance (KM)</th>\n",
              "      <th>Rider Id</th>\n",
              "      <th>Time from Pickup to Arrival</th>\n",
>>>>>>> 8d414cf868b300358964f7cf0f882e3450b68f67
              "    </tr>\n",
              "  </thead>\n",
              "  <tbody>\n",
              "    <tr>\n",
              "      <th>0</th>\n",
              "      <td>Order_No_4211</td>\n",
<<<<<<< HEAD
              "      <td>User_Id_633</td>\n",
              "      <td>3</td>\n",
              "      <td>Business</td>\n",
              "      <td>9</td>\n",
              "      <td>5</td>\n",
              "      <td>09:35:46</td>\n",
              "      <td>9</td>\n",
              "      <td>5</td>\n",
              "      <td>09:40:10</td>\n",
              "      <td>9</td>\n",
              "      <td>5</td>\n",
              "      <td>10:04:47</td>\n",
              "      <td>9</td>\n",
              "      <td>5</td>\n",
              "      <td>10:27:30</td>\n",
              "      <td>9</td>\n",
              "      <td>5</td>\n",
              "      <td>10:39:55</td>\n",
              "      <td>4</td>\n",
              "      <td>20.4</td>\n",
              "      <td>0.0</td>\n",
              "      <td>-1.317755</td>\n",
              "      <td>36.830370</td>\n",
              "      <td>-1.300406</td>\n",
              "      <td>36.829741</td>\n",
              "      <td>Rider_Id_432</td>\n",
              "      <td>745</td>\n",
              "      <td>1637</td>\n",
              "      <td>1309</td>\n",
              "      <td>13.8</td>\n",
              "      <td>549</td>\n",
              "    </tr>\n",
              "    <tr>\n",
              "      <th>1</th>\n",
              "      <td>Order_No_27440</td>\n",
              "      <td>User_Id_2642</td>\n",
              "      <td>3</td>\n",
              "      <td>Personal</td>\n",
              "      <td>18</td>\n",
              "      <td>5</td>\n",
              "      <td>15:41:17</td>\n",
              "      <td>18</td>\n",
              "      <td>5</td>\n",
              "      <td>15:41:30</td>\n",
              "      <td>18</td>\n",
              "      <td>5</td>\n",
              "      <td>16:07:16</td>\n",
              "      <td>18</td>\n",
              "      <td>5</td>\n",
              "      <td>16:13:37</td>\n",
              "      <td>18</td>\n",
              "      <td>5</td>\n",
              "      <td>17:01:43</td>\n",
              "      <td>20</td>\n",
              "      <td>24.5</td>\n",
              "      <td>0.0</td>\n",
              "      <td>-1.326774</td>\n",
              "      <td>36.787807</td>\n",
              "      <td>-1.356237</td>\n",
              "      <td>36.904295</td>\n",
              "      <td>Rider_Id_432</td>\n",
              "      <td>2886</td>\n",
              "      <td>1637</td>\n",
              "      <td>1309</td>\n",
              "      <td>13.8</td>\n",
              "      <td>549</td>\n",
              "    </tr>\n",
              "    <tr>\n",
              "      <th>2</th>\n",
              "      <td>Order_No_14170</td>\n",
              "      <td>User_Id_3339</td>\n",
              "      <td>3</td>\n",
              "      <td>Business</td>\n",
              "      <td>31</td>\n",
              "      <td>5</td>\n",
              "      <td>12:51:41</td>\n",
              "      <td>31</td>\n",
              "      <td>5</td>\n",
              "      <td>13:12:49</td>\n",
              "      <td>31</td>\n",
              "      <td>5</td>\n",
              "      <td>13:20:02</td>\n",
              "      <td>31</td>\n",
              "      <td>5</td>\n",
              "      <td>13:33:08</td>\n",
              "      <td>31</td>\n",
              "      <td>5</td>\n",
              "      <td>14:16:43</td>\n",
              "      <td>6</td>\n",
              "      <td>24.7</td>\n",
              "      <td>0.0</td>\n",
              "      <td>-1.255189</td>\n",
              "      <td>36.782203</td>\n",
              "      <td>-1.273412</td>\n",
              "      <td>36.818206</td>\n",
              "      <td>Rider_Id_432</td>\n",
              "      <td>2615</td>\n",
              "      <td>1637</td>\n",
              "      <td>1309</td>\n",
              "      <td>13.8</td>\n",
              "      <td>549</td>\n",
              "    </tr>\n",
              "    <tr>\n",
              "      <th>3</th>\n",
              "      <td>Order_No_21727</td>\n",
              "      <td>User_Id_3523</td>\n",
              "      <td>3</td>\n",
              "      <td>Personal</td>\n",
              "      <td>2</td>\n",
              "      <td>2</td>\n",
              "      <td>07:12:10</td>\n",
              "      <td>2</td>\n",
              "      <td>2</td>\n",
              "      <td>07:12:29</td>\n",
              "      <td>2</td>\n",
              "      <td>2</td>\n",
              "      <td>07:35:24</td>\n",
              "      <td>2</td>\n",
              "      <td>2</td>\n",
              "      <td>07:38:46</td>\n",
              "      <td>2</td>\n",
              "      <td>2</td>\n",
              "      <td>08:28:32</td>\n",
              "      <td>18</td>\n",
              "      <td>15.2</td>\n",
              "      <td>0.0</td>\n",
              "      <td>-1.290315</td>\n",
              "      <td>36.757377</td>\n",
              "      <td>-1.223520</td>\n",
              "      <td>36.802061</td>\n",
              "      <td>Rider_Id_432</td>\n",
              "      <td>2986</td>\n",
              "      <td>1637</td>\n",
              "      <td>1309</td>\n",
              "      <td>13.8</td>\n",
              "      <td>549</td>\n",
              "    </tr>\n",
              "    <tr>\n",
              "      <th>4</th>\n",
              "      <td>Order_No_8301</td>\n",
              "      <td>User_Id_87</td>\n",
              "      <td>2</td>\n",
              "      <td>Personal</td>\n",
              "      <td>22</td>\n",
              "      <td>2</td>\n",
              "      <td>10:40:58</td>\n",
              "      <td>22</td>\n",
              "      <td>2</td>\n",
              "      <td>10:42:24</td>\n",
              "      <td>22</td>\n",
              "      <td>2</td>\n",
              "      <td>10:56:00</td>\n",
              "      <td>22</td>\n",
              "      <td>2</td>\n",
              "      <td>10:59:40</td>\n",
              "      <td>22</td>\n",
              "      <td>2</td>\n",
              "      <td>11:26:22</td>\n",
              "      <td>7</td>\n",
              "      <td>19.2</td>\n",
              "      <td>0.0</td>\n",
              "      <td>-1.273524</td>\n",
              "      <td>36.799220</td>\n",
              "      <td>-1.300431</td>\n",
              "      <td>36.752427</td>\n",
              "      <td>Rider_Id_432</td>\n",
              "      <td>1602</td>\n",
              "      <td>1637</td>\n",
              "      <td>1309</td>\n",
              "      <td>13.8</td>\n",
              "      <td>549</td>\n",
=======
              "      <td>4</td>\n",
              "      <td>432</td>\n",
              "      <td>745</td>\n",
              "    </tr>\n",
              "    <tr>\n",
              "      <th>1</th>\n",
              "      <td>Order_No_25375</td>\n",
              "      <td>16</td>\n",
              "      <td>856</td>\n",
              "      <td>1993</td>\n",
              "    </tr>\n",
              "    <tr>\n",
              "      <th>2</th>\n",
              "      <td>Order_No_1899</td>\n",
              "      <td>3</td>\n",
              "      <td>155</td>\n",
              "      <td>455</td>\n",
              "    </tr>\n",
              "    <tr>\n",
              "      <th>3</th>\n",
              "      <td>Order_No_9336</td>\n",
              "      <td>9</td>\n",
              "      <td>855</td>\n",
              "      <td>1341</td>\n",
              "    </tr>\n",
              "    <tr>\n",
              "      <th>4</th>\n",
              "      <td>Order_No_27883</td>\n",
              "      <td>9</td>\n",
              "      <td>770</td>\n",
              "      <td>1214</td>\n",
>>>>>>> 8d414cf868b300358964f7cf0f882e3450b68f67
              "    </tr>\n",
              "  </tbody>\n",
              "</table>\n",
              "</div>"
            ],
            "text/plain": [
<<<<<<< HEAD
              "         Order_No       User_Id  ...  Average_Rating No_of_Ratings\n",
              "0   Order_No_4211   User_Id_633  ...            13.8           549\n",
              "1  Order_No_27440  User_Id_2642  ...            13.8           549\n",
              "2  Order_No_14170  User_Id_3339  ...            13.8           549\n",
              "3  Order_No_21727  User_Id_3523  ...            13.8           549\n",
              "4   Order_No_8301    User_Id_87  ...            13.8           549\n",
              "\n",
              "[5 rows x 32 columns]"
=======
              "         Order No  Distance (KM) Rider Id  Time from Pickup to Arrival\n",
              "0   Order_No_4211              4      432                          745\n",
              "1  Order_No_25375             16      856                         1993\n",
              "2   Order_No_1899              3      155                          455\n",
              "3   Order_No_9336              9      855                         1341\n",
              "4  Order_No_27883              9      770                         1214"
>>>>>>> 8d414cf868b300358964f7cf0f882e3450b68f67
            ]
          },
          "metadata": {
            "tags": []
          },
<<<<<<< HEAD
          "execution_count": 12
=======
          "execution_count": 34
>>>>>>> 8d414cf868b300358964f7cf0f882e3450b68f67
        }
      ]
    },
    {
<<<<<<< HEAD
      "cell_type": "code",
      "metadata": {
        "id": "iZEk_mLJMva-",
        "colab_type": "code",
        "colab": {}
      },
      "source": [
        "# reorder columns so that y is the last column\n",
        "column_titles = [col for col in merged_df.columns if col!= 'Time_from_Pickup_to_Arrival'] + ['Time_from_Pickup_to_Arrival']\n",
        "merged_df  = merged_df.reindex(columns=column_titles)\n",
        "\n",
        "# Set independent and dependent variables\n",
        "X = merged_df.iloc[:, :-1]\n",
        "y = merged_df.iloc[:, -1]"
      ],
      "execution_count": 0,
      "outputs": []
    },
    {
      "cell_type": "markdown",
      "metadata": {
        "id": "hlwyQau55HEc",
        "colab_type": "text"
      },
      "source": [
        "## Encoding categorical data"
      ]
    },
    {
      "cell_type": "markdown",
      "metadata": {
        "id": "8OHbdcBe5L-C",
        "colab_type": "text"
      },
      "source": [
        "### Encoding the Independent Variable"
      ]
    },
    {
      "cell_type": "markdown",
      "metadata": {
        "id": "qkOJb634E-iR",
        "colab_type": "text"
      },
      "source": [
        "####Encoding using One Hot Encoding\n"
=======
      "cell_type": "markdown",
      "metadata": {
        "id": "LwQBQPBK12bA",
        "colab_type": "text"
      },
      "source": [
        "### Plot some of the variable against time"
>>>>>>> 8d414cf868b300358964f7cf0f882e3450b68f67
      ]
    },
    {
      "cell_type": "code",
      "metadata": {
<<<<<<< HEAD
        "id": "uMtqrqctNqTM",
        "colab_type": "code",
        "colab": {}
      },
      "source": [
        "encoded_X = pd.get_dummies(X)\n",
        "encoded_X.head()"
      ],
      "execution_count": 0,
      "outputs": []
    },
    {
      "cell_type": "markdown",
      "metadata": {
        "id": "IC-69z4v5QvB",
        "colab_type": "text"
      },
      "source": [
        "### Encoding the Dependent Variable"
      ]
    },
    {
      "cell_type": "markdown",
      "metadata": {
        "id": "Fl-NTpap9yig",
        "colab_type": "text"
      },
      "source": [
        "The dependent variable is the time in seconds between 'Pickup' and 'Arrival at Destination'.\n",
        "\n",
        "The data does not need to be encoded."
      ]
    },
    {
      "cell_type": "markdown",
      "metadata": {
        "id": "DHPwgpxi501C",
        "colab_type": "text"
      },
      "source": [
        "## Feature Scaling"
      ]
    },
    {
      "cell_type": "markdown",
      "metadata": {
        "id": "PR1PuTcaOyLZ",
        "colab_type": "text"
      },
      "source": [
        "The spread of the dependent variable before scaling."
      ]
    },
    {
      "cell_type": "code",
      "metadata": {
        "id": "CqirOFWyBEGD",
        "colab_type": "code",
        "colab": {
          "base_uri": "https://localhost:8080/",
          "height": 296
        },
        "outputId": "2313ded1-116e-40f8-d91d-3390b4298e80"
      },
      "source": [
        "sns.boxplot(y)"
      ],
      "execution_count": 18,
      "outputs": [
        {
          "output_type": "execute_result",
          "data": {
            "text/plain": [
              "<matplotlib.axes._subplots.AxesSubplot at 0x7f0d6a1320b8>"
=======
        "id": "hfM-WPyQ118Y",
        "colab_type": "code",
        "colab": {
          "base_uri": "https://localhost:8080/",
          "height": 573
        },
        "outputId": "ab9acaff-f44c-49b8-f45a-fcd67c758148"
      },
      "source": [
        "plt.figure()\n",
        "subset.plot(kind='scatter',x='Distance (KM)',y='Time from Pickup to Arrival',color='red')\n",
        "plt.figure()\n",
        "subset.plot(kind='scatter',x='Rider Id',y='Time from Pickup to Arrival',color='blue')\n",
        "plt.show()"
      ],
      "execution_count": 36,
      "outputs": [
        {
          "output_type": "display_data",
          "data": {
            "text/plain": [
              "<Figure size 432x288 with 0 Axes>"
>>>>>>> 8d414cf868b300358964f7cf0f882e3450b68f67
            ]
          },
          "metadata": {
            "tags": []
<<<<<<< HEAD
          },
          "execution_count": 18
=======
          }
>>>>>>> 8d414cf868b300358964f7cf0f882e3450b68f67
        },
        {
          "output_type": "display_data",
          "data": {
<<<<<<< HEAD
            "image/png": "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\n",
=======
            "image/png": "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\n",
>>>>>>> 8d414cf868b300358964f7cf0f882e3450b68f67
            "text/plain": [
              "<Figure size 432x288 with 1 Axes>"
            ]
          },
          "metadata": {
            "tags": [],
            "needs_background": "light"
          }
<<<<<<< HEAD
        }
      ]
    },
    {
      "cell_type": "code",
      "metadata": {
        "id": "lDBUez3l5-ww",
        "colab_type": "code",
        "colab": {
          "base_uri": "https://localhost:8080/",
          "height": 255
        },
        "outputId": "1d677933-056e-40ac-a4c2-5175224af179"
      },
      "source": [
        "encoded_X.head()"
      ],
      "execution_count": 25,
      "outputs": [
        {
          "output_type": "execute_result",
          "data": {
            "text/html": [
              "<div>\n",
              "<style scoped>\n",
              "    .dataframe tbody tr th:only-of-type {\n",
              "        vertical-align: middle;\n",
              "    }\n",
              "\n",
              "    .dataframe tbody tr th {\n",
              "        vertical-align: top;\n",
              "    }\n",
              "\n",
              "    .dataframe thead th {\n",
              "        text-align: right;\n",
              "    }\n",
              "</style>\n",
              "<table border=\"1\" class=\"dataframe\">\n",
              "  <thead>\n",
              "    <tr style=\"text-align: right;\">\n",
              "      <th></th>\n",
              "      <th>Platform_Type</th>\n",
              "      <th>Placement_-_Day_of_Month</th>\n",
              "      <th>Placement_-_Weekday_(Mo_=_1)</th>\n",
              "      <th>Confirmation_-_Day_of_Month</th>\n",
              "      <th>Confirmation_-_Weekday_(Mo_=_1)</th>\n",
              "      <th>Arrival_at_Pickup_-_Day_of_Month</th>\n",
              "      <th>Arrival_at_Pickup_-_Weekday_(Mo_=_1)</th>\n",
              "      <th>Pickup_-_Day_of_Month</th>\n",
              "      <th>Pickup_-_Weekday_(Mo_=_1)</th>\n",
              "      <th>Arrival_at_Destination_-_Day_of_Month</th>\n",
              "      <th>Arrival_at_Destination_-_Weekday_(Mo_=_1)</th>\n",
              "      <th>Distance_(KM)</th>\n",
              "      <th>Temperature</th>\n",
              "      <th>Precipitation_in_millimeters</th>\n",
              "      <th>Pickup_Lat</th>\n",
              "      <th>Pickup_Long</th>\n",
              "      <th>Destination_Lat</th>\n",
              "      <th>Destination_Long</th>\n",
              "      <th>No_Of_Orders</th>\n",
              "      <th>Age</th>\n",
              "      <th>Average_Rating</th>\n",
              "      <th>No_of_Ratings</th>\n",
              "      <th>Order_No_Order_No_1</th>\n",
              "      <th>Order_No_Order_No_10</th>\n",
              "      <th>Order_No_Order_No_100</th>\n",
              "      <th>Order_No_Order_No_1000</th>\n",
              "      <th>Order_No_Order_No_10000</th>\n",
              "      <th>Order_No_Order_No_10002</th>\n",
              "      <th>Order_No_Order_No_10004</th>\n",
              "      <th>Order_No_Order_No_10005</th>\n",
              "      <th>Order_No_Order_No_10006</th>\n",
              "      <th>Order_No_Order_No_10007</th>\n",
              "      <th>Order_No_Order_No_10008</th>\n",
              "      <th>Order_No_Order_No_10009</th>\n",
              "      <th>Order_No_Order_No_1001</th>\n",
              "      <th>Order_No_Order_No_10011</th>\n",
              "      <th>Order_No_Order_No_10013</th>\n",
              "      <th>Order_No_Order_No_10014</th>\n",
              "      <th>Order_No_Order_No_10016</th>\n",
              "      <th>Order_No_Order_No_10019</th>\n",
              "      <th>...</th>\n",
              "      <th>Rider_Id_Rider_Id_925</th>\n",
              "      <th>Rider_Id_Rider_Id_926</th>\n",
              "      <th>Rider_Id_Rider_Id_927</th>\n",
              "      <th>Rider_Id_Rider_Id_928</th>\n",
              "      <th>Rider_Id_Rider_Id_929</th>\n",
              "      <th>Rider_Id_Rider_Id_93</th>\n",
              "      <th>Rider_Id_Rider_Id_930</th>\n",
              "      <th>Rider_Id_Rider_Id_931</th>\n",
              "      <th>Rider_Id_Rider_Id_932</th>\n",
              "      <th>Rider_Id_Rider_Id_933</th>\n",
              "      <th>Rider_Id_Rider_Id_934</th>\n",
              "      <th>Rider_Id_Rider_Id_935</th>\n",
              "      <th>Rider_Id_Rider_Id_936</th>\n",
              "      <th>Rider_Id_Rider_Id_937</th>\n",
              "      <th>Rider_Id_Rider_Id_938</th>\n",
              "      <th>Rider_Id_Rider_Id_939</th>\n",
              "      <th>Rider_Id_Rider_Id_94</th>\n",
              "      <th>Rider_Id_Rider_Id_940</th>\n",
              "      <th>Rider_Id_Rider_Id_941</th>\n",
              "      <th>Rider_Id_Rider_Id_942</th>\n",
              "      <th>Rider_Id_Rider_Id_943</th>\n",
              "      <th>Rider_Id_Rider_Id_944</th>\n",
              "      <th>Rider_Id_Rider_Id_946</th>\n",
              "      <th>Rider_Id_Rider_Id_947</th>\n",
              "      <th>Rider_Id_Rider_Id_948</th>\n",
              "      <th>Rider_Id_Rider_Id_949</th>\n",
              "      <th>Rider_Id_Rider_Id_95</th>\n",
              "      <th>Rider_Id_Rider_Id_950</th>\n",
              "      <th>Rider_Id_Rider_Id_951</th>\n",
              "      <th>Rider_Id_Rider_Id_952</th>\n",
              "      <th>Rider_Id_Rider_Id_953</th>\n",
              "      <th>Rider_Id_Rider_Id_954</th>\n",
              "      <th>Rider_Id_Rider_Id_955</th>\n",
              "      <th>Rider_Id_Rider_Id_956</th>\n",
              "      <th>Rider_Id_Rider_Id_958</th>\n",
              "      <th>Rider_Id_Rider_Id_959</th>\n",
              "      <th>Rider_Id_Rider_Id_96</th>\n",
              "      <th>Rider_Id_Rider_Id_97</th>\n",
              "      <th>Rider_Id_Rider_Id_98</th>\n",
              "      <th>Rider_Id_Rider_Id_99</th>\n",
              "    </tr>\n",
              "  </thead>\n",
              "  <tbody>\n",
              "    <tr>\n",
              "      <th>0</th>\n",
              "      <td>3</td>\n",
              "      <td>9</td>\n",
              "      <td>5</td>\n",
              "      <td>9</td>\n",
              "      <td>5</td>\n",
              "      <td>9</td>\n",
              "      <td>5</td>\n",
              "      <td>9</td>\n",
              "      <td>5</td>\n",
              "      <td>9</td>\n",
              "      <td>5</td>\n",
              "      <td>4</td>\n",
              "      <td>20.4</td>\n",
              "      <td>0.0</td>\n",
              "      <td>-1.317755</td>\n",
              "      <td>36.830370</td>\n",
              "      <td>-1.300406</td>\n",
              "      <td>36.829741</td>\n",
              "      <td>1637</td>\n",
              "      <td>1309</td>\n",
              "      <td>13.8</td>\n",
              "      <td>549</td>\n",
              "      <td>0</td>\n",
              "      <td>0</td>\n",
              "      <td>0</td>\n",
              "      <td>0</td>\n",
              "      <td>0</td>\n",
              "      <td>0</td>\n",
              "      <td>0</td>\n",
              "      <td>0</td>\n",
              "      <td>0</td>\n",
              "      <td>0</td>\n",
              "      <td>0</td>\n",
              "      <td>0</td>\n",
              "      <td>0</td>\n",
              "      <td>0</td>\n",
              "      <td>0</td>\n",
              "      <td>0</td>\n",
              "      <td>0</td>\n",
              "      <td>0</td>\n",
              "      <td>...</td>\n",
              "      <td>0</td>\n",
              "      <td>0</td>\n",
              "      <td>0</td>\n",
              "      <td>0</td>\n",
              "      <td>0</td>\n",
              "      <td>0</td>\n",
              "      <td>0</td>\n",
              "      <td>0</td>\n",
              "      <td>0</td>\n",
              "      <td>0</td>\n",
              "      <td>0</td>\n",
              "      <td>0</td>\n",
              "      <td>0</td>\n",
              "      <td>0</td>\n",
              "      <td>0</td>\n",
              "      <td>0</td>\n",
              "      <td>0</td>\n",
              "      <td>0</td>\n",
              "      <td>0</td>\n",
              "      <td>0</td>\n",
              "      <td>0</td>\n",
              "      <td>0</td>\n",
              "      <td>0</td>\n",
              "      <td>0</td>\n",
              "      <td>0</td>\n",
              "      <td>0</td>\n",
              "      <td>0</td>\n",
              "      <td>0</td>\n",
              "      <td>0</td>\n",
              "      <td>0</td>\n",
              "      <td>0</td>\n",
              "      <td>0</td>\n",
              "      <td>0</td>\n",
              "      <td>0</td>\n",
              "      <td>0</td>\n",
              "      <td>0</td>\n",
              "      <td>0</td>\n",
              "      <td>0</td>\n",
              "      <td>0</td>\n",
              "      <td>0</td>\n",
              "    </tr>\n",
              "    <tr>\n",
              "      <th>1</th>\n",
              "      <td>3</td>\n",
              "      <td>18</td>\n",
              "      <td>5</td>\n",
              "      <td>18</td>\n",
              "      <td>5</td>\n",
              "      <td>18</td>\n",
              "      <td>5</td>\n",
              "      <td>18</td>\n",
              "      <td>5</td>\n",
              "      <td>18</td>\n",
              "      <td>5</td>\n",
              "      <td>20</td>\n",
              "      <td>24.5</td>\n",
              "      <td>0.0</td>\n",
              "      <td>-1.326774</td>\n",
              "      <td>36.787807</td>\n",
              "      <td>-1.356237</td>\n",
              "      <td>36.904295</td>\n",
              "      <td>1637</td>\n",
              "      <td>1309</td>\n",
              "      <td>13.8</td>\n",
              "      <td>549</td>\n",
              "      <td>0</td>\n",
              "      <td>0</td>\n",
              "      <td>0</td>\n",
              "      <td>0</td>\n",
              "      <td>0</td>\n",
              "      <td>0</td>\n",
              "      <td>0</td>\n",
              "      <td>0</td>\n",
              "      <td>0</td>\n",
              "      <td>0</td>\n",
              "      <td>0</td>\n",
              "      <td>0</td>\n",
              "      <td>0</td>\n",
              "      <td>0</td>\n",
              "      <td>0</td>\n",
              "      <td>0</td>\n",
              "      <td>0</td>\n",
              "      <td>0</td>\n",
              "      <td>...</td>\n",
              "      <td>0</td>\n",
              "      <td>0</td>\n",
              "      <td>0</td>\n",
              "      <td>0</td>\n",
              "      <td>0</td>\n",
              "      <td>0</td>\n",
              "      <td>0</td>\n",
              "      <td>0</td>\n",
              "      <td>0</td>\n",
              "      <td>0</td>\n",
              "      <td>0</td>\n",
              "      <td>0</td>\n",
              "      <td>0</td>\n",
              "      <td>0</td>\n",
              "      <td>0</td>\n",
              "      <td>0</td>\n",
              "      <td>0</td>\n",
              "      <td>0</td>\n",
              "      <td>0</td>\n",
              "      <td>0</td>\n",
              "      <td>0</td>\n",
              "      <td>0</td>\n",
              "      <td>0</td>\n",
              "      <td>0</td>\n",
              "      <td>0</td>\n",
              "      <td>0</td>\n",
              "      <td>0</td>\n",
              "      <td>0</td>\n",
              "      <td>0</td>\n",
              "      <td>0</td>\n",
              "      <td>0</td>\n",
              "      <td>0</td>\n",
              "      <td>0</td>\n",
              "      <td>0</td>\n",
              "      <td>0</td>\n",
              "      <td>0</td>\n",
              "      <td>0</td>\n",
              "      <td>0</td>\n",
              "      <td>0</td>\n",
              "      <td>0</td>\n",
              "    </tr>\n",
              "    <tr>\n",
              "      <th>2</th>\n",
              "      <td>3</td>\n",
              "      <td>31</td>\n",
              "      <td>5</td>\n",
              "      <td>31</td>\n",
              "      <td>5</td>\n",
              "      <td>31</td>\n",
              "      <td>5</td>\n",
              "      <td>31</td>\n",
              "      <td>5</td>\n",
              "      <td>31</td>\n",
              "      <td>5</td>\n",
              "      <td>6</td>\n",
              "      <td>24.7</td>\n",
              "      <td>0.0</td>\n",
              "      <td>-1.255189</td>\n",
              "      <td>36.782203</td>\n",
              "      <td>-1.273412</td>\n",
              "      <td>36.818206</td>\n",
              "      <td>1637</td>\n",
              "      <td>1309</td>\n",
              "      <td>13.8</td>\n",
              "      <td>549</td>\n",
              "      <td>0</td>\n",
              "      <td>0</td>\n",
              "      <td>0</td>\n",
              "      <td>0</td>\n",
              "      <td>0</td>\n",
              "      <td>0</td>\n",
              "      <td>0</td>\n",
              "      <td>0</td>\n",
              "      <td>0</td>\n",
              "      <td>0</td>\n",
              "      <td>0</td>\n",
              "      <td>0</td>\n",
              "      <td>0</td>\n",
              "      <td>0</td>\n",
              "      <td>0</td>\n",
              "      <td>0</td>\n",
              "      <td>0</td>\n",
              "      <td>0</td>\n",
              "      <td>...</td>\n",
              "      <td>0</td>\n",
              "      <td>0</td>\n",
              "      <td>0</td>\n",
              "      <td>0</td>\n",
              "      <td>0</td>\n",
              "      <td>0</td>\n",
              "      <td>0</td>\n",
              "      <td>0</td>\n",
              "      <td>0</td>\n",
              "      <td>0</td>\n",
              "      <td>0</td>\n",
              "      <td>0</td>\n",
              "      <td>0</td>\n",
              "      <td>0</td>\n",
              "      <td>0</td>\n",
              "      <td>0</td>\n",
              "      <td>0</td>\n",
              "      <td>0</td>\n",
              "      <td>0</td>\n",
              "      <td>0</td>\n",
              "      <td>0</td>\n",
              "      <td>0</td>\n",
              "      <td>0</td>\n",
              "      <td>0</td>\n",
              "      <td>0</td>\n",
              "      <td>0</td>\n",
              "      <td>0</td>\n",
              "      <td>0</td>\n",
              "      <td>0</td>\n",
              "      <td>0</td>\n",
              "      <td>0</td>\n",
              "      <td>0</td>\n",
              "      <td>0</td>\n",
              "      <td>0</td>\n",
              "      <td>0</td>\n",
              "      <td>0</td>\n",
              "      <td>0</td>\n",
              "      <td>0</td>\n",
              "      <td>0</td>\n",
              "      <td>0</td>\n",
              "    </tr>\n",
              "    <tr>\n",
              "      <th>3</th>\n",
              "      <td>3</td>\n",
              "      <td>2</td>\n",
              "      <td>2</td>\n",
              "      <td>2</td>\n",
              "      <td>2</td>\n",
              "      <td>2</td>\n",
              "      <td>2</td>\n",
              "      <td>2</td>\n",
              "      <td>2</td>\n",
              "      <td>2</td>\n",
              "      <td>2</td>\n",
              "      <td>18</td>\n",
              "      <td>15.2</td>\n",
              "      <td>0.0</td>\n",
              "      <td>-1.290315</td>\n",
              "      <td>36.757377</td>\n",
              "      <td>-1.223520</td>\n",
              "      <td>36.802061</td>\n",
              "      <td>1637</td>\n",
              "      <td>1309</td>\n",
              "      <td>13.8</td>\n",
              "      <td>549</td>\n",
              "      <td>0</td>\n",
              "      <td>0</td>\n",
              "      <td>0</td>\n",
              "      <td>0</td>\n",
              "      <td>0</td>\n",
              "      <td>0</td>\n",
              "      <td>0</td>\n",
              "      <td>0</td>\n",
              "      <td>0</td>\n",
              "      <td>0</td>\n",
              "      <td>0</td>\n",
              "      <td>0</td>\n",
              "      <td>0</td>\n",
              "      <td>0</td>\n",
              "      <td>0</td>\n",
              "      <td>0</td>\n",
              "      <td>0</td>\n",
              "      <td>0</td>\n",
              "      <td>...</td>\n",
              "      <td>0</td>\n",
              "      <td>0</td>\n",
              "      <td>0</td>\n",
              "      <td>0</td>\n",
              "      <td>0</td>\n",
              "      <td>0</td>\n",
              "      <td>0</td>\n",
              "      <td>0</td>\n",
              "      <td>0</td>\n",
              "      <td>0</td>\n",
              "      <td>0</td>\n",
              "      <td>0</td>\n",
              "      <td>0</td>\n",
              "      <td>0</td>\n",
              "      <td>0</td>\n",
              "      <td>0</td>\n",
              "      <td>0</td>\n",
              "      <td>0</td>\n",
              "      <td>0</td>\n",
              "      <td>0</td>\n",
              "      <td>0</td>\n",
              "      <td>0</td>\n",
              "      <td>0</td>\n",
              "      <td>0</td>\n",
              "      <td>0</td>\n",
              "      <td>0</td>\n",
              "      <td>0</td>\n",
              "      <td>0</td>\n",
              "      <td>0</td>\n",
              "      <td>0</td>\n",
              "      <td>0</td>\n",
              "      <td>0</td>\n",
              "      <td>0</td>\n",
              "      <td>0</td>\n",
              "      <td>0</td>\n",
              "      <td>0</td>\n",
              "      <td>0</td>\n",
              "      <td>0</td>\n",
              "      <td>0</td>\n",
              "      <td>0</td>\n",
              "    </tr>\n",
              "    <tr>\n",
              "      <th>4</th>\n",
              "      <td>2</td>\n",
              "      <td>22</td>\n",
              "      <td>2</td>\n",
              "      <td>22</td>\n",
              "      <td>2</td>\n",
              "      <td>22</td>\n",
              "      <td>2</td>\n",
              "      <td>22</td>\n",
              "      <td>2</td>\n",
              "      <td>22</td>\n",
              "      <td>2</td>\n",
              "      <td>7</td>\n",
              "      <td>19.2</td>\n",
              "      <td>0.0</td>\n",
              "      <td>-1.273524</td>\n",
              "      <td>36.799220</td>\n",
              "      <td>-1.300431</td>\n",
              "      <td>36.752427</td>\n",
              "      <td>1637</td>\n",
              "      <td>1309</td>\n",
              "      <td>13.8</td>\n",
              "      <td>549</td>\n",
              "      <td>0</td>\n",
              "      <td>0</td>\n",
              "      <td>0</td>\n",
              "      <td>0</td>\n",
              "      <td>0</td>\n",
              "      <td>0</td>\n",
              "      <td>0</td>\n",
              "      <td>0</td>\n",
              "      <td>0</td>\n",
              "      <td>0</td>\n",
              "      <td>0</td>\n",
              "      <td>0</td>\n",
              "      <td>0</td>\n",
              "      <td>0</td>\n",
              "      <td>0</td>\n",
              "      <td>0</td>\n",
              "      <td>0</td>\n",
              "      <td>0</td>\n",
              "      <td>...</td>\n",
              "      <td>0</td>\n",
              "      <td>0</td>\n",
              "      <td>0</td>\n",
              "      <td>0</td>\n",
              "      <td>0</td>\n",
              "      <td>0</td>\n",
              "      <td>0</td>\n",
              "      <td>0</td>\n",
              "      <td>0</td>\n",
              "      <td>0</td>\n",
              "      <td>0</td>\n",
              "      <td>0</td>\n",
              "      <td>0</td>\n",
              "      <td>0</td>\n",
              "      <td>0</td>\n",
              "      <td>0</td>\n",
              "      <td>0</td>\n",
              "      <td>0</td>\n",
              "      <td>0</td>\n",
              "      <td>0</td>\n",
              "      <td>0</td>\n",
              "      <td>0</td>\n",
              "      <td>0</td>\n",
              "      <td>0</td>\n",
              "      <td>0</td>\n",
              "      <td>0</td>\n",
              "      <td>0</td>\n",
              "      <td>0</td>\n",
              "      <td>0</td>\n",
              "      <td>0</td>\n",
              "      <td>0</td>\n",
              "      <td>0</td>\n",
              "      <td>0</td>\n",
              "      <td>0</td>\n",
              "      <td>0</td>\n",
              "      <td>0</td>\n",
              "      <td>0</td>\n",
              "      <td>0</td>\n",
              "      <td>0</td>\n",
              "      <td>0</td>\n",
              "    </tr>\n",
              "  </tbody>\n",
              "</table>\n",
              "<p>5 rows × 103945 columns</p>\n",
              "</div>"
            ],
            "text/plain": [
              "   Platform_Type  ...  Rider_Id_Rider_Id_99\n",
              "0              3  ...                     0\n",
              "1              3  ...                     0\n",
              "2              3  ...                     0\n",
              "3              3  ...                     0\n",
              "4              2  ...                     0\n",
              "\n",
              "[5 rows x 103945 columns]"
=======
        },
        {
          "output_type": "display_data",
          "data": {
            "text/plain": [
              "<Figure size 432x288 with 0 Axes>"
>>>>>>> 8d414cf868b300358964f7cf0f882e3450b68f67
            ]
          },
          "metadata": {
            "tags": []
<<<<<<< HEAD
          },
          "execution_count": 25
=======
          }
        },
        {
          "output_type": "display_data",
          "data": {
            "image/png": "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\n",
            "text/plain": [
              "<Figure size 432x288 with 1 Axes>"
            ]
          },
          "metadata": {
            "tags": [],
            "needs_background": "light"
          }
>>>>>>> 8d414cf868b300358964f7cf0f882e3450b68f67
        }
      ]
    },
    {
      "cell_type": "markdown",
      "metadata": {
<<<<<<< HEAD
        "id": "1Mn-OeUT6AsJ",
        "colab_type": "text"
      },
      "source": [
        "#Dunyiswa"
      ]
    },
    {
      "cell_type": "code",
      "metadata": {
        "id": "hm0C3pvN6DXE",
        "colab_type": "code",
        "colab": {}
      },
      "source": [
        ""
      ],
      "execution_count": 0,
      "outputs": []
    },
    {
      "cell_type": "markdown",
      "metadata": {
        "id": "WVlU2Csr6Hsy",
        "colab_type": "text"
      },
      "source": [
        "#Monica"
      ]
    },
    {
      "cell_type": "markdown",
      "metadata": {
        "id": "Q2r_FNYpJ3Oj",
        "colab_type": "text"
      },
      "source": [
        "1. replace strings with underscore notation for PEP8 standards\n",
        "\n",
        "```\n",
        "merged_df.columns = [col.replace(\" \",\"_\") for col in merged_df.columns]\n",
        "merged_df.head()\n",
        "```\n",
        "\n",
        "2. Encoding using one hot encoder\n",
        "\n",
        "```\n",
        "encoded_df = pd.get_dummies(merged_df)\n",
        "encoded_df.head()\n",
        "```\n",
        "\n",
        "3. Box plots of y data \n",
        "\n",
        "\n",
        "\n",
        "\n",
        "\n"
      ]
    },
    {
      "cell_type": "code",
      "metadata": {
        "id": "mLZRjtQqJy35",
        "colab_type": "code",
        "colab": {}
      },
      "source": [
        ""
      ],
      "execution_count": 0,
      "outputs": []
    },
    {
      "cell_type": "markdown",
      "metadata": {
=======
>>>>>>> 8d414cf868b300358964f7cf0f882e3450b68f67
        "id": "6qI3wfnG6Km-",
        "colab_type": "text"
      },
      "source": [
        "#Monique"
      ]
    },
    {
      "cell_type": "code",
      "metadata": {
<<<<<<< HEAD
        "id": "pWQzxmhivxRK",
=======
        "id": "P1y-onJK6P0A",
>>>>>>> 8d414cf868b300358964f7cf0f882e3450b68f67
        "colab_type": "code",
        "colab": {}
      },
      "source": [
        ""
      ],
      "execution_count": 0,
      "outputs": []
    },
    {
      "cell_type": "markdown",
      "metadata": {
        "id": "vNgMv-gQ6QUz",
        "colab_type": "text"
      },
      "source": [
        "#Rachel"
      ]
    },
    {
      "cell_type": "code",
      "metadata": {
        "id": "w9NSClPr6R3V",
        "colab_type": "code",
        "colab": {}
      },
      "source": [
        ""
      ],
      "execution_count": 0,
      "outputs": []
    },
    {
      "cell_type": "markdown",
      "metadata": {
        "id": "2QYvmS036Sik",
        "colab_type": "text"
      },
      "source": [
        "#Wright"
      ]
    },
    {
      "cell_type": "code",
      "metadata": {
        "id": "deo_Xn_36TrE",
        "colab_type": "code",
        "colab": {}
      },
      "source": [
        ""
      ],
      "execution_count": 0,
      "outputs": []
    }
  ]
}