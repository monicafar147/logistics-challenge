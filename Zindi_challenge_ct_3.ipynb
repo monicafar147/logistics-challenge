{
  "nbformat": 4,
  "nbformat_minor": 0,
  "metadata": {
    "colab": {
      "name": "Zindi_challenge_ct_3.ipynb",
      "provenance": [],
      "toc_visible": true,
      "include_colab_link": true
    },
    "kernelspec": {
      "name": "python3",
      "display_name": "Python 3"
    }
  },
  "cells": [
    {
      "cell_type": "markdown",
      "metadata": {
        "id": "view-in-github",
        "colab_type": "text"
      },
      "source": [
        "<a href=\"https://colab.research.google.com/github/monicafar147/regression-predict-api-template/blob/Monique1/Zindi_challenge_ct_3.ipynb\" target=\"_parent\"><img src=\"https://colab.research.google.com/assets/colab-badge.svg\" alt=\"Open In Colab\"/></a>"
      ]
    },
    {
      "cell_type": "markdown",
      "metadata": {
        "id": "hAX8gu_4wbFC",
        "colab_type": "text"
      },
      "source": [
        "*   make sure you are working in your own branch that you cloned from git\n",
        "*   to commit your notebook changes to git:\n",
        "1.   file\n",
        "2.   save a copy in github\n",
        "3.   choose your branch from branches dropdown\n",
        "4.   change commit message to what you did e.g. \"fixed dataframe indexes\"\n",
        "5.   click ok\n",
        "\n",
        "\n",
        "\n"
      ]
    },
    {
      "cell_type": "markdown",
      "metadata": {
        "id": "Vze6gxh233Cv",
        "colab_type": "text"
      },
      "source": [
        "# Introduction to problem and dataset"
      ]
    },
    {
      "cell_type": "markdown",
      "metadata": {
        "id": "MnREAxUsUWXu",
        "colab_type": "text"
      },
      "source": [
        "## Problems to fix\n",
        "\n",
        "* Since most of the time columns take place within 1-2 hours, the current solution of only extracting the hours is poor. Perhaps, since the y-variable is in seconds, we can convert all the time columns to something like \"seconds after midnight\"\n",
        "* There are `Time from Pickup to Arrival` values of 1, which seems unrealistic considering the data is measured in seconds. We should investigate the actual difference between the `Arrival at Destination - Time` and `Pickup - Time` columns before we drop the `Arrival at Destination - Time` column.\n",
        "* We still haven't got a solution for the `Rider Id` column to turn it into a categorical variable."
      ]
    },
    {
      "cell_type": "markdown",
      "metadata": {
        "id": "dxxnvNRI38PD",
        "colab_type": "text"
      },
      "source": [
        "##Importing the libraries"
      ]
    },
    {
      "cell_type": "code",
      "metadata": {
        "id": "NtX8B5SK33nU",
        "colab_type": "code",
        "outputId": "7e76fc8d-c5ac-42fb-dc94-5097155606d9",
        "colab": {
          "base_uri": "https://localhost:8080/",
          "height": 70
        }
      },
      "source": [
        "import numpy as np\n",
        "import matplotlib.pyplot as plt\n",
        "import pandas as pd\n",
        "import seaborn as sns\n",
        "\n",
        "# Making it pretty :)\n",
        "sns.set(palette='pastel')"
      ],
      "execution_count": 0,
      "outputs": [
        {
          "output_type": "stream",
          "text": [
            "/usr/local/lib/python3.6/dist-packages/statsmodels/tools/_testing.py:19: FutureWarning: pandas.util.testing is deprecated. Use the functions in the public API at pandas.testing instead.\n",
            "  import pandas.util.testing as tm\n"
          ],
          "name": "stderr"
        }
      ]
    },
    {
      "cell_type": "markdown",
      "metadata": {
        "id": "i6eGTd244Ggo",
        "colab_type": "text"
      },
      "source": [
        "##Importing the dataset"
      ]
    },
    {
      "cell_type": "code",
      "metadata": {
        "id": "M5RO7FhQ39gi",
        "colab_type": "code",
        "colab": {}
      },
      "source": [
        "df_train = pd.read_csv('Train.csv')\n",
        "df_riders = pd.read_csv('Riders.csv')\n",
        "test = pd.read_csv('Test.csv')"
      ],
      "execution_count": 0,
      "outputs": []
    },
    {
      "cell_type": "code",
      "metadata": {
        "id": "S3wbr7pV2JXZ",
        "colab_type": "code",
        "outputId": "52c8bfcc-b746-49f0-a6da-87fa740cb619",
        "colab": {
          "base_uri": "https://localhost:8080/"
        }
      },
      "source": [
        "df_riders.head()"
      ],
      "execution_count": 0,
      "outputs": [
        {
          "output_type": "execute_result",
          "data": {
            "text/html": [
              "<div>\n",
              "<style scoped>\n",
              "    .dataframe tbody tr th:only-of-type {\n",
              "        vertical-align: middle;\n",
              "    }\n",
              "\n",
              "    .dataframe tbody tr th {\n",
              "        vertical-align: top;\n",
              "    }\n",
              "\n",
              "    .dataframe thead th {\n",
              "        text-align: right;\n",
              "    }\n",
              "</style>\n",
              "<table border=\"1\" class=\"dataframe\">\n",
              "  <thead>\n",
              "    <tr style=\"text-align: right;\">\n",
              "      <th></th>\n",
              "      <th>Rider Id</th>\n",
              "      <th>No_Of_Orders</th>\n",
              "      <th>Age</th>\n",
              "      <th>Average_Rating</th>\n",
              "      <th>No_of_Ratings</th>\n",
              "    </tr>\n",
              "  </thead>\n",
              "  <tbody>\n",
              "    <tr>\n",
              "      <th>0</th>\n",
              "      <td>Rider_Id_396</td>\n",
              "      <td>2946</td>\n",
              "      <td>2298</td>\n",
              "      <td>14.0</td>\n",
              "      <td>1159</td>\n",
              "    </tr>\n",
              "    <tr>\n",
              "      <th>1</th>\n",
              "      <td>Rider_Id_479</td>\n",
              "      <td>360</td>\n",
              "      <td>951</td>\n",
              "      <td>13.5</td>\n",
              "      <td>176</td>\n",
              "    </tr>\n",
              "    <tr>\n",
              "      <th>2</th>\n",
              "      <td>Rider_Id_648</td>\n",
              "      <td>1746</td>\n",
              "      <td>821</td>\n",
              "      <td>14.3</td>\n",
              "      <td>466</td>\n",
              "    </tr>\n",
              "    <tr>\n",
              "      <th>3</th>\n",
              "      <td>Rider_Id_753</td>\n",
              "      <td>314</td>\n",
              "      <td>980</td>\n",
              "      <td>12.5</td>\n",
              "      <td>75</td>\n",
              "    </tr>\n",
              "    <tr>\n",
              "      <th>4</th>\n",
              "      <td>Rider_Id_335</td>\n",
              "      <td>536</td>\n",
              "      <td>1113</td>\n",
              "      <td>13.7</td>\n",
              "      <td>156</td>\n",
              "    </tr>\n",
              "  </tbody>\n",
              "</table>\n",
              "</div>"
            ],
            "text/plain": [
              "       Rider Id  No_Of_Orders   Age  Average_Rating  No_of_Ratings\n",
              "0  Rider_Id_396          2946  2298            14.0           1159\n",
              "1  Rider_Id_479           360   951            13.5            176\n",
              "2  Rider_Id_648          1746   821            14.3            466\n",
              "3  Rider_Id_753           314   980            12.5             75\n",
              "4  Rider_Id_335           536  1113            13.7            156"
            ]
          },
          "metadata": {
            "tags": []
          },
          "execution_count": 30
        }
      ]
    },
    {
      "cell_type": "code",
      "metadata": {
        "id": "7tBCOD6jN9VI",
        "colab_type": "code",
        "outputId": "377bd850-d27f-40d3-a452-297d9d80808a",
        "colab": {
          "base_uri": "https://localhost:8080/",
          "height": 470
        }
      },
      "source": [
        "print('Test columns:\\n', test.columns)\n",
        "print('Train columns:\\n', df_train.columns)"
      ],
      "execution_count": 0,
      "outputs": [
        {
          "output_type": "stream",
          "text": [
            "Test columns:\n",
            " Index(['Order No', 'User Id', 'Vehicle Type', 'Platform Type',\n",
            "       'Personal or Business', 'Placement - Day of Month',\n",
            "       'Placement - Weekday (Mo = 1)', 'Placement - Time',\n",
            "       'Confirmation - Day of Month', 'Confirmation - Weekday (Mo = 1)',\n",
            "       'Confirmation - Time', 'Arrival at Pickup - Day of Month',\n",
            "       'Arrival at Pickup - Weekday (Mo = 1)', 'Arrival at Pickup - Time',\n",
            "       'Pickup - Day of Month', 'Pickup - Weekday (Mo = 1)', 'Pickup - Time',\n",
            "       'Distance (KM)', 'Temperature', 'Precipitation in millimeters',\n",
            "       'Pickup Lat', 'Pickup Long', 'Destination Lat', 'Destination Long',\n",
            "       'Rider Id'],\n",
            "      dtype='object')\n",
            "Train columns:\n",
            " Index(['Order No', 'User Id', 'Vehicle Type', 'Platform Type',\n",
            "       'Personal or Business', 'Placement - Day of Month',\n",
            "       'Placement - Weekday (Mo = 1)', 'Placement - Time',\n",
            "       'Confirmation - Day of Month', 'Confirmation - Weekday (Mo = 1)',\n",
            "       'Confirmation - Time', 'Arrival at Pickup - Day of Month',\n",
            "       'Arrival at Pickup - Weekday (Mo = 1)', 'Arrival at Pickup - Time',\n",
            "       'Pickup - Day of Month', 'Pickup - Weekday (Mo = 1)', 'Pickup - Time',\n",
            "       'Arrival at Destination - Day of Month',\n",
            "       'Arrival at Destination - Weekday (Mo = 1)',\n",
            "       'Arrival at Destination - Time', 'Distance (KM)', 'Temperature',\n",
            "       'Precipitation in millimeters', 'Pickup Lat', 'Pickup Long',\n",
            "       'Destination Lat', 'Destination Long', 'Rider Id',\n",
            "       'Time from Pickup to Arrival'],\n",
            "      dtype='object')\n"
          ],
          "name": "stdout"
        }
      ]
    },
    {
      "cell_type": "markdown",
      "metadata": {
        "id": "wnSE2ERwOEny",
        "colab_type": "text"
      },
      "source": [
        "When comparing the columns in the train data versus the test data, we notice that there are three missing columns (aside from the dependent variable `Time from Pickup to Arrival`). \n",
        "* `Arrival at Destination - Day of Month`\n",
        "* `Arrival at Destination - Weekday (Mo = 1)`\n",
        "* `Arrival at Destination - Time'`\n",
        "\n",
        "These columns are missing from the test data because they are related to the variable that needs to be predicted. These columns can, therefore, be dropped from the training dataset because they are inherently a part of `Time from Pickup to Arrival`."
      ]
    },
    {
      "cell_type": "code",
      "metadata": {
        "id": "FUjrlKp-OHVm",
        "colab_type": "code",
        "colab": {}
      },
      "source": [
        "df_train.drop(columns=['Arrival at Destination - Day of Month',\n",
        "                       'Arrival at Destination - Weekday (Mo = 1)',\n",
        "                       'Arrival at Destination - Time'], inplace = True)"
      ],
      "execution_count": 0,
      "outputs": []
    },
    {
      "cell_type": "code",
      "metadata": {
        "id": "L0i1kw9bOvvt",
        "colab_type": "code",
        "outputId": "a1be71cd-2a23-40ae-bc25-32e8b9c8f233",
        "colab": {
          "base_uri": "https://localhost:8080/",
          "height": 34
        }
      },
      "source": [
        "df_train.shape"
      ],
      "execution_count": 0,
      "outputs": [
        {
          "output_type": "execute_result",
          "data": {
            "text/plain": [
              "(21201, 26)"
            ]
          },
          "metadata": {
            "tags": []
          },
          "execution_count": 5
        }
      ]
    },
    {
      "cell_type": "markdown",
      "metadata": {
        "id": "gCQLLstg2hQ3",
        "colab_type": "text"
      },
      "source": [
        "At this stage, we notice that there are missing values from `Temperature` and `Precipitation in millimeters`. We also need to convert all the columns that contain time information from objects to a datetime format."
      ]
    },
    {
      "cell_type": "markdown",
      "metadata": {
        "id": "Is4EiurgPGh3",
        "colab_type": "text"
      },
      "source": [
        "# Exploratory Data Analysis\n",
        "\n",
        "To first get well-acquainted with the data, we will first explore any obvious relationships between variables."
      ]
    },
    {
      "cell_type": "code",
      "metadata": {
        "id": "pzlETcOSb8Xt",
        "colab_type": "code",
        "outputId": "0f09bc59-ae11-4157-efd5-d66f87c1b14c",
        "colab": {
          "base_uri": "https://localhost:8080/",
          "height": 354
        }
      },
      "source": [
        "df_train.describe()"
      ],
      "execution_count": 0,
      "outputs": [
        {
          "output_type": "execute_result",
          "data": {
            "text/html": [
              "<div>\n",
              "<style scoped>\n",
              "    .dataframe tbody tr th:only-of-type {\n",
              "        vertical-align: middle;\n",
              "    }\n",
              "\n",
              "    .dataframe tbody tr th {\n",
              "        vertical-align: top;\n",
              "    }\n",
              "\n",
              "    .dataframe thead th {\n",
              "        text-align: right;\n",
              "    }\n",
              "</style>\n",
              "<table border=\"1\" class=\"dataframe\">\n",
              "  <thead>\n",
              "    <tr style=\"text-align: right;\">\n",
              "      <th></th>\n",
              "      <th>Platform Type</th>\n",
              "      <th>Placement - Day of Month</th>\n",
              "      <th>Placement - Weekday (Mo = 1)</th>\n",
              "      <th>Confirmation - Day of Month</th>\n",
              "      <th>Confirmation - Weekday (Mo = 1)</th>\n",
              "      <th>Arrival at Pickup - Day of Month</th>\n",
              "      <th>Arrival at Pickup - Weekday (Mo = 1)</th>\n",
              "      <th>Pickup - Day of Month</th>\n",
              "      <th>Pickup - Weekday (Mo = 1)</th>\n",
              "      <th>Distance (KM)</th>\n",
              "      <th>Temperature</th>\n",
              "      <th>Precipitation in millimeters</th>\n",
              "      <th>Pickup Lat</th>\n",
              "      <th>Pickup Long</th>\n",
              "      <th>Destination Lat</th>\n",
              "      <th>Destination Long</th>\n",
              "      <th>Time from Pickup to Arrival</th>\n",
              "    </tr>\n",
              "  </thead>\n",
              "  <tbody>\n",
              "    <tr>\n",
              "      <th>count</th>\n",
              "      <td>21201.000000</td>\n",
              "      <td>21201.000000</td>\n",
              "      <td>21201.000000</td>\n",
              "      <td>21201.000000</td>\n",
              "      <td>21201.000000</td>\n",
              "      <td>21201.000000</td>\n",
              "      <td>21201.000000</td>\n",
              "      <td>21201.000000</td>\n",
              "      <td>21201.000000</td>\n",
              "      <td>21201.000000</td>\n",
              "      <td>16835.000000</td>\n",
              "      <td>552.000000</td>\n",
              "      <td>21201.000000</td>\n",
              "      <td>21201.000000</td>\n",
              "      <td>21201.000000</td>\n",
              "      <td>21201.000000</td>\n",
              "      <td>21201.000000</td>\n",
              "    </tr>\n",
              "    <tr>\n",
              "      <th>mean</th>\n",
              "      <td>2.752182</td>\n",
              "      <td>15.653696</td>\n",
              "      <td>3.240083</td>\n",
              "      <td>15.653837</td>\n",
              "      <td>3.240225</td>\n",
              "      <td>15.653837</td>\n",
              "      <td>3.240225</td>\n",
              "      <td>15.653837</td>\n",
              "      <td>3.240225</td>\n",
              "      <td>9.506533</td>\n",
              "      <td>23.258889</td>\n",
              "      <td>7.905797</td>\n",
              "      <td>-1.281470</td>\n",
              "      <td>36.811264</td>\n",
              "      <td>-1.282581</td>\n",
              "      <td>36.811220</td>\n",
              "      <td>1556.920947</td>\n",
              "    </tr>\n",
              "    <tr>\n",
              "      <th>std</th>\n",
              "      <td>0.625178</td>\n",
              "      <td>8.798916</td>\n",
              "      <td>1.567295</td>\n",
              "      <td>8.798886</td>\n",
              "      <td>1.567228</td>\n",
              "      <td>8.798886</td>\n",
              "      <td>1.567228</td>\n",
              "      <td>8.798886</td>\n",
              "      <td>1.567228</td>\n",
              "      <td>5.668963</td>\n",
              "      <td>3.615768</td>\n",
              "      <td>17.089971</td>\n",
              "      <td>0.030507</td>\n",
              "      <td>0.037473</td>\n",
              "      <td>0.034824</td>\n",
              "      <td>0.044721</td>\n",
              "      <td>987.270788</td>\n",
              "    </tr>\n",
              "    <tr>\n",
              "      <th>min</th>\n",
              "      <td>1.000000</td>\n",
              "      <td>1.000000</td>\n",
              "      <td>1.000000</td>\n",
              "      <td>1.000000</td>\n",
              "      <td>1.000000</td>\n",
              "      <td>1.000000</td>\n",
              "      <td>1.000000</td>\n",
              "      <td>1.000000</td>\n",
              "      <td>1.000000</td>\n",
              "      <td>1.000000</td>\n",
              "      <td>11.200000</td>\n",
              "      <td>0.100000</td>\n",
              "      <td>-1.438302</td>\n",
              "      <td>36.653621</td>\n",
              "      <td>-1.430298</td>\n",
              "      <td>36.606594</td>\n",
              "      <td>1.000000</td>\n",
              "    </tr>\n",
              "    <tr>\n",
              "      <th>25%</th>\n",
              "      <td>3.000000</td>\n",
              "      <td>8.000000</td>\n",
              "      <td>2.000000</td>\n",
              "      <td>8.000000</td>\n",
              "      <td>2.000000</td>\n",
              "      <td>8.000000</td>\n",
              "      <td>2.000000</td>\n",
              "      <td>8.000000</td>\n",
              "      <td>2.000000</td>\n",
              "      <td>5.000000</td>\n",
              "      <td>20.600000</td>\n",
              "      <td>1.075000</td>\n",
              "      <td>-1.300921</td>\n",
              "      <td>36.784605</td>\n",
              "      <td>-1.301201</td>\n",
              "      <td>36.785661</td>\n",
              "      <td>882.000000</td>\n",
              "    </tr>\n",
              "    <tr>\n",
              "      <th>50%</th>\n",
              "      <td>3.000000</td>\n",
              "      <td>15.000000</td>\n",
              "      <td>3.000000</td>\n",
              "      <td>15.000000</td>\n",
              "      <td>3.000000</td>\n",
              "      <td>15.000000</td>\n",
              "      <td>3.000000</td>\n",
              "      <td>15.000000</td>\n",
              "      <td>3.000000</td>\n",
              "      <td>8.000000</td>\n",
              "      <td>23.500000</td>\n",
              "      <td>2.900000</td>\n",
              "      <td>-1.279395</td>\n",
              "      <td>36.807040</td>\n",
              "      <td>-1.284382</td>\n",
              "      <td>36.808002</td>\n",
              "      <td>1369.000000</td>\n",
              "    </tr>\n",
              "    <tr>\n",
              "      <th>75%</th>\n",
              "      <td>3.000000</td>\n",
              "      <td>23.000000</td>\n",
              "      <td>5.000000</td>\n",
              "      <td>23.000000</td>\n",
              "      <td>5.000000</td>\n",
              "      <td>23.000000</td>\n",
              "      <td>5.000000</td>\n",
              "      <td>23.000000</td>\n",
              "      <td>5.000000</td>\n",
              "      <td>13.000000</td>\n",
              "      <td>26.000000</td>\n",
              "      <td>4.900000</td>\n",
              "      <td>-1.257147</td>\n",
              "      <td>36.829741</td>\n",
              "      <td>-1.261177</td>\n",
              "      <td>36.829477</td>\n",
              "      <td>2040.000000</td>\n",
              "    </tr>\n",
              "    <tr>\n",
              "      <th>max</th>\n",
              "      <td>4.000000</td>\n",
              "      <td>31.000000</td>\n",
              "      <td>7.000000</td>\n",
              "      <td>31.000000</td>\n",
              "      <td>7.000000</td>\n",
              "      <td>31.000000</td>\n",
              "      <td>7.000000</td>\n",
              "      <td>31.000000</td>\n",
              "      <td>7.000000</td>\n",
              "      <td>49.000000</td>\n",
              "      <td>32.100000</td>\n",
              "      <td>99.100000</td>\n",
              "      <td>-1.147170</td>\n",
              "      <td>36.991046</td>\n",
              "      <td>-1.030225</td>\n",
              "      <td>37.016779</td>\n",
              "      <td>7883.000000</td>\n",
              "    </tr>\n",
              "  </tbody>\n",
              "</table>\n",
              "</div>"
            ],
            "text/plain": [
              "       Platform Type  ...  Time from Pickup to Arrival\n",
              "count   21201.000000  ...                 21201.000000\n",
              "mean        2.752182  ...                  1556.920947\n",
              "std         0.625178  ...                   987.270788\n",
              "min         1.000000  ...                     1.000000\n",
              "25%         3.000000  ...                   882.000000\n",
              "50%         3.000000  ...                  1369.000000\n",
              "75%         3.000000  ...                  2040.000000\n",
              "max         4.000000  ...                  7883.000000\n",
              "\n",
              "[8 rows x 17 columns]"
            ]
          },
          "metadata": {
            "tags": []
          },
          "execution_count": 6
        }
      ]
    },
    {
      "cell_type": "code",
      "metadata": {
        "id": "hYnbp2BJb_8U",
        "colab_type": "code",
        "outputId": "06c7b70b-72aa-44bf-eb04-373a5970787b",
        "colab": {
          "base_uri": "https://localhost:8080/",
          "height": 571
        }
      },
      "source": [
        "df_train.info()"
      ],
      "execution_count": 0,
      "outputs": [
        {
          "output_type": "stream",
          "text": [
            "<class 'pandas.core.frame.DataFrame'>\n",
            "RangeIndex: 21201 entries, 0 to 21200\n",
            "Data columns (total 26 columns):\n",
            " #   Column                                Non-Null Count  Dtype  \n",
            "---  ------                                --------------  -----  \n",
            " 0   Order No                              21201 non-null  object \n",
            " 1   User Id                               21201 non-null  object \n",
            " 2   Vehicle Type                          21201 non-null  object \n",
            " 3   Platform Type                         21201 non-null  int64  \n",
            " 4   Personal or Business                  21201 non-null  object \n",
            " 5   Placement - Day of Month              21201 non-null  int64  \n",
            " 6   Placement - Weekday (Mo = 1)          21201 non-null  int64  \n",
            " 7   Placement - Time                      21201 non-null  object \n",
            " 8   Confirmation - Day of Month           21201 non-null  int64  \n",
            " 9   Confirmation - Weekday (Mo = 1)       21201 non-null  int64  \n",
            " 10  Confirmation - Time                   21201 non-null  object \n",
            " 11  Arrival at Pickup - Day of Month      21201 non-null  int64  \n",
            " 12  Arrival at Pickup - Weekday (Mo = 1)  21201 non-null  int64  \n",
            " 13  Arrival at Pickup - Time              21201 non-null  object \n",
            " 14  Pickup - Day of Month                 21201 non-null  int64  \n",
            " 15  Pickup - Weekday (Mo = 1)             21201 non-null  int64  \n",
            " 16  Pickup - Time                         21201 non-null  object \n",
            " 17  Distance (KM)                         21201 non-null  int64  \n",
            " 18  Temperature                           16835 non-null  float64\n",
            " 19  Precipitation in millimeters          552 non-null    float64\n",
            " 20  Pickup Lat                            21201 non-null  float64\n",
            " 21  Pickup Long                           21201 non-null  float64\n",
            " 22  Destination Lat                       21201 non-null  float64\n",
            " 23  Destination Long                      21201 non-null  float64\n",
            " 24  Rider Id                              21201 non-null  object \n",
            " 25  Time from Pickup to Arrival           21201 non-null  int64  \n",
            "dtypes: float64(6), int64(11), object(9)\n",
            "memory usage: 4.2+ MB\n"
          ],
          "name": "stdout"
        }
      ]
    },
    {
      "cell_type": "markdown",
      "metadata": {
        "id": "ppdLH8MUfcHp",
        "colab_type": "text"
      },
      "source": [
        "## ECDF Plots for Distance and Delivery Times"
      ]
    },
    {
      "cell_type": "code",
      "metadata": {
        "id": "8NMhD--6ffaS",
        "colab_type": "code",
        "outputId": "56c4e8bd-f9fb-4e87-d755-af6dfe078cc6",
        "colab": {
          "base_uri": "https://localhost:8080/",
          "height": 372
        }
      },
      "source": [
        "distances = np.sort(df_train['Distance (KM)'])\n",
        "distances_ecdf = np.arange(1, len(distances) + 1) / len(distances)\n",
        "delivery_times = np.sort(df_train['Time from Pickup to Arrival'])\n",
        "delivery_times_ecdf = np.arange(1, len(delivery_times) + 1) / len(delivery_times)\n",
        "\n",
        "fig, (ax1, ax2) = plt.subplots(1,2,figsize=(15,5))\n",
        "ax1.plot(distances, distances_ecdf, marker='.', linestyle='none')\n",
        "ax1.set_xlabel('Distances (KM)')\n",
        "ax1.set_ylabel('Distances ECDF')\n",
        "ax1.set_title('ECDF Plot for Distances')\n",
        "\n",
        "ax2.plot(delivery_times, delivery_times_ecdf, marker='.', linestyle='none')\n",
        "ax2.set_xlabel('Delivery Time (s)')\n",
        "ax2.set_ylabel('Delivery Times ECDF')\n",
        "ax2.set_title('ECDF Plot for Delivery Time')"
      ],
      "execution_count": 0,
      "outputs": [
        {
          "output_type": "execute_result",
          "data": {
            "text/plain": [
              "Text(0.5, 1.0, 'ECDF Plot for Delivery Time')"
            ]
          },
          "metadata": {
            "tags": []
          },
          "execution_count": 34
        },
        {
          "output_type": "display_data",
          "data": {
            "image/png": "[encoded data removed]",
            "text/plain": [
              "<Figure size 1080x360 with 2 Axes>"
            ]
          },
          "metadata": {
            "tags": [],
            "needs_background": "light"
          }
        }
      ]
    },
    {
      "cell_type": "markdown",
      "metadata": {
        "id": "KQPExqcpgT_T",
        "colab_type": "text"
      },
      "source": [
        "We can see that 60 and 95 percent of deliveries are within 10KM and 20KM respectively.\n",
        "\n",
        "\n",
        "With the time distributions we see that 60 and 95 percent of the delivery times are within approximately 1500(s) and 3000(s)\n",
        "\n",
        "Based on the above distrubutions it would be interesting to build a simple Linear Regression model using only the Distance feature in our model."
      ]
    },
    {
      "cell_type": "markdown",
      "metadata": {
        "id": "3j9ChLzhg2BK",
        "colab_type": "text"
      },
      "source": [
        "### Exploring Day of Month columns"
      ]
    },
    {
      "cell_type": "markdown",
      "metadata": {
        "id": "qHOrFqgsPP2l",
        "colab_type": "text"
      },
      "source": [
        "By just eyeing the first few rows of the data, it seems that the order might tend to be picked up on the same day that the order was placed. "
      ]
    },
    {
      "cell_type": "code",
      "metadata": {
        "id": "ZRaNdHFMPNpd",
        "colab_type": "code",
        "outputId": "3a745057-2b9c-4d5b-a40b-5a20c9871a37",
        "colab": {
          "base_uri": "https://localhost:8080/",
          "height": 101
        }
      },
      "source": [
        "# Creating a column that calculates the difference between when the\n",
        "# order was made and when the order was picked up\n",
        "df_train['placement_pickup'] = df_train['Pickup - Day of Month'] - df_train['Placement - Day of Month']\n",
        "print(df_train[df_train['placement_pickup'] > 0])"
      ],
      "execution_count": 0,
      "outputs": [
        {
          "output_type": "stream",
          "text": [
            "           Order No  ... placement_pickup\n",
            "4024  Order_No_2800  ...                1\n",
            "9804  Order_No_3530  ...                2\n",
            "\n",
            "[2 rows x 27 columns]\n"
          ],
          "name": "stdout"
        }
      ]
    },
    {
      "cell_type": "code",
      "metadata": {
        "id": "nggAoFkCPW5n",
        "colab_type": "code",
        "colab": {}
      },
      "source": [
        "df_train.drop(['placement_pickup'], axis=1, inplace=True)"
      ],
      "execution_count": 0,
      "outputs": []
    },
    {
      "cell_type": "markdown",
      "metadata": {
        "id": "1JceSrPaPYA2",
        "colab_type": "text"
      },
      "source": [
        "It seems that there have only been two cases when the order was made and picked up on different days (and the difference was only one or two days). Out of 16291 rows of data, this data seems that it will have minor predictive capabilities.\n",
        "\n",
        "It can therefore be suggested that we drop all but one of the columns which indicate the day of the month and day of the week, because they contain repetitive, redundant data."
      ]
    },
    {
      "cell_type": "code",
      "metadata": {
        "id": "CCXrvUOdPfH9",
        "colab_type": "code",
        "outputId": "dc8489e5-31fe-4e50-9564-f0045e8099a8",
        "colab": {
          "base_uri": "https://localhost:8080/",
          "height": 34
        }
      },
      "source": [
        "# There are some entries where the time from pickup to arrival is too short\n",
        "# to be real - need to fix\n",
        "\n",
        "df_train[df_train['Time from Pickup to Arrival'] < 60].shape"
      ],
      "execution_count": 0,
      "outputs": [
        {
          "output_type": "execute_result",
          "data": {
            "text/plain": [
              "(740, 26)"
            ]
          },
          "metadata": {
            "tags": []
          },
          "execution_count": 38
        }
      ]
    },
    {
      "cell_type": "markdown",
      "metadata": {
        "id": "rFAiU1YghLAZ",
        "colab_type": "text"
      },
      "source": [
        "### Exploring distributions of data"
      ]
    },
    {
      "cell_type": "code",
      "metadata": {
        "id": "7vdM1dgKPnqF",
        "colab_type": "code",
        "outputId": "c7e3f9c7-c22e-41ef-9cea-7c62a14a477e",
        "colab": {
          "base_uri": "https://localhost:8080/",
          "height": 302
        }
      },
      "source": [
        "sns.boxplot(x='Pickup - Weekday (Mo = 1)', y='Time from Pickup to Arrival', data=df_train)"
      ],
      "execution_count": 39,
      "outputs": [
        {
          "output_type": "execute_result",
          "data": {
            "text/plain": [
              "<matplotlib.axes._subplots.AxesSubplot at 0x7fedebbf8a20>"
            ]
          },
          "metadata": {
            "tags": []
          },
          "execution_count": 39
        },
        {
          "output_type": "display_data",
          "data": {
            "image/png": "[encoded data removed]",
            "text/plain": [
              "<Figure size 432x288 with 1 Axes>"
            ]
          },
          "metadata": {
            "tags": [],
            "needs_background": "light"
          }
        }
      ]
    },
    {
      "cell_type": "markdown",
      "metadata": {
        "id": "STk9qVbvPscN",
        "colab_type": "text"
      },
      "source": [
        "These boxplots, which each represent the days of the week, indicate that there doesn't seem to be a huge difference in travel time between the different days of the week. There are fewer and less extreme outliers on weekends - especially Sundays - perhaps because there is less traffic because people aren't going to work?"
      ]
    },
    {
      "cell_type": "code",
      "metadata": {
        "id": "qjOAsuNliX0a",
        "colab_type": "code",
        "colab": {
          "base_uri": "https://localhost:8080/",
          "height": 302
        },
        "outputId": "5651b0bb-366a-4ced-e593-ac47a128025b"
      },
      "source": [
        "sns.boxplot(x='Pickup - Day of Month', y='Time from Pickup to Arrival', data=df_train)"
      ],
      "execution_count": 41,
      "outputs": [
        {
          "output_type": "execute_result",
          "data": {
            "text/plain": [
              "<matplotlib.axes._subplots.AxesSubplot at 0x7fedebad90b8>"
            ]
          },
          "metadata": {
            "tags": []
          },
          "execution_count": 41
        },
        {
          "output_type": "display_data",
          "data": {
            "image/png": "[encoded data removed]",
            "text/plain": [
              "<Figure size 432x288 with 1 Axes>"
            ]
          },
          "metadata": {
            "tags": [],
            "needs_background": "light"
          }
        }
      ]
    },
    {
      "cell_type": "code",
      "metadata": {
        "id": "210btuChheYD",
        "colab_type": "code",
        "colab": {
          "base_uri": "https://localhost:8080/",
          "height": 302
        },
        "outputId": "f439b7e0-ff0d-4678-b8a2-d837617706a3"
      },
      "source": [
        "sns.boxplot(x='Platform Type', y='Time from Pickup to Arrival', data = df_train)"
      ],
      "execution_count": 36,
      "outputs": [
        {
          "output_type": "execute_result",
          "data": {
            "text/plain": [
              "<matplotlib.axes._subplots.AxesSubplot at 0x7fedee120710>"
            ]
          },
          "metadata": {
            "tags": []
          },
          "execution_count": 36
        },
        {
          "output_type": "display_data",
          "data": {
            "image/png": "[encoded data removed]",
            "text/plain": [
              "<Figure size 432x288 with 1 Axes>"
            ]
          },
          "metadata": {
            "tags": [],
            "needs_background": "light"
          }
        }
      ]
    },
    {
      "cell_type": "code",
      "metadata": {
        "id": "nxMQAf97iBlt",
        "colab_type": "code",
        "colab": {
          "base_uri": "https://localhost:8080/",
          "height": 302
        },
        "outputId": "448aa64b-eb84-4189-bc5d-1f975f5ab572"
      },
      "source": [
        "sns.boxplot(x='Personal or Business', y='Time from Pickup to Arrival', data=df_train)"
      ],
      "execution_count": 40,
      "outputs": [
        {
          "output_type": "execute_result",
          "data": {
            "text/plain": [
              "<matplotlib.axes._subplots.AxesSubplot at 0x7fedebbb4668>"
            ]
          },
          "metadata": {
            "tags": []
          },
          "execution_count": 40
        },
        {
          "output_type": "display_data",
          "data": {
            "image/png": "[encoded data removed]",
            "text/plain": [
              "<Figure size 432x288 with 1 Axes>"
            ]
          },
          "metadata": {
            "tags": [],
            "needs_background": "light"
          }
        }
      ]
    },
    {
      "cell_type": "markdown",
      "metadata": {
        "id": "YOvJ4_I2PvR-",
        "colab_type": "text"
      },
      "source": [
        "# Data Preprocessing"
      ]
    },
    {
      "cell_type": "markdown",
      "metadata": {
        "id": "n72VrYwi473c",
        "colab_type": "text"
      },
      "source": [
        "## Dealing with missing values\n",
        "\n",
        "As described above, there are null-values present in the `Temperature` and `Precipitation in millimeters` columns.\n",
        "\n",
        "We would be able to fill the missing `Temperature` values with values from the same dates where measurements were taken, but we don't know the actual date of each measurement. The easiest option would be to fill the missing values with the average of the column, but we should find a better way of doing this.\n",
        "\n",
        "We are assuming that if `Precipitation in millimeters` is missing, that it was not raining on that day. We can therefore fill null values with 0."
      ]
    },
    {
      "cell_type": "code",
      "metadata": {
        "id": "0UbsDWc95zbS",
        "colab_type": "code",
        "colab": {}
      },
      "source": [
        "# Fill missing precipitation values with 0\n",
        "df_train['Precipitation in millimeters'] = df_train['Precipitation in millimeters'].fillna(value=0)\n",
        "\n",
        "# Fill missing temperature values with averages\n",
        "df_train['Temperature'] = df_train['Temperature'].fillna(df_train['Temperature'].mean())"
      ],
      "execution_count": 0,
      "outputs": []
    },
    {
      "cell_type": "markdown",
      "metadata": {
        "id": "s7TPQK3z2xym",
        "colab_type": "text"
      },
      "source": [
        "## Fixing data types\n",
        "\n",
        "The various columns that represent a time of day need to be converted to a datetime format."
      ]
    },
    {
      "cell_type": "code",
      "metadata": {
        "id": "vuAYZ_PB2zv6",
        "colab_type": "code",
        "colab": {}
      },
      "source": [
        "df_train['Placement - Time'] = pd.to_datetime(df_train['Placement - Time']).dt.time\n",
        "df_train['Confirmation - Time'] = pd.to_datetime(df_train['Confirmation - Time']).dt.time\n",
        "df_train['Arrival at Pickup - Time'] = pd.to_datetime(df_train['Arrival at Pickup - Time']).dt.time\n",
        "df_train['Pickup - Time'] = pd.to_datetime(df_train['Pickup - Time']).dt.time"
      ],
      "execution_count": 0,
      "outputs": []
    },
    {
      "cell_type": "markdown",
      "metadata": {
        "id": "e-bWAn5E217B",
        "colab_type": "text"
      },
      "source": [
        "## Dropping columns"
      ]
    },
    {
      "cell_type": "code",
      "metadata": {
        "id": "d9SYEU3L23Ov",
        "colab_type": "code",
        "outputId": "9850a2d4-6ad8-466f-ad47-b9258ce0fcd5",
        "colab": {
          "base_uri": "https://localhost:8080/",
          "height": 34
        }
      },
      "source": [
        "df_train['Vehicle Type'].unique()"
      ],
      "execution_count": 0,
      "outputs": [
        {
          "output_type": "execute_result",
          "data": {
            "text/plain": [
              "array(['Bike'], dtype=object)"
            ]
          },
          "metadata": {
            "tags": []
          },
          "execution_count": 42
        }
      ]
    },
    {
      "cell_type": "markdown",
      "metadata": {
        "id": "6fq3xt9S24uR",
        "colab_type": "text"
      },
      "source": [
        "The `Vehicle Type` column only contains one value - Bike. This is redundant info, therefore we can drop this column."
      ]
    },
    {
      "cell_type": "code",
      "metadata": {
        "id": "mgdeRC7R26LZ",
        "colab_type": "code",
        "colab": {}
      },
      "source": [
        "# Reason for dropping various day columns is discussed above\n",
        "\n",
        "df_train.drop(['Vehicle Type', 'Placement - Day of Month',\n",
        "               'Placement - Weekday (Mo = 1)',\n",
        "               'Confirmation - Day of Month',\n",
        "               'Confirmation - Weekday (Mo = 1)',\n",
        "               'Arrival at Pickup - Day of Month',\n",
        "               'Arrival at Pickup - Weekday (Mo = 1)'], axis=1,\n",
        "              inplace = True)"
      ],
      "execution_count": 0,
      "outputs": []
    },
    {
      "cell_type": "markdown",
      "metadata": {
        "id": "0Cb1Ffvz3BsJ",
        "colab_type": "text"
      },
      "source": [
        "## Merge Train.csv with Riders.csv"
      ]
    },
    {
      "cell_type": "code",
      "metadata": {
        "id": "1aZA7Sp73E36",
        "colab_type": "code",
        "outputId": "f953293f-1871-458c-96c8-538a6ce1672c",
        "colab": {
          "base_uri": "https://localhost:8080/",
          "height": 282
        }
      },
      "source": [
        "merged_df = df_train.merge(df_riders, on='Rider Id')\n",
        "merged_df.head()"
      ],
      "execution_count": 0,
      "outputs": [
        {
          "output_type": "execute_result",
          "data": {
            "text/html": [
              "<div>\n",
              "<style scoped>\n",
              "    .dataframe tbody tr th:only-of-type {\n",
              "        vertical-align: middle;\n",
              "    }\n",
              "\n",
              "    .dataframe tbody tr th {\n",
              "        vertical-align: top;\n",
              "    }\n",
              "\n",
              "    .dataframe thead th {\n",
              "        text-align: right;\n",
              "    }\n",
              "</style>\n",
              "<table border=\"1\" class=\"dataframe\">\n",
              "  <thead>\n",
              "    <tr style=\"text-align: right;\">\n",
              "      <th></th>\n",
              "      <th>Order No</th>\n",
              "      <th>User Id</th>\n",
              "      <th>Platform Type</th>\n",
              "      <th>Personal or Business</th>\n",
              "      <th>Placement - Time</th>\n",
              "      <th>Confirmation - Time</th>\n",
              "      <th>Arrival at Pickup - Time</th>\n",
              "      <th>Pickup - Day of Month</th>\n",
              "      <th>Pickup - Weekday (Mo = 1)</th>\n",
              "      <th>Pickup - Time</th>\n",
              "      <th>Distance (KM)</th>\n",
              "      <th>Temperature</th>\n",
              "      <th>Precipitation in millimeters</th>\n",
              "      <th>Pickup Lat</th>\n",
              "      <th>Pickup Long</th>\n",
              "      <th>Destination Lat</th>\n",
              "      <th>Destination Long</th>\n",
              "      <th>Rider Id</th>\n",
              "      <th>Time from Pickup to Arrival</th>\n",
              "      <th>No_Of_Orders</th>\n",
              "      <th>Age</th>\n",
              "      <th>Average_Rating</th>\n",
              "      <th>No_of_Ratings</th>\n",
              "    </tr>\n",
              "  </thead>\n",
              "  <tbody>\n",
              "    <tr>\n",
              "      <th>0</th>\n",
              "      <td>Order_No_4211</td>\n",
              "      <td>User_Id_633</td>\n",
              "      <td>3</td>\n",
              "      <td>Business</td>\n",
              "      <td>09:35:46</td>\n",
              "      <td>09:40:10</td>\n",
              "      <td>10:04:47</td>\n",
              "      <td>9</td>\n",
              "      <td>5</td>\n",
              "      <td>10:27:30</td>\n",
              "      <td>4</td>\n",
              "      <td>20.4</td>\n",
              "      <td>0.0</td>\n",
              "      <td>-1.317755</td>\n",
              "      <td>36.830370</td>\n",
              "      <td>-1.300406</td>\n",
              "      <td>36.829741</td>\n",
              "      <td>Rider_Id_432</td>\n",
              "      <td>745</td>\n",
              "      <td>1637</td>\n",
              "      <td>1309</td>\n",
              "      <td>13.8</td>\n",
              "      <td>549</td>\n",
              "    </tr>\n",
              "    <tr>\n",
              "      <th>1</th>\n",
              "      <td>Order_No_27440</td>\n",
              "      <td>User_Id_2642</td>\n",
              "      <td>3</td>\n",
              "      <td>Personal</td>\n",
              "      <td>15:41:17</td>\n",
              "      <td>15:41:30</td>\n",
              "      <td>16:07:16</td>\n",
              "      <td>18</td>\n",
              "      <td>5</td>\n",
              "      <td>16:13:37</td>\n",
              "      <td>20</td>\n",
              "      <td>24.5</td>\n",
              "      <td>0.0</td>\n",
              "      <td>-1.326774</td>\n",
              "      <td>36.787807</td>\n",
              "      <td>-1.356237</td>\n",
              "      <td>36.904295</td>\n",
              "      <td>Rider_Id_432</td>\n",
              "      <td>2886</td>\n",
              "      <td>1637</td>\n",
              "      <td>1309</td>\n",
              "      <td>13.8</td>\n",
              "      <td>549</td>\n",
              "    </tr>\n",
              "    <tr>\n",
              "      <th>2</th>\n",
              "      <td>Order_No_14170</td>\n",
              "      <td>User_Id_3339</td>\n",
              "      <td>3</td>\n",
              "      <td>Business</td>\n",
              "      <td>12:51:41</td>\n",
              "      <td>13:12:49</td>\n",
              "      <td>13:20:02</td>\n",
              "      <td>31</td>\n",
              "      <td>5</td>\n",
              "      <td>13:33:08</td>\n",
              "      <td>6</td>\n",
              "      <td>24.7</td>\n",
              "      <td>0.0</td>\n",
              "      <td>-1.255189</td>\n",
              "      <td>36.782203</td>\n",
              "      <td>-1.273412</td>\n",
              "      <td>36.818206</td>\n",
              "      <td>Rider_Id_432</td>\n",
              "      <td>2615</td>\n",
              "      <td>1637</td>\n",
              "      <td>1309</td>\n",
              "      <td>13.8</td>\n",
              "      <td>549</td>\n",
              "    </tr>\n",
              "    <tr>\n",
              "      <th>3</th>\n",
              "      <td>Order_No_21727</td>\n",
              "      <td>User_Id_3523</td>\n",
              "      <td>3</td>\n",
              "      <td>Personal</td>\n",
              "      <td>07:12:10</td>\n",
              "      <td>07:12:29</td>\n",
              "      <td>07:35:24</td>\n",
              "      <td>2</td>\n",
              "      <td>2</td>\n",
              "      <td>07:38:46</td>\n",
              "      <td>18</td>\n",
              "      <td>15.2</td>\n",
              "      <td>0.0</td>\n",
              "      <td>-1.290315</td>\n",
              "      <td>36.757377</td>\n",
              "      <td>-1.223520</td>\n",
              "      <td>36.802061</td>\n",
              "      <td>Rider_Id_432</td>\n",
              "      <td>2986</td>\n",
              "      <td>1637</td>\n",
              "      <td>1309</td>\n",
              "      <td>13.8</td>\n",
              "      <td>549</td>\n",
              "    </tr>\n",
              "    <tr>\n",
              "      <th>4</th>\n",
              "      <td>Order_No_8301</td>\n",
              "      <td>User_Id_87</td>\n",
              "      <td>2</td>\n",
              "      <td>Personal</td>\n",
              "      <td>10:40:58</td>\n",
              "      <td>10:42:24</td>\n",
              "      <td>10:56:00</td>\n",
              "      <td>22</td>\n",
              "      <td>2</td>\n",
              "      <td>10:59:40</td>\n",
              "      <td>7</td>\n",
              "      <td>19.2</td>\n",
              "      <td>0.0</td>\n",
              "      <td>-1.273524</td>\n",
              "      <td>36.799220</td>\n",
              "      <td>-1.300431</td>\n",
              "      <td>36.752427</td>\n",
              "      <td>Rider_Id_432</td>\n",
              "      <td>1602</td>\n",
              "      <td>1637</td>\n",
              "      <td>1309</td>\n",
              "      <td>13.8</td>\n",
              "      <td>549</td>\n",
              "    </tr>\n",
              "  </tbody>\n",
              "</table>\n",
              "</div>"
            ],
            "text/plain": [
              "         Order No       User Id  ...  Average_Rating No_of_Ratings\n",
              "0   Order_No_4211   User_Id_633  ...            13.8           549\n",
              "1  Order_No_27440  User_Id_2642  ...            13.8           549\n",
              "2  Order_No_14170  User_Id_3339  ...            13.8           549\n",
              "3  Order_No_21727  User_Id_3523  ...            13.8           549\n",
              "4   Order_No_8301    User_Id_87  ...            13.8           549\n",
              "\n",
              "[5 rows x 23 columns]"
            ]
          },
          "metadata": {
            "tags": []
          },
          "execution_count": 44
        }
      ]
    },
    {
      "cell_type": "markdown",
      "metadata": {
        "id": "wBbvS-dSQDLQ",
        "colab_type": "text"
      },
      "source": [
        "## IDs\n",
        "\n",
        "This is definitely only a TEMPORARY \"solution\" "
      ]
    },
    {
      "cell_type": "code",
      "metadata": {
        "id": "2R1cSPBBQKoN",
        "colab_type": "code",
        "colab": {}
      },
      "source": [
        "# Function to return only number part of string\n",
        "def number_only(id):\n",
        "  return id.split('_')[-1]"
      ],
      "execution_count": 0,
      "outputs": []
    },
    {
      "cell_type": "code",
      "metadata": {
        "id": "ahtfNGtGQNdd",
        "colab_type": "code",
        "colab": {}
      },
      "source": [
        "merged_df['Order No'] = merged_df['Order No'].apply(number_only)\n",
        "merged_df['User Id'] = merged_df['User Id'].apply(number_only)\n",
        "merged_df['Rider Id'] = merged_df['Rider Id'].apply(number_only)"
      ],
      "execution_count": 0,
      "outputs": []
    },
    {
      "cell_type": "markdown",
      "metadata": {
        "id": "KkVtFoleQVH-",
        "colab_type": "text"
      },
      "source": [
        "## Encoding data"
      ]
    },
    {
      "cell_type": "markdown",
      "metadata": {
        "id": "qeySISMtQWb9",
        "colab_type": "text"
      },
      "source": [
        "### One-hot encoding for categorical data"
      ]
    },
    {
      "cell_type": "code",
      "metadata": {
        "id": "uChEGek4QYj0",
        "colab_type": "code",
        "colab": {}
      },
      "source": [
        "merged_df = pd.get_dummies(merged_df, columns=['Platform Type', 'Personal or Business'],\n",
        "                           prefix=['platformtype', 'personalbusiness'])"
      ],
      "execution_count": 0,
      "outputs": []
    },
    {
      "cell_type": "markdown",
      "metadata": {
        "id": "nQEz-N9GQmNF",
        "colab_type": "text"
      },
      "source": [
        "Until we have a better idea, I've split the time data into hours (the deliveries are often within the same hour or two so this is definitely a poor option)\n",
        "\n",
        "Time columns: \n",
        "\n",
        "*   `Placement - Time`\n",
        "*   `Confirmation - Time`\n",
        "*   `Arrival at Pickup - Time`\n",
        "*   `Pickup - Time`"
      ]
    },
    {
      "cell_type": "code",
      "metadata": {
        "id": "QQRZRhnsQxUN",
        "colab_type": "code",
        "colab": {}
      },
      "source": [
        "# Function to get only the hour from each time variable\n",
        "def get_hour(col):\n",
        "  return col.hour"
      ],
      "execution_count": 0,
      "outputs": []
    },
    {
      "cell_type": "code",
      "metadata": {
        "id": "KMU2_kNBQyd1",
        "colab_type": "code",
        "colab": {}
      },
      "source": [
        "merged_df['Placement_hour'] = merged_df['Placement - Time'].apply(get_hour)\n",
        "merged_df['Confirmation_hour'] = merged_df['Confirmation - Time'].apply(get_hour)\n",
        "merged_df['Arrival_pickup_hour'] = merged_df['Arrival at Pickup - Time'].apply(get_hour)\n",
        "merged_df['Pickup_hour'] = merged_df['Pickup - Time'].apply(get_hour)\n",
        "\n",
        "# Drop original time columns\n",
        "merged_df.drop(columns=['Placement - Time', 'Confirmation - Time',\n",
        "                'Arrival at Pickup - Time', 'Pickup - Time'], inplace = True)"
      ],
      "execution_count": 0,
      "outputs": []
    },
    {
      "cell_type": "code",
      "metadata": {
        "id": "ku2w0nsqQ0Yj",
        "colab_type": "code",
        "outputId": "f1ccd1fe-ff49-4d2a-e4e5-826e21079fc0",
        "colab": {
          "base_uri": "https://localhost:8080/",
          "height": 282
        }
      },
      "source": [
        "merged_df.head()"
      ],
      "execution_count": 0,
      "outputs": [
        {
          "output_type": "execute_result",
          "data": {
            "text/html": [
              "<div>\n",
              "<style scoped>\n",
              "    .dataframe tbody tr th:only-of-type {\n",
              "        vertical-align: middle;\n",
              "    }\n",
              "\n",
              "    .dataframe tbody tr th {\n",
              "        vertical-align: top;\n",
              "    }\n",
              "\n",
              "    .dataframe thead th {\n",
              "        text-align: right;\n",
              "    }\n",
              "</style>\n",
              "<table border=\"1\" class=\"dataframe\">\n",
              "  <thead>\n",
              "    <tr style=\"text-align: right;\">\n",
              "      <th></th>\n",
              "      <th>Order No</th>\n",
              "      <th>User Id</th>\n",
              "      <th>Pickup - Day of Month</th>\n",
              "      <th>Pickup - Weekday (Mo = 1)</th>\n",
              "      <th>Distance (KM)</th>\n",
              "      <th>Temperature</th>\n",
              "      <th>Precipitation in millimeters</th>\n",
              "      <th>Pickup Lat</th>\n",
              "      <th>Pickup Long</th>\n",
              "      <th>Destination Lat</th>\n",
              "      <th>Destination Long</th>\n",
              "      <th>Rider Id</th>\n",
              "      <th>Time from Pickup to Arrival</th>\n",
              "      <th>No_Of_Orders</th>\n",
              "      <th>Age</th>\n",
              "      <th>Average_Rating</th>\n",
              "      <th>No_of_Ratings</th>\n",
              "      <th>platformtype_1</th>\n",
              "      <th>platformtype_2</th>\n",
              "      <th>platformtype_3</th>\n",
              "      <th>platformtype_4</th>\n",
              "      <th>personalbusiness_Business</th>\n",
              "      <th>personalbusiness_Personal</th>\n",
              "      <th>Placement_hour</th>\n",
              "      <th>Confirmation_hour</th>\n",
              "      <th>Arrival_pickup_hour</th>\n",
              "      <th>Pickup_hour</th>\n",
              "    </tr>\n",
              "  </thead>\n",
              "  <tbody>\n",
              "    <tr>\n",
              "      <th>0</th>\n",
              "      <td>4211</td>\n",
              "      <td>633</td>\n",
              "      <td>9</td>\n",
              "      <td>5</td>\n",
              "      <td>4</td>\n",
              "      <td>20.4</td>\n",
              "      <td>0.0</td>\n",
              "      <td>-1.317755</td>\n",
              "      <td>36.830370</td>\n",
              "      <td>-1.300406</td>\n",
              "      <td>36.829741</td>\n",
              "      <td>432</td>\n",
              "      <td>745</td>\n",
              "      <td>1637</td>\n",
              "      <td>1309</td>\n",
              "      <td>13.8</td>\n",
              "      <td>549</td>\n",
              "      <td>0</td>\n",
              "      <td>0</td>\n",
              "      <td>1</td>\n",
              "      <td>0</td>\n",
              "      <td>1</td>\n",
              "      <td>0</td>\n",
              "      <td>9</td>\n",
              "      <td>9</td>\n",
              "      <td>10</td>\n",
              "      <td>10</td>\n",
              "    </tr>\n",
              "    <tr>\n",
              "      <th>1</th>\n",
              "      <td>27440</td>\n",
              "      <td>2642</td>\n",
              "      <td>18</td>\n",
              "      <td>5</td>\n",
              "      <td>20</td>\n",
              "      <td>24.5</td>\n",
              "      <td>0.0</td>\n",
              "      <td>-1.326774</td>\n",
              "      <td>36.787807</td>\n",
              "      <td>-1.356237</td>\n",
              "      <td>36.904295</td>\n",
              "      <td>432</td>\n",
              "      <td>2886</td>\n",
              "      <td>1637</td>\n",
              "      <td>1309</td>\n",
              "      <td>13.8</td>\n",
              "      <td>549</td>\n",
              "      <td>0</td>\n",
              "      <td>0</td>\n",
              "      <td>1</td>\n",
              "      <td>0</td>\n",
              "      <td>0</td>\n",
              "      <td>1</td>\n",
              "      <td>15</td>\n",
              "      <td>15</td>\n",
              "      <td>16</td>\n",
              "      <td>16</td>\n",
              "    </tr>\n",
              "    <tr>\n",
              "      <th>2</th>\n",
              "      <td>14170</td>\n",
              "      <td>3339</td>\n",
              "      <td>31</td>\n",
              "      <td>5</td>\n",
              "      <td>6</td>\n",
              "      <td>24.7</td>\n",
              "      <td>0.0</td>\n",
              "      <td>-1.255189</td>\n",
              "      <td>36.782203</td>\n",
              "      <td>-1.273412</td>\n",
              "      <td>36.818206</td>\n",
              "      <td>432</td>\n",
              "      <td>2615</td>\n",
              "      <td>1637</td>\n",
              "      <td>1309</td>\n",
              "      <td>13.8</td>\n",
              "      <td>549</td>\n",
              "      <td>0</td>\n",
              "      <td>0</td>\n",
              "      <td>1</td>\n",
              "      <td>0</td>\n",
              "      <td>1</td>\n",
              "      <td>0</td>\n",
              "      <td>12</td>\n",
              "      <td>13</td>\n",
              "      <td>13</td>\n",
              "      <td>13</td>\n",
              "    </tr>\n",
              "    <tr>\n",
              "      <th>3</th>\n",
              "      <td>21727</td>\n",
              "      <td>3523</td>\n",
              "      <td>2</td>\n",
              "      <td>2</td>\n",
              "      <td>18</td>\n",
              "      <td>15.2</td>\n",
              "      <td>0.0</td>\n",
              "      <td>-1.290315</td>\n",
              "      <td>36.757377</td>\n",
              "      <td>-1.223520</td>\n",
              "      <td>36.802061</td>\n",
              "      <td>432</td>\n",
              "      <td>2986</td>\n",
              "      <td>1637</td>\n",
              "      <td>1309</td>\n",
              "      <td>13.8</td>\n",
              "      <td>549</td>\n",
              "      <td>0</td>\n",
              "      <td>0</td>\n",
              "      <td>1</td>\n",
              "      <td>0</td>\n",
              "      <td>0</td>\n",
              "      <td>1</td>\n",
              "      <td>7</td>\n",
              "      <td>7</td>\n",
              "      <td>7</td>\n",
              "      <td>7</td>\n",
              "    </tr>\n",
              "    <tr>\n",
              "      <th>4</th>\n",
              "      <td>8301</td>\n",
              "      <td>87</td>\n",
              "      <td>22</td>\n",
              "      <td>2</td>\n",
              "      <td>7</td>\n",
              "      <td>19.2</td>\n",
              "      <td>0.0</td>\n",
              "      <td>-1.273524</td>\n",
              "      <td>36.799220</td>\n",
              "      <td>-1.300431</td>\n",
              "      <td>36.752427</td>\n",
              "      <td>432</td>\n",
              "      <td>1602</td>\n",
              "      <td>1637</td>\n",
              "      <td>1309</td>\n",
              "      <td>13.8</td>\n",
              "      <td>549</td>\n",
              "      <td>0</td>\n",
              "      <td>1</td>\n",
              "      <td>0</td>\n",
              "      <td>0</td>\n",
              "      <td>0</td>\n",
              "      <td>1</td>\n",
              "      <td>10</td>\n",
              "      <td>10</td>\n",
              "      <td>10</td>\n",
              "      <td>10</td>\n",
              "    </tr>\n",
              "  </tbody>\n",
              "</table>\n",
              "</div>"
            ],
            "text/plain": [
              "  Order No User Id  ...  Arrival_pickup_hour  Pickup_hour\n",
              "0     4211     633  ...                   10           10\n",
              "1    27440    2642  ...                   16           16\n",
              "2    14170    3339  ...                   13           13\n",
              "3    21727    3523  ...                    7            7\n",
              "4     8301      87  ...                   10           10\n",
              "\n",
              "[5 rows x 27 columns]"
            ]
          },
          "metadata": {
            "tags": []
          },
          "execution_count": 50
        }
      ]
    },
    {
      "cell_type": "markdown",
      "metadata": {
        "id": "XJ2Rndk5Q1lt",
        "colab_type": "text"
      },
      "source": [
        "## Correlations"
      ]
    },
    {
      "cell_type": "code",
      "metadata": {
        "id": "4L3cesamQ3ad",
        "colab_type": "code",
        "outputId": "f2aaad50-ef4f-4445-a3ad-a1be3c8c0f1c",
        "colab": {
          "base_uri": "https://localhost:8080/",
          "height": 1000
        }
      },
      "source": [
        "from statsmodels.graphics.correlation import plot_corr\n",
        "\n",
        "fig = plt.figure(figsize=(15,15))\n",
        "ax = fig.add_subplot(111)\n",
        "plot_corr(merged_df.corr(), xnames = merged_df.corr().columns, ax=ax)"
      ],
      "execution_count": 0,
      "outputs": [
        {
          "output_type": "execute_result",
          "data": {
            "image/png": "[encoded data removed]",
            "text/plain": [
              "<Figure size 1080x1080 with 1 Axes>"
            ]
          },
          "metadata": {
            "tags": []
          },
          "execution_count": 51
        },
        {
          "output_type": "display_data",
          "data": {
            "image/png": "[encoded data removed]",
            "text/plain": [
              "<Figure size 1080x1080 with 1 Axes>"
            ]
          },
          "metadata": {
            "tags": []
          }
        }
      ]
    },
    {
      "cell_type": "markdown",
      "metadata": {
        "id": "MM-3nlJARDGw",
        "colab_type": "text"
      },
      "source": [
        "We can see here that the hourly solution for the time columns is poor and needs improvement."
      ]
    },
    {
      "cell_type": "markdown",
      "metadata": {
        "id": "FeZROxrjRLsi",
        "colab_type": "text"
      },
      "source": [
        "# Multiple Linear Regression"
      ]
    },
    {
      "cell_type": "code",
      "metadata": {
        "id": "-0s25iTzRNd1",
        "colab_type": "code",
        "colab": {}
      },
      "source": [
        "# Reorder columns so that dependent variable is the last column of the dataframe\n",
        "column_titles = [col for col in merged_df.columns if col!= 'Time from Pickup to Arrival'] + ['Time from Pickup to Arrival']\n",
        "merged_df = merged_df.reindex(columns=column_titles)\n",
        "\n",
        "X = merged_df.iloc[:, :-1]\n",
        "y = merged_df.iloc[:, -1]"
      ],
      "execution_count": 0,
      "outputs": []
    },
    {
      "cell_type": "code",
      "metadata": {
        "id": "DVqpTwX7ROa-",
        "colab_type": "code",
        "outputId": "865c5df9-360b-4fdf-ca6a-7c6f1cb86b43",
        "colab": {
          "base_uri": "https://localhost:8080/",
          "height": 34
        }
      },
      "source": [
        "# Import LinearRegression module and create object\n",
        "from sklearn.linear_model import LinearRegression\n",
        "lm = LinearRegression()\n",
        "\n",
        "# Fit a linear regression model\n",
        "lm.fit(X, y)"
      ],
      "execution_count": 0,
      "outputs": [
        {
          "output_type": "execute_result",
          "data": {
            "text/plain": [
              "LinearRegression(copy_X=True, fit_intercept=True, n_jobs=None, normalize=False)"
            ]
          },
          "metadata": {
            "tags": []
          },
          "execution_count": 58
        }
      ]
    },
    {
      "cell_type": "code",
      "metadata": {
        "id": "jQh6yhtXRVrG",
        "colab_type": "code",
        "outputId": "05946702-0cc4-4d44-df2c-5b53a979e388",
        "colab": {
          "base_uri": "https://localhost:8080/",
          "height": 34
        }
      },
      "source": [
        "# Inspecting coefficients to better understand  their influence\n",
        "beta_0 = float(lm.intercept_)\n",
        "\n",
        "# Extract model coefficients\n",
        "beta_js = pd.DataFrame(lm.coef_, X.columns, columns=['Coefficient'])\n",
        "\n",
        "print(\"Intercept: \", beta_0)"
      ],
      "execution_count": 0,
      "outputs": [
        {
          "output_type": "stream",
          "text": [
            "Intercept:  45125.09644308635\n"
          ],
          "name": "stdout"
        }
      ]
    },
    {
      "cell_type": "code",
      "metadata": {
        "id": "fMmBDIs7RXjN",
        "colab_type": "code",
        "outputId": "19f817bc-a001-4096-8b14-c8cf5ca35b96",
        "colab": {
          "base_uri": "https://localhost:8080/",
          "height": 817
        }
      },
      "source": [
        "beta_js"
      ],
      "execution_count": 0,
      "outputs": [
        {
          "output_type": "execute_result",
          "data": {
            "text/html": [
              "<div>\n",
              "<style scoped>\n",
              "    .dataframe tbody tr th:only-of-type {\n",
              "        vertical-align: middle;\n",
              "    }\n",
              "\n",
              "    .dataframe tbody tr th {\n",
              "        vertical-align: top;\n",
              "    }\n",
              "\n",
              "    .dataframe thead th {\n",
              "        text-align: right;\n",
              "    }\n",
              "</style>\n",
              "<table border=\"1\" class=\"dataframe\">\n",
              "  <thead>\n",
              "    <tr style=\"text-align: right;\">\n",
              "      <th></th>\n",
              "      <th>Coefficient</th>\n",
              "    </tr>\n",
              "  </thead>\n",
              "  <tbody>\n",
              "    <tr>\n",
              "      <th>Order No</th>\n",
              "      <td>-0.001559</td>\n",
              "    </tr>\n",
              "    <tr>\n",
              "      <th>User Id</th>\n",
              "      <td>0.010080</td>\n",
              "    </tr>\n",
              "    <tr>\n",
              "      <th>Pickup - Day of Month</th>\n",
              "      <td>-0.866088</td>\n",
              "    </tr>\n",
              "    <tr>\n",
              "      <th>Pickup - Weekday (Mo = 1)</th>\n",
              "      <td>4.816025</td>\n",
              "    </tr>\n",
              "    <tr>\n",
              "      <th>Distance (KM)</th>\n",
              "      <td>102.988380</td>\n",
              "    </tr>\n",
              "    <tr>\n",
              "      <th>Temperature</th>\n",
              "      <td>1.215493</td>\n",
              "    </tr>\n",
              "    <tr>\n",
              "      <th>Precipitation in millimeters</th>\n",
              "      <td>2.841832</td>\n",
              "    </tr>\n",
              "    <tr>\n",
              "      <th>Pickup Lat</th>\n",
              "      <td>293.798251</td>\n",
              "    </tr>\n",
              "    <tr>\n",
              "      <th>Pickup Long</th>\n",
              "      <td>-1003.648703</td>\n",
              "    </tr>\n",
              "    <tr>\n",
              "      <th>Destination Lat</th>\n",
              "      <td>-478.693498</td>\n",
              "    </tr>\n",
              "    <tr>\n",
              "      <th>Destination Long</th>\n",
              "      <td>-202.207100</td>\n",
              "    </tr>\n",
              "    <tr>\n",
              "      <th>Rider Id</th>\n",
              "      <td>0.027643</td>\n",
              "    </tr>\n",
              "    <tr>\n",
              "      <th>No_Of_Orders</th>\n",
              "      <td>-0.092151</td>\n",
              "    </tr>\n",
              "    <tr>\n",
              "      <th>Age</th>\n",
              "      <td>0.006391</td>\n",
              "    </tr>\n",
              "    <tr>\n",
              "      <th>Average_Rating</th>\n",
              "      <td>-41.017857</td>\n",
              "    </tr>\n",
              "    <tr>\n",
              "      <th>No_of_Ratings</th>\n",
              "      <td>0.251858</td>\n",
              "    </tr>\n",
              "    <tr>\n",
              "      <th>platformtype_1</th>\n",
              "      <td>31.749991</td>\n",
              "    </tr>\n",
              "    <tr>\n",
              "      <th>platformtype_2</th>\n",
              "      <td>36.635815</td>\n",
              "    </tr>\n",
              "    <tr>\n",
              "      <th>platformtype_3</th>\n",
              "      <td>82.395192</td>\n",
              "    </tr>\n",
              "    <tr>\n",
              "      <th>platformtype_4</th>\n",
              "      <td>-150.780998</td>\n",
              "    </tr>\n",
              "    <tr>\n",
              "      <th>personalbusiness_Business</th>\n",
              "      <td>-23.761037</td>\n",
              "    </tr>\n",
              "    <tr>\n",
              "      <th>personalbusiness_Personal</th>\n",
              "      <td>23.761037</td>\n",
              "    </tr>\n",
              "    <tr>\n",
              "      <th>Placement_hour</th>\n",
              "      <td>-108.317629</td>\n",
              "    </tr>\n",
              "    <tr>\n",
              "      <th>Confirmation_hour</th>\n",
              "      <td>29.017040</td>\n",
              "    </tr>\n",
              "    <tr>\n",
              "      <th>Arrival_pickup_hour</th>\n",
              "      <td>212.694098</td>\n",
              "    </tr>\n",
              "    <tr>\n",
              "      <th>Pickup_hour</th>\n",
              "      <td>-122.891808</td>\n",
              "    </tr>\n",
              "  </tbody>\n",
              "</table>\n",
              "</div>"
            ],
            "text/plain": [
              "                              Coefficient\n",
              "Order No                        -0.001559\n",
              "User Id                          0.010080\n",
              "Pickup - Day of Month           -0.866088\n",
              "Pickup - Weekday (Mo = 1)        4.816025\n",
              "Distance (KM)                  102.988380\n",
              "Temperature                      1.215493\n",
              "Precipitation in millimeters     2.841832\n",
              "Pickup Lat                     293.798251\n",
              "Pickup Long                  -1003.648703\n",
              "Destination Lat               -478.693498\n",
              "Destination Long              -202.207100\n",
              "Rider Id                         0.027643\n",
              "No_Of_Orders                    -0.092151\n",
              "Age                              0.006391\n",
              "Average_Rating                 -41.017857\n",
              "No_of_Ratings                    0.251858\n",
              "platformtype_1                  31.749991\n",
              "platformtype_2                  36.635815\n",
              "platformtype_3                  82.395192\n",
              "platformtype_4                -150.780998\n",
              "personalbusiness_Business      -23.761037\n",
              "personalbusiness_Personal       23.761037\n",
              "Placement_hour                -108.317629\n",
              "Confirmation_hour               29.017040\n",
              "Arrival_pickup_hour            212.694098\n",
              "Pickup_hour                   -122.891808"
            ]
          },
          "metadata": {
            "tags": []
          },
          "execution_count": 60
        }
      ]
    },
    {
      "cell_type": "markdown",
      "metadata": {
        "id": "RuxO4CMxRatK",
        "colab_type": "text"
      },
      "source": [
        "## Assessing model accuracy"
      ]
    },
    {
      "cell_type": "code",
      "metadata": {
        "id": "OBDuwO8hRc8u",
        "colab_type": "code",
        "outputId": "42aa33b7-e2c8-4d56-a642-a308f01ee3c7",
        "colab": {
          "base_uri": "https://localhost:8080/",
          "height": 34
        }
      },
      "source": [
        "from sklearn import metrics\n",
        "import math\n",
        "\n",
        "print(\"Training MSE:\", metrics.mean_squared_error(y, lm.predict(X)))"
      ],
      "execution_count": 0,
      "outputs": [
        {
          "output_type": "stream",
          "text": [
            "Training MSE: 627231.0546426157\n"
          ],
          "name": "stdout"
        }
      ]
    },
    {
      "cell_type": "markdown",
      "metadata": {
        "id": "2hScptBdTqoy",
        "colab_type": "text"
      },
      "source": [
        "# LASSO Regression"
      ]
    },
    {
      "cell_type": "code",
      "metadata": {
        "id": "UrNq-JwPTskO",
        "colab_type": "code",
        "outputId": "b8ed777b-4582-489b-cae3-2521853947b9",
        "colab": {
          "base_uri": "https://localhost:8080/",
          "height": 34
        }
      },
      "source": [
        "from sklearn.linear_model import Lasso\n",
        "lasso = Lasso(alpha=0.01)\n",
        "lasso.fit(X, y)\n",
        "\n",
        "lasso_int = float(lasso.intercept_)\n",
        "lasso_coeff = pd.DataFrame(lasso.coef_, X.columns, columns = ['Coefficient'])\n",
        "print('Intercept: ', float(lasso_int))"
      ],
      "execution_count": 0,
      "outputs": [
        {
          "output_type": "stream",
          "text": [
            "Intercept:  44792.14735688985\n"
          ],
          "name": "stdout"
        }
      ]
    },
    {
      "cell_type": "code",
      "metadata": {
        "id": "l_v9fuGSTxmm",
        "colab_type": "code",
        "outputId": "30a07fd9-1c6d-4f61-c129-fab14b0f3ee6",
        "colab": {
          "base_uri": "https://localhost:8080/",
          "height": 817
        }
      },
      "source": [
        "lasso_coeff"
      ],
      "execution_count": 0,
      "outputs": [
        {
          "output_type": "execute_result",
          "data": {
            "text/html": [
              "<div>\n",
              "<style scoped>\n",
              "    .dataframe tbody tr th:only-of-type {\n",
              "        vertical-align: middle;\n",
              "    }\n",
              "\n",
              "    .dataframe tbody tr th {\n",
              "        vertical-align: top;\n",
              "    }\n",
              "\n",
              "    .dataframe thead th {\n",
              "        text-align: right;\n",
              "    }\n",
              "</style>\n",
              "<table border=\"1\" class=\"dataframe\">\n",
              "  <thead>\n",
              "    <tr style=\"text-align: right;\">\n",
              "      <th></th>\n",
              "      <th>Coefficient</th>\n",
              "    </tr>\n",
              "  </thead>\n",
              "  <tbody>\n",
              "    <tr>\n",
              "      <th>Order No</th>\n",
              "      <td>-1.559925e-03</td>\n",
              "    </tr>\n",
              "    <tr>\n",
              "      <th>User Id</th>\n",
              "      <td>1.010511e-02</td>\n",
              "    </tr>\n",
              "    <tr>\n",
              "      <th>Pickup - Day of Month</th>\n",
              "      <td>-8.661795e-01</td>\n",
              "    </tr>\n",
              "    <tr>\n",
              "      <th>Pickup - Weekday (Mo = 1)</th>\n",
              "      <td>4.811773e+00</td>\n",
              "    </tr>\n",
              "    <tr>\n",
              "      <th>Distance (KM)</th>\n",
              "      <td>1.029715e+02</td>\n",
              "    </tr>\n",
              "    <tr>\n",
              "      <th>Temperature</th>\n",
              "      <td>1.213333e+00</td>\n",
              "    </tr>\n",
              "    <tr>\n",
              "      <th>Precipitation in millimeters</th>\n",
              "      <td>2.840634e+00</td>\n",
              "    </tr>\n",
              "    <tr>\n",
              "      <th>Pickup Lat</th>\n",
              "      <td>2.821767e+02</td>\n",
              "    </tr>\n",
              "    <tr>\n",
              "      <th>Pickup Long</th>\n",
              "      <td>-9.980954e+02</td>\n",
              "    </tr>\n",
              "    <tr>\n",
              "      <th>Destination Lat</th>\n",
              "      <td>-4.700542e+02</td>\n",
              "    </tr>\n",
              "    <tr>\n",
              "      <th>Destination Long</th>\n",
              "      <td>-1.971860e+02</td>\n",
              "    </tr>\n",
              "    <tr>\n",
              "      <th>Rider Id</th>\n",
              "      <td>2.764418e-02</td>\n",
              "    </tr>\n",
              "    <tr>\n",
              "      <th>No_Of_Orders</th>\n",
              "      <td>-9.216557e-02</td>\n",
              "    </tr>\n",
              "    <tr>\n",
              "      <th>Age</th>\n",
              "      <td>6.395565e-03</td>\n",
              "    </tr>\n",
              "    <tr>\n",
              "      <th>Average_Rating</th>\n",
              "      <td>-4.100195e+01</td>\n",
              "    </tr>\n",
              "    <tr>\n",
              "      <th>No_of_Ratings</th>\n",
              "      <td>2.519081e-01</td>\n",
              "    </tr>\n",
              "    <tr>\n",
              "      <th>platformtype_1</th>\n",
              "      <td>-4.592488e+00</td>\n",
              "    </tr>\n",
              "    <tr>\n",
              "      <th>platformtype_2</th>\n",
              "      <td>6.607144e-05</td>\n",
              "    </tr>\n",
              "    <tr>\n",
              "      <th>platformtype_3</th>\n",
              "      <td>4.580565e+01</td>\n",
              "    </tr>\n",
              "    <tr>\n",
              "      <th>platformtype_4</th>\n",
              "      <td>-1.772575e+02</td>\n",
              "    </tr>\n",
              "    <tr>\n",
              "      <th>personalbusiness_Business</th>\n",
              "      <td>-4.739080e+01</td>\n",
              "    </tr>\n",
              "    <tr>\n",
              "      <th>personalbusiness_Personal</th>\n",
              "      <td>4.133681e-14</td>\n",
              "    </tr>\n",
              "    <tr>\n",
              "      <th>Placement_hour</th>\n",
              "      <td>-1.081152e+02</td>\n",
              "    </tr>\n",
              "    <tr>\n",
              "      <th>Confirmation_hour</th>\n",
              "      <td>2.888001e+01</td>\n",
              "    </tr>\n",
              "    <tr>\n",
              "      <th>Arrival_pickup_hour</th>\n",
              "      <td>2.126162e+02</td>\n",
              "    </tr>\n",
              "    <tr>\n",
              "      <th>Pickup_hour</th>\n",
              "      <td>-1.228715e+02</td>\n",
              "    </tr>\n",
              "  </tbody>\n",
              "</table>\n",
              "</div>"
            ],
            "text/plain": [
              "                               Coefficient\n",
              "Order No                     -1.559925e-03\n",
              "User Id                       1.010511e-02\n",
              "Pickup - Day of Month        -8.661795e-01\n",
              "Pickup - Weekday (Mo = 1)     4.811773e+00\n",
              "Distance (KM)                 1.029715e+02\n",
              "Temperature                   1.213333e+00\n",
              "Precipitation in millimeters  2.840634e+00\n",
              "Pickup Lat                    2.821767e+02\n",
              "Pickup Long                  -9.980954e+02\n",
              "Destination Lat              -4.700542e+02\n",
              "Destination Long             -1.971860e+02\n",
              "Rider Id                      2.764418e-02\n",
              "No_Of_Orders                 -9.216557e-02\n",
              "Age                           6.395565e-03\n",
              "Average_Rating               -4.100195e+01\n",
              "No_of_Ratings                 2.519081e-01\n",
              "platformtype_1               -4.592488e+00\n",
              "platformtype_2                6.607144e-05\n",
              "platformtype_3                4.580565e+01\n",
              "platformtype_4               -1.772575e+02\n",
              "personalbusiness_Business    -4.739080e+01\n",
              "personalbusiness_Personal     4.133681e-14\n",
              "Placement_hour               -1.081152e+02\n",
              "Confirmation_hour             2.888001e+01\n",
              "Arrival_pickup_hour           2.126162e+02\n",
              "Pickup_hour                  -1.228715e+02"
            ]
          },
          "metadata": {
            "tags": []
          },
          "execution_count": 63
        }
      ]
    },
    {
      "cell_type": "code",
      "metadata": {
        "id": "vE8NGfRQTzU2",
        "colab_type": "code",
        "outputId": "0e5a10c6-105f-496b-a356-4ca26067dc5d",
        "colab": {
          "base_uri": "https://localhost:8080/",
          "height": 34
        }
      },
      "source": [
        "# Make training set predictions\n",
        "print('Training MSE: ', metrics.mean_squared_error(y, lasso.predict(X)))"
      ],
      "execution_count": 0,
      "outputs": [
        {
          "output_type": "stream",
          "text": [
            "Training MSE:  627231.4731224688\n"
          ],
          "name": "stdout"
        }
      ]
    },
    {
      "cell_type": "markdown",
      "metadata": {
        "id": "1Mn-OeUT6AsJ",
        "colab_type": "text"
      },
      "source": [
        "#Dunyiswa"
      ]
    },
    {
      "cell_type": "code",
      "metadata": {
        "id": "hm0C3pvN6DXE",
        "colab_type": "code",
        "colab": {}
      },
      "source": [
        ""
      ],
      "execution_count": 0,
      "outputs": []
    },
    {
      "cell_type": "markdown",
      "metadata": {
        "id": "WVlU2Csr6Hsy",
        "colab_type": "text"
      },
      "source": [
        "#Monica"
      ]
    },
    {
      "cell_type": "markdown",
      "metadata": {
        "id": "6qI3wfnG6Km-",
        "colab_type": "text"
      },
      "source": [
        "#Monique"
      ]
    },
    {
      "cell_type": "code",
      "metadata": {
        "id": "pWQzxmhivxRK",
        "colab_type": "code",
        "colab": {}
      },
      "source": [
        ""
      ],
      "execution_count": 0,
      "outputs": []
    },
    {
      "cell_type": "markdown",
      "metadata": {
        "id": "vNgMv-gQ6QUz",
        "colab_type": "text"
      },
      "source": [
        "#Rachel"
      ]
    },
    {
      "cell_type": "code",
      "metadata": {
        "id": "w9NSClPr6R3V",
        "colab_type": "code",
        "colab": {}
      },
      "source": [
        ""
      ],
      "execution_count": 0,
      "outputs": []
    },
    {
      "cell_type": "markdown",
      "metadata": {
        "id": "2QYvmS036Sik",
        "colab_type": "text"
      },
      "source": [
        "#Wright"
      ]
    },
    {
      "cell_type": "code",
      "metadata": {
        "id": "deo_Xn_36TrE",
        "colab_type": "code",
        "colab": {}
      },
      "source": [
        ""
      ],
      "execution_count": 0,
      "outputs": []
    }
  ]
}