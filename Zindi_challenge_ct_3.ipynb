{
  "nbformat": 4,
  "nbformat_minor": 0,
  "metadata": {
    "colab": {
      "name": "Zindi_challenge_ct_3.ipynb",
      "provenance": [],
      "include_colab_link": true
    },
    "kernelspec": {
      "name": "python3",
      "display_name": "Python 3"
    }
  },
  "cells": [
    {
      "cell_type": "markdown",
      "metadata": {
        "id": "view-in-github",
        "colab_type": "text"
      },
      "source": [
        "<a href=\"https://colab.research.google.com/github/monicafar147/regression-predict-api-template/blob/master/Zindi_challenge_ct_3.ipynb\" target=\"_parent\"><img src=\"https://colab.research.google.com/assets/colab-badge.svg\" alt=\"Open In Colab\"/></a>"
      ]
    },
    {
      "cell_type": "markdown",
      "metadata": {
        "id": "hAX8gu_4wbFC",
        "colab_type": "text"
      },
      "source": [
        "*   make sure you are working in your own branch that you cloned from git\n",
        "*   to commit your notebook changes to git:\n",
        "1.   file\n",
        "2.   save a copy in github\n",
        "3.   choose your branch from branches dropdown\n",
        "4.   change commit message to what you did e.g. \"fixed dataframe indexes\"\n",
        "5.   click ok\n",
        "\n",
        "\n",
        "\n"
      ]
    },
    {
      "cell_type": "markdown",
      "metadata": {
        "id": "Vze6gxh233Cv",
        "colab_type": "text"
      },
      "source": [
        "#Data Preprocessing Tools"
      ]
    },
    {
      "cell_type": "markdown",
      "metadata": {
        "id": "dxxnvNRI38PD",
        "colab_type": "text"
      },
      "source": [
        "##Importing the libraries"
      ]
    },
    {
      "cell_type": "code",
      "metadata": {
        "id": "NtX8B5SK33nU",
        "colab_type": "code",
        "colab": {}
      },
      "source": [
        "import numpy as np\n",
        "import matplotlib.pyplot as plt\n",
        "import pandas as pd"
      ],
      "execution_count": 0,
      "outputs": []
    },
    {
      "cell_type": "markdown",
      "metadata": {
        "id": "i6eGTd244Ggo",
        "colab_type": "text"
      },
      "source": [
        "##Importing the dataset"
      ]
    },
    {
      "cell_type": "code",
      "metadata": {
        "id": "M5RO7FhQ39gi",
        "colab_type": "code",
        "colab": {}
      },
      "source": [
        "dataset = pd.read_csv('Train.csv')\n",
        "X = dataset.iloc[:, :-1].values\n",
        "y = dataset.iloc[:, -1].values"
      ],
      "execution_count": 0,
      "outputs": []
    },
    {
      "cell_type": "code",
      "metadata": {
        "id": "CYJJ4MDO4S-E",
        "colab_type": "code",
        "colab": {
          "base_uri": "https://localhost:8080/",
          "height": 228
        },
        "outputId": "06ffda1e-6bd9-4438-ab2d-0eb0cb8fca89"
      },
      "source": [
        "print(X)"
      ],
      "execution_count": 3,
      "outputs": [
        {
          "output_type": "stream",
          "text": [
            "[['Order_No_4211' 'User_Id_633' 'Bike' ... -1.3004062 36.829741\n",
            "  'Rider_Id_432']\n",
            " ['Order_No_25375' 'User_Id_2285' 'Bike' ... -1.2950041\n",
            "  36.814358299999995 'Rider_Id_856']\n",
            " ['Order_No_1899' 'User_Id_265' 'Bike' ... -1.300921 36.828195\n",
            "  'Rider_Id_155']\n",
            " ...\n",
            " ['Order_No_2831' 'User_Id_2956' 'Bike' ... -1.2584143 36.8048002\n",
            "  'Rider_Id_697']\n",
            " ['Order_No_6174' 'User_Id_2524' 'Bike' ... -1.2792094999999999\n",
            "  36.7948725 'Rider_Id_347']\n",
            " ['Order_No_9836' 'User_Id_718' 'Bike' ... -1.320157 36.830887\n",
            "  'Rider_Id_177']]\n"
          ],
          "name": "stdout"
        }
      ]
    },
    {
      "cell_type": "code",
      "metadata": {
        "id": "2zQjV2sG4z_U",
        "colab_type": "code",
        "colab": {
          "base_uri": "https://localhost:8080/",
          "height": 33
        },
        "outputId": "01ed2392-4af9-4881-d513-bde86a6f0849"
      },
      "source": [
        "print(y)"
      ],
      "execution_count": 4,
      "outputs": [
        {
          "output_type": "stream",
          "text": [
            "[ 745 1993  455 ... 2953 1380 2128]\n"
          ],
          "name": "stdout"
        }
      ]
    },
    {
      "cell_type": "markdown",
      "metadata": {
        "id": "n72VrYwi473c",
        "colab_type": "text"
      },
      "source": [
        "## Taking care of missing data"
      ]
    },
    {
      "cell_type": "code",
      "metadata": {
        "id": "0UbsDWc95zbS",
        "colab_type": "code",
        "colab": {}
      },
      "source": [
        ""
      ],
      "execution_count": 0,
      "outputs": []
    },
    {
      "cell_type": "markdown",
      "metadata": {
        "id": "hlwyQau55HEc",
        "colab_type": "text"
      },
      "source": [
        "## Encoding categorical data"
      ]
    },
    {
      "cell_type": "markdown",
      "metadata": {
        "id": "8OHbdcBe5L-C",
        "colab_type": "text"
      },
      "source": [
        "### Encoding the Independent Variable"
      ]
    },
    {
      "cell_type": "code",
      "metadata": {
        "id": "MAnOMJHk50La",
        "colab_type": "code",
        "colab": {}
      },
      "source": [
        ""
      ],
      "execution_count": 0,
      "outputs": []
    },
    {
      "cell_type": "markdown",
      "metadata": {
        "id": "IC-69z4v5QvB",
        "colab_type": "text"
      },
      "source": [
        "### Encoding the Dependent Variable"
      ]
    },
    {
      "cell_type": "code",
      "metadata": {
        "id": "qbc0l4Qe5RHi",
        "colab_type": "code",
        "colab": {}
      },
      "source": [
        ""
      ],
      "execution_count": 0,
      "outputs": []
    },
    {
      "cell_type": "markdown",
      "metadata": {
        "id": "DHPwgpxi501C",
        "colab_type": "text"
      },
      "source": [
        "## Feature Scaling"
      ]
    },
    {
      "cell_type": "code",
      "metadata": {
        "id": "lDBUez3l5-ww",
        "colab_type": "code",
        "colab": {}
      },
      "source": [
        ""
      ],
      "execution_count": 0,
      "outputs": []
    },
    {
      "cell_type": "markdown",
      "metadata": {
        "id": "1Mn-OeUT6AsJ",
        "colab_type": "text"
      },
      "source": [
        "#Dunyiswa"
      ]
    },
    {
      "cell_type": "code",
      "metadata": {
        "id": "hm0C3pvN6DXE",
        "colab_type": "code",
        "colab": {}
      },
      "source": [
        ""
      ],
      "execution_count": 0,
      "outputs": []
    },
    {
      "cell_type": "markdown",
      "metadata": {
        "id": "WVlU2Csr6Hsy",
        "colab_type": "text"
      },
      "source": [
        "#Monica"
      ]
    },
    {
      "cell_type": "code",
      "metadata": {
        "id": "S4A6FkA36Io_",
        "colab_type": "code",
        "colab": {}
      },
      "source": [
        ""
      ],
      "execution_count": 0,
      "outputs": []
    },
    {
      "cell_type": "markdown",
      "metadata": {
        "id": "6qI3wfnG6Km-",
        "colab_type": "text"
      },
      "source": [
        "#Monique"
      ]
    },
    {
      "cell_type": "code",
      "metadata": {
        "id": "P1y-onJK6P0A",
        "colab_type": "code",
        "colab": {}
      },
      "source": [
        ""
      ],
      "execution_count": 0,
      "outputs": []
    },
    {
      "cell_type": "markdown",
      "metadata": {
        "id": "vNgMv-gQ6QUz",
        "colab_type": "text"
      },
      "source": [
        "#Rachel"
      ]
    },
    {
      "cell_type": "code",
      "metadata": {
        "id": "w9NSClPr6R3V",
        "colab_type": "code",
        "colab": {}
      },
      "source": [
        ""
      ],
      "execution_count": 0,
      "outputs": []
    },
    {
      "cell_type": "markdown",
      "metadata": {
        "id": "2QYvmS036Sik",
        "colab_type": "text"
      },
      "source": [
        "#Wright"
      ]
    },
    {
      "cell_type": "code",
      "metadata": {
        "id": "deo_Xn_36TrE",
        "colab_type": "code",
        "colab": {}
      },
      "source": [
        ""
      ],
      "execution_count": 0,
      "outputs": []
    }
  ]
}