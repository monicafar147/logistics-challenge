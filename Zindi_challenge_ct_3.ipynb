{
  "nbformat": 4,
  "nbformat_minor": 0,
  "metadata": {
    "colab": {
      "name": "Zindi_challenge_ct_3.ipynb",
      "provenance": [],
      "include_colab_link": true
    },
    "kernelspec": {
      "name": "python3",
      "display_name": "Python 3"
    }
  },
  "cells": [
    {
      "cell_type": "markdown",
      "metadata": {
        "id": "view-in-github",
        "colab_type": "text"
      },
      "source": [
        "<a href=\"https://colab.research.google.com/github/monicafar147/regression-predict-api-template/blob/Monica/Zindi_challenge_ct_3.ipynb\" target=\"_parent\"><img src=\"https://colab.research.google.com/assets/colab-badge.svg\" alt=\"Open In Colab\"/></a>"
      ]
    },
    {
      "cell_type": "markdown",
      "metadata": {
        "id": "hAX8gu_4wbFC",
        "colab_type": "text"
      },
      "source": [
        "*   make sure you are working in your own branch that you cloned from git\n",
        "*   to commit your notebook changes to git:\n",
        "1.   file\n",
        "2.   save a copy in github\n",
        "3.   choose your branch from branches dropdown\n",
        "4.   change commit message to what you did e.g. \"fixed dataframe indexes\"\n",
        "5.   click ok\n",
        "\n",
        "Monica says hi\n",
        "\n",
        "\n",
        "\n"
      ]
    },
    {
      "cell_type": "code",
      "metadata": {
        "id": "hpcvNNJ0xqjG",
        "colab_type": "code",
        "colab": {}
      },
      "source": [
        ""
      ],
      "execution_count": 0,
      "outputs": []
    }
  ]
}