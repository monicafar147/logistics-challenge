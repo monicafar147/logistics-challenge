{
  "nbformat": 4,
  "nbformat_minor": 0,
  "metadata": {
    "kernelspec": {
      "display_name": "Python 3",
      "language": "python",
      "name": "python3"
    },
    "language_info": {
      "codemirror_mode": {
        "name": "ipython",
        "version": 3
      },
      "file_extension": ".py",
      "mimetype": "text/x-python",
      "name": "python",
      "nbconvert_exporter": "python",
      "pygments_lexer": "ipython3",
      "version": "3.7.6"
    },
    "colab": {
      "name": "Wright.ipynb",
      "provenance": [],
      "include_colab_link": true
    }
  },
  "cells": [
    {
      "cell_type": "markdown",
      "metadata": {
        "id": "view-in-github",
        "colab_type": "text"
      },
      "source": [
        "<a href=\"https://colab.research.google.com/github/monicafar147/regression-predict-api-template/blob/monique2/Wright.ipynb\" target=\"_parent\"><img src=\"https://colab.research.google.com/assets/colab-badge.svg\" alt=\"Open In Colab\"/></a>"
      ]
    },
    {
      "cell_type": "markdown",
      "metadata": {
        "id": "SHrcjfQxKPOC",
        "colab_type": "text"
      },
      "source": [
        "# Introduction to problem and dataset"
      ]
    },
    {
      "cell_type": "markdown",
      "metadata": {
        "id": "YWPfo2JrKcdg",
        "colab_type": "text"
      },
      "source": [
        "##Introduction\n"
      ]
    },
    {
      "cell_type": "markdown",
      "metadata": {
        "id": "k4AgIGSIQWDk",
        "colab_type": "text"
      },
      "source": [
        "The aim of this notebook is to predict the estimated time of delivery of orders, from the point of driver pickup to the point of arrival at final destination from a logistics company, Sendy, based in Nairobi. \n",
        "\n",
        "Sendy can improve their reliability and enhance their customer communication by providing an estimated time of delivery of orders throuh regression techniques used to model the delivery process.\n",
        "\n",
        "Sendy is headquartered in Kenya and the data provided is based in Nairobi. The training dataset provided is a subset of over 21201 orders and only includes direct orders (i.e. Sendy “express” orders) with bikes in Nairobi."
      ]
    },
    {
      "cell_type": "markdown",
      "metadata": {
        "id": "_osLIaqeKPOE",
        "colab_type": "text"
      },
      "source": [
        "## Importing the libraries"
      ]
    },
    {
      "cell_type": "code",
      "metadata": {
        "id": "TR-fotPuKPOF",
        "colab_type": "code",
        "colab": {}
      },
      "source": [
        "import numpy as np\n",
        "import matplotlib.pyplot as plt\n",
        "import pandas as pd\n",
        "import seaborn as sns\n",
        "%matplotlib inline\n",
        "import math\n",
        "from sklearn import metrics\n",
        "from sklearn.model_selection import train_test_split\n",
        "\n",
        "# Scaling\n",
        "from sklearn.preprocessing import StandardScaler\n",
        "\n",
        "# Machine learning models\n",
        "from sklearn.linear_model import LinearRegression\n",
        "from sklearn.tree import DecisionTreeRegressor\n",
        "from sklearn.ensemble import RandomForestRegressor\n",
        "from sklearn.linear_model import Lasso\n",
        "\n",
        "sns.set(palette='pastel')"
      ],
      "execution_count": 0,
      "outputs": []
    },
    {
      "cell_type": "markdown",
      "metadata": {
        "id": "glJjPWRBKPOK",
        "colab_type": "text"
      },
      "source": [
        "## Importing the datasets"
      ]
    },
    {
      "cell_type": "code",
      "metadata": {
        "id": "oEJvxr0BKPOL",
        "colab_type": "code",
        "colab": {}
      },
      "source": [
        "orders = pd.read_csv(r'Train.csv', parse_dates=['Pickup - Time', 'Placement - Time', 'Confirmation - Time', 'Arrival at Pickup - Time', 'Arrival at Destination - Time'])\n",
        "submission_data = pd.read_csv(r'Test.csv', parse_dates=['Pickup - Time', 'Placement - Time', 'Confirmation - Time'])"
      ],
      "execution_count": 0,
      "outputs": []
    },
    {
      "cell_type": "code",
      "metadata": {
        "id": "FBrQX5sqKPOO",
        "colab_type": "code",
        "outputId": "a1a26d89-c7c8-499e-9525-8d129fc2e786",
        "colab": {
          "base_uri": "https://localhost:8080/",
          "height": 629
        }
      },
      "source": [
        "orders.info()"
      ],
      "execution_count": 234,
      "outputs": [
        {
          "output_type": "stream",
          "text": [
            "<class 'pandas.core.frame.DataFrame'>\n",
            "RangeIndex: 21201 entries, 0 to 21200\n",
            "Data columns (total 29 columns):\n",
            " #   Column                                     Non-Null Count  Dtype         \n",
            "---  ------                                     --------------  -----         \n",
            " 0   Order No                                   21201 non-null  object        \n",
            " 1   User Id                                    21201 non-null  object        \n",
            " 2   Vehicle Type                               21201 non-null  object        \n",
            " 3   Platform Type                              21201 non-null  int64         \n",
            " 4   Personal or Business                       21201 non-null  object        \n",
            " 5   Placement - Day of Month                   21201 non-null  int64         \n",
            " 6   Placement - Weekday (Mo = 1)               21201 non-null  int64         \n",
            " 7   Placement - Time                           21201 non-null  datetime64[ns]\n",
            " 8   Confirmation - Day of Month                21201 non-null  int64         \n",
            " 9   Confirmation - Weekday (Mo = 1)            21201 non-null  int64         \n",
            " 10  Confirmation - Time                        21201 non-null  datetime64[ns]\n",
            " 11  Arrival at Pickup - Day of Month           21201 non-null  int64         \n",
            " 12  Arrival at Pickup - Weekday (Mo = 1)       21201 non-null  int64         \n",
            " 13  Arrival at Pickup - Time                   21201 non-null  datetime64[ns]\n",
            " 14  Pickup - Day of Month                      21201 non-null  int64         \n",
            " 15  Pickup - Weekday (Mo = 1)                  21201 non-null  int64         \n",
            " 16  Pickup - Time                              21201 non-null  datetime64[ns]\n",
            " 17  Arrival at Destination - Day of Month      21201 non-null  int64         \n",
            " 18  Arrival at Destination - Weekday (Mo = 1)  21201 non-null  int64         \n",
            " 19  Arrival at Destination - Time              21201 non-null  datetime64[ns]\n",
            " 20  Distance (KM)                              21201 non-null  int64         \n",
            " 21  Temperature                                16835 non-null  float64       \n",
            " 22  Precipitation in millimeters               552 non-null    float64       \n",
            " 23  Pickup Lat                                 21201 non-null  float64       \n",
            " 24  Pickup Long                                21201 non-null  float64       \n",
            " 25  Destination Lat                            21201 non-null  float64       \n",
            " 26  Destination Long                           21201 non-null  float64       \n",
            " 27  Rider Id                                   21201 non-null  object        \n",
            " 28  Time from Pickup to Arrival                21201 non-null  int64         \n",
            "dtypes: datetime64[ns](5), float64(6), int64(13), object(5)\n",
            "memory usage: 4.7+ MB\n"
          ],
          "name": "stdout"
        }
      ]
    },
    {
      "cell_type": "code",
      "metadata": {
        "id": "eDEFioKaKPOT",
        "colab_type": "code",
        "outputId": "f1686394-ed6a-4b29-e6cd-ad8d71741ba4",
        "colab": {
          "base_uri": "https://localhost:8080/",
          "height": 561
        }
      },
      "source": [
        "submission_data.info()"
      ],
      "execution_count": 235,
      "outputs": [
        {
          "output_type": "stream",
          "text": [
            "<class 'pandas.core.frame.DataFrame'>\n",
            "RangeIndex: 7068 entries, 0 to 7067\n",
            "Data columns (total 25 columns):\n",
            " #   Column                                Non-Null Count  Dtype         \n",
            "---  ------                                --------------  -----         \n",
            " 0   Order No                              7068 non-null   object        \n",
            " 1   User Id                               7068 non-null   object        \n",
            " 2   Vehicle Type                          7068 non-null   object        \n",
            " 3   Platform Type                         7068 non-null   int64         \n",
            " 4   Personal or Business                  7068 non-null   object        \n",
            " 5   Placement - Day of Month              7068 non-null   int64         \n",
            " 6   Placement - Weekday (Mo = 1)          7068 non-null   int64         \n",
            " 7   Placement - Time                      7068 non-null   datetime64[ns]\n",
            " 8   Confirmation - Day of Month           7068 non-null   int64         \n",
            " 9   Confirmation - Weekday (Mo = 1)       7068 non-null   int64         \n",
            " 10  Confirmation - Time                   7068 non-null   datetime64[ns]\n",
            " 11  Arrival at Pickup - Day of Month      7068 non-null   int64         \n",
            " 12  Arrival at Pickup - Weekday (Mo = 1)  7068 non-null   int64         \n",
            " 13  Arrival at Pickup - Time              7068 non-null   object        \n",
            " 14  Pickup - Day of Month                 7068 non-null   int64         \n",
            " 15  Pickup - Weekday (Mo = 1)             7068 non-null   int64         \n",
            " 16  Pickup - Time                         7068 non-null   datetime64[ns]\n",
            " 17  Distance (KM)                         7068 non-null   int64         \n",
            " 18  Temperature                           5631 non-null   float64       \n",
            " 19  Precipitation in millimeters          199 non-null    float64       \n",
            " 20  Pickup Lat                            7068 non-null   float64       \n",
            " 21  Pickup Long                           7068 non-null   float64       \n",
            " 22  Destination Lat                       7068 non-null   float64       \n",
            " 23  Destination Long                      7068 non-null   float64       \n",
            " 24  Rider Id                              7068 non-null   object        \n",
            "dtypes: datetime64[ns](3), float64(6), int64(10), object(6)\n",
            "memory usage: 1.3+ MB\n"
          ],
          "name": "stdout"
        }
      ]
    },
    {
      "cell_type": "markdown",
      "metadata": {
        "id": "pOypFNWcKPOc",
        "colab_type": "text"
      },
      "source": [
        "At this stage, we notice that there are missing values from `Temperature` and `Precipitation in millimeters`. We also need to convert all the columns that contain time information from objects to a datetime format."
      ]
    },
    {
      "cell_type": "markdown",
      "metadata": {
        "id": "81P7YDmnKPOd",
        "colab_type": "text"
      },
      "source": [
        "# Exploratory Data Analysis\n",
        "\n",
        "To first get well-acquainted with the data, we will first explore any obvious relationships between variables."
      ]
    },
    {
      "cell_type": "code",
      "metadata": {
        "id": "pd9R4H2aKPOd",
        "colab_type": "code",
        "outputId": "0d1337ee-04fa-4541-973a-ded3ac49e90b",
        "colab": {
          "base_uri": "https://localhost:8080/",
          "height": 368
        }
      },
      "source": [
        "orders.describe()"
      ],
      "execution_count": 236,
      "outputs": [
        {
          "output_type": "execute_result",
          "data": {
            "text/html": [
              "<div>\n",
              "<style scoped>\n",
              "    .dataframe tbody tr th:only-of-type {\n",
              "        vertical-align: middle;\n",
              "    }\n",
              "\n",
              "    .dataframe tbody tr th {\n",
              "        vertical-align: top;\n",
              "    }\n",
              "\n",
              "    .dataframe thead th {\n",
              "        text-align: right;\n",
              "    }\n",
              "</style>\n",
              "<table border=\"1\" class=\"dataframe\">\n",
              "  <thead>\n",
              "    <tr style=\"text-align: right;\">\n",
              "      <th></th>\n",
              "      <th>Platform Type</th>\n",
              "      <th>Placement - Day of Month</th>\n",
              "      <th>Placement - Weekday (Mo = 1)</th>\n",
              "      <th>Confirmation - Day of Month</th>\n",
              "      <th>Confirmation - Weekday (Mo = 1)</th>\n",
              "      <th>Arrival at Pickup - Day of Month</th>\n",
              "      <th>Arrival at Pickup - Weekday (Mo = 1)</th>\n",
              "      <th>Pickup - Day of Month</th>\n",
              "      <th>Pickup - Weekday (Mo = 1)</th>\n",
              "      <th>Arrival at Destination - Day of Month</th>\n",
              "      <th>Arrival at Destination - Weekday (Mo = 1)</th>\n",
              "      <th>Distance (KM)</th>\n",
              "      <th>Temperature</th>\n",
              "      <th>Precipitation in millimeters</th>\n",
              "      <th>Pickup Lat</th>\n",
              "      <th>Pickup Long</th>\n",
              "      <th>Destination Lat</th>\n",
              "      <th>Destination Long</th>\n",
              "      <th>Time from Pickup to Arrival</th>\n",
              "    </tr>\n",
              "  </thead>\n",
              "  <tbody>\n",
              "    <tr>\n",
              "      <th>count</th>\n",
              "      <td>21201.000000</td>\n",
              "      <td>21201.000000</td>\n",
              "      <td>21201.000000</td>\n",
              "      <td>21201.000000</td>\n",
              "      <td>21201.000000</td>\n",
              "      <td>21201.000000</td>\n",
              "      <td>21201.000000</td>\n",
              "      <td>21201.000000</td>\n",
              "      <td>21201.000000</td>\n",
              "      <td>21201.000000</td>\n",
              "      <td>21201.000000</td>\n",
              "      <td>21201.000000</td>\n",
              "      <td>16835.000000</td>\n",
              "      <td>552.000000</td>\n",
              "      <td>21201.000000</td>\n",
              "      <td>21201.000000</td>\n",
              "      <td>21201.000000</td>\n",
              "      <td>21201.000000</td>\n",
              "      <td>21201.000000</td>\n",
              "    </tr>\n",
              "    <tr>\n",
              "      <th>mean</th>\n",
              "      <td>2.752182</td>\n",
              "      <td>15.653696</td>\n",
              "      <td>3.240083</td>\n",
              "      <td>15.653837</td>\n",
              "      <td>3.240225</td>\n",
              "      <td>15.653837</td>\n",
              "      <td>3.240225</td>\n",
              "      <td>15.653837</td>\n",
              "      <td>3.240225</td>\n",
              "      <td>15.653837</td>\n",
              "      <td>3.240225</td>\n",
              "      <td>9.506533</td>\n",
              "      <td>23.258889</td>\n",
              "      <td>7.905797</td>\n",
              "      <td>-1.281470</td>\n",
              "      <td>36.811264</td>\n",
              "      <td>-1.282581</td>\n",
              "      <td>36.811220</td>\n",
              "      <td>1556.920947</td>\n",
              "    </tr>\n",
              "    <tr>\n",
              "      <th>std</th>\n",
              "      <td>0.625178</td>\n",
              "      <td>8.798916</td>\n",
              "      <td>1.567295</td>\n",
              "      <td>8.798886</td>\n",
              "      <td>1.567228</td>\n",
              "      <td>8.798886</td>\n",
              "      <td>1.567228</td>\n",
              "      <td>8.798886</td>\n",
              "      <td>1.567228</td>\n",
              "      <td>8.798886</td>\n",
              "      <td>1.567228</td>\n",
              "      <td>5.668963</td>\n",
              "      <td>3.615768</td>\n",
              "      <td>17.089971</td>\n",
              "      <td>0.030507</td>\n",
              "      <td>0.037473</td>\n",
              "      <td>0.034824</td>\n",
              "      <td>0.044721</td>\n",
              "      <td>987.270788</td>\n",
              "    </tr>\n",
              "    <tr>\n",
              "      <th>min</th>\n",
              "      <td>1.000000</td>\n",
              "      <td>1.000000</td>\n",
              "      <td>1.000000</td>\n",
              "      <td>1.000000</td>\n",
              "      <td>1.000000</td>\n",
              "      <td>1.000000</td>\n",
              "      <td>1.000000</td>\n",
              "      <td>1.000000</td>\n",
              "      <td>1.000000</td>\n",
              "      <td>1.000000</td>\n",
              "      <td>1.000000</td>\n",
              "      <td>1.000000</td>\n",
              "      <td>11.200000</td>\n",
              "      <td>0.100000</td>\n",
              "      <td>-1.438302</td>\n",
              "      <td>36.653621</td>\n",
              "      <td>-1.430298</td>\n",
              "      <td>36.606594</td>\n",
              "      <td>1.000000</td>\n",
              "    </tr>\n",
              "    <tr>\n",
              "      <th>25%</th>\n",
              "      <td>3.000000</td>\n",
              "      <td>8.000000</td>\n",
              "      <td>2.000000</td>\n",
              "      <td>8.000000</td>\n",
              "      <td>2.000000</td>\n",
              "      <td>8.000000</td>\n",
              "      <td>2.000000</td>\n",
              "      <td>8.000000</td>\n",
              "      <td>2.000000</td>\n",
              "      <td>8.000000</td>\n",
              "      <td>2.000000</td>\n",
              "      <td>5.000000</td>\n",
              "      <td>20.600000</td>\n",
              "      <td>1.075000</td>\n",
              "      <td>-1.300921</td>\n",
              "      <td>36.784605</td>\n",
              "      <td>-1.301201</td>\n",
              "      <td>36.785661</td>\n",
              "      <td>882.000000</td>\n",
              "    </tr>\n",
              "    <tr>\n",
              "      <th>50%</th>\n",
              "      <td>3.000000</td>\n",
              "      <td>15.000000</td>\n",
              "      <td>3.000000</td>\n",
              "      <td>15.000000</td>\n",
              "      <td>3.000000</td>\n",
              "      <td>15.000000</td>\n",
              "      <td>3.000000</td>\n",
              "      <td>15.000000</td>\n",
              "      <td>3.000000</td>\n",
              "      <td>15.000000</td>\n",
              "      <td>3.000000</td>\n",
              "      <td>8.000000</td>\n",
              "      <td>23.500000</td>\n",
              "      <td>2.900000</td>\n",
              "      <td>-1.279395</td>\n",
              "      <td>36.807040</td>\n",
              "      <td>-1.284382</td>\n",
              "      <td>36.808002</td>\n",
              "      <td>1369.000000</td>\n",
              "    </tr>\n",
              "    <tr>\n",
              "      <th>75%</th>\n",
              "      <td>3.000000</td>\n",
              "      <td>23.000000</td>\n",
              "      <td>5.000000</td>\n",
              "      <td>23.000000</td>\n",
              "      <td>5.000000</td>\n",
              "      <td>23.000000</td>\n",
              "      <td>5.000000</td>\n",
              "      <td>23.000000</td>\n",
              "      <td>5.000000</td>\n",
              "      <td>23.000000</td>\n",
              "      <td>5.000000</td>\n",
              "      <td>13.000000</td>\n",
              "      <td>26.000000</td>\n",
              "      <td>4.900000</td>\n",
              "      <td>-1.257147</td>\n",
              "      <td>36.829741</td>\n",
              "      <td>-1.261177</td>\n",
              "      <td>36.829477</td>\n",
              "      <td>2040.000000</td>\n",
              "    </tr>\n",
              "    <tr>\n",
              "      <th>max</th>\n",
              "      <td>4.000000</td>\n",
              "      <td>31.000000</td>\n",
              "      <td>7.000000</td>\n",
              "      <td>31.000000</td>\n",
              "      <td>7.000000</td>\n",
              "      <td>31.000000</td>\n",
              "      <td>7.000000</td>\n",
              "      <td>31.000000</td>\n",
              "      <td>7.000000</td>\n",
              "      <td>31.000000</td>\n",
              "      <td>7.000000</td>\n",
              "      <td>49.000000</td>\n",
              "      <td>32.100000</td>\n",
              "      <td>99.100000</td>\n",
              "      <td>-1.147170</td>\n",
              "      <td>36.991046</td>\n",
              "      <td>-1.030225</td>\n",
              "      <td>37.016779</td>\n",
              "      <td>7883.000000</td>\n",
              "    </tr>\n",
              "  </tbody>\n",
              "</table>\n",
              "</div>"
            ],
            "text/plain": [
              "       Platform Type  ...  Time from Pickup to Arrival\n",
              "count   21201.000000  ...                 21201.000000\n",
              "mean        2.752182  ...                  1556.920947\n",
              "std         0.625178  ...                   987.270788\n",
              "min         1.000000  ...                     1.000000\n",
              "25%         3.000000  ...                   882.000000\n",
              "50%         3.000000  ...                  1369.000000\n",
              "75%         3.000000  ...                  2040.000000\n",
              "max         4.000000  ...                  7883.000000\n",
              "\n",
              "[8 rows x 19 columns]"
            ]
          },
          "metadata": {
            "tags": []
          },
          "execution_count": 236
        }
      ]
    },
    {
      "cell_type": "code",
      "metadata": {
        "id": "llyIEo1uKPOh",
        "colab_type": "code",
        "outputId": "34a2fc7a-61fa-4e85-d8a3-7f5d5c4762c3",
        "colab": {
          "base_uri": "https://localhost:8080/",
          "height": 348
        }
      },
      "source": [
        "submission_data.describe()"
      ],
      "execution_count": 237,
      "outputs": [
        {
          "output_type": "execute_result",
          "data": {
            "text/html": [
              "<div>\n",
              "<style scoped>\n",
              "    .dataframe tbody tr th:only-of-type {\n",
              "        vertical-align: middle;\n",
              "    }\n",
              "\n",
              "    .dataframe tbody tr th {\n",
              "        vertical-align: top;\n",
              "    }\n",
              "\n",
              "    .dataframe thead th {\n",
              "        text-align: right;\n",
              "    }\n",
              "</style>\n",
              "<table border=\"1\" class=\"dataframe\">\n",
              "  <thead>\n",
              "    <tr style=\"text-align: right;\">\n",
              "      <th></th>\n",
              "      <th>Platform Type</th>\n",
              "      <th>Placement - Day of Month</th>\n",
              "      <th>Placement - Weekday (Mo = 1)</th>\n",
              "      <th>Confirmation - Day of Month</th>\n",
              "      <th>Confirmation - Weekday (Mo = 1)</th>\n",
              "      <th>Arrival at Pickup - Day of Month</th>\n",
              "      <th>Arrival at Pickup - Weekday (Mo = 1)</th>\n",
              "      <th>Pickup - Day of Month</th>\n",
              "      <th>Pickup - Weekday (Mo = 1)</th>\n",
              "      <th>Distance (KM)</th>\n",
              "      <th>Temperature</th>\n",
              "      <th>Precipitation in millimeters</th>\n",
              "      <th>Pickup Lat</th>\n",
              "      <th>Pickup Long</th>\n",
              "      <th>Destination Lat</th>\n",
              "      <th>Destination Long</th>\n",
              "    </tr>\n",
              "  </thead>\n",
              "  <tbody>\n",
              "    <tr>\n",
              "      <th>count</th>\n",
              "      <td>7068.000000</td>\n",
              "      <td>7068.000000</td>\n",
              "      <td>7068.000000</td>\n",
              "      <td>7068.000000</td>\n",
              "      <td>7068.000000</td>\n",
              "      <td>7068.000000</td>\n",
              "      <td>7068.000000</td>\n",
              "      <td>7068.000000</td>\n",
              "      <td>7068.000000</td>\n",
              "      <td>7068.000000</td>\n",
              "      <td>5631.000000</td>\n",
              "      <td>199.000000</td>\n",
              "      <td>7068.000000</td>\n",
              "      <td>7068.000000</td>\n",
              "      <td>7068.000000</td>\n",
              "      <td>7068.000000</td>\n",
              "    </tr>\n",
              "    <tr>\n",
              "      <th>mean</th>\n",
              "      <td>2.752122</td>\n",
              "      <td>15.621817</td>\n",
              "      <td>3.249859</td>\n",
              "      <td>15.621817</td>\n",
              "      <td>3.249859</td>\n",
              "      <td>15.621817</td>\n",
              "      <td>3.249859</td>\n",
              "      <td>15.621817</td>\n",
              "      <td>3.249859</td>\n",
              "      <td>9.458970</td>\n",
              "      <td>23.246120</td>\n",
              "      <td>6.651759</td>\n",
              "      <td>-1.282043</td>\n",
              "      <td>36.811148</td>\n",
              "      <td>-1.282255</td>\n",
              "      <td>36.811326</td>\n",
              "    </tr>\n",
              "    <tr>\n",
              "      <th>std</th>\n",
              "      <td>0.624000</td>\n",
              "      <td>8.776650</td>\n",
              "      <td>1.580926</td>\n",
              "      <td>8.776650</td>\n",
              "      <td>1.580926</td>\n",
              "      <td>8.776650</td>\n",
              "      <td>1.580926</td>\n",
              "      <td>8.776650</td>\n",
              "      <td>1.580926</td>\n",
              "      <td>5.575689</td>\n",
              "      <td>3.591161</td>\n",
              "      <td>14.085439</td>\n",
              "      <td>0.030044</td>\n",
              "      <td>0.037962</td>\n",
              "      <td>0.034236</td>\n",
              "      <td>0.043507</td>\n",
              "    </tr>\n",
              "    <tr>\n",
              "      <th>min</th>\n",
              "      <td>1.000000</td>\n",
              "      <td>1.000000</td>\n",
              "      <td>1.000000</td>\n",
              "      <td>1.000000</td>\n",
              "      <td>1.000000</td>\n",
              "      <td>1.000000</td>\n",
              "      <td>1.000000</td>\n",
              "      <td>1.000000</td>\n",
              "      <td>1.000000</td>\n",
              "      <td>1.000000</td>\n",
              "      <td>13.200000</td>\n",
              "      <td>0.100000</td>\n",
              "      <td>-1.433512</td>\n",
              "      <td>36.653828</td>\n",
              "      <td>-1.422652</td>\n",
              "      <td>36.639195</td>\n",
              "    </tr>\n",
              "    <tr>\n",
              "      <th>25%</th>\n",
              "      <td>3.000000</td>\n",
              "      <td>8.000000</td>\n",
              "      <td>2.000000</td>\n",
              "      <td>8.000000</td>\n",
              "      <td>2.000000</td>\n",
              "      <td>8.000000</td>\n",
              "      <td>2.000000</td>\n",
              "      <td>8.000000</td>\n",
              "      <td>2.000000</td>\n",
              "      <td>5.000000</td>\n",
              "      <td>20.600000</td>\n",
              "      <td>1.100000</td>\n",
              "      <td>-1.301201</td>\n",
              "      <td>36.784605</td>\n",
              "      <td>-1.300921</td>\n",
              "      <td>36.786546</td>\n",
              "    </tr>\n",
              "    <tr>\n",
              "      <th>50%</th>\n",
              "      <td>3.000000</td>\n",
              "      <td>15.000000</td>\n",
              "      <td>3.000000</td>\n",
              "      <td>15.000000</td>\n",
              "      <td>3.000000</td>\n",
              "      <td>15.000000</td>\n",
              "      <td>3.000000</td>\n",
              "      <td>15.000000</td>\n",
              "      <td>3.000000</td>\n",
              "      <td>8.000000</td>\n",
              "      <td>23.400000</td>\n",
              "      <td>2.900000</td>\n",
              "      <td>-1.281301</td>\n",
              "      <td>36.807219</td>\n",
              "      <td>-1.283219</td>\n",
              "      <td>36.807927</td>\n",
              "    </tr>\n",
              "    <tr>\n",
              "      <th>75%</th>\n",
              "      <td>3.000000</td>\n",
              "      <td>23.000000</td>\n",
              "      <td>5.000000</td>\n",
              "      <td>23.000000</td>\n",
              "      <td>5.000000</td>\n",
              "      <td>23.000000</td>\n",
              "      <td>5.000000</td>\n",
              "      <td>23.000000</td>\n",
              "      <td>5.000000</td>\n",
              "      <td>13.000000</td>\n",
              "      <td>25.900000</td>\n",
              "      <td>4.950000</td>\n",
              "      <td>-1.257274</td>\n",
              "      <td>36.829716</td>\n",
              "      <td>-1.261256</td>\n",
              "      <td>36.828195</td>\n",
              "    </tr>\n",
              "    <tr>\n",
              "      <th>max</th>\n",
              "      <td>4.000000</td>\n",
              "      <td>31.000000</td>\n",
              "      <td>7.000000</td>\n",
              "      <td>31.000000</td>\n",
              "      <td>7.000000</td>\n",
              "      <td>31.000000</td>\n",
              "      <td>7.000000</td>\n",
              "      <td>31.000000</td>\n",
              "      <td>7.000000</td>\n",
              "      <td>47.000000</td>\n",
              "      <td>32.100000</td>\n",
              "      <td>99.100000</td>\n",
              "      <td>-1.148352</td>\n",
              "      <td>36.991046</td>\n",
              "      <td>-1.030225</td>\n",
              "      <td>37.018958</td>\n",
              "    </tr>\n",
              "  </tbody>\n",
              "</table>\n",
              "</div>"
            ],
            "text/plain": [
              "       Platform Type  ...  Destination Long\n",
              "count    7068.000000  ...       7068.000000\n",
              "mean        2.752122  ...         36.811326\n",
              "std         0.624000  ...          0.043507\n",
              "min         1.000000  ...         36.639195\n",
              "25%         3.000000  ...         36.786546\n",
              "50%         3.000000  ...         36.807927\n",
              "75%         3.000000  ...         36.828195\n",
              "max         4.000000  ...         37.018958\n",
              "\n",
              "[8 rows x 16 columns]"
            ]
          },
          "metadata": {
            "tags": []
          },
          "execution_count": 237
        }
      ]
    },
    {
      "cell_type": "markdown",
      "metadata": {
        "id": "5KTznp9RZ4sL",
        "colab_type": "text"
      },
      "source": [
        "## Distribution of target variable"
      ]
    },
    {
      "cell_type": "code",
      "metadata": {
        "id": "78dl5TCkZLE0",
        "colab_type": "code",
        "outputId": "32f2ea20-d2e5-4f18-d442-88693fdd59af",
        "colab": {
          "base_uri": "https://localhost:8080/",
          "height": 318
        }
      },
      "source": [
        "plt.hist(training_outputs, bins = 100, edgecolor = 'k')\n",
        "plt.xlabel('Time from pickup to arrival') \n",
        "plt.title('Delivery Time Distribution')"
      ],
      "execution_count": 238,
      "outputs": [
        {
          "output_type": "execute_result",
          "data": {
            "text/plain": [
              "Text(0.5, 1.0, 'Delivery Time Distribution')"
            ]
          },
          "metadata": {
            "tags": []
          },
          "execution_count": 238
        },
        {
          "output_type": "display_data",
          "data": {
            "image/png": "[encoded data removed]",
            "text/plain": [
              "<Figure size 432x288 with 1 Axes>"
            ]
          },
          "metadata": {
            "tags": []
          }
        }
      ]
    },
    {
      "cell_type": "code",
      "metadata": {
        "id": "wpa3szOyZ0eV",
        "colab_type": "code",
        "outputId": "03773966-3af6-45fb-995f-3a2755363d18",
        "colab": {
          "base_uri": "https://localhost:8080/",
          "height": 51
        }
      },
      "source": [
        "print('Time from pickup to arrival less than 60s:', len(orders[orders['Time from Pickup to Arrival'] < 60]))\n",
        "print('Time from pickup to arrival of 1s: ', len(orders[orders['Time from Pickup to Arrival'] ==1]))"
      ],
      "execution_count": 239,
      "outputs": [
        {
          "output_type": "stream",
          "text": [
            "Time from pickup to arrival less than 60s: 740\n",
            "Time from pickup to arrival of 1s:  37\n"
          ],
          "name": "stdout"
        }
      ]
    },
    {
      "cell_type": "markdown",
      "metadata": {
        "id": "-DIanEUAaDDr",
        "colab_type": "text"
      },
      "source": [
        "`Time from pickup to arrival` of less than 60 seconds seems suspicious, especially 1 second. It is possible that riders may have forgotten to confirm the pickup on the app until they dropped off the parcel, resulting in this unrealistic time frame. These rows should be dropped because they will skew the data."
      ]
    },
    {
      "cell_type": "code",
      "metadata": {
        "id": "k8CAah5ecKGT",
        "colab_type": "code",
        "colab": {}
      },
      "source": [
        "orders = orders[orders['Time from Pickup to Arrival'] > 60]"
      ],
      "execution_count": 0,
      "outputs": []
    },
    {
      "cell_type": "code",
      "metadata": {
        "id": "CcrWPIRQchH0",
        "colab_type": "code",
        "colab": {
          "base_uri": "https://localhost:8080/",
          "height": 318
        },
        "outputId": "4e782d8c-1b07-488a-8093-ee973078c37d"
      },
      "source": [
        "plt.hist(orders['Time from Pickup to Arrival'], bins = 100, edgecolor = 'k')\n",
        "plt.xlabel('Time from pickup to arrival') \n",
        "plt.title('Delivery Time Distribution')"
      ],
      "execution_count": 241,
      "outputs": [
        {
          "output_type": "execute_result",
          "data": {
            "text/plain": [
              "Text(0.5, 1.0, 'Delivery Time Distribution')"
            ]
          },
          "metadata": {
            "tags": []
          },
          "execution_count": 241
        },
        {
          "output_type": "display_data",
          "data": {
            "image/png": "[encoded data removed]",
            "text/plain": [
              "<Figure size 432x288 with 1 Axes>"
            ]
          },
          "metadata": {
            "tags": []
          }
        }
      ]
    },
    {
      "cell_type": "markdown",
      "metadata": {
        "id": "9yI6lN_RKPOo",
        "colab_type": "text"
      },
      "source": [
        "## Creating ECDF Plots for Distances and Delivery Times"
      ]
    },
    {
      "cell_type": "code",
      "metadata": {
        "id": "5M_ramCRKPOp",
        "colab_type": "code",
        "outputId": "d76f095c-da2b-466d-94ba-39562ed005e4",
        "colab": {
          "base_uri": "https://localhost:8080/",
          "height": 372
        }
      },
      "source": [
        "distances = np.sort(orders['Distance (KM)'])\n",
        "distances_ecdf = np.arange(1, len(distances) + 1) / len(distances)\n",
        "delivery_times = np.sort(orders['Time from Pickup to Arrival'])\n",
        "delivery_times_ecdf = np.arange(1, len(delivery_times) + 1) / len(delivery_times)\n",
        "\n",
        "fig, (ax1, ax2) = plt.subplots(1,2,figsize=(15,5))\n",
        "ax1.plot(distances, distances_ecdf, marker='.', linestyle='none')\n",
        "ax1.set_xlabel('Distances (KM)')\n",
        "ax1.set_ylabel('Distances ECDF')\n",
        "ax1.set_title('ECDF Plot for Distances')\n",
        "\n",
        "ax2.plot(delivery_times, delivery_times_ecdf, marker='.', linestyle='none')\n",
        "ax2.set_xlabel('Delivery Time (s)')\n",
        "ax2.set_ylabel('Delivery Times ECDF')\n",
        "ax2.set_title('ECDF Plot for Delivery Time')"
      ],
      "execution_count": 242,
      "outputs": [
        {
          "output_type": "execute_result",
          "data": {
            "text/plain": [
              "Text(0.5, 1.0, 'ECDF Plot for Delivery Time')"
            ]
          },
          "metadata": {
            "tags": []
          },
          "execution_count": 242
        },
        {
          "output_type": "display_data",
          "data": {
            "image/png": "[encoded data removed]",
            "text/plain": [
              "<Figure size 1080x360 with 2 Axes>"
            ]
          },
          "metadata": {
            "tags": []
          }
        }
      ]
    },
    {
      "cell_type": "markdown",
      "metadata": {
        "id": "yqXCgErH-WFM",
        "colab_type": "text"
      },
      "source": [
        "We can see that 60 and 95 percent of deliveries are within 10KM and 20KM respectively.\n",
        "\n",
        "\n",
        "With the time distributions we see that 60 and 95 percent of the delivery times are within approximately 1500(s) and 3000(s)\n",
        "\n",
        "Based on the above distrubutions it would be interesting to build a simple Linear Regression model using only the Distance feature in our model."
      ]
    },
    {
      "cell_type": "markdown",
      "metadata": {
        "id": "qZEEWofR_-2W",
        "colab_type": "text"
      },
      "source": [
        "## Exploring Day of Month columns"
      ]
    },
    {
      "cell_type": "markdown",
      "metadata": {
        "id": "cA777iRQAAik",
        "colab_type": "text"
      },
      "source": [
        "By just eyeing the first few rows of the data, it seems that the order might tend to be picked up on the same day that the order was placed. "
      ]
    },
    {
      "cell_type": "code",
      "metadata": {
        "id": "rWMde_qlADlj",
        "colab_type": "code",
        "outputId": "b56b61eb-60c3-4ce9-a909-d9b8f94e786f",
        "colab": {
          "base_uri": "https://localhost:8080/",
          "height": 102
        }
      },
      "source": [
        "# Creating a column that calculates the difference between when the\n",
        "# order was made and when the order was picked up\n",
        "orders['placement_pickup'] = orders['Pickup - Day of Month'] - orders['Placement - Day of Month']\n",
        "print(orders[orders['placement_pickup'] > 0])\n",
        "\n",
        "# Dropping the calculated column\n",
        "orders.drop(['placement_pickup'], axis=1, inplace=True)"
      ],
      "execution_count": 243,
      "outputs": [
        {
          "output_type": "stream",
          "text": [
            "           Order No  ... placement_pickup\n",
            "4024  Order_No_2800  ...                1\n",
            "9804  Order_No_3530  ...                2\n",
            "\n",
            "[2 rows x 30 columns]\n"
          ],
          "name": "stdout"
        }
      ]
    },
    {
      "cell_type": "markdown",
      "metadata": {
        "id": "N-_0lCiuAb91",
        "colab_type": "text"
      },
      "source": [
        "It seems that there have only been two cases when the order was made and picked up on different days (and the difference was only one or two days). Out of 21201 rows of data, this data seems that it will have minor predictive capabilities.\n",
        "\n",
        "It can therefore be suggested that when training the model, we only include one Day of Week and Day of Month column because they will have high multicollinearity."
      ]
    },
    {
      "cell_type": "markdown",
      "metadata": {
        "id": "gvvkq9yQKPO3",
        "colab_type": "text"
      },
      "source": [
        "## Modifying data characteristics in the orders data"
      ]
    },
    {
      "cell_type": "code",
      "metadata": {
        "id": "uwr5_R17KPO4",
        "colab_type": "code",
        "colab": {}
      },
      "source": [
        "orders[['Vehicle Type', 'Platform Type', 'Personal or Business']] = orders[['Vehicle Type', 'Platform Type', 'Personal or Business']].astype('category')\n",
        "orders[['Placement - Day of Month', 'Placement - Weekday (Mo = 1)', 'Confirmation - Day of Month', 'Confirmation - Weekday (Mo = 1)']] = orders[['Placement - Day of Month', 'Placement - Weekday (Mo = 1)', 'Confirmation - Day of Month', 'Confirmation - Weekday (Mo = 1)']].astype('category')\n",
        "orders[['Arrival at Pickup - Day of Month', 'Arrival at Pickup - Weekday (Mo = 1)', 'Arrival at Destination - Day of Month', 'Arrival at Destination - Weekday (Mo = 1)']] = orders[['Arrival at Pickup - Day of Month', 'Arrival at Pickup - Weekday (Mo = 1)', 'Arrival at Destination - Day of Month', 'Arrival at Destination - Weekday (Mo = 1)']].astype('category')"
      ],
      "execution_count": 0,
      "outputs": []
    },
    {
      "cell_type": "markdown",
      "metadata": {
        "id": "WNIe3gXy-k87",
        "colab_type": "text"
      },
      "source": [
        "## Exploring distributions of data"
      ]
    },
    {
      "cell_type": "code",
      "metadata": {
        "id": "oTz3ppnNKPO7",
        "colab_type": "code",
        "outputId": "90c26e62-fea6-4512-9d6e-da0e9d1a7e41",
        "colab": {
          "base_uri": "https://localhost:8080/",
          "height": 302
        }
      },
      "source": [
        "sns.boxplot(x='Platform Type', y='Time from Pickup to Arrival', data=orders, palette='rainbow')"
      ],
      "execution_count": 245,
      "outputs": [
        {
          "output_type": "execute_result",
          "data": {
            "text/plain": [
              "<matplotlib.axes._subplots.AxesSubplot at 0x7f161193f7b8>"
            ]
          },
          "metadata": {
            "tags": []
          },
          "execution_count": 245
        },
        {
          "output_type": "display_data",
          "data": {
            "image/png": "[encoded data removed]",
            "text/plain": [
              "<Figure size 432x288 with 1 Axes>"
            ]
          },
          "metadata": {
            "tags": []
          }
        }
      ]
    },
    {
      "cell_type": "code",
      "metadata": {
        "id": "-DJrfJOYKPO_",
        "colab_type": "code",
        "outputId": "8286e918-a843-44aa-b42c-9ae53e0f9781",
        "colab": {
          "base_uri": "https://localhost:8080/",
          "height": 302
        }
      },
      "source": [
        "sns.boxplot(x='Personal or Business', y='Time from Pickup to Arrival', data=orders, palette='rainbow')"
      ],
      "execution_count": 246,
      "outputs": [
        {
          "output_type": "execute_result",
          "data": {
            "text/plain": [
              "<matplotlib.axes._subplots.AxesSubplot at 0x7f16116dd5c0>"
            ]
          },
          "metadata": {
            "tags": []
          },
          "execution_count": 246
        },
        {
          "output_type": "display_data",
          "data": {
            "image/png": "[encoded data removed]",
            "text/plain": [
              "<Figure size 432x288 with 1 Axes>"
            ]
          },
          "metadata": {
            "tags": []
          }
        }
      ]
    },
    {
      "cell_type": "code",
      "metadata": {
        "id": "jQE4mTFkKPPD",
        "colab_type": "code",
        "outputId": "9524ebf3-2f4b-44f1-a277-7d8d49d3a9e8",
        "colab": {
          "base_uri": "https://localhost:8080/",
          "height": 302
        }
      },
      "source": [
        "sns.boxplot(x='Arrival at Pickup - Weekday (Mo = 1)', y='Time from Pickup to Arrival', data=orders, palette='rainbow')"
      ],
      "execution_count": 225,
      "outputs": [
        {
          "output_type": "execute_result",
          "data": {
            "text/plain": [
              "<matplotlib.axes._subplots.AxesSubplot at 0x7f16121f75f8>"
            ]
          },
          "metadata": {
            "tags": []
          },
          "execution_count": 225
        },
        {
          "output_type": "display_data",
          "data": {
            "image/png": "[encoded data removed]",
            "text/plain": [
              "<Figure size 432x288 with 1 Axes>"
            ]
          },
          "metadata": {
            "tags": []
          }
        }
      ]
    },
    {
      "cell_type": "code",
      "metadata": {
        "id": "XJFlhXFxKPPH",
        "colab_type": "code",
        "outputId": "38a0b8c4-543e-4ba2-c60d-f50a108d2efe",
        "colab": {
          "base_uri": "https://localhost:8080/",
          "height": 302
        }
      },
      "source": [
        "sns.boxplot(x='Arrival at Pickup - Day of Month', y='Time from Pickup to Arrival', data=orders, palette='rainbow')"
      ],
      "execution_count": 226,
      "outputs": [
        {
          "output_type": "execute_result",
          "data": {
            "text/plain": [
              "<matplotlib.axes._subplots.AxesSubplot at 0x7f16120770f0>"
            ]
          },
          "metadata": {
            "tags": []
          },
          "execution_count": 226
        },
        {
          "output_type": "display_data",
          "data": {
            "image/png": "[encoded data removed]",
            "text/plain": [
              "<Figure size 432x288 with 1 Axes>"
            ]
          },
          "metadata": {
            "tags": []
          }
        }
      ]
    },
    {
      "cell_type": "markdown",
      "metadata": {
        "id": "7KNxeefuKPPK",
        "colab_type": "text"
      },
      "source": [
        "These boxplots, which each represent several categoral features plotted against the delivery times, indicate that there doesn't seem to be a huge difference in travel time between the different groups in each category. There are quite a number of outliers in all of the groups in each of the categories?\n",
        "\n",
        "A boxplot distribution of this shape indicates that there may be many points where `Time from Pickup to Arrival` is very low:\n"
      ]
    },
    {
      "cell_type": "markdown",
      "metadata": {
        "id": "cPLiVJKDKPPL",
        "colab_type": "text"
      },
      "source": [
        "## Correlations"
      ]
    },
    {
      "cell_type": "code",
      "metadata": {
        "id": "E1mOt4LZKPPM",
        "colab_type": "code",
        "outputId": "5fae675c-65a4-4c0f-d792-97d0a488e67b",
        "colab": {
          "base_uri": "https://localhost:8080/",
          "height": 428
        }
      },
      "source": [
        "orders_corr = orders.corr()\n",
        "sns.heatmap(orders_corr, cmap='coolwarm')"
      ],
      "execution_count": 227,
      "outputs": [
        {
          "output_type": "execute_result",
          "data": {
            "text/plain": [
              "<matplotlib.axes._subplots.AxesSubplot at 0x7f161206c710>"
            ]
          },
          "metadata": {
            "tags": []
          },
          "execution_count": 227
        },
        {
          "output_type": "display_data",
          "data": {
            "image/png": "[encoded data removed]",
            "text/plain": [
              "<Figure size 432x288 with 2 Axes>"
            ]
          },
          "metadata": {
            "tags": []
          }
        }
      ]
    },
    {
      "cell_type": "markdown",
      "metadata": {
        "id": "zvtAqmgnKPPP",
        "colab_type": "text"
      },
      "source": [
        "# Data Preprocessing"
      ]
    },
    {
      "cell_type": "markdown",
      "metadata": {
        "id": "e6NHxGS3efxi",
        "colab_type": "text"
      },
      "source": [
        "## Splitting into training features and outputs"
      ]
    },
    {
      "cell_type": "code",
      "metadata": {
        "id": "Jrb6ZseYehjc",
        "colab_type": "code",
        "colab": {}
      },
      "source": [
        "training_features = orders.iloc[:, :-1]\n",
        "training_outputs = orders.iloc[:, -1]"
      ],
      "execution_count": 0,
      "outputs": []
    },
    {
      "cell_type": "markdown",
      "metadata": {
        "id": "lP58GhnzKPPT",
        "colab_type": "text"
      },
      "source": [
        "##  Converting the following features into categories\n",
        "1.   Pickup - Day of Month\n",
        "2.   Pickup - Weekday (Mo = 1)\n",
        "3.   Platform Type\n",
        "4.   Personal or Business"
      ]
    },
    {
      "cell_type": "code",
      "metadata": {
        "id": "DAX84I_JKPPU",
        "colab_type": "code",
        "colab": {}
      },
      "source": [
        "training_features[['Pickup - Day of Month', 'Pickup - Weekday (Mo = 1)']] = training_features[['Pickup - Day of Month', 'Pickup - Weekday (Mo = 1)']].astype('category')\n",
        "training_features[['Platform Type', 'Personal or Business']] = training_features[['Platform Type', 'Personal or Business']].astype('category')"
      ],
      "execution_count": 0,
      "outputs": []
    },
    {
      "cell_type": "markdown",
      "metadata": {
        "id": "kyM7bOneKPPX",
        "colab_type": "text"
      },
      "source": [
        "##  Selecting the following features to be part of the training data\n",
        "1.   Platform Type\n",
        "2.   Personal or Business\n",
        "3.   Pickup - Day of Month\n",
        "4.   Pickup - Weekday (Mo = 1)\n",
        "5.   Pickup - Time\n",
        "6.   Pickup Lat\n",
        "7. Pickup Long\n",
        "8. Destination Lat\n",
        "9. Destination Long\n",
        "10.   Distance (KM)\n",
        "11.   Temperature\n",
        "12.   Precipitation in millimeters"
      ]
    },
    {
      "cell_type": "code",
      "metadata": {
        "id": "wWe_PLoSKPPX",
        "colab_type": "code",
        "colab": {}
      },
      "source": [
        "training_features = training_features[['Platform Type', 'Personal or Business', 'Pickup - Day of Month', 'Pickup - Weekday (Mo = 1)', 'Pickup - Time', 'Pickup Lat',\t'Pickup Long', 'Destination Lat',\t'Destination Long', 'Distance (KM)', 'Temperature', 'Precipitation in millimeters']]"
      ],
      "execution_count": 0,
      "outputs": []
    },
    {
      "cell_type": "markdown",
      "metadata": {
        "id": "6Y1V7_PvKPPa",
        "colab_type": "text"
      },
      "source": [
        "####  Function for assigning the different Pickup Times to 6 distinct groups\n",
        "1.   Early Morning\n",
        "2.   Morning\n",
        "3.   Late Morning\n",
        "4.   Afternoon\n",
        "5.   Late Afternoon\n",
        "6.   Evening"
      ]
    },
    {
      "cell_type": "code",
      "metadata": {
        "id": "sObXa-vWKPPc",
        "colab_type": "code",
        "colab": {}
      },
      "source": [
        "def assign_time_category(delivery_time):\n",
        "    dts = pd.DataFrame(['12:00:00 AM', '6:00:00 AM', '9:00:00 AM', '12:00:00 PM', '3:00:00 PM', '6:00:00 PM'])[0].astype('datetime64[ns]')\n",
        "    if delivery_time >= dts[0] and delivery_time < dts[1]:\n",
        "        return 'Early Morning'\n",
        "    elif delivery_time >= dts[1] and delivery_time < dts[2]:\n",
        "        return 'Morning'\n",
        "    elif delivery_time >= dts[2]  and delivery_time < dts[3]:\n",
        "        return 'Late Morning'\n",
        "    elif delivery_time >= dts[3] and delivery_time < dts[4]:\n",
        "        return 'Afternoon'\n",
        "    elif delivery_time >= dts[4] and delivery_time < dts[5]:\n",
        "        return 'Late Afternoon'\n",
        "    else:\n",
        "        return 'Evening'"
      ],
      "execution_count": 0,
      "outputs": []
    },
    {
      "cell_type": "markdown",
      "metadata": {
        "id": "OB-jDqINKPPf",
        "colab_type": "text"
      },
      "source": [
        "## Adding new feature called \"Delivery Times\"\n",
        "1.   This new feature is based on the \"Pickup Time\" feature\n",
        "2.   Its created using the (assign_time_category) function\n",
        "3.   Then is changed into a categorical feature"
      ]
    },
    {
      "cell_type": "code",
      "metadata": {
        "id": "ArXzdVgzKPPf",
        "colab_type": "code",
        "colab": {}
      },
      "source": [
        "training_features['Delivery Times'] = training_features['Pickup - Time'].apply(assign_time_category)\n",
        "training_features['Delivery Times'] = training_features['Delivery Times'].astype('category')"
      ],
      "execution_count": 0,
      "outputs": []
    },
    {
      "cell_type": "markdown",
      "metadata": {
        "id": "hvBZNP_BKPPi",
        "colab_type": "text"
      },
      "source": [
        "## Dropping the \"Pickup Times\" feature"
      ]
    },
    {
      "cell_type": "code",
      "metadata": {
        "id": "jLjAJc2yKPPj",
        "colab_type": "code",
        "colab": {}
      },
      "source": [
        "training_features.drop('Pickup - Time', axis=1, inplace=True)"
      ],
      "execution_count": 0,
      "outputs": []
    },
    {
      "cell_type": "markdown",
      "metadata": {
        "id": "lPBAmyl3KPPQ",
        "colab_type": "text"
      },
      "source": [
        "## Dealing with missing values\n",
        "\n",
        "As described above, there are null-values present in the `Temperature` and `Precipitation in millimeters` columns.\n",
        "\n",
        "We are assuming that if `Precipitation in millimeters` is missing, that it was not raining on that day. We can therefore fill null values with 0."
      ]
    },
    {
      "cell_type": "code",
      "metadata": {
        "id": "zgeX6NYgKPPQ",
        "colab_type": "code",
        "colab": {}
      },
      "source": [
        "# Fill missing precipitation values with 0\n",
        "training_features['Precipitation in millimeters'] = training_features['Precipitation in millimeters'].fillna(value=0)"
      ],
      "execution_count": 0,
      "outputs": []
    },
    {
      "cell_type": "markdown",
      "metadata": {
        "id": "jhcQmeZSZZF1",
        "colab_type": "text"
      },
      "source": [
        "### Filling missing temperature values"
      ]
    },
    {
      "cell_type": "markdown",
      "metadata": {
        "id": "5Ni2UtY5ZcTb",
        "colab_type": "text"
      },
      "source": [
        "Going by intuition only, observing a relationship between temperature and time of day may be useful in filling in the missing temperature values. Missing temperature data will be imputed by grouping the mean temperature by the time buckets that were created above."
      ]
    },
    {
      "cell_type": "code",
      "metadata": {
        "id": "hOc9QOrxUlxl",
        "colab_type": "code",
        "outputId": "5b9ff2b0-f44e-41b0-dd66-68d49158b462",
        "colab": {
          "base_uri": "https://localhost:8080/",
          "height": 344
        }
      },
      "source": [
        "del_temp_plt = sns.boxenplot(y=training_features['Temperature'], \n",
        "                x=training_features['Delivery Times'], \n",
        "                order=[\"Early Morning\", \"Morning\", \"Late Morning\",\n",
        "                     \"Afternoon\", \"Late Afternoon\", \"Evening\"])\n",
        "del_temp_plt = del_temp_plt.set_xticklabels(del_temp_plt.get_xticklabels(), rotation=-50)"
      ],
      "execution_count": 254,
      "outputs": [
        {
          "output_type": "display_data",
          "data": {
            "image/png": "[encoded data removed]",
            "text/plain": [
              "<Figure size 432x288 with 1 Axes>"
            ]
          },
          "metadata": {
            "tags": []
          }
        }
      ]
    },
    {
      "cell_type": "markdown",
      "metadata": {
        "id": "NBlAPhBRad8n",
        "colab_type": "text"
      },
      "source": [
        "This box plot shows us that temperatures tend to be cool in the morning and increase until the late afternoon, after which, it decreases. "
      ]
    },
    {
      "cell_type": "code",
      "metadata": {
        "id": "7hRBg3fCa5tu",
        "colab_type": "code",
        "colab": {}
      },
      "source": [
        "def mean(col):\n",
        "      return col.fillna(col.mean())"
      ],
      "execution_count": 0,
      "outputs": []
    },
    {
      "cell_type": "code",
      "metadata": {
        "id": "0gdeFGBDbanK",
        "colab_type": "code",
        "colab": {}
      },
      "source": [
        "# Impute missing temperature based on delivery time\n",
        "training_features['Temperature'] = training_features.groupby(['Delivery Times'])['Temperature'].transform(mean)"
      ],
      "execution_count": 0,
      "outputs": []
    },
    {
      "cell_type": "markdown",
      "metadata": {
        "id": "6btRhqaKX59w",
        "colab_type": "text"
      },
      "source": [
        "## Calculating distance from CBD"
      ]
    },
    {
      "cell_type": "markdown",
      "metadata": {
        "id": "Ag_e0R7FX88F",
        "colab_type": "text"
      },
      "source": [
        "Considering that Nairobi is one of the most congested cities in the world, considering the pickup and delivery locations' distance from Nairobi's CBD may play a role in determining how much traffic one can expect on a trip.\n",
        "\n",
        "A coordinate of -1.283526, 36.823269 was picked to represent the middle of Nairobi's CBD."
      ]
    },
    {
      "cell_type": "code",
      "metadata": {
        "id": "WqYujcfhZlE2",
        "colab_type": "code",
        "colab": {}
      },
      "source": [
        "# Function to calculate a coordinate's distance from the CBD coordinate\n",
        "def distance_CBD(lat, long):\n",
        "  return math.sqrt(((lat - -1.283526) ** 2) + ((long - 36.823269) ** 2))"
      ],
      "execution_count": 0,
      "outputs": []
    },
    {
      "cell_type": "code",
      "metadata": {
        "id": "Z-5g2WjDbqIB",
        "colab_type": "code",
        "colab": {}
      },
      "source": [
        "training_features['Distance_CBD_pickup'] = np.vectorize(distance_CBD)(training_features['Pickup Lat'],\n",
        "                                    training_features['Pickup Long'])\n",
        "training_features['Distance_CBD_dest'] = np.vectorize(distance_CBD)(training_features['Destination Lat'],\n",
        "                                    training_features['Destination Long'])"
      ],
      "execution_count": 0,
      "outputs": []
    },
    {
      "cell_type": "markdown",
      "metadata": {
        "id": "xVgxBJJxKPPm",
        "colab_type": "text"
      },
      "source": [
        "## Encoding data"
      ]
    },
    {
      "cell_type": "markdown",
      "metadata": {
        "id": "rRp3lZqqKPPm",
        "colab_type": "text"
      },
      "source": [
        "### One-hot encoding for categorical data"
      ]
    },
    {
      "cell_type": "code",
      "metadata": {
        "id": "CcODFSTyKPPn",
        "colab_type": "code",
        "colab": {}
      },
      "source": [
        "training_features = pd.get_dummies(training_features,\n",
        "                                   columns=['Platform Type', 'Personal or Business', 'Pickup - Day of Month', 'Pickup - Weekday (Mo = 1)', 'Delivery Times'],\n",
        "                                   prefix=['platformtype', 'personalbusiness', 'dayofmonth', 'weekday', 'pickuptimes'])"
      ],
      "execution_count": 0,
      "outputs": []
    },
    {
      "cell_type": "markdown",
      "metadata": {
        "id": "6AW_plmvKPPq",
        "colab_type": "text"
      },
      "source": [
        "# Model Building"
      ]
    },
    {
      "cell_type": "markdown",
      "metadata": {
        "id": "ivQ0c2PtDrOB",
        "colab_type": "text"
      },
      "source": [
        "## Train-test split"
      ]
    },
    {
      "cell_type": "code",
      "metadata": {
        "id": "eaEkecDfDt3r",
        "colab_type": "code",
        "colab": {}
      },
      "source": [
        "X_train, X_test, y_train, y_test = train_test_split(training_features, training_outputs, test_size=0.1)"
      ],
      "execution_count": 0,
      "outputs": []
    },
    {
      "cell_type": "markdown",
      "metadata": {
        "id": "WTB8Yt8dKPPu",
        "colab_type": "text"
      },
      "source": [
        "## Multiple Linear Regression Model"
      ]
    },
    {
      "cell_type": "code",
      "metadata": {
        "id": "VCsxMPbdKPPv",
        "colab_type": "code",
        "colab": {}
      },
      "source": [
        "# Create LinearRegression object\n",
        "linear_model = LinearRegression()\n",
        "\n",
        "# Fit a linear regression model\n",
        "linear_model.fit(training_features, training_outputs)\n",
        "\n",
        "# Predicting test results\n",
        "y_pred_mlr = linear_model.predict(X_test)"
      ],
      "execution_count": 0,
      "outputs": []
    },
    {
      "cell_type": "code",
      "metadata": {
        "id": "-V-jhXMEKPPy",
        "colab_type": "code",
        "outputId": "068aef0e-7ccf-4766-d09c-7029802fe1c3",
        "colab": {
          "base_uri": "https://localhost:8080/",
          "height": 102
        }
      },
      "source": [
        "print(\"Training MSE:\", metrics.mean_squared_error(training_outputs, linear_model.predict(training_features)))\n",
        "print(\"Validation MSE: \", metrics.mean_squared_error(y_test,y_pred_mlr))\n",
        "\n",
        "print(\"\\nTraining RMSE:\", np.sqrt(metrics.mean_squared_error(training_outputs, linear_model.predict(training_features))))\n",
        "print(\"Validation RMSE:\", np.sqrt(metrics.mean_squared_error(y_test,y_pred_mlr)))"
      ],
      "execution_count": 263,
      "outputs": [
        {
          "output_type": "stream",
          "text": [
            "Training MSE: 588354.9343588441\n",
            "Validation MSE:  583413.921536327\n",
            "\n",
            "Training RMSE: 767.0429807767255\n",
            "Validation RMSE: 763.8153713668814\n"
          ],
          "name": "stdout"
        }
      ]
    },
    {
      "cell_type": "markdown",
      "metadata": {
        "id": "GYQ_4c66KPP5",
        "colab_type": "text"
      },
      "source": [
        "## Regression Tree Model"
      ]
    },
    {
      "cell_type": "code",
      "metadata": {
        "id": "Ag102KczKPP5",
        "colab_type": "code",
        "colab": {}
      },
      "source": [
        "# Create DecisionTreeRegressor object\n",
        "regression_tree = DecisionTreeRegressor(random_state = 0)\n",
        "\n",
        "# Fit a regression tree model\n",
        "regression_tree.fit(training_features, training_outputs)\n",
        "\n",
        "# Predicting test results\n",
        "y_pred_reg_tree = regression_tree.predict(X_test)"
      ],
      "execution_count": 0,
      "outputs": []
    },
    {
      "cell_type": "code",
      "metadata": {
        "id": "2xYr4is3KPP9",
        "colab_type": "code",
        "outputId": "80381810-7185-4724-a145-a75e109afbfc",
        "colab": {
          "base_uri": "https://localhost:8080/",
          "height": 102
        }
      },
      "source": [
        "print(\"Training MSE:\", metrics.mean_squared_error(training_outputs, regression_tree.predict(training_features)))\n",
        "print(\"Validation MSE:\", metrics.mean_squared_error(y_test, y_pred_reg_tree))\n",
        "\n",
        "print(\"\\nTraining RMSE:\", np.sqrt(metrics.mean_squared_error(training_outputs, regression_tree.predict(training_features))))\n",
        "print(\"Validation RMSE:\", np.sqrt(metrics.mean_squared_error(y_test, y_pred_reg_tree)))"
      ],
      "execution_count": 265,
      "outputs": [
        {
          "output_type": "stream",
          "text": [
            "Training MSE: 1712.0161934085982\n",
            "Validation MSE: 829.3998263040764\n",
            "\n",
            "Training RMSE: 41.376517415178846\n",
            "Validation RMSE: 28.799302531555803\n"
          ],
          "name": "stdout"
        }
      ]
    },
    {
      "cell_type": "markdown",
      "metadata": {
        "id": "UqIpd8pHKPQH",
        "colab_type": "text"
      },
      "source": [
        "## Random Forest Model"
      ]
    },
    {
      "cell_type": "code",
      "metadata": {
        "id": "BlX6BfIEKPQH",
        "colab_type": "code",
        "colab": {}
      },
      "source": [
        "# Create RandomForestRegressor object\n",
        "random_forest = RandomForestRegressor(n_estimators = 7, random_state = 0)\n",
        "\n",
        "# Fit a random foreset model\n",
        "random_forest.fit(training_features, training_outputs)\n",
        "\n",
        "# Predicting test results\n",
        "y_pred_forest = random_forest.predict(X_test)"
      ],
      "execution_count": 0,
      "outputs": []
    },
    {
      "cell_type": "code",
      "metadata": {
        "id": "3OE0Cnh4KPQK",
        "colab_type": "code",
        "outputId": "80d16655-2bed-4ac6-8365-8d39928569c8",
        "colab": {
          "base_uri": "https://localhost:8080/",
          "height": 102
        }
      },
      "source": [
        "print(\"Training MSE:\", metrics.mean_squared_error(training_outputs, random_forest.predict(training_features)))\n",
        "print(\"Validation MSE:\", metrics.mean_squared_error(y_test, y_pred_forest))\n",
        "\n",
        "print(\"\\nTraining RMSE:\", np.sqrt(metrics.mean_squared_error(training_outputs, random_forest.predict(training_features))))\n",
        "print(\"Validation RMSE:\", np.sqrt(metrics.mean_squared_error(y_test, y_pred_forest)))"
      ],
      "execution_count": 267,
      "outputs": [
        {
          "output_type": "stream",
          "text": [
            "Training MSE: 128990.91494277796\n",
            "Validation MSE: 117714.15863661932\n",
            "\n",
            "Training RMSE: 359.1530522531835\n",
            "Validation RMSE: 343.0949702875566\n"
          ],
          "name": "stdout"
        }
      ]
    },
    {
      "cell_type": "markdown",
      "metadata": {
        "id": "NoNWJ16EForu",
        "colab_type": "text"
      },
      "source": [
        "## Simple Linear Regression"
      ]
    },
    {
      "cell_type": "markdown",
      "metadata": {
        "id": "T4790xa9FsJj",
        "colab_type": "text"
      },
      "source": [
        "The ECDF plots for Delivery Time and Distance are almost identical. For interest's sake, this model predicts delivery time based on distance (KM) only."
      ]
    },
    {
      "cell_type": "code",
      "metadata": {
        "id": "ZDFm0WITFrDQ",
        "colab_type": "code",
        "outputId": "6576dbd5-96f3-47b9-98ab-20708a0e8ad6",
        "colab": {
          "base_uri": "https://localhost:8080/"
        }
      },
      "source": [
        "slr = LinearRegression()\n",
        "\n",
        "slr_X = training_features['Distance (KM)']\n",
        "slr_X = slr_X[:,np.newaxis]\n",
        "\n",
        "slr.fit(slr_X, training_outputs)"
      ],
      "execution_count": 0,
      "outputs": [
        {
          "output_type": "execute_result",
          "data": {
            "text/plain": [
              "LinearRegression(copy_X=True, fit_intercept=True, n_jobs=None, normalize=False)"
            ]
          },
          "metadata": {
            "tags": []
          },
          "execution_count": 144
        }
      ]
    },
    {
      "cell_type": "code",
      "metadata": {
        "id": "fDiwYPhmIFms",
        "colab_type": "code",
        "outputId": "f30c585d-f973-45b3-da9e-5386d2843e4c",
        "colab": {
          "base_uri": "https://localhost:8080/"
        }
      },
      "source": [
        "# Making a prediction for 12km\n",
        "print(slr.predict([[12]]))"
      ],
      "execution_count": 0,
      "outputs": [
        {
          "output_type": "stream",
          "text": [
            "[1809.04790942]\n"
          ],
          "name": "stdout"
        }
      ]
    },
    {
      "cell_type": "code",
      "metadata": {
        "id": "aSBBG-k6Ij95",
        "colab_type": "code",
        "outputId": "e8228079-2ca2-4f13-8094-4ddb8287ffad",
        "colab": {
          "base_uri": "https://localhost:8080/"
        }
      },
      "source": [
        "print(\"Training RMSE:\", np.sqrt(metrics.mean_squared_error(training_outputs, slr.predict(slr_X))))"
      ],
      "execution_count": 0,
      "outputs": [
        {
          "output_type": "stream",
          "text": [
            "Training RMSE: 803.800449277611\n"
          ],
          "name": "stdout"
        }
      ]
    },
    {
      "cell_type": "markdown",
      "metadata": {
        "id": "YjBSIogXJYAT",
        "colab_type": "text"
      },
      "source": [
        "## LASSO Regression"
      ]
    },
    {
      "cell_type": "markdown",
      "metadata": {
        "id": "shoIFj4bJkyg",
        "colab_type": "text"
      },
      "source": [
        "In LASSO Regression, we need to standardise our features before putting training a model."
      ]
    },
    {
      "cell_type": "code",
      "metadata": {
        "id": "TsvoDGuUJagV",
        "colab_type": "code",
        "outputId": "d3332af4-451c-49b0-b497-121cfb474e96",
        "colab": {
          "base_uri": "https://localhost:8080/"
        }
      },
      "source": [
        "# Create StandardScaler object\n",
        "scaler1 = StandardScaler()\n",
        "X_scaled = scaler1.fit_transform(training_features)\n",
        "scaler2 = StandardScaler()\n",
        "y_scaled = training_outputs[:,np.newaxis]\n",
        "y_scaled = scaler2.fit_transform(y_scaled)\n",
        "\n",
        "# Create Lasso object\n",
        "lasso = Lasso(alpha=0.01)\n",
        "lasso.fit(X_scaled, y_scaled)"
      ],
      "execution_count": 0,
      "outputs": [
        {
          "output_type": "execute_result",
          "data": {
            "text/plain": [
              "Lasso(alpha=0.01, copy_X=True, fit_intercept=True, max_iter=1000,\n",
              "      normalize=False, positive=False, precompute=False, random_state=None,\n",
              "      selection='cyclic', tol=0.0001, warm_start=False)"
            ]
          },
          "metadata": {
            "tags": []
          },
          "execution_count": 147
        }
      ]
    },
    {
      "cell_type": "code",
      "metadata": {
        "id": "UfCSx29QLgOH",
        "colab_type": "code",
        "outputId": "a18cb5df-0fde-4f7b-bdbb-4ec1526bbddd",
        "colab": {
          "base_uri": "https://localhost:8080/"
        }
      },
      "source": [
        "print(\"Training RMSE:\", np.sqrt(metrics.mean_squared_error(y_scaled, lasso.predict(X_scaled))))"
      ],
      "execution_count": 0,
      "outputs": [
        {
          "output_type": "stream",
          "text": [
            "Training RMSE: 0.8116856187610857\n"
          ],
          "name": "stdout"
        }
      ]
    },
    {
      "cell_type": "markdown",
      "metadata": {
        "id": "xlO12piCNSko",
        "colab_type": "text"
      },
      "source": [
        "# Performance evaluation"
      ]
    },
    {
      "cell_type": "code",
      "metadata": {
        "id": "S4FvCmLNNeos",
        "colab_type": "code",
        "colab": {}
      },
      "source": [
        ""
      ],
      "execution_count": 0,
      "outputs": []
    },
    {
      "cell_type": "markdown",
      "metadata": {
        "id": "IKMUUN3FNi22",
        "colab_type": "text"
      },
      "source": [
        "# Model Analysis"
      ]
    },
    {
      "cell_type": "code",
      "metadata": {
        "id": "fk2hzGlSNkmq",
        "colab_type": "code",
        "colab": {}
      },
      "source": [
        ""
      ],
      "execution_count": 0,
      "outputs": []
    },
    {
      "cell_type": "markdown",
      "metadata": {
        "id": "VQ2fvV6fPhfp",
        "colab_type": "text"
      },
      "source": [
        "#Conclusion\n"
      ]
    },
    {
      "cell_type": "code",
      "metadata": {
        "id": "PQl2eUhXPjOZ",
        "colab_type": "code",
        "colab": {}
      },
      "source": [
        ""
      ],
      "execution_count": 0,
      "outputs": []
    }
  ]
}