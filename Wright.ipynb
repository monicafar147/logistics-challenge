{
  "nbformat": 4,
  "nbformat_minor": 0,
  "metadata": {
    "kernelspec": {
      "display_name": "Python 3",
      "language": "python",
      "name": "python3"
    },
    "language_info": {
      "codemirror_mode": {
        "name": "ipython",
        "version": 3
      },
      "file_extension": ".py",
      "mimetype": "text/x-python",
      "name": "python",
      "nbconvert_exporter": "python",
      "pygments_lexer": "ipython3",
      "version": "3.7.6"
    },
    "colab": {
      "name": "Wright.ipynb",
      "provenance": [],
      "toc_visible": true,
      "include_colab_link": true
    }
  },
  "cells": [
    {
      "cell_type": "markdown",
      "metadata": {
        "id": "view-in-github",
        "colab_type": "text"
      },
      "source": [
        "<a href=\"https://colab.research.google.com/github/monicafar147/regression-predict-api-template/blob/Wright/Wright.ipynb\" target=\"_parent\"><img src=\"https://colab.research.google.com/assets/colab-badge.svg\" alt=\"Open In Colab\"/></a>"
      ]
    },
    {
      "cell_type": "markdown",
      "metadata": {
        "id": "h04MumjwKPOB",
        "colab_type": "text"
      },
      "source": [
        "*   make sure you are working in your own branch that you cloned from git\n",
        "*   to commit your notebook changes to git:\n",
        "1.   file\n",
        "2.   save a copy in github\n",
        "3.   choose your branch from branches dropdown\n",
        "4.   change commit message to what you did e.g. \"fixed dataframe indexes\"\n",
        "5.   click ok"
      ]
    },
    {
      "cell_type": "markdown",
      "metadata": {
        "id": "SHrcjfQxKPOC",
        "colab_type": "text"
      },
      "source": [
        "# Introduction to problem and dataset"
      ]
    },
    {
      "cell_type": "markdown",
      "metadata": {
        "id": "T4SnGB7xKPOD",
        "colab_type": "text"
      },
      "source": [
        "## Problems to fix\n",
        "\n",
        "* Since most of the time columns take place within 1-2 hours, the current solution of only extracting the hours is poor. Perhaps, since the y-variable is in seconds, we can convert all the time columns to something like \"seconds after midnight\"\n",
        "* There are `Time from Pickup to Arrival` values of 1, which seems unrealistic considering the data is measured in seconds. We should investigate the actual difference between the `Arrival at Destination - Time` and `Pickup - Time` columns before we drop the `Arrival at Destination - Time` column.\n",
        "* We still haven't got a solution for the `Rider Id` column to turn it into a categorical variable."
      ]
    },
    {
      "cell_type": "markdown",
      "metadata": {
        "id": "_osLIaqeKPOE",
        "colab_type": "text"
      },
      "source": [
        "## Importing the libraries"
      ]
    },
    {
      "cell_type": "code",
      "metadata": {
        "id": "TR-fotPuKPOF",
        "colab_type": "code",
        "colab": {}
      },
      "source": [
        "import numpy as np\n",
        "import matplotlib.pyplot as plt\n",
        "import pandas as pd\n",
        "import seaborn as sns\n",
        "\n",
        "sns.set(palette='pastel')"
      ],
      "execution_count": 0,
      "outputs": []
    },
    {
      "cell_type": "markdown",
      "metadata": {
        "id": "glJjPWRBKPOK",
        "colab_type": "text"
      },
      "source": [
        "## Importing the datasets and splitting it into features and outputs"
      ]
    },
    {
      "cell_type": "code",
      "metadata": {
        "id": "oEJvxr0BKPOL",
        "colab_type": "code",
        "colab": {}
      },
      "source": [
        "orders = pd.read_csv(r'Train.csv', parse_dates=['Pickup - Time', 'Placement - Time', 'Confirmation - Time', 'Arrival at Pickup - Time', 'Arrival at Destination - Time'])\n",
        "training_features = orders.iloc[:, :-1]\n",
        "training_outputs = orders.iloc[:, -1]\n",
        "test_features = pd.read_csv(r'Test.csv', parse_dates=['Pickup - Time', 'Placement - Time', 'Confirmation - Time'])"
      ],
      "execution_count": 0,
      "outputs": []
    },
    {
      "cell_type": "code",
      "metadata": {
        "id": "FBrQX5sqKPOO",
        "colab_type": "code",
        "colab": {},
        "outputId": "1bfcc49a-b610-4306-f3d3-629bb970a750"
      },
      "source": [
        "training_features.info()"
      ],
      "execution_count": 0,
      "outputs": [
        {
          "output_type": "stream",
          "text": [
            "<class 'pandas.core.frame.DataFrame'>\n",
            "RangeIndex: 21201 entries, 0 to 21200\n",
            "Data columns (total 28 columns):\n",
            " #   Column                                     Non-Null Count  Dtype         \n",
            "---  ------                                     --------------  -----         \n",
            " 0   Order No                                   21201 non-null  object        \n",
            " 1   User Id                                    21201 non-null  object        \n",
            " 2   Vehicle Type                               21201 non-null  object        \n",
            " 3   Platform Type                              21201 non-null  int64         \n",
            " 4   Personal or Business                       21201 non-null  object        \n",
            " 5   Placement - Day of Month                   21201 non-null  int64         \n",
            " 6   Placement - Weekday (Mo = 1)               21201 non-null  int64         \n",
            " 7   Placement - Time                           21201 non-null  datetime64[ns]\n",
            " 8   Confirmation - Day of Month                21201 non-null  int64         \n",
            " 9   Confirmation - Weekday (Mo = 1)            21201 non-null  int64         \n",
            " 10  Confirmation - Time                        21201 non-null  datetime64[ns]\n",
            " 11  Arrival at Pickup - Day of Month           21201 non-null  int64         \n",
            " 12  Arrival at Pickup - Weekday (Mo = 1)       21201 non-null  int64         \n",
            " 13  Arrival at Pickup - Time                   21201 non-null  datetime64[ns]\n",
            " 14  Pickup - Day of Month                      21201 non-null  int64         \n",
            " 15  Pickup - Weekday (Mo = 1)                  21201 non-null  int64         \n",
            " 16  Pickup - Time                              21201 non-null  datetime64[ns]\n",
            " 17  Arrival at Destination - Day of Month      21201 non-null  int64         \n",
            " 18  Arrival at Destination - Weekday (Mo = 1)  21201 non-null  int64         \n",
            " 19  Arrival at Destination - Time              21201 non-null  datetime64[ns]\n",
            " 20  Distance (KM)                              21201 non-null  int64         \n",
            " 21  Temperature                                16835 non-null  float64       \n",
            " 22  Precipitation in millimeters               552 non-null    float64       \n",
            " 23  Pickup Lat                                 21201 non-null  float64       \n",
            " 24  Pickup Long                                21201 non-null  float64       \n",
            " 25  Destination Lat                            21201 non-null  float64       \n",
            " 26  Destination Long                           21201 non-null  float64       \n",
            " 27  Rider Id                                   21201 non-null  object        \n",
            "dtypes: datetime64[ns](5), float64(6), int64(12), object(5)\n",
            "memory usage: 4.5+ MB\n"
          ],
          "name": "stdout"
        }
      ]
    },
    {
      "cell_type": "code",
      "metadata": {
        "id": "eDEFioKaKPOT",
        "colab_type": "code",
        "colab": {},
        "outputId": "d655a4c0-e002-4167-dbbd-cc48413b1453"
      },
      "source": [
        "test_features.info()"
      ],
      "execution_count": 0,
      "outputs": [
        {
          "output_type": "stream",
          "text": [
            "<class 'pandas.core.frame.DataFrame'>\n",
            "RangeIndex: 7068 entries, 0 to 7067\n",
            "Data columns (total 25 columns):\n",
            " #   Column                                Non-Null Count  Dtype         \n",
            "---  ------                                --------------  -----         \n",
            " 0   Order No                              7068 non-null   object        \n",
            " 1   User Id                               7068 non-null   object        \n",
            " 2   Vehicle Type                          7068 non-null   object        \n",
            " 3   Platform Type                         7068 non-null   int64         \n",
            " 4   Personal or Business                  7068 non-null   object        \n",
            " 5   Placement - Day of Month              7068 non-null   int64         \n",
            " 6   Placement - Weekday (Mo = 1)          7068 non-null   int64         \n",
            " 7   Placement - Time                      7068 non-null   datetime64[ns]\n",
            " 8   Confirmation - Day of Month           7068 non-null   int64         \n",
            " 9   Confirmation - Weekday (Mo = 1)       7068 non-null   int64         \n",
            " 10  Confirmation - Time                   7068 non-null   datetime64[ns]\n",
            " 11  Arrival at Pickup - Day of Month      7068 non-null   int64         \n",
            " 12  Arrival at Pickup - Weekday (Mo = 1)  7068 non-null   int64         \n",
            " 13  Arrival at Pickup - Time              7068 non-null   object        \n",
            " 14  Pickup - Day of Month                 7068 non-null   int64         \n",
            " 15  Pickup - Weekday (Mo = 1)             7068 non-null   int64         \n",
            " 16  Pickup - Time                         7068 non-null   datetime64[ns]\n",
            " 17  Distance (KM)                         7068 non-null   int64         \n",
            " 18  Temperature                           5631 non-null   float64       \n",
            " 19  Precipitation in millimeters          199 non-null    float64       \n",
            " 20  Pickup Lat                            7068 non-null   float64       \n",
            " 21  Pickup Long                           7068 non-null   float64       \n",
            " 22  Destination Lat                       7068 non-null   float64       \n",
            " 23  Destination Long                      7068 non-null   float64       \n",
            " 24  Rider Id                              7068 non-null   object        \n",
            "dtypes: datetime64[ns](3), float64(6), int64(10), object(6)\n",
            "memory usage: 1.3+ MB\n"
          ],
          "name": "stdout"
        }
      ]
    },
    {
      "cell_type": "code",
      "metadata": {
        "id": "-AIXPU0UKPOY",
        "colab_type": "code",
        "colab": {},
        "outputId": "2dbe35e7-c734-4fd7-a262-60c8dc0f9610"
      },
      "source": [
        "training_outputs"
      ],
      "execution_count": 0,
      "outputs": [
        {
          "output_type": "execute_result",
          "data": {
            "text/plain": [
              "0         745\n",
              "1        1993\n",
              "2         455\n",
              "3        1341\n",
              "4        1214\n",
              "         ... \n",
              "21196       9\n",
              "21197     770\n",
              "21198    2953\n",
              "21199    1380\n",
              "21200    2128\n",
              "Name: Time from Pickup to Arrival, Length: 21201, dtype: int64"
            ]
          },
          "metadata": {
            "tags": []
          },
          "execution_count": 38
        }
      ]
    },
    {
      "cell_type": "markdown",
      "metadata": {
        "id": "pOypFNWcKPOc",
        "colab_type": "text"
      },
      "source": [
        "At this stage, we notice that there are missing values from `Temperature` and `Precipitation in millimeters`. We also need to convert all the columns that contain time information from objects to a datetime format."
      ]
    },
    {
      "cell_type": "markdown",
      "metadata": {
        "id": "81P7YDmnKPOd",
        "colab_type": "text"
      },
      "source": [
        "# Exploratory Data Analysis\n",
        "\n",
        "To first get well-acquainted with the data, we will first explore any obvious relationships between variables."
      ]
    },
    {
      "cell_type": "code",
      "metadata": {
        "id": "pd9R4H2aKPOd",
        "colab_type": "code",
        "colab": {},
        "outputId": "c1fb8771-ba6a-48e4-f2d3-f76c2c4899bb"
      },
      "source": [
        "training_features.describe()"
      ],
      "execution_count": 0,
      "outputs": [
        {
          "output_type": "execute_result",
          "data": {
            "text/html": [
              "<div>\n",
              "<style scoped>\n",
              "    .dataframe tbody tr th:only-of-type {\n",
              "        vertical-align: middle;\n",
              "    }\n",
              "\n",
              "    .dataframe tbody tr th {\n",
              "        vertical-align: top;\n",
              "    }\n",
              "\n",
              "    .dataframe thead th {\n",
              "        text-align: right;\n",
              "    }\n",
              "</style>\n",
              "<table border=\"1\" class=\"dataframe\">\n",
              "  <thead>\n",
              "    <tr style=\"text-align: right;\">\n",
              "      <th></th>\n",
              "      <th>Platform Type</th>\n",
              "      <th>Placement - Day of Month</th>\n",
              "      <th>Placement - Weekday (Mo = 1)</th>\n",
              "      <th>Confirmation - Day of Month</th>\n",
              "      <th>Confirmation - Weekday (Mo = 1)</th>\n",
              "      <th>Arrival at Pickup - Day of Month</th>\n",
              "      <th>Arrival at Pickup - Weekday (Mo = 1)</th>\n",
              "      <th>Pickup - Day of Month</th>\n",
              "      <th>Pickup - Weekday (Mo = 1)</th>\n",
              "      <th>Arrival at Destination - Day of Month</th>\n",
              "      <th>Arrival at Destination - Weekday (Mo = 1)</th>\n",
              "      <th>Distance (KM)</th>\n",
              "      <th>Temperature</th>\n",
              "      <th>Precipitation in millimeters</th>\n",
              "      <th>Pickup Lat</th>\n",
              "      <th>Pickup Long</th>\n",
              "      <th>Destination Lat</th>\n",
              "      <th>Destination Long</th>\n",
              "    </tr>\n",
              "  </thead>\n",
              "  <tbody>\n",
              "    <tr>\n",
              "      <th>count</th>\n",
              "      <td>21201.000000</td>\n",
              "      <td>21201.000000</td>\n",
              "      <td>21201.000000</td>\n",
              "      <td>21201.000000</td>\n",
              "      <td>21201.000000</td>\n",
              "      <td>21201.000000</td>\n",
              "      <td>21201.000000</td>\n",
              "      <td>21201.000000</td>\n",
              "      <td>21201.000000</td>\n",
              "      <td>21201.000000</td>\n",
              "      <td>21201.000000</td>\n",
              "      <td>21201.000000</td>\n",
              "      <td>16835.000000</td>\n",
              "      <td>552.000000</td>\n",
              "      <td>21201.000000</td>\n",
              "      <td>21201.000000</td>\n",
              "      <td>21201.000000</td>\n",
              "      <td>21201.000000</td>\n",
              "    </tr>\n",
              "    <tr>\n",
              "      <th>mean</th>\n",
              "      <td>2.752182</td>\n",
              "      <td>15.653696</td>\n",
              "      <td>3.240083</td>\n",
              "      <td>15.653837</td>\n",
              "      <td>3.240225</td>\n",
              "      <td>15.653837</td>\n",
              "      <td>3.240225</td>\n",
              "      <td>15.653837</td>\n",
              "      <td>3.240225</td>\n",
              "      <td>15.653837</td>\n",
              "      <td>3.240225</td>\n",
              "      <td>9.506533</td>\n",
              "      <td>23.258889</td>\n",
              "      <td>7.905797</td>\n",
              "      <td>-1.281470</td>\n",
              "      <td>36.811264</td>\n",
              "      <td>-1.282581</td>\n",
              "      <td>36.811220</td>\n",
              "    </tr>\n",
              "    <tr>\n",
              "      <th>std</th>\n",
              "      <td>0.625178</td>\n",
              "      <td>8.798916</td>\n",
              "      <td>1.567295</td>\n",
              "      <td>8.798886</td>\n",
              "      <td>1.567228</td>\n",
              "      <td>8.798886</td>\n",
              "      <td>1.567228</td>\n",
              "      <td>8.798886</td>\n",
              "      <td>1.567228</td>\n",
              "      <td>8.798886</td>\n",
              "      <td>1.567228</td>\n",
              "      <td>5.668963</td>\n",
              "      <td>3.615768</td>\n",
              "      <td>17.089971</td>\n",
              "      <td>0.030507</td>\n",
              "      <td>0.037473</td>\n",
              "      <td>0.034824</td>\n",
              "      <td>0.044721</td>\n",
              "    </tr>\n",
              "    <tr>\n",
              "      <th>min</th>\n",
              "      <td>1.000000</td>\n",
              "      <td>1.000000</td>\n",
              "      <td>1.000000</td>\n",
              "      <td>1.000000</td>\n",
              "      <td>1.000000</td>\n",
              "      <td>1.000000</td>\n",
              "      <td>1.000000</td>\n",
              "      <td>1.000000</td>\n",
              "      <td>1.000000</td>\n",
              "      <td>1.000000</td>\n",
              "      <td>1.000000</td>\n",
              "      <td>1.000000</td>\n",
              "      <td>11.200000</td>\n",
              "      <td>0.100000</td>\n",
              "      <td>-1.438302</td>\n",
              "      <td>36.653621</td>\n",
              "      <td>-1.430298</td>\n",
              "      <td>36.606594</td>\n",
              "    </tr>\n",
              "    <tr>\n",
              "      <th>25%</th>\n",
              "      <td>3.000000</td>\n",
              "      <td>8.000000</td>\n",
              "      <td>2.000000</td>\n",
              "      <td>8.000000</td>\n",
              "      <td>2.000000</td>\n",
              "      <td>8.000000</td>\n",
              "      <td>2.000000</td>\n",
              "      <td>8.000000</td>\n",
              "      <td>2.000000</td>\n",
              "      <td>8.000000</td>\n",
              "      <td>2.000000</td>\n",
              "      <td>5.000000</td>\n",
              "      <td>20.600000</td>\n",
              "      <td>1.075000</td>\n",
              "      <td>-1.300921</td>\n",
              "      <td>36.784605</td>\n",
              "      <td>-1.301201</td>\n",
              "      <td>36.785661</td>\n",
              "    </tr>\n",
              "    <tr>\n",
              "      <th>50%</th>\n",
              "      <td>3.000000</td>\n",
              "      <td>15.000000</td>\n",
              "      <td>3.000000</td>\n",
              "      <td>15.000000</td>\n",
              "      <td>3.000000</td>\n",
              "      <td>15.000000</td>\n",
              "      <td>3.000000</td>\n",
              "      <td>15.000000</td>\n",
              "      <td>3.000000</td>\n",
              "      <td>15.000000</td>\n",
              "      <td>3.000000</td>\n",
              "      <td>8.000000</td>\n",
              "      <td>23.500000</td>\n",
              "      <td>2.900000</td>\n",
              "      <td>-1.279395</td>\n",
              "      <td>36.807040</td>\n",
              "      <td>-1.284382</td>\n",
              "      <td>36.808002</td>\n",
              "    </tr>\n",
              "    <tr>\n",
              "      <th>75%</th>\n",
              "      <td>3.000000</td>\n",
              "      <td>23.000000</td>\n",
              "      <td>5.000000</td>\n",
              "      <td>23.000000</td>\n",
              "      <td>5.000000</td>\n",
              "      <td>23.000000</td>\n",
              "      <td>5.000000</td>\n",
              "      <td>23.000000</td>\n",
              "      <td>5.000000</td>\n",
              "      <td>23.000000</td>\n",
              "      <td>5.000000</td>\n",
              "      <td>13.000000</td>\n",
              "      <td>26.000000</td>\n",
              "      <td>4.900000</td>\n",
              "      <td>-1.257147</td>\n",
              "      <td>36.829741</td>\n",
              "      <td>-1.261177</td>\n",
              "      <td>36.829477</td>\n",
              "    </tr>\n",
              "    <tr>\n",
              "      <th>max</th>\n",
              "      <td>4.000000</td>\n",
              "      <td>31.000000</td>\n",
              "      <td>7.000000</td>\n",
              "      <td>31.000000</td>\n",
              "      <td>7.000000</td>\n",
              "      <td>31.000000</td>\n",
              "      <td>7.000000</td>\n",
              "      <td>31.000000</td>\n",
              "      <td>7.000000</td>\n",
              "      <td>31.000000</td>\n",
              "      <td>7.000000</td>\n",
              "      <td>49.000000</td>\n",
              "      <td>32.100000</td>\n",
              "      <td>99.100000</td>\n",
              "      <td>-1.147170</td>\n",
              "      <td>36.991046</td>\n",
              "      <td>-1.030225</td>\n",
              "      <td>37.016779</td>\n",
              "    </tr>\n",
              "  </tbody>\n",
              "</table>\n",
              "</div>"
            ],
            "text/plain": [
              "       Platform Type  Placement - Day of Month  Placement - Weekday (Mo = 1)  \\\n",
              "count   21201.000000              21201.000000                  21201.000000   \n",
              "mean        2.752182                 15.653696                      3.240083   \n",
              "std         0.625178                  8.798916                      1.567295   \n",
              "min         1.000000                  1.000000                      1.000000   \n",
              "25%         3.000000                  8.000000                      2.000000   \n",
              "50%         3.000000                 15.000000                      3.000000   \n",
              "75%         3.000000                 23.000000                      5.000000   \n",
              "max         4.000000                 31.000000                      7.000000   \n",
              "\n",
              "       Confirmation - Day of Month  Confirmation - Weekday (Mo = 1)  \\\n",
              "count                 21201.000000                     21201.000000   \n",
              "mean                     15.653837                         3.240225   \n",
              "std                       8.798886                         1.567228   \n",
              "min                       1.000000                         1.000000   \n",
              "25%                       8.000000                         2.000000   \n",
              "50%                      15.000000                         3.000000   \n",
              "75%                      23.000000                         5.000000   \n",
              "max                      31.000000                         7.000000   \n",
              "\n",
              "       Arrival at Pickup - Day of Month  Arrival at Pickup - Weekday (Mo = 1)  \\\n",
              "count                      21201.000000                          21201.000000   \n",
              "mean                          15.653837                              3.240225   \n",
              "std                            8.798886                              1.567228   \n",
              "min                            1.000000                              1.000000   \n",
              "25%                            8.000000                              2.000000   \n",
              "50%                           15.000000                              3.000000   \n",
              "75%                           23.000000                              5.000000   \n",
              "max                           31.000000                              7.000000   \n",
              "\n",
              "       Pickup - Day of Month  Pickup - Weekday (Mo = 1)  \\\n",
              "count           21201.000000               21201.000000   \n",
              "mean               15.653837                   3.240225   \n",
              "std                 8.798886                   1.567228   \n",
              "min                 1.000000                   1.000000   \n",
              "25%                 8.000000                   2.000000   \n",
              "50%                15.000000                   3.000000   \n",
              "75%                23.000000                   5.000000   \n",
              "max                31.000000                   7.000000   \n",
              "\n",
              "       Arrival at Destination - Day of Month  \\\n",
              "count                           21201.000000   \n",
              "mean                               15.653837   \n",
              "std                                 8.798886   \n",
              "min                                 1.000000   \n",
              "25%                                 8.000000   \n",
              "50%                                15.000000   \n",
              "75%                                23.000000   \n",
              "max                                31.000000   \n",
              "\n",
              "       Arrival at Destination - Weekday (Mo = 1)  Distance (KM)   Temperature  \\\n",
              "count                               21201.000000   21201.000000  16835.000000   \n",
              "mean                                    3.240225       9.506533     23.258889   \n",
              "std                                     1.567228       5.668963      3.615768   \n",
              "min                                     1.000000       1.000000     11.200000   \n",
              "25%                                     2.000000       5.000000     20.600000   \n",
              "50%                                     3.000000       8.000000     23.500000   \n",
              "75%                                     5.000000      13.000000     26.000000   \n",
              "max                                     7.000000      49.000000     32.100000   \n",
              "\n",
              "       Precipitation in millimeters    Pickup Lat   Pickup Long  \\\n",
              "count                    552.000000  21201.000000  21201.000000   \n",
              "mean                       7.905797     -1.281470     36.811264   \n",
              "std                       17.089971      0.030507      0.037473   \n",
              "min                        0.100000     -1.438302     36.653621   \n",
              "25%                        1.075000     -1.300921     36.784605   \n",
              "50%                        2.900000     -1.279395     36.807040   \n",
              "75%                        4.900000     -1.257147     36.829741   \n",
              "max                       99.100000     -1.147170     36.991046   \n",
              "\n",
              "       Destination Lat  Destination Long  \n",
              "count     21201.000000      21201.000000  \n",
              "mean         -1.282581         36.811220  \n",
              "std           0.034824          0.044721  \n",
              "min          -1.430298         36.606594  \n",
              "25%          -1.301201         36.785661  \n",
              "50%          -1.284382         36.808002  \n",
              "75%          -1.261177         36.829477  \n",
              "max          -1.030225         37.016779  "
            ]
          },
          "metadata": {
            "tags": []
          },
          "execution_count": 39
        }
      ]
    },
    {
      "cell_type": "code",
      "metadata": {
        "id": "llyIEo1uKPOh",
        "colab_type": "code",
        "colab": {},
        "outputId": "bbd10b61-3daf-41a5-f967-05dd0e89ef14"
      },
      "source": [
        "test_features.describe()"
      ],
      "execution_count": 0,
      "outputs": [
        {
          "output_type": "execute_result",
          "data": {
            "text/html": [
              "<div>\n",
              "<style scoped>\n",
              "    .dataframe tbody tr th:only-of-type {\n",
              "        vertical-align: middle;\n",
              "    }\n",
              "\n",
              "    .dataframe tbody tr th {\n",
              "        vertical-align: top;\n",
              "    }\n",
              "\n",
              "    .dataframe thead th {\n",
              "        text-align: right;\n",
              "    }\n",
              "</style>\n",
              "<table border=\"1\" class=\"dataframe\">\n",
              "  <thead>\n",
              "    <tr style=\"text-align: right;\">\n",
              "      <th></th>\n",
              "      <th>Platform Type</th>\n",
              "      <th>Placement - Day of Month</th>\n",
              "      <th>Placement - Weekday (Mo = 1)</th>\n",
              "      <th>Confirmation - Day of Month</th>\n",
              "      <th>Confirmation - Weekday (Mo = 1)</th>\n",
              "      <th>Arrival at Pickup - Day of Month</th>\n",
              "      <th>Arrival at Pickup - Weekday (Mo = 1)</th>\n",
              "      <th>Pickup - Day of Month</th>\n",
              "      <th>Pickup - Weekday (Mo = 1)</th>\n",
              "      <th>Distance (KM)</th>\n",
              "      <th>Temperature</th>\n",
              "      <th>Precipitation in millimeters</th>\n",
              "      <th>Pickup Lat</th>\n",
              "      <th>Pickup Long</th>\n",
              "      <th>Destination Lat</th>\n",
              "      <th>Destination Long</th>\n",
              "    </tr>\n",
              "  </thead>\n",
              "  <tbody>\n",
              "    <tr>\n",
              "      <th>count</th>\n",
              "      <td>7068.000000</td>\n",
              "      <td>7068.000000</td>\n",
              "      <td>7068.000000</td>\n",
              "      <td>7068.000000</td>\n",
              "      <td>7068.000000</td>\n",
              "      <td>7068.000000</td>\n",
              "      <td>7068.000000</td>\n",
              "      <td>7068.000000</td>\n",
              "      <td>7068.000000</td>\n",
              "      <td>7068.000000</td>\n",
              "      <td>5631.000000</td>\n",
              "      <td>199.000000</td>\n",
              "      <td>7068.000000</td>\n",
              "      <td>7068.000000</td>\n",
              "      <td>7068.000000</td>\n",
              "      <td>7068.000000</td>\n",
              "    </tr>\n",
              "    <tr>\n",
              "      <th>mean</th>\n",
              "      <td>2.752122</td>\n",
              "      <td>15.621817</td>\n",
              "      <td>3.249859</td>\n",
              "      <td>15.621817</td>\n",
              "      <td>3.249859</td>\n",
              "      <td>15.621817</td>\n",
              "      <td>3.249859</td>\n",
              "      <td>15.621817</td>\n",
              "      <td>3.249859</td>\n",
              "      <td>9.458970</td>\n",
              "      <td>23.246120</td>\n",
              "      <td>6.651759</td>\n",
              "      <td>-1.282043</td>\n",
              "      <td>36.811148</td>\n",
              "      <td>-1.282255</td>\n",
              "      <td>36.811326</td>\n",
              "    </tr>\n",
              "    <tr>\n",
              "      <th>std</th>\n",
              "      <td>0.624000</td>\n",
              "      <td>8.776650</td>\n",
              "      <td>1.580926</td>\n",
              "      <td>8.776650</td>\n",
              "      <td>1.580926</td>\n",
              "      <td>8.776650</td>\n",
              "      <td>1.580926</td>\n",
              "      <td>8.776650</td>\n",
              "      <td>1.580926</td>\n",
              "      <td>5.575689</td>\n",
              "      <td>3.591161</td>\n",
              "      <td>14.085439</td>\n",
              "      <td>0.030044</td>\n",
              "      <td>0.037962</td>\n",
              "      <td>0.034236</td>\n",
              "      <td>0.043507</td>\n",
              "    </tr>\n",
              "    <tr>\n",
              "      <th>min</th>\n",
              "      <td>1.000000</td>\n",
              "      <td>1.000000</td>\n",
              "      <td>1.000000</td>\n",
              "      <td>1.000000</td>\n",
              "      <td>1.000000</td>\n",
              "      <td>1.000000</td>\n",
              "      <td>1.000000</td>\n",
              "      <td>1.000000</td>\n",
              "      <td>1.000000</td>\n",
              "      <td>1.000000</td>\n",
              "      <td>13.200000</td>\n",
              "      <td>0.100000</td>\n",
              "      <td>-1.433512</td>\n",
              "      <td>36.653828</td>\n",
              "      <td>-1.422652</td>\n",
              "      <td>36.639195</td>\n",
              "    </tr>\n",
              "    <tr>\n",
              "      <th>25%</th>\n",
              "      <td>3.000000</td>\n",
              "      <td>8.000000</td>\n",
              "      <td>2.000000</td>\n",
              "      <td>8.000000</td>\n",
              "      <td>2.000000</td>\n",
              "      <td>8.000000</td>\n",
              "      <td>2.000000</td>\n",
              "      <td>8.000000</td>\n",
              "      <td>2.000000</td>\n",
              "      <td>5.000000</td>\n",
              "      <td>20.600000</td>\n",
              "      <td>1.100000</td>\n",
              "      <td>-1.301201</td>\n",
              "      <td>36.784605</td>\n",
              "      <td>-1.300921</td>\n",
              "      <td>36.786546</td>\n",
              "    </tr>\n",
              "    <tr>\n",
              "      <th>50%</th>\n",
              "      <td>3.000000</td>\n",
              "      <td>15.000000</td>\n",
              "      <td>3.000000</td>\n",
              "      <td>15.000000</td>\n",
              "      <td>3.000000</td>\n",
              "      <td>15.000000</td>\n",
              "      <td>3.000000</td>\n",
              "      <td>15.000000</td>\n",
              "      <td>3.000000</td>\n",
              "      <td>8.000000</td>\n",
              "      <td>23.400000</td>\n",
              "      <td>2.900000</td>\n",
              "      <td>-1.281301</td>\n",
              "      <td>36.807219</td>\n",
              "      <td>-1.283219</td>\n",
              "      <td>36.807927</td>\n",
              "    </tr>\n",
              "    <tr>\n",
              "      <th>75%</th>\n",
              "      <td>3.000000</td>\n",
              "      <td>23.000000</td>\n",
              "      <td>5.000000</td>\n",
              "      <td>23.000000</td>\n",
              "      <td>5.000000</td>\n",
              "      <td>23.000000</td>\n",
              "      <td>5.000000</td>\n",
              "      <td>23.000000</td>\n",
              "      <td>5.000000</td>\n",
              "      <td>13.000000</td>\n",
              "      <td>25.900000</td>\n",
              "      <td>4.950000</td>\n",
              "      <td>-1.257274</td>\n",
              "      <td>36.829716</td>\n",
              "      <td>-1.261256</td>\n",
              "      <td>36.828195</td>\n",
              "    </tr>\n",
              "    <tr>\n",
              "      <th>max</th>\n",
              "      <td>4.000000</td>\n",
              "      <td>31.000000</td>\n",
              "      <td>7.000000</td>\n",
              "      <td>31.000000</td>\n",
              "      <td>7.000000</td>\n",
              "      <td>31.000000</td>\n",
              "      <td>7.000000</td>\n",
              "      <td>31.000000</td>\n",
              "      <td>7.000000</td>\n",
              "      <td>47.000000</td>\n",
              "      <td>32.100000</td>\n",
              "      <td>99.100000</td>\n",
              "      <td>-1.148352</td>\n",
              "      <td>36.991046</td>\n",
              "      <td>-1.030225</td>\n",
              "      <td>37.018958</td>\n",
              "    </tr>\n",
              "  </tbody>\n",
              "</table>\n",
              "</div>"
            ],
            "text/plain": [
              "       Platform Type  Placement - Day of Month  Placement - Weekday (Mo = 1)  \\\n",
              "count    7068.000000               7068.000000                   7068.000000   \n",
              "mean        2.752122                 15.621817                      3.249859   \n",
              "std         0.624000                  8.776650                      1.580926   \n",
              "min         1.000000                  1.000000                      1.000000   \n",
              "25%         3.000000                  8.000000                      2.000000   \n",
              "50%         3.000000                 15.000000                      3.000000   \n",
              "75%         3.000000                 23.000000                      5.000000   \n",
              "max         4.000000                 31.000000                      7.000000   \n",
              "\n",
              "       Confirmation - Day of Month  Confirmation - Weekday (Mo = 1)  \\\n",
              "count                  7068.000000                      7068.000000   \n",
              "mean                     15.621817                         3.249859   \n",
              "std                       8.776650                         1.580926   \n",
              "min                       1.000000                         1.000000   \n",
              "25%                       8.000000                         2.000000   \n",
              "50%                      15.000000                         3.000000   \n",
              "75%                      23.000000                         5.000000   \n",
              "max                      31.000000                         7.000000   \n",
              "\n",
              "       Arrival at Pickup - Day of Month  Arrival at Pickup - Weekday (Mo = 1)  \\\n",
              "count                       7068.000000                           7068.000000   \n",
              "mean                          15.621817                              3.249859   \n",
              "std                            8.776650                              1.580926   \n",
              "min                            1.000000                              1.000000   \n",
              "25%                            8.000000                              2.000000   \n",
              "50%                           15.000000                              3.000000   \n",
              "75%                           23.000000                              5.000000   \n",
              "max                           31.000000                              7.000000   \n",
              "\n",
              "       Pickup - Day of Month  Pickup - Weekday (Mo = 1)  Distance (KM)  \\\n",
              "count            7068.000000                7068.000000    7068.000000   \n",
              "mean               15.621817                   3.249859       9.458970   \n",
              "std                 8.776650                   1.580926       5.575689   \n",
              "min                 1.000000                   1.000000       1.000000   \n",
              "25%                 8.000000                   2.000000       5.000000   \n",
              "50%                15.000000                   3.000000       8.000000   \n",
              "75%                23.000000                   5.000000      13.000000   \n",
              "max                31.000000                   7.000000      47.000000   \n",
              "\n",
              "       Temperature  Precipitation in millimeters   Pickup Lat  Pickup Long  \\\n",
              "count  5631.000000                    199.000000  7068.000000  7068.000000   \n",
              "mean     23.246120                      6.651759    -1.282043    36.811148   \n",
              "std       3.591161                     14.085439     0.030044     0.037962   \n",
              "min      13.200000                      0.100000    -1.433512    36.653828   \n",
              "25%      20.600000                      1.100000    -1.301201    36.784605   \n",
              "50%      23.400000                      2.900000    -1.281301    36.807219   \n",
              "75%      25.900000                      4.950000    -1.257274    36.829716   \n",
              "max      32.100000                     99.100000    -1.148352    36.991046   \n",
              "\n",
              "       Destination Lat  Destination Long  \n",
              "count      7068.000000       7068.000000  \n",
              "mean         -1.282255         36.811326  \n",
              "std           0.034236          0.043507  \n",
              "min          -1.422652         36.639195  \n",
              "25%          -1.300921         36.786546  \n",
              "50%          -1.283219         36.807927  \n",
              "75%          -1.261256         36.828195  \n",
              "max          -1.030225         37.018958  "
            ]
          },
          "metadata": {
            "tags": []
          },
          "execution_count": 40
        }
      ]
    },
    {
      "cell_type": "code",
      "metadata": {
        "id": "cslor3PtKPOl",
        "colab_type": "code",
        "colab": {},
        "outputId": "d0bbcdf8-e533-4a62-d8ec-4a0dad02d7d0"
      },
      "source": [
        "training_outputs.describe()"
      ],
      "execution_count": 0,
      "outputs": [
        {
          "output_type": "execute_result",
          "data": {
            "text/plain": [
              "count    21201.000000\n",
              "mean      1556.920947\n",
              "std        987.270788\n",
              "min          1.000000\n",
              "25%        882.000000\n",
              "50%       1369.000000\n",
              "75%       2040.000000\n",
              "max       7883.000000\n",
              "Name: Time from Pickup to Arrival, dtype: float64"
            ]
          },
          "metadata": {
            "tags": []
          },
          "execution_count": 41
        }
      ]
    },
    {
      "cell_type": "markdown",
      "metadata": {
        "id": "9yI6lN_RKPOo",
        "colab_type": "text"
      },
      "source": [
        "## Creating ECDF Plots for Distances and Delivery Times"
      ]
    },
    {
      "cell_type": "code",
      "metadata": {
        "id": "5M_ramCRKPOp",
        "colab_type": "code",
        "colab": {}
      },
      "source": [
        "distances = np.sort(orders['Distance (KM)'])\n",
        "distances_ecdf = np.arange(1, len(distances) + 1) / len(distances)\n",
        "delivery_times = np.sort(orders['Time from Pickup to Arrival'])\n",
        "delivery_times_ecdf = np.arange(1, len(delivery_times) + 1) / len(delivery_times)"
      ],
      "execution_count": 0,
      "outputs": []
    },
    {
      "cell_type": "markdown",
      "metadata": {
        "id": "HB8INgTBKPOs",
        "colab_type": "text"
      },
      "source": [
        "## ECDF Plot for Distances"
      ]
    },
    {
      "cell_type": "code",
      "metadata": {
        "id": "TPVgosUDKPOt",
        "colab_type": "code",
        "colab": {},
        "outputId": "4a78def1-37ee-43d1-e0bb-dbb6aa014ff3"
      },
      "source": [
        "plt.plot(distances, distances_ecdf, marker='.', linestyle='none')\n",
        "plt.xlabel('Distances (KM)')\n",
        "plt.ylabel('Distances ECDF')"
      ],
      "execution_count": 0,
      "outputs": [
        {
          "output_type": "execute_result",
          "data": {
            "text/plain": [
              "Text(0, 0.5, 'Distances ECDF')"
            ]
          },
          "metadata": {
            "tags": []
          },
          "execution_count": 45
        },
        {
          "output_type": "display_data",
          "data": {
            "image/png": "[encoded data removed]",
            "text/plain": [
              "<Figure size 432x288 with 1 Axes>"
            ]
          },
          "metadata": {
            "tags": []
          }
        }
      ]
    },
    {
      "cell_type": "markdown",
      "metadata": {
        "id": "qGgvLPy7KPOw",
        "colab_type": "text"
      },
      "source": [
        "We see that 60 and 95 percent of deliveries are within 10KM and 20KM respectively."
      ]
    },
    {
      "cell_type": "markdown",
      "metadata": {
        "id": "rPK3aJ48KPOx",
        "colab_type": "text"
      },
      "source": [
        "## ECDF Plot for DElivery Times"
      ]
    },
    {
      "cell_type": "code",
      "metadata": {
        "id": "24l3iHxdKPOx",
        "colab_type": "code",
        "colab": {},
        "outputId": "98204301-b3e0-4e1f-800a-f08356700ab9"
      },
      "source": [
        "plt.plot(delivery_times, delivery_times_ecdf, marker='.', linestyle='none')\n",
        "plt.xlabel('Delivery Times (s)')\n",
        "plt.ylabel('Delivery Times ECDF')"
      ],
      "execution_count": 0,
      "outputs": [
        {
          "output_type": "execute_result",
          "data": {
            "text/plain": [
              "Text(0, 0.5, 'Delivery Times ECDF')"
            ]
          },
          "metadata": {
            "tags": []
          },
          "execution_count": 47
        },
        {
          "output_type": "display_data",
          "data": {
            "image/png": "[encoded data removed]",
            "text/plain": [
              "<Figure size 432x288 with 1 Axes>"
            ]
          },
          "metadata": {
            "tags": []
          }
        }
      ]
    },
    {
      "cell_type": "markdown",
      "metadata": {
        "id": "eFebhp6hKPO1",
        "colab_type": "text"
      },
      "source": [
        "With the time distributions we see that 60 and 95 percent of the delivery times are within approximately 1500(s) and 3000(s)"
      ]
    },
    {
      "cell_type": "markdown",
      "metadata": {
        "id": "JP3EVDhlKPO1",
        "colab_type": "text"
      },
      "source": [
        "Based on the above distrubutions it would be interesting to build a simple Linear Regression model using only the Distance feature in our model."
      ]
    },
    {
      "cell_type": "markdown",
      "metadata": {
        "id": "6c4Yvp_nKPO2",
        "colab_type": "text"
      },
      "source": [
        "### NOTE  - PLOT THE ABOVE PLOTS SIDE BY SIDE, DO LATER..."
      ]
    },
    {
      "cell_type": "markdown",
      "metadata": {
        "id": "gvvkq9yQKPO3",
        "colab_type": "text"
      },
      "source": [
        "## Modifying data characteristics in thenorders data"
      ]
    },
    {
      "cell_type": "code",
      "metadata": {
        "id": "uwr5_R17KPO4",
        "colab_type": "code",
        "colab": {}
      },
      "source": [
        "orders[['Vehicle Type', 'Platform Type', 'Personal or Business']] = orders[['Vehicle Type', 'Platform Type', 'Personal or Business']].astype('category')\n",
        "orders[['Placement - Day of Month', 'Placement - Weekday (Mo = 1)', 'Confirmation - Day of Month', 'Confirmation - Weekday (Mo = 1)']] = orders[['Placement - Day of Month', 'Placement - Weekday (Mo = 1)', 'Confirmation - Day of Month', 'Confirmation - Weekday (Mo = 1)']].astype('category')\n",
        "orders[['Arrival at Pickup - Day of Month', 'Arrival at Pickup - Weekday (Mo = 1)', 'Arrival at Destination - Day of Month', 'Arrival at Destination - Weekday (Mo = 1)']] = orders[['Arrival at Pickup - Day of Month', 'Arrival at Pickup - Weekday (Mo = 1)', 'Arrival at Destination - Day of Month', 'Arrival at Destination - Weekday (Mo = 1)']].astype('category')"
      ],
      "execution_count": 0,
      "outputs": []
    },
    {
      "cell_type": "code",
      "metadata": {
        "id": "oTz3ppnNKPO7",
        "colab_type": "code",
        "colab": {},
        "outputId": "0ceb0b0d-b44e-4476-a7f2-a486f4fb1dd7"
      },
      "source": [
        "sns.boxplot(x='Platform Type', y='Time from Pickup to Arrival', data=orders, palette='rainbow')"
      ],
      "execution_count": 0,
      "outputs": [
        {
          "output_type": "execute_result",
          "data": {
            "text/plain": [
              "<matplotlib.axes._subplots.AxesSubplot at 0x265b5424c48>"
            ]
          },
          "metadata": {
            "tags": []
          },
          "execution_count": 50
        },
        {
          "output_type": "display_data",
          "data": {
            "image/png": "[encoded data removed]",
            "text/plain": [
              "<Figure size 432x288 with 1 Axes>"
            ]
          },
          "metadata": {
            "tags": []
          }
        }
      ]
    },
    {
      "cell_type": "code",
      "metadata": {
        "id": "-DJrfJOYKPO_",
        "colab_type": "code",
        "colab": {},
        "outputId": "389d5b57-f6f1-4545-afff-f2a373823a52"
      },
      "source": [
        "sns.boxplot(x='Personal or Business', y='Time from Pickup to Arrival', data=orders, palette='rainbow')"
      ],
      "execution_count": 0,
      "outputs": [
        {
          "output_type": "execute_result",
          "data": {
            "text/plain": [
              "<matplotlib.axes._subplots.AxesSubplot at 0x265b5127f88>"
            ]
          },
          "metadata": {
            "tags": []
          },
          "execution_count": 51
        },
        {
          "output_type": "display_data",
          "data": {
            "image/png": "[encoded data removed]",
            "text/plain": [
              "<Figure size 432x288 with 1 Axes>"
            ]
          },
          "metadata": {
            "tags": []
          }
        }
      ]
    },
    {
      "cell_type": "code",
      "metadata": {
        "id": "jQE4mTFkKPPD",
        "colab_type": "code",
        "colab": {},
        "outputId": "8ebaf97d-a5f0-46b9-aea6-da26d790379c"
      },
      "source": [
        "sns.boxplot(x='Arrival at Pickup - Weekday (Mo = 1)', y='Time from Pickup to Arrival', data=orders, palette='rainbow')"
      ],
      "execution_count": 0,
      "outputs": [
        {
          "output_type": "execute_result",
          "data": {
            "text/plain": [
              "<matplotlib.axes._subplots.AxesSubplot at 0x265b4eb3188>"
            ]
          },
          "metadata": {
            "tags": []
          },
          "execution_count": 52
        },
        {
          "output_type": "display_data",
          "data": {
            "image/png": "[encoded data removed]",
            "text/plain": [
              "<Figure size 432x288 with 1 Axes>"
            ]
          },
          "metadata": {
            "tags": []
          }
        }
      ]
    },
    {
      "cell_type": "code",
      "metadata": {
        "id": "XJFlhXFxKPPH",
        "colab_type": "code",
        "colab": {},
        "outputId": "ed66faef-70f7-43e6-fc83-ae62c6f93e1d"
      },
      "source": [
        "sns.boxplot(x='Arrival at Pickup - Day of Month', y='Time from Pickup to Arrival', data=orders, palette='rainbow')"
      ],
      "execution_count": 0,
      "outputs": [
        {
          "output_type": "execute_result",
          "data": {
            "text/plain": [
              "<matplotlib.axes._subplots.AxesSubplot at 0x265b7ccd988>"
            ]
          },
          "metadata": {
            "tags": []
          },
          "execution_count": 53
        },
        {
          "output_type": "display_data",
          "data": {
            "image/png": "[encoded data removed]",
            "text/plain": [
              "<Figure size 432x288 with 1 Axes>"
            ]
          },
          "metadata": {
            "tags": []
          }
        }
      ]
    },
    {
      "cell_type": "markdown",
      "metadata": {
        "id": "DjL0uftEKPPK",
        "colab_type": "text"
      },
      "source": [
        "### NOTE:  X-AXIS NEEDS FIXING"
      ]
    },
    {
      "cell_type": "markdown",
      "metadata": {
        "id": "7KNxeefuKPPK",
        "colab_type": "text"
      },
      "source": [
        "These boxplots, which each represent several categoral features plotted against the delivery times, indicate that there doesn't seem to be a huge difference in travel time between the different groups in each category. There are quite a number of outliers in all of the groups in each of the categories?"
      ]
    },
    {
      "cell_type": "markdown",
      "metadata": {
        "id": "cPLiVJKDKPPL",
        "colab_type": "text"
      },
      "source": [
        "## Correlations"
      ]
    },
    {
      "cell_type": "code",
      "metadata": {
        "id": "E1mOt4LZKPPM",
        "colab_type": "code",
        "colab": {},
        "outputId": "773bfa96-64a4-4fe3-ef34-93d2fcd9d045"
      },
      "source": [
        "orders_corr = orders.corr()\n",
        "sns.heatmap(orders_corr, cmap='coolwarm')"
      ],
      "execution_count": 0,
      "outputs": [
        {
          "output_type": "execute_result",
          "data": {
            "text/plain": [
              "<matplotlib.axes._subplots.AxesSubplot at 0x265b7f57988>"
            ]
          },
          "metadata": {
            "tags": []
          },
          "execution_count": 54
        },
        {
          "output_type": "display_data",
          "data": {
            "image/png": "[encoded data removed]",
            "text/plain": [
              "<Figure size 432x288 with 2 Axes>"
            ]
          },
          "metadata": {
            "tags": []
          }
        }
      ]
    },
    {
      "cell_type": "markdown",
      "metadata": {
        "id": "zvtAqmgnKPPP",
        "colab_type": "text"
      },
      "source": [
        "# Data Preprocessing"
      ]
    },
    {
      "cell_type": "markdown",
      "metadata": {
        "id": "lPBAmyl3KPPQ",
        "colab_type": "text"
      },
      "source": [
        "## Dealing with missing values\n",
        "\n",
        "As described above, there are null-values present in the `Temperature` and `Precipitation in millimeters` columns.\n",
        "\n",
        "We would be able to fill the missing `Temperature` values with values from the same dates where measurements were taken, but we don't know the actual date of each measurement. The easiest option would be to fill the missing values with the average of the column, but we should find a better way of doing this.\n",
        "\n",
        "We are assuming that if `Precipitation in millimeters` is missing, that it was not raining on that day. We can therefore fill null values with 0."
      ]
    },
    {
      "cell_type": "code",
      "metadata": {
        "id": "zgeX6NYgKPPQ",
        "colab_type": "code",
        "colab": {}
      },
      "source": [
        "# Fill missing precipitation values with 0\n",
        "training_features['Precipitation in millimeters'] = training_features['Precipitation in millimeters'].fillna(value=0)\n",
        "\n",
        "# Fill missing temperature values with averages\n",
        "training_features['Temperature'] = training_features['Temperature'].fillna(training_features['Temperature'].mean())"
      ],
      "execution_count": 0,
      "outputs": []
    },
    {
      "cell_type": "markdown",
      "metadata": {
        "id": "lP58GhnzKPPT",
        "colab_type": "text"
      },
      "source": [
        "##  Converting the following features into categories\n",
        "1.   Pickup - Day of Month\n",
        "2.   Pickup - Weekday (Mo = 1)\n",
        "3.   Platform Type\n",
        "4.   Personal or Business"
      ]
    },
    {
      "cell_type": "code",
      "metadata": {
        "id": "DAX84I_JKPPU",
        "colab_type": "code",
        "colab": {}
      },
      "source": [
        "training_features[['Pickup - Day of Month', 'Pickup - Weekday (Mo = 1)']] = training_features[['Pickup - Day of Month', 'Pickup - Weekday (Mo = 1)']].astype('category')\n",
        "training_features[['Platform Type', 'Personal or Business']] = training_features[['Platform Type', 'Personal or Business']].astype('category')"
      ],
      "execution_count": 0,
      "outputs": []
    },
    {
      "cell_type": "markdown",
      "metadata": {
        "id": "kyM7bOneKPPX",
        "colab_type": "text"
      },
      "source": [
        "##  Selecting the following features to be part of the training data\n",
        "1.   Platform Type\n",
        "2.   Personal or Business\n",
        "3.   Pickup - Day of Month\n",
        "4.   Pickup - Weekday (Mo = 1)\n",
        "5.   Pickup - Time\n",
        "6.   Distance (KM)\n",
        "7.   Temperature\n",
        "8.   Precipitation in millimeters"
      ]
    },
    {
      "cell_type": "code",
      "metadata": {
        "id": "wWe_PLoSKPPX",
        "colab_type": "code",
        "colab": {}
      },
      "source": [
        "training_features = training_features[['Platform Type', 'Personal or Business', 'Pickup - Day of Month', 'Pickup - Weekday (Mo = 1)', 'Pickup - Time', 'Distance (KM)', 'Temperature', 'Precipitation in millimeters']]"
      ],
      "execution_count": 0,
      "outputs": []
    },
    {
      "cell_type": "markdown",
      "metadata": {
        "id": "6Y1V7_PvKPPa",
        "colab_type": "text"
      },
      "source": [
        "####  Function for assigning the different Pickup Times to 6 distinct groups\n",
        "1.   Early Morning\n",
        "2.   Morning\n",
        "3.   Late Morning\n",
        "4.   Afternoon\n",
        "5.   Late Afternoon\n",
        "6.   Evening"
      ]
    },
    {
      "cell_type": "code",
      "metadata": {
        "id": "sObXa-vWKPPc",
        "colab_type": "code",
        "colab": {}
      },
      "source": [
        "def assign_time_category(delivery_time):\n",
        "    dts = pd.DataFrame(['12:00:00 AM', '6:00:00 AM', '9:00:00 AM', '12:00:00 PM', '3:00:00 PM', '6:00:00 PM'])[0].astype('datetime64[ns]')\n",
        "    if delivery_time >= dts[0] and delivery_time < dts[1]:\n",
        "        return 'Early Morning'\n",
        "    elif delivery_time >= dts[1] and delivery_time < dts[2]:\n",
        "        return 'Morning'\n",
        "    elif delivery_time >= dts[2]  and delivery_time < dts[3]:\n",
        "        return 'Late Morning'\n",
        "    elif delivery_time >= dts[3] and delivery_time < dts[4]:\n",
        "        return 'Afternoon'\n",
        "    elif delivery_time >= dts[4] and delivery_time < dts[5]:\n",
        "        return 'Late Afternoon'\n",
        "    else:\n",
        "        return 'Evening'"
      ],
      "execution_count": 0,
      "outputs": []
    },
    {
      "cell_type": "markdown",
      "metadata": {
        "id": "OB-jDqINKPPf",
        "colab_type": "text"
      },
      "source": [
        "## Adding new feature called \"Delivery Times\"\n",
        "1.   This new feature is based on the \"Pickup Time\" feature\n",
        "2.   Its created using the (assign_time_category) function\n",
        "3.   Then is changed into a categorical feature"
      ]
    },
    {
      "cell_type": "code",
      "metadata": {
        "id": "ArXzdVgzKPPf",
        "colab_type": "code",
        "colab": {}
      },
      "source": [
        "training_features['Delivery Times'] = training_features['Pickup - Time'].apply(assign_time_category)\n",
        "training_features['Delivery Times'] = training_features['Delivery Times'].astype('category')"
      ],
      "execution_count": 0,
      "outputs": []
    },
    {
      "cell_type": "markdown",
      "metadata": {
        "id": "hvBZNP_BKPPi",
        "colab_type": "text"
      },
      "source": [
        "## Dropping the \"Pickup Times\" feature"
      ]
    },
    {
      "cell_type": "code",
      "metadata": {
        "id": "jLjAJc2yKPPj",
        "colab_type": "code",
        "colab": {}
      },
      "source": [
        "training_features.drop('Pickup - Time', axis=1, inplace=True)"
      ],
      "execution_count": 0,
      "outputs": []
    },
    {
      "cell_type": "markdown",
      "metadata": {
        "id": "xVgxBJJxKPPm",
        "colab_type": "text"
      },
      "source": [
        "## Encoding data"
      ]
    },
    {
      "cell_type": "markdown",
      "metadata": {
        "id": "rRp3lZqqKPPm",
        "colab_type": "text"
      },
      "source": [
        "### One-hot encoding for categorical data"
      ]
    },
    {
      "cell_type": "code",
      "metadata": {
        "id": "CcODFSTyKPPn",
        "colab_type": "code",
        "colab": {}
      },
      "source": [
        "training_features = pd.get_dummies(training_features,\n",
        "                                   columns=['Platform Type', 'Personal or Business', 'Pickup - Day of Month', 'Pickup - Weekday (Mo = 1)', 'Delivery Times'],\n",
        "                                   prefix=['platformtype', 'personalbusiness', 'dayofmonth', 'weekday', 'pickuptimes'])"
      ],
      "execution_count": 0,
      "outputs": []
    },
    {
      "cell_type": "markdown",
      "metadata": {
        "id": "6AW_plmvKPPq",
        "colab_type": "text"
      },
      "source": [
        "# Model Building"
      ]
    },
    {
      "cell_type": "code",
      "metadata": {
        "id": "HuOWDAB6KPPq",
        "colab_type": "code",
        "colab": {}
      },
      "source": [
        "from sklearn import metrics\n",
        "import math"
      ],
      "execution_count": 0,
      "outputs": []
    },
    {
      "cell_type": "markdown",
      "metadata": {
        "id": "WTB8Yt8dKPPu",
        "colab_type": "text"
      },
      "source": [
        "## Multiple Linear Regression Model"
      ]
    },
    {
      "cell_type": "code",
      "metadata": {
        "id": "VCsxMPbdKPPv",
        "colab_type": "code",
        "colab": {},
        "outputId": "4e87da96-424b-487f-afcc-a3a8de9e80c0"
      },
      "source": [
        "# Import LinearRegression module and create object\n",
        "from sklearn.linear_model import LinearRegression\n",
        "linear_model = LinearRegression()\n",
        "\n",
        "# Fit a linear regression model\n",
        "linear_model.fit(training_features, training_outputs)"
      ],
      "execution_count": 0,
      "outputs": [
        {
          "output_type": "execute_result",
          "data": {
            "text/plain": [
              "LinearRegression(copy_X=True, fit_intercept=True, n_jobs=None, normalize=False)"
            ]
          },
          "metadata": {
            "tags": []
          },
          "execution_count": 64
        }
      ]
    },
    {
      "cell_type": "code",
      "metadata": {
        "id": "-V-jhXMEKPPy",
        "colab_type": "code",
        "colab": {},
        "outputId": "f565c17e-9a7a-4a08-f691-862a81f31d76"
      },
      "source": [
        "print(\"Training MSE:\", metrics.mean_squared_error(training_outputs, linear_model.predict(training_features)))"
      ],
      "execution_count": 0,
      "outputs": [
        {
          "output_type": "stream",
          "text": [
            "Training MSE: 639920.1123943416\n"
          ],
          "name": "stdout"
        }
      ]
    },
    {
      "cell_type": "code",
      "metadata": {
        "id": "7XNFrBwqKPP1",
        "colab_type": "code",
        "colab": {},
        "outputId": "50c19af8-40ba-4e97-939f-2dbf76b0400a"
      },
      "source": [
        "print(\"Training RMSE:\", np.sqrt(metrics.mean_squared_error(training_outputs, linear_model.predict(training_features))))"
      ],
      "execution_count": 0,
      "outputs": [
        {
          "output_type": "stream",
          "text": [
            "Training RMSE: 799.9500686882536\n"
          ],
          "name": "stdout"
        }
      ]
    },
    {
      "cell_type": "markdown",
      "metadata": {
        "id": "GYQ_4c66KPP5",
        "colab_type": "text"
      },
      "source": [
        "## Regression Tree Model"
      ]
    },
    {
      "cell_type": "code",
      "metadata": {
        "id": "Ag102KczKPP5",
        "colab_type": "code",
        "colab": {},
        "outputId": "d5ff9fbd-2220-4e04-ff04-e9f40fe1a4c5"
      },
      "source": [
        "from sklearn.tree import DecisionTreeRegressor\n",
        "regression_tree = DecisionTreeRegressor(random_state = 0)\n",
        "regression_tree.fit(training_features, training_outputs)"
      ],
      "execution_count": 0,
      "outputs": [
        {
          "output_type": "execute_result",
          "data": {
            "text/plain": [
              "DecisionTreeRegressor(ccp_alpha=0.0, criterion='mse', max_depth=None,\n",
              "                      max_features=None, max_leaf_nodes=None,\n",
              "                      min_impurity_decrease=0.0, min_impurity_split=None,\n",
              "                      min_samples_leaf=1, min_samples_split=2,\n",
              "                      min_weight_fraction_leaf=0.0, presort='deprecated',\n",
              "                      random_state=0, splitter='best')"
            ]
          },
          "metadata": {
            "tags": []
          },
          "execution_count": 67
        }
      ]
    },
    {
      "cell_type": "code",
      "metadata": {
        "id": "2xYr4is3KPP9",
        "colab_type": "code",
        "colab": {},
        "outputId": "b9f4f7cb-dcc1-48f0-c2c8-da6a6f76c29a"
      },
      "source": [
        "print(\"Training MSE:\", metrics.mean_squared_error(training_outputs, regression_tree.predict(training_features)))"
      ],
      "execution_count": 0,
      "outputs": [
        {
          "output_type": "stream",
          "text": [
            "Training MSE: 83011.49675032175\n"
          ],
          "name": "stdout"
        }
      ]
    },
    {
      "cell_type": "code",
      "metadata": {
        "id": "9K-X-8eUKPQD",
        "colab_type": "code",
        "colab": {},
        "outputId": "445abedb-27af-4cbc-f75d-1e7f7892583f"
      },
      "source": [
        "print(\"Training RMSE:\", np.sqrt(metrics.mean_squared_error(training_outputs, regression_tree.predict(training_features))))"
      ],
      "execution_count": 0,
      "outputs": [
        {
          "output_type": "stream",
          "text": [
            "Training RMSE: 288.1171580283301\n"
          ],
          "name": "stdout"
        }
      ]
    },
    {
      "cell_type": "markdown",
      "metadata": {
        "id": "UqIpd8pHKPQH",
        "colab_type": "text"
      },
      "source": [
        "## Random Forest Model"
      ]
    },
    {
      "cell_type": "code",
      "metadata": {
        "id": "BlX6BfIEKPQH",
        "colab_type": "code",
        "colab": {},
        "outputId": "27f610dd-e84e-4534-f873-a02a16e51f8e"
      },
      "source": [
        "from sklearn.ensemble import RandomForestRegressor\n",
        "random_forest = RandomForestRegressor(n_estimators = 7, random_state = 0)\n",
        "random_forest.fit(training_features, training_outputs)"
      ],
      "execution_count": 0,
      "outputs": [
        {
          "output_type": "execute_result",
          "data": {
            "text/plain": [
              "RandomForestRegressor(bootstrap=True, ccp_alpha=0.0, criterion='mse',\n",
              "                      max_depth=None, max_features='auto', max_leaf_nodes=None,\n",
              "                      max_samples=None, min_impurity_decrease=0.0,\n",
              "                      min_impurity_split=None, min_samples_leaf=1,\n",
              "                      min_samples_split=2, min_weight_fraction_leaf=0.0,\n",
              "                      n_estimators=7, n_jobs=None, oob_score=False,\n",
              "                      random_state=0, verbose=0, warm_start=False)"
            ]
          },
          "metadata": {
            "tags": []
          },
          "execution_count": 70
        }
      ]
    },
    {
      "cell_type": "code",
      "metadata": {
        "id": "3OE0Cnh4KPQK",
        "colab_type": "code",
        "colab": {},
        "outputId": "60001f14-dfab-4d08-8a65-86c6adde9fb6"
      },
      "source": [
        "print(\"Training MSE:\", metrics.mean_squared_error(training_outputs, random_forest.predict(training_features)))"
      ],
      "execution_count": 0,
      "outputs": [
        {
          "output_type": "stream",
          "text": [
            "Training MSE: 207730.54555147304\n"
          ],
          "name": "stdout"
        }
      ]
    },
    {
      "cell_type": "code",
      "metadata": {
        "id": "fRh3nHagKPQO",
        "colab_type": "code",
        "colab": {},
        "outputId": "402e900b-efbb-479d-f249-cfc7386560f8"
      },
      "source": [
        "print(\"Training RMSE:\", np.sqrt(metrics.mean_squared_error(training_outputs, random_forest.predict(training_features))))"
      ],
      "execution_count": 0,
      "outputs": [
        {
          "output_type": "stream",
          "text": [
            "Training RMSE: 455.7746653242949\n"
          ],
          "name": "stdout"
        }
      ]
    }
  ]
}