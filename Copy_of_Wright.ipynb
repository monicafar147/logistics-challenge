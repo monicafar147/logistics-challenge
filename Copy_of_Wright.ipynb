{
  "nbformat": 4,
  "nbformat_minor": 0,
  "metadata": {
    "kernelspec": {
      "display_name": "Python 3",
      "language": "python",
      "name": "python3"
    },
    "language_info": {
      "codemirror_mode": {
        "name": "ipython",
        "version": 3
      },
      "file_extension": ".py",
      "mimetype": "text/x-python",
      "name": "python",
      "nbconvert_exporter": "python",
      "pygments_lexer": "ipython3",
      "version": "3.7.6"
    },
    "colab": {
      "name": "Copy of Wright.ipynb",
      "provenance": [],
      "include_colab_link": true
    }
  },
  "cells": [
    {
      "cell_type": "markdown",
      "metadata": {
        "id": "view-in-github",
        "colab_type": "text"
      },
      "source": [
        "<a href=\"https://colab.research.google.com/github/monicafar147/regression-predict-api-template/blob/Rachel/Copy_of_Wright.ipynb\" target=\"_parent\"><img src=\"https://colab.research.google.com/assets/colab-badge.svg\" alt=\"Open In Colab\"/></a>"
      ]
    },
    {
      "cell_type": "markdown",
      "metadata": {
        "id": "h04MumjwKPOB",
        "colab_type": "text"
      },
      "source": [
        "*   make sure you are working in your own branch that you cloned from git\n",
        "*   to commit your notebook changes to git:\n",
        "1.   file\n",
        "2.   save a copy in github\n",
        "3.   choose your branch from branches dropdown\n",
        "4.   change commit message to what you did e.g. \"fixed dataframe indexes\"\n",
        "5.   click ok"
      ]
    },
    {
      "cell_type": "markdown",
      "metadata": {
        "id": "SHrcjfQxKPOC",
        "colab_type": "text"
      },
      "source": [
        "# Introduction to problem and dataset"
      ]
    },
    {
      "cell_type": "markdown",
      "metadata": {
        "id": "T4SnGB7xKPOD",
        "colab_type": "text"
      },
      "source": [
        "## Problems to fix\n",
        "\n",
        "* Since most of the time columns take place within 1-2 hours, the current solution of only extracting the hours is poor. Perhaps, since the y-variable is in seconds, we can convert all the time columns to something like \"seconds after midnight\"\n",
        "* There are `Time from Pickup to Arrival` values of 1, which seems unrealistic considering the data is measured in seconds. We should investigate the actual difference between the `Arrival at Destination - Time` and `Pickup - Time` columns before we drop the `Arrival at Destination - Time` column.\n",
        "* We still haven't got a solution for the `Rider Id` column to turn it into a categorical variable."
      ]
    },
    {
      "cell_type": "markdown",
      "metadata": {
        "id": "_osLIaqeKPOE",
        "colab_type": "text"
      },
      "source": [
        "## Importing the libraries"
      ]
    },
    {
      "cell_type": "code",
      "metadata": {
        "id": "TR-fotPuKPOF",
        "colab_type": "code",
        "colab": {
          "base_uri": "https://localhost:8080/",
          "height": 72
        },
        "outputId": "76e4861b-90a6-4220-ac95-4344d9099052"
      },
      "source": [
        "import numpy as np\n",
        "import matplotlib.pyplot as plt\n",
        "import pandas as pd\n",
        "import seaborn as sns\n",
        "\n",
        "sns.set(palette='pastel')"
      ],
      "execution_count": 1,
      "outputs": [
        {
          "output_type": "stream",
          "text": [
            "/usr/local/lib/python3.6/dist-packages/statsmodels/tools/_testing.py:19: FutureWarning: pandas.util.testing is deprecated. Use the functions in the public API at pandas.testing instead.\n",
            "  import pandas.util.testing as tm\n"
          ],
          "name": "stderr"
        }
      ]
    },
    {
      "cell_type": "markdown",
      "metadata": {
        "id": "glJjPWRBKPOK",
        "colab_type": "text"
      },
      "source": [
        "## Importing the datasets and splitting it into features and outputs"
      ]
    },
    {
      "cell_type": "code",
      "metadata": {
        "id": "oEJvxr0BKPOL",
        "colab_type": "code",
        "colab": {}
      },
      "source": [
        "orders = pd.read_csv(r'Train.csv', parse_dates=['Pickup - Time', 'Placement - Time', 'Confirmation - Time', 'Arrival at Pickup - Time', 'Arrival at Destination - Time'])\n",
        "training_features = orders.iloc[:, :-1]\n",
        "training_outputs = orders.iloc[:, -1]\n",
        "test_features = pd.read_csv(r'Test.csv', parse_dates=['Pickup - Time', 'Placement - Time', 'Confirmation - Time'])"
      ],
      "execution_count": 0,
      "outputs": []
    },
    {
      "cell_type": "code",
      "metadata": {
        "id": "FBrQX5sqKPOO",
        "colab_type": "code",
        "outputId": "3bd209fa-5a03-4271-a451-951851237da3",
        "colab": {
          "base_uri": "https://localhost:8080/",
          "height": 638
        }
      },
      "source": [
        "training_features.info()"
      ],
      "execution_count": 3,
      "outputs": [
        {
          "output_type": "stream",
          "text": [
            "<class 'pandas.core.frame.DataFrame'>\n",
            "RangeIndex: 21201 entries, 0 to 21200\n",
            "Data columns (total 28 columns):\n",
            " #   Column                                     Non-Null Count  Dtype         \n",
            "---  ------                                     --------------  -----         \n",
            " 0   Order No                                   21201 non-null  object        \n",
            " 1   User Id                                    21201 non-null  object        \n",
            " 2   Vehicle Type                               21201 non-null  object        \n",
            " 3   Platform Type                              21201 non-null  int64         \n",
            " 4   Personal or Business                       21201 non-null  object        \n",
            " 5   Placement - Day of Month                   21201 non-null  int64         \n",
            " 6   Placement - Weekday (Mo = 1)               21201 non-null  int64         \n",
            " 7   Placement - Time                           21201 non-null  datetime64[ns]\n",
            " 8   Confirmation - Day of Month                21201 non-null  int64         \n",
            " 9   Confirmation - Weekday (Mo = 1)            21201 non-null  int64         \n",
            " 10  Confirmation - Time                        21201 non-null  datetime64[ns]\n",
            " 11  Arrival at Pickup - Day of Month           21201 non-null  int64         \n",
            " 12  Arrival at Pickup - Weekday (Mo = 1)       21201 non-null  int64         \n",
            " 13  Arrival at Pickup - Time                   21201 non-null  datetime64[ns]\n",
            " 14  Pickup - Day of Month                      21201 non-null  int64         \n",
            " 15  Pickup - Weekday (Mo = 1)                  21201 non-null  int64         \n",
            " 16  Pickup - Time                              21201 non-null  datetime64[ns]\n",
            " 17  Arrival at Destination - Day of Month      21201 non-null  int64         \n",
            " 18  Arrival at Destination - Weekday (Mo = 1)  21201 non-null  int64         \n",
            " 19  Arrival at Destination - Time              21201 non-null  datetime64[ns]\n",
            " 20  Distance (KM)                              21201 non-null  int64         \n",
            " 21  Temperature                                16835 non-null  float64       \n",
            " 22  Precipitation in millimeters               552 non-null    float64       \n",
            " 23  Pickup Lat                                 21201 non-null  float64       \n",
            " 24  Pickup Long                                21201 non-null  float64       \n",
            " 25  Destination Lat                            21201 non-null  float64       \n",
            " 26  Destination Long                           21201 non-null  float64       \n",
            " 27  Rider Id                                   21201 non-null  object        \n",
            "dtypes: datetime64[ns](5), float64(6), int64(12), object(5)\n",
            "memory usage: 4.5+ MB\n"
          ],
          "name": "stdout"
        }
      ]
    },
    {
      "cell_type": "code",
      "metadata": {
        "id": "eDEFioKaKPOT",
        "colab_type": "code",
        "outputId": "dd1a02b2-b15a-4e50-8f74-09bd0b3266f0",
        "colab": {
          "base_uri": "https://localhost:8080/",
          "height": 585
        }
      },
      "source": [
        "test_features.info()"
      ],
      "execution_count": 4,
      "outputs": [
        {
          "output_type": "stream",
          "text": [
            "<class 'pandas.core.frame.DataFrame'>\n",
            "RangeIndex: 7068 entries, 0 to 7067\n",
            "Data columns (total 25 columns):\n",
            " #   Column                                Non-Null Count  Dtype         \n",
            "---  ------                                --------------  -----         \n",
            " 0   Order No                              7068 non-null   object        \n",
            " 1   User Id                               7068 non-null   object        \n",
            " 2   Vehicle Type                          7068 non-null   object        \n",
            " 3   Platform Type                         7068 non-null   int64         \n",
            " 4   Personal or Business                  7068 non-null   object        \n",
            " 5   Placement - Day of Month              7068 non-null   int64         \n",
            " 6   Placement - Weekday (Mo = 1)          7068 non-null   int64         \n",
            " 7   Placement - Time                      7068 non-null   datetime64[ns]\n",
            " 8   Confirmation - Day of Month           7068 non-null   int64         \n",
            " 9   Confirmation - Weekday (Mo = 1)       7068 non-null   int64         \n",
            " 10  Confirmation - Time                   7068 non-null   datetime64[ns]\n",
            " 11  Arrival at Pickup - Day of Month      7068 non-null   int64         \n",
            " 12  Arrival at Pickup - Weekday (Mo = 1)  7068 non-null   int64         \n",
            " 13  Arrival at Pickup - Time              7068 non-null   object        \n",
            " 14  Pickup - Day of Month                 7068 non-null   int64         \n",
            " 15  Pickup - Weekday (Mo = 1)             7068 non-null   int64         \n",
            " 16  Pickup - Time                         7068 non-null   datetime64[ns]\n",
            " 17  Distance (KM)                         7068 non-null   int64         \n",
            " 18  Temperature                           5631 non-null   float64       \n",
            " 19  Precipitation in millimeters          199 non-null    float64       \n",
            " 20  Pickup Lat                            7068 non-null   float64       \n",
            " 21  Pickup Long                           7068 non-null   float64       \n",
            " 22  Destination Lat                       7068 non-null   float64       \n",
            " 23  Destination Long                      7068 non-null   float64       \n",
            " 24  Rider Id                              7068 non-null   object        \n",
            "dtypes: datetime64[ns](3), float64(6), int64(10), object(6)\n",
            "memory usage: 1.3+ MB\n"
          ],
          "name": "stdout"
        }
      ]
    },
    {
      "cell_type": "code",
      "metadata": {
        "id": "-AIXPU0UKPOY",
        "colab_type": "code",
        "outputId": "d69d8abf-7667-4272-d6dc-53f5a8cc24c7",
        "colab": {
          "base_uri": "https://localhost:8080/",
          "height": 230
        }
      },
      "source": [
        "training_outputs"
      ],
      "execution_count": 5,
      "outputs": [
        {
          "output_type": "execute_result",
          "data": {
            "text/plain": [
              "0         745\n",
              "1        1993\n",
              "2         455\n",
              "3        1341\n",
              "4        1214\n",
              "         ... \n",
              "21196       9\n",
              "21197     770\n",
              "21198    2953\n",
              "21199    1380\n",
              "21200    2128\n",
              "Name: Time from Pickup to Arrival, Length: 21201, dtype: int64"
            ]
          },
          "metadata": {
            "tags": []
          },
          "execution_count": 5
        }
      ]
    },
    {
      "cell_type": "markdown",
      "metadata": {
        "id": "pOypFNWcKPOc",
        "colab_type": "text"
      },
      "source": [
        "At this stage, we notice that there are missing values from `Temperature` and `Precipitation in millimeters`. We also need to convert all the columns that contain time information from objects to a datetime format."
      ]
    },
    {
      "cell_type": "markdown",
      "metadata": {
        "id": "81P7YDmnKPOd",
        "colab_type": "text"
      },
      "source": [
        "# Exploratory Data Analysis\n",
        "\n",
        "To first get well-acquainted with the data, we will first explore any obvious relationships between variables."
      ]
    },
    {
      "cell_type": "code",
      "metadata": {
        "id": "pd9R4H2aKPOd",
        "colab_type": "code",
        "outputId": "014044bf-c2c2-4ce3-9b2f-02f5816b7728",
        "colab": {
          "base_uri": "https://localhost:8080/",
          "height": 357
        }
      },
      "source": [
        "training_features.describe()"
      ],
      "execution_count": 6,
      "outputs": [
        {
          "output_type": "execute_result",
          "data": {
            "text/html": [
              "<div>\n",
              "<style scoped>\n",
              "    .dataframe tbody tr th:only-of-type {\n",
              "        vertical-align: middle;\n",
              "    }\n",
              "\n",
              "    .dataframe tbody tr th {\n",
              "        vertical-align: top;\n",
              "    }\n",
              "\n",
              "    .dataframe thead th {\n",
              "        text-align: right;\n",
              "    }\n",
              "</style>\n",
              "<table border=\"1\" class=\"dataframe\">\n",
              "  <thead>\n",
              "    <tr style=\"text-align: right;\">\n",
              "      <th></th>\n",
              "      <th>Platform Type</th>\n",
              "      <th>Placement - Day of Month</th>\n",
              "      <th>Placement - Weekday (Mo = 1)</th>\n",
              "      <th>Confirmation - Day of Month</th>\n",
              "      <th>Confirmation - Weekday (Mo = 1)</th>\n",
              "      <th>Arrival at Pickup - Day of Month</th>\n",
              "      <th>Arrival at Pickup - Weekday (Mo = 1)</th>\n",
              "      <th>Pickup - Day of Month</th>\n",
              "      <th>Pickup - Weekday (Mo = 1)</th>\n",
              "      <th>Arrival at Destination - Day of Month</th>\n",
              "      <th>Arrival at Destination - Weekday (Mo = 1)</th>\n",
              "      <th>Distance (KM)</th>\n",
              "      <th>Temperature</th>\n",
              "      <th>Precipitation in millimeters</th>\n",
              "      <th>Pickup Lat</th>\n",
              "      <th>Pickup Long</th>\n",
              "      <th>Destination Lat</th>\n",
              "      <th>Destination Long</th>\n",
              "    </tr>\n",
              "  </thead>\n",
              "  <tbody>\n",
              "    <tr>\n",
              "      <th>count</th>\n",
              "      <td>21201.000000</td>\n",
              "      <td>21201.000000</td>\n",
              "      <td>21201.000000</td>\n",
              "      <td>21201.000000</td>\n",
              "      <td>21201.000000</td>\n",
              "      <td>21201.000000</td>\n",
              "      <td>21201.000000</td>\n",
              "      <td>21201.000000</td>\n",
              "      <td>21201.000000</td>\n",
              "      <td>21201.000000</td>\n",
              "      <td>21201.000000</td>\n",
              "      <td>21201.000000</td>\n",
              "      <td>16835.000000</td>\n",
              "      <td>552.000000</td>\n",
              "      <td>21201.000000</td>\n",
              "      <td>21201.000000</td>\n",
              "      <td>21201.000000</td>\n",
              "      <td>21201.000000</td>\n",
              "    </tr>\n",
              "    <tr>\n",
              "      <th>mean</th>\n",
              "      <td>2.752182</td>\n",
              "      <td>15.653696</td>\n",
              "      <td>3.240083</td>\n",
              "      <td>15.653837</td>\n",
              "      <td>3.240225</td>\n",
              "      <td>15.653837</td>\n",
              "      <td>3.240225</td>\n",
              "      <td>15.653837</td>\n",
              "      <td>3.240225</td>\n",
              "      <td>15.653837</td>\n",
              "      <td>3.240225</td>\n",
              "      <td>9.506533</td>\n",
              "      <td>23.258889</td>\n",
              "      <td>7.905797</td>\n",
              "      <td>-1.281470</td>\n",
              "      <td>36.811264</td>\n",
              "      <td>-1.282581</td>\n",
              "      <td>36.811220</td>\n",
              "    </tr>\n",
              "    <tr>\n",
              "      <th>std</th>\n",
              "      <td>0.625178</td>\n",
              "      <td>8.798916</td>\n",
              "      <td>1.567295</td>\n",
              "      <td>8.798886</td>\n",
              "      <td>1.567228</td>\n",
              "      <td>8.798886</td>\n",
              "      <td>1.567228</td>\n",
              "      <td>8.798886</td>\n",
              "      <td>1.567228</td>\n",
              "      <td>8.798886</td>\n",
              "      <td>1.567228</td>\n",
              "      <td>5.668963</td>\n",
              "      <td>3.615768</td>\n",
              "      <td>17.089971</td>\n",
              "      <td>0.030507</td>\n",
              "      <td>0.037473</td>\n",
              "      <td>0.034824</td>\n",
              "      <td>0.044721</td>\n",
              "    </tr>\n",
              "    <tr>\n",
              "      <th>min</th>\n",
              "      <td>1.000000</td>\n",
              "      <td>1.000000</td>\n",
              "      <td>1.000000</td>\n",
              "      <td>1.000000</td>\n",
              "      <td>1.000000</td>\n",
              "      <td>1.000000</td>\n",
              "      <td>1.000000</td>\n",
              "      <td>1.000000</td>\n",
              "      <td>1.000000</td>\n",
              "      <td>1.000000</td>\n",
              "      <td>1.000000</td>\n",
              "      <td>1.000000</td>\n",
              "      <td>11.200000</td>\n",
              "      <td>0.100000</td>\n",
              "      <td>-1.438302</td>\n",
              "      <td>36.653621</td>\n",
              "      <td>-1.430298</td>\n",
              "      <td>36.606594</td>\n",
              "    </tr>\n",
              "    <tr>\n",
              "      <th>25%</th>\n",
              "      <td>3.000000</td>\n",
              "      <td>8.000000</td>\n",
              "      <td>2.000000</td>\n",
              "      <td>8.000000</td>\n",
              "      <td>2.000000</td>\n",
              "      <td>8.000000</td>\n",
              "      <td>2.000000</td>\n",
              "      <td>8.000000</td>\n",
              "      <td>2.000000</td>\n",
              "      <td>8.000000</td>\n",
              "      <td>2.000000</td>\n",
              "      <td>5.000000</td>\n",
              "      <td>20.600000</td>\n",
              "      <td>1.075000</td>\n",
              "      <td>-1.300921</td>\n",
              "      <td>36.784605</td>\n",
              "      <td>-1.301201</td>\n",
              "      <td>36.785661</td>\n",
              "    </tr>\n",
              "    <tr>\n",
              "      <th>50%</th>\n",
              "      <td>3.000000</td>\n",
              "      <td>15.000000</td>\n",
              "      <td>3.000000</td>\n",
              "      <td>15.000000</td>\n",
              "      <td>3.000000</td>\n",
              "      <td>15.000000</td>\n",
              "      <td>3.000000</td>\n",
              "      <td>15.000000</td>\n",
              "      <td>3.000000</td>\n",
              "      <td>15.000000</td>\n",
              "      <td>3.000000</td>\n",
              "      <td>8.000000</td>\n",
              "      <td>23.500000</td>\n",
              "      <td>2.900000</td>\n",
              "      <td>-1.279395</td>\n",
              "      <td>36.807040</td>\n",
              "      <td>-1.284382</td>\n",
              "      <td>36.808002</td>\n",
              "    </tr>\n",
              "    <tr>\n",
              "      <th>75%</th>\n",
              "      <td>3.000000</td>\n",
              "      <td>23.000000</td>\n",
              "      <td>5.000000</td>\n",
              "      <td>23.000000</td>\n",
              "      <td>5.000000</td>\n",
              "      <td>23.000000</td>\n",
              "      <td>5.000000</td>\n",
              "      <td>23.000000</td>\n",
              "      <td>5.000000</td>\n",
              "      <td>23.000000</td>\n",
              "      <td>5.000000</td>\n",
              "      <td>13.000000</td>\n",
              "      <td>26.000000</td>\n",
              "      <td>4.900000</td>\n",
              "      <td>-1.257147</td>\n",
              "      <td>36.829741</td>\n",
              "      <td>-1.261177</td>\n",
              "      <td>36.829477</td>\n",
              "    </tr>\n",
              "    <tr>\n",
              "      <th>max</th>\n",
              "      <td>4.000000</td>\n",
              "      <td>31.000000</td>\n",
              "      <td>7.000000</td>\n",
              "      <td>31.000000</td>\n",
              "      <td>7.000000</td>\n",
              "      <td>31.000000</td>\n",
              "      <td>7.000000</td>\n",
              "      <td>31.000000</td>\n",
              "      <td>7.000000</td>\n",
              "      <td>31.000000</td>\n",
              "      <td>7.000000</td>\n",
              "      <td>49.000000</td>\n",
              "      <td>32.100000</td>\n",
              "      <td>99.100000</td>\n",
              "      <td>-1.147170</td>\n",
              "      <td>36.991046</td>\n",
              "      <td>-1.030225</td>\n",
              "      <td>37.016779</td>\n",
              "    </tr>\n",
              "  </tbody>\n",
              "</table>\n",
              "</div>"
            ],
            "text/plain": [
              "       Platform Type  ...  Destination Long\n",
              "count   21201.000000  ...      21201.000000\n",
              "mean        2.752182  ...         36.811220\n",
              "std         0.625178  ...          0.044721\n",
              "min         1.000000  ...         36.606594\n",
              "25%         3.000000  ...         36.785661\n",
              "50%         3.000000  ...         36.808002\n",
              "75%         3.000000  ...         36.829477\n",
              "max         4.000000  ...         37.016779\n",
              "\n",
              "[8 rows x 18 columns]"
            ]
          },
          "metadata": {
            "tags": []
          },
          "execution_count": 6
        }
      ]
    },
    {
      "cell_type": "code",
      "metadata": {
        "id": "llyIEo1uKPOh",
        "colab_type": "code",
        "outputId": "0336f8a9-9680-4116-9fbd-39a4d40835c1",
        "colab": {
          "base_uri": "https://localhost:8080/",
          "height": 357
        }
      },
      "source": [
        "test_features.describe()"
      ],
      "execution_count": 7,
      "outputs": [
        {
          "output_type": "execute_result",
          "data": {
            "text/html": [
              "<div>\n",
              "<style scoped>\n",
              "    .dataframe tbody tr th:only-of-type {\n",
              "        vertical-align: middle;\n",
              "    }\n",
              "\n",
              "    .dataframe tbody tr th {\n",
              "        vertical-align: top;\n",
              "    }\n",
              "\n",
              "    .dataframe thead th {\n",
              "        text-align: right;\n",
              "    }\n",
              "</style>\n",
              "<table border=\"1\" class=\"dataframe\">\n",
              "  <thead>\n",
              "    <tr style=\"text-align: right;\">\n",
              "      <th></th>\n",
              "      <th>Platform Type</th>\n",
              "      <th>Placement - Day of Month</th>\n",
              "      <th>Placement - Weekday (Mo = 1)</th>\n",
              "      <th>Confirmation - Day of Month</th>\n",
              "      <th>Confirmation - Weekday (Mo = 1)</th>\n",
              "      <th>Arrival at Pickup - Day of Month</th>\n",
              "      <th>Arrival at Pickup - Weekday (Mo = 1)</th>\n",
              "      <th>Pickup - Day of Month</th>\n",
              "      <th>Pickup - Weekday (Mo = 1)</th>\n",
              "      <th>Distance (KM)</th>\n",
              "      <th>Temperature</th>\n",
              "      <th>Precipitation in millimeters</th>\n",
              "      <th>Pickup Lat</th>\n",
              "      <th>Pickup Long</th>\n",
              "      <th>Destination Lat</th>\n",
              "      <th>Destination Long</th>\n",
              "    </tr>\n",
              "  </thead>\n",
              "  <tbody>\n",
              "    <tr>\n",
              "      <th>count</th>\n",
              "      <td>7068.000000</td>\n",
              "      <td>7068.000000</td>\n",
              "      <td>7068.000000</td>\n",
              "      <td>7068.000000</td>\n",
              "      <td>7068.000000</td>\n",
              "      <td>7068.000000</td>\n",
              "      <td>7068.000000</td>\n",
              "      <td>7068.000000</td>\n",
              "      <td>7068.000000</td>\n",
              "      <td>7068.000000</td>\n",
              "      <td>5631.000000</td>\n",
              "      <td>199.000000</td>\n",
              "      <td>7068.000000</td>\n",
              "      <td>7068.000000</td>\n",
              "      <td>7068.000000</td>\n",
              "      <td>7068.000000</td>\n",
              "    </tr>\n",
              "    <tr>\n",
              "      <th>mean</th>\n",
              "      <td>2.752122</td>\n",
              "      <td>15.621817</td>\n",
              "      <td>3.249859</td>\n",
              "      <td>15.621817</td>\n",
              "      <td>3.249859</td>\n",
              "      <td>15.621817</td>\n",
              "      <td>3.249859</td>\n",
              "      <td>15.621817</td>\n",
              "      <td>3.249859</td>\n",
              "      <td>9.458970</td>\n",
              "      <td>23.246120</td>\n",
              "      <td>6.651759</td>\n",
              "      <td>-1.282043</td>\n",
              "      <td>36.811148</td>\n",
              "      <td>-1.282255</td>\n",
              "      <td>36.811326</td>\n",
              "    </tr>\n",
              "    <tr>\n",
              "      <th>std</th>\n",
              "      <td>0.624000</td>\n",
              "      <td>8.776650</td>\n",
              "      <td>1.580926</td>\n",
              "      <td>8.776650</td>\n",
              "      <td>1.580926</td>\n",
              "      <td>8.776650</td>\n",
              "      <td>1.580926</td>\n",
              "      <td>8.776650</td>\n",
              "      <td>1.580926</td>\n",
              "      <td>5.575689</td>\n",
              "      <td>3.591161</td>\n",
              "      <td>14.085439</td>\n",
              "      <td>0.030044</td>\n",
              "      <td>0.037962</td>\n",
              "      <td>0.034236</td>\n",
              "      <td>0.043507</td>\n",
              "    </tr>\n",
              "    <tr>\n",
              "      <th>min</th>\n",
              "      <td>1.000000</td>\n",
              "      <td>1.000000</td>\n",
              "      <td>1.000000</td>\n",
              "      <td>1.000000</td>\n",
              "      <td>1.000000</td>\n",
              "      <td>1.000000</td>\n",
              "      <td>1.000000</td>\n",
              "      <td>1.000000</td>\n",
              "      <td>1.000000</td>\n",
              "      <td>1.000000</td>\n",
              "      <td>13.200000</td>\n",
              "      <td>0.100000</td>\n",
              "      <td>-1.433512</td>\n",
              "      <td>36.653828</td>\n",
              "      <td>-1.422652</td>\n",
              "      <td>36.639195</td>\n",
              "    </tr>\n",
              "    <tr>\n",
              "      <th>25%</th>\n",
              "      <td>3.000000</td>\n",
              "      <td>8.000000</td>\n",
              "      <td>2.000000</td>\n",
              "      <td>8.000000</td>\n",
              "      <td>2.000000</td>\n",
              "      <td>8.000000</td>\n",
              "      <td>2.000000</td>\n",
              "      <td>8.000000</td>\n",
              "      <td>2.000000</td>\n",
              "      <td>5.000000</td>\n",
              "      <td>20.600000</td>\n",
              "      <td>1.100000</td>\n",
              "      <td>-1.301201</td>\n",
              "      <td>36.784605</td>\n",
              "      <td>-1.300921</td>\n",
              "      <td>36.786546</td>\n",
              "    </tr>\n",
              "    <tr>\n",
              "      <th>50%</th>\n",
              "      <td>3.000000</td>\n",
              "      <td>15.000000</td>\n",
              "      <td>3.000000</td>\n",
              "      <td>15.000000</td>\n",
              "      <td>3.000000</td>\n",
              "      <td>15.000000</td>\n",
              "      <td>3.000000</td>\n",
              "      <td>15.000000</td>\n",
              "      <td>3.000000</td>\n",
              "      <td>8.000000</td>\n",
              "      <td>23.400000</td>\n",
              "      <td>2.900000</td>\n",
              "      <td>-1.281301</td>\n",
              "      <td>36.807219</td>\n",
              "      <td>-1.283219</td>\n",
              "      <td>36.807927</td>\n",
              "    </tr>\n",
              "    <tr>\n",
              "      <th>75%</th>\n",
              "      <td>3.000000</td>\n",
              "      <td>23.000000</td>\n",
              "      <td>5.000000</td>\n",
              "      <td>23.000000</td>\n",
              "      <td>5.000000</td>\n",
              "      <td>23.000000</td>\n",
              "      <td>5.000000</td>\n",
              "      <td>23.000000</td>\n",
              "      <td>5.000000</td>\n",
              "      <td>13.000000</td>\n",
              "      <td>25.900000</td>\n",
              "      <td>4.950000</td>\n",
              "      <td>-1.257274</td>\n",
              "      <td>36.829716</td>\n",
              "      <td>-1.261256</td>\n",
              "      <td>36.828195</td>\n",
              "    </tr>\n",
              "    <tr>\n",
              "      <th>max</th>\n",
              "      <td>4.000000</td>\n",
              "      <td>31.000000</td>\n",
              "      <td>7.000000</td>\n",
              "      <td>31.000000</td>\n",
              "      <td>7.000000</td>\n",
              "      <td>31.000000</td>\n",
              "      <td>7.000000</td>\n",
              "      <td>31.000000</td>\n",
              "      <td>7.000000</td>\n",
              "      <td>47.000000</td>\n",
              "      <td>32.100000</td>\n",
              "      <td>99.100000</td>\n",
              "      <td>-1.148352</td>\n",
              "      <td>36.991046</td>\n",
              "      <td>-1.030225</td>\n",
              "      <td>37.018958</td>\n",
              "    </tr>\n",
              "  </tbody>\n",
              "</table>\n",
              "</div>"
            ],
            "text/plain": [
              "       Platform Type  ...  Destination Long\n",
              "count    7068.000000  ...       7068.000000\n",
              "mean        2.752122  ...         36.811326\n",
              "std         0.624000  ...          0.043507\n",
              "min         1.000000  ...         36.639195\n",
              "25%         3.000000  ...         36.786546\n",
              "50%         3.000000  ...         36.807927\n",
              "75%         3.000000  ...         36.828195\n",
              "max         4.000000  ...         37.018958\n",
              "\n",
              "[8 rows x 16 columns]"
            ]
          },
          "metadata": {
            "tags": []
          },
          "execution_count": 7
        }
      ]
    },
    {
      "cell_type": "code",
      "metadata": {
        "id": "cslor3PtKPOl",
        "colab_type": "code",
        "outputId": "0b997067-6006-4db8-9cf8-bca849c6e09f",
        "colab": {
          "base_uri": "https://localhost:8080/",
          "height": 176
        }
      },
      "source": [
        "training_outputs.describe()"
      ],
      "execution_count": 8,
      "outputs": [
        {
          "output_type": "execute_result",
          "data": {
            "text/plain": [
              "count    21201.000000\n",
              "mean      1556.920947\n",
              "std        987.270788\n",
              "min          1.000000\n",
              "25%        882.000000\n",
              "50%       1369.000000\n",
              "75%       2040.000000\n",
              "max       7883.000000\n",
              "Name: Time from Pickup to Arrival, dtype: float64"
            ]
          },
          "metadata": {
            "tags": []
          },
          "execution_count": 8
        }
      ]
    },
    {
      "cell_type": "markdown",
      "metadata": {
        "id": "9yI6lN_RKPOo",
        "colab_type": "text"
      },
      "source": [
        "## Creating ECDF Plots for Distances and Delivery Times"
      ]
    },
    {
      "cell_type": "code",
      "metadata": {
        "id": "5M_ramCRKPOp",
        "colab_type": "code",
        "colab": {}
      },
      "source": [
        "distances = np.sort(orders['Distance (KM)'])\n",
        "distances_ecdf = np.arange(1, len(distances) + 1) / len(distances)\n",
        "delivery_times = np.sort(orders['Time from Pickup to Arrival'])\n",
        "delivery_times_ecdf = np.arange(1, len(delivery_times) + 1) / len(delivery_times)"
      ],
      "execution_count": 0,
      "outputs": []
    },
    {
      "cell_type": "markdown",
      "metadata": {
        "id": "HB8INgTBKPOs",
        "colab_type": "text"
      },
      "source": [
        "## ECDF Plot for Distances"
      ]
    },
    {
      "cell_type": "code",
      "metadata": {
        "id": "TPVgosUDKPOt",
        "colab_type": "code",
        "outputId": "0accc5d5-f2d9-4a0f-b5c7-a6b1f8f02bf6",
        "colab": {
          "base_uri": "https://localhost:8080/",
          "height": 302
        }
      },
      "source": [
        "plt.plot(distances, distances_ecdf, marker='.', linestyle='none')\n",
        "plt.xlabel('Distances (KM)')\n",
        "plt.ylabel('Distances ECDF')"
      ],
      "execution_count": 10,
      "outputs": [
        {
          "output_type": "execute_result",
          "data": {
            "text/plain": [
              "Text(0, 0.5, 'Distances ECDF')"
            ]
          },
          "metadata": {
            "tags": []
          },
          "execution_count": 10
        },
        {
          "output_type": "display_data",
          "data": {
            "image/png": "[encoded data removed]",
            "text/plain": [
              "<Figure size 432x288 with 1 Axes>"
            ]
          },
          "metadata": {
            "tags": [],
            "needs_background": "light"
          }
        }
      ]
    },
    {
      "cell_type": "markdown",
      "metadata": {
        "id": "qGgvLPy7KPOw",
        "colab_type": "text"
      },
      "source": [
        "We see that 60 and 95 percent of deliveries are within 10KM and 20KM respectively."
      ]
    },
    {
      "cell_type": "markdown",
      "metadata": {
        "id": "rPK3aJ48KPOx",
        "colab_type": "text"
      },
      "source": [
        "## ECDF Plot for DElivery Times"
      ]
    },
    {
      "cell_type": "code",
      "metadata": {
        "id": "24l3iHxdKPOx",
        "colab_type": "code",
        "outputId": "92b68a7f-66b2-470f-b2fe-4c501487ae96",
        "colab": {
          "base_uri": "https://localhost:8080/",
          "height": 302
        }
      },
      "source": [
        "plt.plot(delivery_times, delivery_times_ecdf, marker='.', linestyle='none')\n",
        "plt.xlabel('Delivery Times (s)')\n",
        "plt.ylabel('Delivery Times ECDF')"
      ],
      "execution_count": 11,
      "outputs": [
        {
          "output_type": "execute_result",
          "data": {
            "text/plain": [
              "Text(0, 0.5, 'Delivery Times ECDF')"
            ]
          },
          "metadata": {
            "tags": []
          },
          "execution_count": 11
        },
        {
          "output_type": "display_data",
          "data": {
            "image/png": "[encoded data removed]",
            "text/plain": [
              "<Figure size 432x288 with 1 Axes>"
            ]
          },
          "metadata": {
            "tags": [],
            "needs_background": "light"
          }
        }
      ]
    },
    {
      "cell_type": "markdown",
      "metadata": {
        "id": "eFebhp6hKPO1",
        "colab_type": "text"
      },
      "source": [
        "With the time distributions we see that 60 and 95 percent of the delivery times are within approximately 1500(s) and 3000(s)"
      ]
    },
    {
      "cell_type": "markdown",
      "metadata": {
        "id": "JP3EVDhlKPO1",
        "colab_type": "text"
      },
      "source": [
        "Based on the above distrubutions it would be interesting to build a simple Linear Regression model using only the Distance feature in our model."
      ]
    },
    {
      "cell_type": "markdown",
      "metadata": {
        "id": "6c4Yvp_nKPO2",
        "colab_type": "text"
      },
      "source": [
        "### NOTE  - PLOT THE ABOVE PLOTS SIDE BY SIDE, DO LATER..."
      ]
    },
    {
      "cell_type": "markdown",
      "metadata": {
        "id": "gvvkq9yQKPO3",
        "colab_type": "text"
      },
      "source": [
        "## Modifying data characteristics in thenorders data"
      ]
    },
    {
      "cell_type": "code",
      "metadata": {
        "id": "uwr5_R17KPO4",
        "colab_type": "code",
        "colab": {}
      },
      "source": [
        "orders[['Vehicle Type', 'Platform Type', 'Personal or Business']] = orders[['Vehicle Type', 'Platform Type', 'Personal or Business']].astype('category')\n",
        "orders[['Placement - Day of Month', 'Placement - Weekday (Mo = 1)', 'Confirmation - Day of Month', 'Confirmation - Weekday (Mo = 1)']] = orders[['Placement - Day of Month', 'Placement - Weekday (Mo = 1)', 'Confirmation - Day of Month', 'Confirmation - Weekday (Mo = 1)']].astype('category')\n",
        "orders[['Arrival at Pickup - Day of Month', 'Arrival at Pickup - Weekday (Mo = 1)', 'Arrival at Destination - Day of Month', 'Arrival at Destination - Weekday (Mo = 1)']] = orders[['Arrival at Pickup - Day of Month', 'Arrival at Pickup - Weekday (Mo = 1)', 'Arrival at Destination - Day of Month', 'Arrival at Destination - Weekday (Mo = 1)']].astype('category')"
      ],
      "execution_count": 0,
      "outputs": []
    },
    {
      "cell_type": "code",
      "metadata": {
        "id": "oTz3ppnNKPO7",
        "colab_type": "code",
        "outputId": "8e090f78-e704-46de-84ac-4e899a600895",
        "colab": {
          "base_uri": "https://localhost:8080/",
          "height": 302
        }
      },
      "source": [
        "sns.boxplot(x='Platform Type', y='Time from Pickup to Arrival', data=orders, palette='rainbow')"
      ],
      "execution_count": 13,
      "outputs": [
        {
          "output_type": "execute_result",
          "data": {
            "text/plain": [
              "<matplotlib.axes._subplots.AxesSubplot at 0x7f6c659bb2b0>"
            ]
          },
          "metadata": {
            "tags": []
          },
          "execution_count": 13
        },
        {
          "output_type": "display_data",
          "data": {
            "image/png": "[encoded data removed]",
            "text/plain": [
              "<Figure size 432x288 with 1 Axes>"
            ]
          },
          "metadata": {
            "tags": [],
            "needs_background": "light"
          }
        }
      ]
    },
    {
      "cell_type": "code",
      "metadata": {
        "id": "-DJrfJOYKPO_",
        "colab_type": "code",
        "outputId": "0fef3ff0-3a9e-4767-d9a8-adeef51b5947",
        "colab": {
          "base_uri": "https://localhost:8080/",
          "height": 302
        }
      },
      "source": [
        "sns.boxplot(x='Personal or Business', y='Time from Pickup to Arrival', data=orders, palette='rainbow')"
      ],
      "execution_count": 14,
      "outputs": [
        {
          "output_type": "execute_result",
          "data": {
            "text/plain": [
              "<matplotlib.axes._subplots.AxesSubplot at 0x7f6c6583a5f8>"
            ]
          },
          "metadata": {
            "tags": []
          },
          "execution_count": 14
        },
        {
          "output_type": "display_data",
          "data": {
            "image/png": "[encoded data removed]",
            "text/plain": [
              "<Figure size 432x288 with 1 Axes>"
            ]
          },
          "metadata": {
            "tags": [],
            "needs_background": "light"
          }
        }
      ]
    },
    {
      "cell_type": "code",
      "metadata": {
        "id": "jQE4mTFkKPPD",
        "colab_type": "code",
        "outputId": "9dab203e-aba7-4960-f184-e1354553e6bf",
        "colab": {
          "base_uri": "https://localhost:8080/",
          "height": 302
        }
      },
      "source": [
        "sns.boxplot(x='Arrival at Pickup - Weekday (Mo = 1)', y='Time from Pickup to Arrival', data=orders, palette='rainbow')"
      ],
      "execution_count": 15,
      "outputs": [
        {
          "output_type": "execute_result",
          "data": {
            "text/plain": [
              "<matplotlib.axes._subplots.AxesSubplot at 0x7f6c65767390>"
            ]
          },
          "metadata": {
            "tags": []
          },
          "execution_count": 15
        },
        {
          "output_type": "display_data",
          "data": {
            "image/png": "[encoded data removed]",
            "text/plain": [
              "<Figure size 432x288 with 1 Axes>"
            ]
          },
          "metadata": {
            "tags": [],
            "needs_background": "light"
          }
        }
      ]
    },
    {
      "cell_type": "code",
      "metadata": {
        "id": "XJFlhXFxKPPH",
        "colab_type": "code",
        "outputId": "f057d5d1-569a-4dfc-89b7-0c08d12e5a26",
        "colab": {
          "base_uri": "https://localhost:8080/",
          "height": 302
        }
      },
      "source": [
        "sns.boxplot(x='Arrival at Pickup - Day of Month', y='Time from Pickup to Arrival', data=orders, palette='rainbow')"
      ],
      "execution_count": 16,
      "outputs": [
        {
          "output_type": "execute_result",
          "data": {
            "text/plain": [
              "<matplotlib.axes._subplots.AxesSubplot at 0x7f6c6562a630>"
            ]
          },
          "metadata": {
            "tags": []
          },
          "execution_count": 16
        },
        {
          "output_type": "display_data",
          "data": {
            "image/png": "[encoded data removed]",
            "text/plain": [
              "<Figure size 432x288 with 1 Axes>"
            ]
          },
          "metadata": {
            "tags": [],
            "needs_background": "light"
          }
        }
      ]
    },
    {
      "cell_type": "markdown",
      "metadata": {
        "id": "DjL0uftEKPPK",
        "colab_type": "text"
      },
      "source": [
        "### NOTE:  X-AXIS NEEDS FIXING"
      ]
    },
    {
      "cell_type": "markdown",
      "metadata": {
        "id": "7KNxeefuKPPK",
        "colab_type": "text"
      },
      "source": [
        "These boxplots, which each represent several categoral features plotted against the delivery times, indicate that there doesn't seem to be a huge difference in travel time between the different groups in each category. There are quite a number of outliers in all of the groups in each of the categories?"
      ]
    },
    {
      "cell_type": "markdown",
      "metadata": {
        "id": "cPLiVJKDKPPL",
        "colab_type": "text"
      },
      "source": [
        "## Correlations"
      ]
    },
    {
      "cell_type": "code",
      "metadata": {
        "id": "E1mOt4LZKPPM",
        "colab_type": "code",
        "outputId": "35ae7870-6d0e-406d-e161-cdbeac8f06ef",
        "colab": {
          "base_uri": "https://localhost:8080/",
          "height": 428
        }
      },
      "source": [
        "orders_corr = orders.corr()\n",
        "sns.heatmap(orders_corr, cmap='coolwarm')"
      ],
      "execution_count": 17,
      "outputs": [
        {
          "output_type": "execute_result",
          "data": {
            "text/plain": [
              "<matplotlib.axes._subplots.AxesSubplot at 0x7f6c64bfb390>"
            ]
          },
          "metadata": {
            "tags": []
          },
          "execution_count": 17
        },
        {
          "output_type": "display_data",
          "data": {
            "image/png": "[encoded data removed]",
            "text/plain": [
              "<Figure size 432x288 with 2 Axes>"
            ]
          },
          "metadata": {
            "tags": [],
            "needs_background": "light"
          }
        }
      ]
    },
    {
      "cell_type": "markdown",
      "metadata": {
        "id": "zvtAqmgnKPPP",
        "colab_type": "text"
      },
      "source": [
        "# Data Preprocessing"
      ]
    },
    {
      "cell_type": "markdown",
      "metadata": {
        "id": "lPBAmyl3KPPQ",
        "colab_type": "text"
      },
      "source": [
        "## Dealing with missing values\n",
        "\n",
        "As described above, there are null-values present in the `Temperature` and `Precipitation in millimeters` columns.\n",
        "\n",
        "We would be able to fill the missing `Temperature` values with values from the same dates where measurements were taken, but we don't know the actual date of each measurement. The easiest option would be to fill the missing values with the average of the column, but we should find a better way of doing this.\n",
        "\n",
        "We are assuming that if `Precipitation in millimeters` is missing, that it was not raining on that day. We can therefore fill null values with 0."
      ]
    },
    {
      "cell_type": "code",
      "metadata": {
        "id": "zgeX6NYgKPPQ",
        "colab_type": "code",
        "colab": {}
      },
      "source": [
        "# Fill missing precipitation values with 0\n",
        "training_features['Precipitation in millimeters'] = training_features['Precipitation in millimeters'].fillna(value=0)\n",
        "\n",
        "# Fill missing temperature values with averages\n",
        "training_features['Temperature'] = training_features['Temperature'].fillna(training_features['Temperature'].mean())"
      ],
      "execution_count": 0,
      "outputs": []
    },
    {
      "cell_type": "markdown",
      "metadata": {
        "id": "lP58GhnzKPPT",
        "colab_type": "text"
      },
      "source": [
        "##  Converting the following features into categories\n",
        "1.   Pickup - Day of Month\n",
        "2.   Pickup - Weekday (Mo = 1)\n",
        "3.   Platform Type\n",
        "4.   Personal or Business"
      ]
    },
    {
      "cell_type": "code",
      "metadata": {
        "id": "DAX84I_JKPPU",
        "colab_type": "code",
        "colab": {}
      },
      "source": [
        "training_features[['Pickup - Day of Month', 'Pickup - Weekday (Mo = 1)']] = training_features[['Pickup - Day of Month', 'Pickup - Weekday (Mo = 1)']].astype('category')\n",
        "training_features[['Platform Type', 'Personal or Business']] = training_features[['Platform Type', 'Personal or Business']].astype('category')"
      ],
      "execution_count": 0,
      "outputs": []
    },
    {
      "cell_type": "markdown",
      "metadata": {
        "id": "kyM7bOneKPPX",
        "colab_type": "text"
      },
      "source": [
        "##  Selecting the following features to be part of the training data\n",
        "1.   Platform Type\n",
        "2.   Personal or Business\n",
        "3.   Pickup - Day of Month\n",
        "4.   Pickup - Weekday (Mo = 1)\n",
        "5.   Pickup - Time\n",
        "6.   Distance (KM)\n",
        "7.   Temperature\n",
        "8.   Precipitation in millimeters"
      ]
    },
    {
      "cell_type": "code",
      "metadata": {
        "id": "wWe_PLoSKPPX",
        "colab_type": "code",
        "colab": {}
      },
      "source": [
        "training_features = training_features[['Platform Type', 'Personal or Business', 'Pickup - Day of Month', 'Pickup - Weekday (Mo = 1)', 'Pickup - Time', 'Distance (KM)', 'Temperature', 'Precipitation in millimeters']]"
      ],
      "execution_count": 0,
      "outputs": []
    },
    {
      "cell_type": "markdown",
      "metadata": {
        "id": "6Y1V7_PvKPPa",
        "colab_type": "text"
      },
      "source": [
        "####  Function for assigning the different Pickup Times to 6 distinct groups\n",
        "1.   Early Morning\n",
        "2.   Morning\n",
        "3.   Late Morning\n",
        "4.   Afternoon\n",
        "5.   Late Afternoon\n",
        "6.   Evening"
      ]
    },
    {
      "cell_type": "code",
      "metadata": {
        "id": "sObXa-vWKPPc",
        "colab_type": "code",
        "colab": {}
      },
      "source": [
        "def assign_time_category(delivery_time):\n",
        "    dts = pd.DataFrame(['12:00:00 AM', '6:00:00 AM', '9:00:00 AM', '12:00:00 PM', '3:00:00 PM', '6:00:00 PM'])[0].astype('datetime64[ns]')\n",
        "    if delivery_time >= dts[0] and delivery_time < dts[1]:\n",
        "        return 'Early Morning'\n",
        "    elif delivery_time >= dts[1] and delivery_time < dts[2]:\n",
        "        return 'Morning'\n",
        "    elif delivery_time >= dts[2]  and delivery_time < dts[3]:\n",
        "        return 'Late Morning'\n",
        "    elif delivery_time >= dts[3] and delivery_time < dts[4]:\n",
        "        return 'Afternoon'\n",
        "    elif delivery_time >= dts[4] and delivery_time < dts[5]:\n",
        "        return 'Late Afternoon'\n",
        "    else:\n",
        "        return 'Evening'"
      ],
      "execution_count": 0,
      "outputs": []
    },
    {
      "cell_type": "markdown",
      "metadata": {
        "id": "OB-jDqINKPPf",
        "colab_type": "text"
      },
      "source": [
        "## Adding new feature called \"Delivery Times\"\n",
        "1.   This new feature is based on the \"Pickup Time\" feature\n",
        "2.   Its created using the (assign_time_category) function\n",
        "3.   Then is changed into a categorical feature"
      ]
    },
    {
      "cell_type": "code",
      "metadata": {
        "id": "ArXzdVgzKPPf",
        "colab_type": "code",
        "colab": {}
      },
      "source": [
        "training_features['Delivery Times'] = training_features['Pickup - Time'].apply(assign_time_category)\n",
        "training_features['Delivery Times'] = training_features['Delivery Times'].astype('category')"
      ],
      "execution_count": 0,
      "outputs": []
    },
    {
      "cell_type": "markdown",
      "metadata": {
        "id": "hvBZNP_BKPPi",
        "colab_type": "text"
      },
      "source": [
        "## Dropping the \"Pickup Times\" feature"
      ]
    },
    {
      "cell_type": "code",
      "metadata": {
        "id": "jLjAJc2yKPPj",
        "colab_type": "code",
        "colab": {}
      },
      "source": [
        "training_features.drop('Pickup - Time', axis=1, inplace=True)"
      ],
      "execution_count": 0,
      "outputs": []
    },
    {
      "cell_type": "markdown",
      "metadata": {
        "id": "xVgxBJJxKPPm",
        "colab_type": "text"
      },
      "source": [
        "## Encoding data"
      ]
    },
    {
      "cell_type": "markdown",
      "metadata": {
        "id": "rRp3lZqqKPPm",
        "colab_type": "text"
      },
      "source": [
        "### One-hot encoding for categorical data"
      ]
    },
    {
      "cell_type": "code",
      "metadata": {
        "id": "CcODFSTyKPPn",
        "colab_type": "code",
        "colab": {}
      },
      "source": [
        "training_features = pd.get_dummies(training_features,\n",
        "                                   columns=['Platform Type', 'Personal or Business', 'Pickup - Day of Month', 'Pickup - Weekday (Mo = 1)', 'Delivery Times'],\n",
        "                                   prefix=['platformtype', 'personalbusiness', 'dayofmonth', 'weekday', 'pickuptimes'])"
      ],
      "execution_count": 0,
      "outputs": []
    },
    {
      "cell_type": "markdown",
      "metadata": {
        "id": "6AW_plmvKPPq",
        "colab_type": "text"
      },
      "source": [
        "# Model Building"
      ]
    },
    {
      "cell_type": "code",
      "metadata": {
        "id": "HuOWDAB6KPPq",
        "colab_type": "code",
        "colab": {}
      },
      "source": [
        "from sklearn import metrics\n",
        "import math"
      ],
      "execution_count": 0,
      "outputs": []
    },
    {
      "cell_type": "markdown",
      "metadata": {
        "id": "6p8Df_OOnlqC",
        "colab_type": "text"
      },
      "source": [
        "**SIMPLE** **LINEAR** **REGRESSION**"
      ]
    },
    {
      "cell_type": "code",
      "metadata": {
        "id": "QsWH3q-6VmvS",
        "colab_type": "code",
        "colab": {}
      },
      "source": [
        "#training_features = orders.iloc[:, :-1]\n",
        "df = orders.copy()"
      ],
      "execution_count": 0,
      "outputs": []
    },
    {
      "cell_type": "code",
      "metadata": {
        "id": "DWpWq7o1Vrkd",
        "colab_type": "code",
        "colab": {}
      },
      "source": [
        "df.info()"
      ],
      "execution_count": 0,
      "outputs": []
    },
    {
      "cell_type": "code",
      "metadata": {
        "id": "e42jnC8HVxch",
        "colab_type": "code",
        "colab": {}
      },
      "source": [
        "x_dist = df.iloc[:,20].values"
      ],
      "execution_count": 0,
      "outputs": []
    },
    {
      "cell_type": "code",
      "metadata": {
        "id": "1BVEHkSqXuFS",
        "colab_type": "code",
        "colab": {}
      },
      "source": [
        "Dist = pd.DataFrame(x_dist)"
      ],
      "execution_count": 0,
      "outputs": []
    },
    {
      "cell_type": "code",
      "metadata": {
        "id": "S7QbiokEUl5e",
        "colab_type": "code",
        "colab": {
          "base_uri": "https://localhost:8080/",
          "height": 34
        },
        "outputId": "df8901ef-e390-467c-f522-d54009f23c20"
      },
      "source": [
        "# Import LinearRegression module and create object\n",
        "from sklearn.linear_model import LinearRegression\n",
        "regressor = LinearRegression()\n",
        "\n",
        "# Fit a linear regression model\n",
        "regressor.fit(Dist,training_outputs )"
      ],
      "execution_count": 62,
      "outputs": [
        {
          "output_type": "execute_result",
          "data": {
            "text/plain": [
              "LinearRegression(copy_X=True, fit_intercept=True, n_jobs=None, normalize=False)"
            ]
          },
          "metadata": {
            "tags": []
          },
          "execution_count": 62
        }
      ]
    },
    {
      "cell_type": "code",
      "metadata": {
        "id": "DR2FxYyuabWi",
        "colab_type": "code",
        "colab": {}
      },
      "source": [
        "#Predicting the results\n",
        "y_pred = regressor.predict(Dist)"
      ],
      "execution_count": 0,
      "outputs": []
    },
    {
      "cell_type": "code",
      "metadata": {
        "id": "78iNr3m8aRpA",
        "colab_type": "code",
        "colab": {
          "base_uri": "https://localhost:8080/",
          "height": 34
        },
        "outputId": "df1cad9c-a159-486a-c003-43397008bf59"
      },
      "source": [
        "print(\"Training MSE:\", metrics.mean_squared_error(training_outputs, y_pred))"
      ],
      "execution_count": 66,
      "outputs": [
        {
          "output_type": "stream",
          "text": [
            "Training MSE: 646095.1622588894\n"
          ],
          "name": "stdout"
        }
      ]
    },
    {
      "cell_type": "code",
      "metadata": {
        "id": "VtLxatdVaRt1",
        "colab_type": "code",
        "colab": {
          "base_uri": "https://localhost:8080/",
          "height": 34
        },
        "outputId": "be5a8df0-b8a7-425f-a0fc-36c99cdf3bfd"
      },
      "source": [
        "print(\"Training RMSE:\", np.sqrt(metrics.mean_squared_error(training_outputs, y_pred)))"
      ],
      "execution_count": 67,
      "outputs": [
        {
          "output_type": "stream",
          "text": [
            "Training RMSE: 803.800449277611\n"
          ],
          "name": "stdout"
        }
      ]
    },
    {
      "cell_type": "markdown",
      "metadata": {
        "id": "WTB8Yt8dKPPu",
        "colab_type": "text"
      },
      "source": [
        "## Multiple Linear Regression Model"
      ]
    },
    {
      "cell_type": "code",
      "metadata": {
        "id": "VCsxMPbdKPPv",
        "colab_type": "code",
        "outputId": "605d7c46-8481-4bdb-897b-534ac49b5594",
        "colab": {
          "base_uri": "https://localhost:8080/",
          "height": 34
        }
      },
      "source": [
        "# Import LinearRegression module and create object\n",
        "from sklearn.linear_model import LinearRegression\n",
        "linear_model = LinearRegression()\n",
        "\n",
        "# Fit a linear regression model\n",
        "linear_model.fit(training_features, training_outputs)"
      ],
      "execution_count": 26,
      "outputs": [
        {
          "output_type": "execute_result",
          "data": {
            "text/plain": [
              "LinearRegression(copy_X=True, fit_intercept=True, n_jobs=None, normalize=False)"
            ]
          },
          "metadata": {
            "tags": []
          },
          "execution_count": 26
        }
      ]
    },
    {
      "cell_type": "code",
      "metadata": {
        "id": "-V-jhXMEKPPy",
        "colab_type": "code",
        "outputId": "335e3cbc-a888-4e76-e438-e72221ca3708",
        "colab": {
          "base_uri": "https://localhost:8080/",
          "height": 34
        }
      },
      "source": [
        "print(\"Training MSE:\", metrics.mean_squared_error(training_outputs, linear_model.predict(training_features)))"
      ],
      "execution_count": 27,
      "outputs": [
        {
          "output_type": "stream",
          "text": [
            "Training MSE: 639920.1280760383\n"
          ],
          "name": "stdout"
        }
      ]
    },
    {
      "cell_type": "code",
      "metadata": {
        "id": "7XNFrBwqKPP1",
        "colab_type": "code",
        "outputId": "72a81bb0-50d1-4680-ce4d-abd031a66cb7",
        "colab": {
          "base_uri": "https://localhost:8080/",
          "height": 34
        }
      },
      "source": [
        "print(\"Training RMSE:\", np.sqrt(metrics.mean_squared_error(training_outputs, linear_model.predict(training_features))))"
      ],
      "execution_count": 28,
      "outputs": [
        {
          "output_type": "stream",
          "text": [
            "Training RMSE: 799.9500784899258\n"
          ],
          "name": "stdout"
        }
      ]
    },
    {
      "cell_type": "markdown",
      "metadata": {
        "id": "GYQ_4c66KPP5",
        "colab_type": "text"
      },
      "source": [
        "## Regression Tree Model"
      ]
    },
    {
      "cell_type": "code",
      "metadata": {
        "id": "Ag102KczKPP5",
        "colab_type": "code",
        "outputId": "d0155c88-2237-4386-d116-caa6d3bf730d",
        "colab": {
          "base_uri": "https://localhost:8080/",
          "height": 123
        }
      },
      "source": [
        "from sklearn.tree import DecisionTreeRegressor\n",
        "regression_tree = DecisionTreeRegressor(random_state = 0)\n",
        "regression_tree.fit(training_features, training_outputs)"
      ],
      "execution_count": 29,
      "outputs": [
        {
          "output_type": "execute_result",
          "data": {
            "text/plain": [
              "DecisionTreeRegressor(ccp_alpha=0.0, criterion='mse', max_depth=None,\n",
              "                      max_features=None, max_leaf_nodes=None,\n",
              "                      min_impurity_decrease=0.0, min_impurity_split=None,\n",
              "                      min_samples_leaf=1, min_samples_split=2,\n",
              "                      min_weight_fraction_leaf=0.0, presort='deprecated',\n",
              "                      random_state=0, splitter='best')"
            ]
          },
          "metadata": {
            "tags": []
          },
          "execution_count": 29
        }
      ]
    },
    {
      "cell_type": "code",
      "metadata": {
        "id": "2xYr4is3KPP9",
        "colab_type": "code",
        "outputId": "90ee8bef-4d46-4cf7-d459-02c7ba2587e5",
        "colab": {
          "base_uri": "https://localhost:8080/",
          "height": 34
        }
      },
      "source": [
        "print(\"Training MSE:\", metrics.mean_squared_error(training_outputs, regression_tree.predict(training_features)))"
      ],
      "execution_count": 30,
      "outputs": [
        {
          "output_type": "stream",
          "text": [
            "Training MSE: 83011.49675032175\n"
          ],
          "name": "stdout"
        }
      ]
    },
    {
      "cell_type": "code",
      "metadata": {
        "id": "9K-X-8eUKPQD",
        "colab_type": "code",
        "outputId": "810c632d-34ee-4812-e682-5d185ce8133c",
        "colab": {
          "base_uri": "https://localhost:8080/",
          "height": 34
        }
      },
      "source": [
        "print(\"Training RMSE:\", np.sqrt(metrics.mean_squared_error(training_outputs, regression_tree.predict(training_features))))"
      ],
      "execution_count": 31,
      "outputs": [
        {
          "output_type": "stream",
          "text": [
            "Training RMSE: 288.1171580283301\n"
          ],
          "name": "stdout"
        }
      ]
    },
    {
      "cell_type": "markdown",
      "metadata": {
        "id": "UqIpd8pHKPQH",
        "colab_type": "text"
      },
      "source": [
        "## Random Forest Model"
      ]
    },
    {
      "cell_type": "code",
      "metadata": {
        "id": "BlX6BfIEKPQH",
        "colab_type": "code",
        "outputId": "87f93faa-eaa1-4532-91a6-a88f5e61d203",
        "colab": {
          "base_uri": "https://localhost:8080/",
          "height": 141
        }
      },
      "source": [
        "from sklearn.ensemble import RandomForestRegressor\n",
        "random_forest = RandomForestRegressor(n_estimators = 7, random_state = 0)\n",
        "random_forest.fit(training_features, training_outputs)"
      ],
      "execution_count": 32,
      "outputs": [
        {
          "output_type": "execute_result",
          "data": {
            "text/plain": [
              "RandomForestRegressor(bootstrap=True, ccp_alpha=0.0, criterion='mse',\n",
              "                      max_depth=None, max_features='auto', max_leaf_nodes=None,\n",
              "                      max_samples=None, min_impurity_decrease=0.0,\n",
              "                      min_impurity_split=None, min_samples_leaf=1,\n",
              "                      min_samples_split=2, min_weight_fraction_leaf=0.0,\n",
              "                      n_estimators=7, n_jobs=None, oob_score=False,\n",
              "                      random_state=0, verbose=0, warm_start=False)"
            ]
          },
          "metadata": {
            "tags": []
          },
          "execution_count": 32
        }
      ]
    },
    {
      "cell_type": "code",
      "metadata": {
        "id": "3OE0Cnh4KPQK",
        "colab_type": "code",
        "outputId": "73081ede-b387-4384-e3f2-2b54f70e16c6",
        "colab": {
          "base_uri": "https://localhost:8080/",
          "height": 34
        }
      },
      "source": [
        "print(\"Training MSE:\", metrics.mean_squared_error(training_outputs, random_forest.predict(training_features)))"
      ],
      "execution_count": 33,
      "outputs": [
        {
          "output_type": "stream",
          "text": [
            "Training MSE: 207730.54555147304\n"
          ],
          "name": "stdout"
        }
      ]
    },
    {
      "cell_type": "code",
      "metadata": {
        "id": "fRh3nHagKPQO",
        "colab_type": "code",
        "outputId": "0a78cd40-2bfa-464b-8c3e-7d17ea123d27",
        "colab": {
          "base_uri": "https://localhost:8080/",
          "height": 34
        }
      },
      "source": [
        "print(\"Training RMSE:\", np.sqrt(metrics.mean_squared_error(training_outputs, random_forest.predict(training_features))))"
      ],
      "execution_count": 34,
      "outputs": [
        {
          "output_type": "stream",
          "text": [
            "Training RMSE: 455.7746653242949\n"
          ],
          "name": "stdout"
        }
      ]
    }
  ]
}